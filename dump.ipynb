{
 "metadata": {
  "language_info": {
   "codemirror_mode": {
    "name": "ipython",
    "version": 3
   },
   "file_extension": ".py",
   "mimetype": "text/x-python",
   "name": "python",
   "nbconvert_exporter": "python",
   "pygments_lexer": "ipython3",
   "version": "3.8.3-final"
  },
  "orig_nbformat": 2,
  "kernelspec": {
   "name": "python_defaultSpec_1600177118358",
   "display_name": "Python 3.8.3 64-bit ('base': conda)"
  }
 },
 "nbformat": 4,
 "nbformat_minor": 2,
 "cells": [
  {
   "cell_type": "code",
   "execution_count": 1,
   "metadata": {},
   "outputs": [],
   "source": [
    "from qiskit.circuit import QuantumCircuit, QuantumRegister, ClassicalRegister\n",
    "from qiskit import execute\n",
    "from qiskit import Aer"
   ]
  },
  {
   "cell_type": "code",
   "execution_count": 2,
   "metadata": {},
   "outputs": [
    {
     "output_type": "execute_result",
     "data": {
      "text/plain": "        ┌───┐ ░ ┌───┐ ░  ░ ┌─┐\n  q0_0: ┤ X ├─░─┤ X ├─░──░─┤M├\n        └───┘ ░ └───┘ ░  ░ └╥┘\nmeas: 1/════════════════════╩═\n                            0 ",
      "text/html": "<pre style=\"word-wrap: normal;white-space: pre;background: #fff0;line-height: 1.1;font-family: &quot;Courier New&quot;,Courier,monospace\">        ┌───┐ ░ ┌───┐ ░  ░ ┌─┐\n  q0_0: ┤ X ├─░─┤ X ├─░──░─┤M├\n        └───┘ ░ └───┘ ░  ░ └╥┘\nmeas: 1/════════════════════╩═\n                            0 </pre>"
     },
     "metadata": {},
     "execution_count": 2
    }
   ],
   "source": [
    "qr1 = QuantumRegister(1)\n",
    "cr1 = ClassicalRegister(1)\n",
    "\n",
    "qc1 = QuantumCircuit(qr1)\n",
    "qc2 = QuantumCircuit(qr1)\n",
    "qc1.x(qr1)\n",
    "qc2.x(qr1)\n",
    "qc1.snapshot('0')\n",
    "qc2.snapshot('1')\n",
    "qc3 = qc1 + qc2\n",
    "qc3.measure_all(True)\n",
    "qc3.draw()"
   ]
  },
  {
   "cell_type": "code",
   "execution_count": 4,
   "metadata": {},
   "outputs": [],
   "source": [
    "\n",
    "qr = QuantumRegister(2)\n",
    "cr = ClassicalRegister(2)\n",
    "qc1 = QuantumCircuit(qr, cr)\n",
    "qc1.x(qr)\n",
    "\n",
    "qc2 = QuantumCircuit(qr, cr)\n",
    "qc2.x(qr)\n",
    "\n",
    "qc3 = qc1 + qc2"
   ]
  },
  {
   "cell_type": "code",
   "execution_count": 5,
   "metadata": {},
   "outputs": [
    {
     "output_type": "execute_result",
     "data": {
      "text/plain": "      ┌───┐ ░ ┌───┐ ░ ┌─┐   \nq1_0: ┤ X ├─░─┤ X ├─░─┤M├───\n      ├───┤ ░ ├───┤ ░ └╥┘┌─┐\nq1_1: ┤ X ├─░─┤ X ├─░──╫─┤M├\n      └───┘ ░ └───┘ ░  ║ └╥┘\nc1: 2/═════════════════╩══╩═\n                       0  1 ",
      "text/html": "<pre style=\"word-wrap: normal;white-space: pre;background: #fff0;line-height: 1.1;font-family: &quot;Courier New&quot;,Courier,monospace\">      ┌───┐ ░ ┌───┐ ░ ┌─┐   \nq1_0: ┤ X ├─░─┤ X ├─░─┤M├───\n      ├───┤ ░ ├───┤ ░ └╥┘┌─┐\nq1_1: ┤ X ├─░─┤ X ├─░──╫─┤M├\n      └───┘ ░ └───┘ ░  ║ └╥┘\nc1: 2/═════════════════╩══╩═\n                       0  1 </pre>"
     },
     "metadata": {},
     "execution_count": 5
    }
   ],
   "source": [
    "qc1.snapshot('0')    # save the snapshot in slot \"0\"\n",
    "qc2.snapshot('1')    # save the snapshot in slot \"1\"\n",
    "qc2.measure(qr, cr)  # measure to get final counts\n",
    "\n",
    "qc3 = qc1 + qc2\n",
    "qc3.draw()"
   ]
  },
  {
   "cell_type": "code",
   "execution_count": 8,
   "metadata": {
    "tags": []
   },
   "outputs": [
    {
     "output_type": "execute_result",
     "data": {
      "text/plain": "{'0': [array([0.+0.j, 0.+0.j, 0.+0.j, 1.+0.j])],\n '1': [array([1.+0.j, 0.+0.j, 0.+0.j, 0.+0.j])]}"
     },
     "metadata": {},
     "execution_count": 8
    }
   ],
   "source": [
    "backend = Aer.get_backend('qasm_simulator')\n",
    "job = execute(qc3, backend=backend)\n",
    "result = job.result()\n",
    "result.data()['snapshots']['statevector']"
   ]
  },
  {
   "cell_type": "code",
   "execution_count": 14,
   "metadata": {},
   "outputs": [
    {
     "output_type": "execute_result",
     "data": {
      "text/plain": "{'backend_name': 'qasm_simulator',\n 'backend_version': '0.6.1',\n 'qobj_id': '8fd9d578-6f55-4053-a6c5-8c07d752fd77',\n 'job_id': 'b0744f08-63ea-40ee-aa0d-3db882758f3c',\n 'success': True,\n 'results': [{'shots': 1024,\n   'success': True,\n   'data': {'counts': {'0x0': 1024},\n    'snapshots': {'statevector': {'0': [array([0.+0.j, 0.+0.j, 0.+0.j, 1.+0.j])],\n      '1': [array([1.+0.j, 0.+0.j, 0.+0.j, 0.+0.j])]}}},\n   'meas_level': <MeasLevel.CLASSIFIED: 2>,\n   'header': {'clbit_labels': [['c1', 0], ['c1', 1]],\n    'creg_sizes': [['c1', 2]],\n    'global_phase': 0,\n    'memory_slots': 2,\n    'n_qubits': 2,\n    'name': 'circuit13',\n    'qreg_sizes': [['q1', 2]],\n    'qubit_labels': [['q1', 0], ['q1', 1]]},\n   'status': 'DONE',\n   'seed_simulator': 984640863,\n   'time_taken': 0.001841065,\n   'metadata': {'fusion': {'applied': False,\n     'cost_factor': 1.8,\n     'max_fused_qubits': 5,\n     'method': 'unitary',\n     'threshold': 20},\n    'measure_sampling': True,\n    'method': 'statevector',\n    'parallel_shots': 1,\n    'parallel_state_update': 12}}],\n 'date': '2020-09-15T23:42:03.730477',\n 'status': 'COMPLETED',\n 'header': {'backend_name': 'qasm_simulator', 'backend_version': '0.6.1'},\n 'metadata': {'max_memory_mb': 8192,\n  'omp_enabled': True,\n  'parallel_experiments': 1,\n  'time_taken': 0.0019565380000000003},\n 'time_taken': 0.0024008750915527344}"
     },
     "metadata": {},
     "execution_count": 14
    }
   ],
   "source": [
    "a = result.to_dict()\n",
    "from qiskit.result import Result\n",
    "b = Result.from_dict(a)\n",
    "b.to_dict()"
   ]
  },
  {
   "cell_type": "code",
   "execution_count": 6,
   "metadata": {},
   "outputs": [
    {
     "output_type": "execute_result",
     "data": {
      "text/plain": "     ┌───┐ ░ ┌───┐\nq_0: ┤ H ├─░─┤ H ├\n     └───┘ ░ └───┘\nq_1: ──────░──────\n           ░      ",
      "text/html": "<pre style=\"word-wrap: normal;white-space: pre;background: #fff0;line-height: 1.1;font-family: &quot;Courier New&quot;,Courier,monospace\">     ┌───┐ ░ ┌───┐\nq_0: ┤ H ├─░─┤ H ├\n     └───┘ ░ └───┘\nq_1: ──────░──────\n           ░      </pre>"
     },
     "metadata": {},
     "execution_count": 6
    }
   ],
   "source": [
    "from qiskit import *\n",
    "\n",
    "qc = QuantumCircuit(2)\n",
    "qc.h(0)\n",
    "qc.snapshot('1')             # add a snapshot with the key '1'\n",
    "qc.h(0)                      # add more gates after the snapshot\n",
    "\n",
    "backend = Aer.get_backend('statevector_simulator')\n",
    "result = execute(qc, backend).result()\n",
    "snapshots = result.data()['snapshots']['statevector']\n",
    "qc.draw()"
   ]
  },
  {
   "cell_type": "code",
   "execution_count": 6,
   "metadata": {},
   "outputs": [
    {
     "output_type": "execute_result",
     "data": {
      "text/plain": "{'snapshots': {'statevector': {'1': [array([0.70710678+0.j, 0.70710678+0.j, 0.        +0.j, 0.        +0.j])]}},\n 'statevector': array([1.-6.123234e-17j, 0.+6.123234e-17j, 0.+0.000000e+00j,\n        0.+0.000000e+00j])}"
     },
     "metadata": {},
     "execution_count": 6
    }
   ],
   "source": [
    "result.data()"
   ]
  },
  {
   "cell_type": "code",
   "execution_count": null,
   "metadata": {},
   "outputs": [],
   "source": []
  }
 ]
}