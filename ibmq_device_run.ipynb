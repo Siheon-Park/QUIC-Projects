{
 "cells": [
  {
   "cell_type": "markdown",
   "metadata": {},
   "source": [
    "# Run QASVM on IBMQ devices (montreal, toronto)"
   ]
  },
  {
   "cell_type": "code",
   "execution_count": 1,
   "metadata": {
    "scrolled": true
   },
   "outputs": [],
   "source": [
    "import matplotlib.pyplot as plt\n",
    "import numpy as np\n",
    "\n",
    "# TODO: choose config\n",
    "I_HAVE_ACCESS = True # True\n",
    "DATA_TYPE = 'balanced' # 'unbalanced'\n",
    "DEVICE = 'montreal' # 'toronto'\n",
    "TEST_SIZE = 4\n",
    "MAXITER = 5\n",
    "LAST_AVG = 2**4\n",
    "DIR_NAME = 'ibmq_device_run_results'\n",
    "\n",
    "C=None\n",
    "k=1"
   ]
  },
  {
   "cell_type": "code",
   "execution_count": 2,
   "metadata": {
    "scrolled": true
   },
   "outputs": [],
   "source": [
    "from qiskit import IBMQ"
   ]
  },
  {
   "cell_type": "code",
   "execution_count": 3,
   "metadata": {
    "scrolled": true
   },
   "outputs": [
    {
     "data": {
      "text/plain": "{'qiskit-terra': '0.17.2', 'qiskit-aer': '0.8.2', 'qiskit-ignis': '0.6.0', 'qiskit-ibmq-provider': '0.12.3', 'qiskit-aqua': '0.9.1', 'qiskit': '0.25.4', 'qiskit-nature': None, 'qiskit-finance': None, 'qiskit-optimization': None, 'qiskit-machine-learning': None}"
     },
     "execution_count": 3,
     "metadata": {},
     "output_type": "execute_result"
    }
   ],
   "source": [
    "import qiskit\n",
    "qiskit.__qiskit_version__"
   ]
  },
  {
   "cell_type": "code",
   "execution_count": 4,
   "metadata": {
    "scrolled": true
   },
   "outputs": [
    {
     "ename": "KeyboardInterrupt",
     "evalue": "",
     "output_type": "error",
     "traceback": [
      "\u001B[0;31m---------------------------------------------------------------------------\u001B[0m",
      "\u001B[0;31mKeyboardInterrupt\u001B[0m                         Traceback (most recent call last)",
      "\u001B[0;32m<ipython-input-4-07b7e03415f9>\u001B[0m in \u001B[0;36m<module>\u001B[0;34m\u001B[0m\n\u001B[1;32m      1\u001B[0m \u001B[0mIBMQ\u001B[0m\u001B[0;34m.\u001B[0m\u001B[0mstored_account\u001B[0m\u001B[0;34m(\u001B[0m\u001B[0;34m)\u001B[0m\u001B[0;34m\u001B[0m\u001B[0;34m\u001B[0m\u001B[0m\n\u001B[0;32m----> 2\u001B[0;31m \u001B[0mIBMQ\u001B[0m\u001B[0;34m.\u001B[0m\u001B[0mload_account\u001B[0m\u001B[0;34m(\u001B[0m\u001B[0;34m)\u001B[0m\u001B[0;34m\u001B[0m\u001B[0;34m\u001B[0m\u001B[0m\n\u001B[0m",
      "\u001B[0;32m~/anaconda3/envs/QUIC/lib/python3.9/site-packages/qiskit/providers/ibmq/ibmqfactory.py\u001B[0m in \u001B[0;36mload_account\u001B[0;34m(self)\u001B[0m\n\u001B[1;32m    176\u001B[0m         \u001B[0;31m# Explicitly check via a server call, to allow environment auth URLs\u001B[0m\u001B[0;34m\u001B[0m\u001B[0;34m\u001B[0m\u001B[0;34m\u001B[0m\u001B[0m\n\u001B[1;32m    177\u001B[0m         \u001B[0;31m# contain IBM Quantum Experience v2 URL (but not auth) slipping through.\u001B[0m\u001B[0;34m\u001B[0m\u001B[0;34m\u001B[0m\u001B[0;34m\u001B[0m\u001B[0m\n\u001B[0;32m--> 178\u001B[0;31m         \u001B[0mversion_info\u001B[0m \u001B[0;34m=\u001B[0m \u001B[0mself\u001B[0m\u001B[0;34m.\u001B[0m\u001B[0m_check_api_version\u001B[0m\u001B[0;34m(\u001B[0m\u001B[0mcredentials\u001B[0m\u001B[0;34m)\u001B[0m\u001B[0;34m\u001B[0m\u001B[0;34m\u001B[0m\u001B[0m\n\u001B[0m\u001B[1;32m    179\u001B[0m \u001B[0;34m\u001B[0m\u001B[0m\n\u001B[1;32m    180\u001B[0m         \u001B[0;31m# Check the URL is a valid authentication URL.\u001B[0m\u001B[0;34m\u001B[0m\u001B[0;34m\u001B[0m\u001B[0;34m\u001B[0m\u001B[0m\n",
      "\u001B[0;32m~/anaconda3/envs/QUIC/lib/python3.9/site-packages/qiskit/providers/ibmq/ibmqfactory.py\u001B[0m in \u001B[0;36m_check_api_version\u001B[0;34m(credentials)\u001B[0m\n\u001B[1;32m    443\u001B[0m         version_finder = VersionClient(credentials.base_url,\n\u001B[1;32m    444\u001B[0m                                        **credentials.connection_parameters())\n\u001B[0;32m--> 445\u001B[0;31m         \u001B[0;32mreturn\u001B[0m \u001B[0mversion_finder\u001B[0m\u001B[0;34m.\u001B[0m\u001B[0mversion\u001B[0m\u001B[0;34m(\u001B[0m\u001B[0;34m)\u001B[0m\u001B[0;34m\u001B[0m\u001B[0;34m\u001B[0m\u001B[0m\n\u001B[0m\u001B[1;32m    446\u001B[0m \u001B[0;34m\u001B[0m\u001B[0m\n\u001B[1;32m    447\u001B[0m     \u001B[0;32mdef\u001B[0m \u001B[0m_initialize_providers\u001B[0m\u001B[0;34m(\u001B[0m\u001B[0mself\u001B[0m\u001B[0;34m,\u001B[0m \u001B[0mcredentials\u001B[0m\u001B[0;34m:\u001B[0m \u001B[0mCredentials\u001B[0m\u001B[0;34m)\u001B[0m \u001B[0;34m->\u001B[0m \u001B[0;32mNone\u001B[0m\u001B[0;34m:\u001B[0m\u001B[0;34m\u001B[0m\u001B[0;34m\u001B[0m\u001B[0m\n",
      "\u001B[0;32m~/anaconda3/envs/QUIC/lib/python3.9/site-packages/qiskit/providers/ibmq/api/clients/version.py\u001B[0m in \u001B[0;36mversion\u001B[0;34m(self)\u001B[0m\n\u001B[1;32m     47\u001B[0m                 \u001B[0;34m*\u001B[0m\u001B[0;31m \u001B[0m\u001B[0;31m`\u001B[0m\u001B[0;31m`\u001B[0m\u001B[0mapi\u001B[0m\u001B[0;34m-\u001B[0m\u001B[0;34m*\u001B[0m\u001B[0;31m`\u001B[0m\u001B[0;31m`\u001B[0m \u001B[0;34m(\u001B[0m\u001B[0mstr\u001B[0m\u001B[0;34m)\u001B[0m\u001B[0;34m:\u001B[0m \u001B[0mThe\u001B[0m \u001B[0mversions\u001B[0m \u001B[0mof\u001B[0m \u001B[0meach\u001B[0m \u001B[0mindividual\u001B[0m \u001B[0mAPI\u001B[0m \u001B[0mcomponent\u001B[0m\u001B[0;34m\u001B[0m\u001B[0;34m\u001B[0m\u001B[0m\n\u001B[1;32m     48\u001B[0m         \"\"\"\n\u001B[0;32m---> 49\u001B[0;31m         \u001B[0;32mreturn\u001B[0m \u001B[0mself\u001B[0m\u001B[0;34m.\u001B[0m\u001B[0mclient_version_finder\u001B[0m\u001B[0;34m.\u001B[0m\u001B[0mversion\u001B[0m\u001B[0;34m(\u001B[0m\u001B[0;34m)\u001B[0m\u001B[0;34m\u001B[0m\u001B[0;34m\u001B[0m\u001B[0m\n\u001B[0m",
      "\u001B[0;32m~/anaconda3/envs/QUIC/lib/python3.9/site-packages/qiskit/providers/ibmq/api/rest/root.py\u001B[0m in \u001B[0;36mversion\u001B[0;34m(self)\u001B[0m\n\u001B[1;32m    100\u001B[0m         \"\"\"\n\u001B[1;32m    101\u001B[0m         \u001B[0murl\u001B[0m \u001B[0;34m=\u001B[0m \u001B[0mself\u001B[0m\u001B[0;34m.\u001B[0m\u001B[0mget_url\u001B[0m\u001B[0;34m(\u001B[0m\u001B[0;34m'version'\u001B[0m\u001B[0;34m)\u001B[0m\u001B[0;34m\u001B[0m\u001B[0;34m\u001B[0m\u001B[0m\n\u001B[0;32m--> 102\u001B[0;31m         \u001B[0mresponse\u001B[0m \u001B[0;34m=\u001B[0m \u001B[0mself\u001B[0m\u001B[0;34m.\u001B[0m\u001B[0msession\u001B[0m\u001B[0;34m.\u001B[0m\u001B[0mget\u001B[0m\u001B[0;34m(\u001B[0m\u001B[0murl\u001B[0m\u001B[0;34m)\u001B[0m\u001B[0;34m\u001B[0m\u001B[0;34m\u001B[0m\u001B[0m\n\u001B[0m\u001B[1;32m    103\u001B[0m \u001B[0;34m\u001B[0m\u001B[0m\n\u001B[1;32m    104\u001B[0m         \u001B[0;32mtry\u001B[0m\u001B[0;34m:\u001B[0m\u001B[0;34m\u001B[0m\u001B[0;34m\u001B[0m\u001B[0m\n",
      "\u001B[0;32m~/anaconda3/envs/QUIC/lib/python3.9/site-packages/requests/sessions.py\u001B[0m in \u001B[0;36mget\u001B[0;34m(self, url, **kwargs)\u001B[0m\n\u001B[1;32m    553\u001B[0m \u001B[0;34m\u001B[0m\u001B[0m\n\u001B[1;32m    554\u001B[0m         \u001B[0mkwargs\u001B[0m\u001B[0;34m.\u001B[0m\u001B[0msetdefault\u001B[0m\u001B[0;34m(\u001B[0m\u001B[0;34m'allow_redirects'\u001B[0m\u001B[0;34m,\u001B[0m \u001B[0;32mTrue\u001B[0m\u001B[0;34m)\u001B[0m\u001B[0;34m\u001B[0m\u001B[0;34m\u001B[0m\u001B[0m\n\u001B[0;32m--> 555\u001B[0;31m         \u001B[0;32mreturn\u001B[0m \u001B[0mself\u001B[0m\u001B[0;34m.\u001B[0m\u001B[0mrequest\u001B[0m\u001B[0;34m(\u001B[0m\u001B[0;34m'GET'\u001B[0m\u001B[0;34m,\u001B[0m \u001B[0murl\u001B[0m\u001B[0;34m,\u001B[0m \u001B[0;34m**\u001B[0m\u001B[0mkwargs\u001B[0m\u001B[0;34m)\u001B[0m\u001B[0;34m\u001B[0m\u001B[0;34m\u001B[0m\u001B[0m\n\u001B[0m\u001B[1;32m    556\u001B[0m \u001B[0;34m\u001B[0m\u001B[0m\n\u001B[1;32m    557\u001B[0m     \u001B[0;32mdef\u001B[0m \u001B[0moptions\u001B[0m\u001B[0;34m(\u001B[0m\u001B[0mself\u001B[0m\u001B[0;34m,\u001B[0m \u001B[0murl\u001B[0m\u001B[0;34m,\u001B[0m \u001B[0;34m**\u001B[0m\u001B[0mkwargs\u001B[0m\u001B[0;34m)\u001B[0m\u001B[0;34m:\u001B[0m\u001B[0;34m\u001B[0m\u001B[0;34m\u001B[0m\u001B[0m\n",
      "\u001B[0;32m~/anaconda3/envs/QUIC/lib/python3.9/site-packages/qiskit/providers/ibmq/api/session.py\u001B[0m in \u001B[0;36mrequest\u001B[0;34m(self, method, url, bare, **kwargs)\u001B[0m\n\u001B[1;32m    275\u001B[0m         \u001B[0;32mtry\u001B[0m\u001B[0;34m:\u001B[0m\u001B[0;34m\u001B[0m\u001B[0;34m\u001B[0m\u001B[0m\n\u001B[1;32m    276\u001B[0m             \u001B[0mself\u001B[0m\u001B[0;34m.\u001B[0m\u001B[0m_log_request_info\u001B[0m\u001B[0;34m(\u001B[0m\u001B[0murl\u001B[0m\u001B[0;34m,\u001B[0m \u001B[0mmethod\u001B[0m\u001B[0;34m,\u001B[0m \u001B[0mkwargs\u001B[0m\u001B[0;34m)\u001B[0m\u001B[0;34m\u001B[0m\u001B[0;34m\u001B[0m\u001B[0m\n\u001B[0;32m--> 277\u001B[0;31m             \u001B[0mresponse\u001B[0m \u001B[0;34m=\u001B[0m \u001B[0msuper\u001B[0m\u001B[0;34m(\u001B[0m\u001B[0;34m)\u001B[0m\u001B[0;34m.\u001B[0m\u001B[0mrequest\u001B[0m\u001B[0;34m(\u001B[0m\u001B[0mmethod\u001B[0m\u001B[0;34m,\u001B[0m \u001B[0mfinal_url\u001B[0m\u001B[0;34m,\u001B[0m \u001B[0mheaders\u001B[0m\u001B[0;34m=\u001B[0m\u001B[0mheaders\u001B[0m\u001B[0;34m,\u001B[0m \u001B[0;34m**\u001B[0m\u001B[0mkwargs\u001B[0m\u001B[0;34m)\u001B[0m\u001B[0;34m\u001B[0m\u001B[0;34m\u001B[0m\u001B[0m\n\u001B[0m\u001B[1;32m    278\u001B[0m             \u001B[0mresponse\u001B[0m\u001B[0;34m.\u001B[0m\u001B[0mraise_for_status\u001B[0m\u001B[0;34m(\u001B[0m\u001B[0;34m)\u001B[0m\u001B[0;34m\u001B[0m\u001B[0;34m\u001B[0m\u001B[0m\n\u001B[1;32m    279\u001B[0m         \u001B[0;32mexcept\u001B[0m \u001B[0mRequestException\u001B[0m \u001B[0;32mas\u001B[0m \u001B[0mex\u001B[0m\u001B[0;34m:\u001B[0m\u001B[0;34m\u001B[0m\u001B[0;34m\u001B[0m\u001B[0m\n",
      "\u001B[0;32m~/anaconda3/envs/QUIC/lib/python3.9/site-packages/requests/sessions.py\u001B[0m in \u001B[0;36mrequest\u001B[0;34m(self, method, url, params, data, headers, cookies, files, auth, timeout, allow_redirects, proxies, hooks, stream, verify, cert, json)\u001B[0m\n\u001B[1;32m    540\u001B[0m         }\n\u001B[1;32m    541\u001B[0m         \u001B[0msend_kwargs\u001B[0m\u001B[0;34m.\u001B[0m\u001B[0mupdate\u001B[0m\u001B[0;34m(\u001B[0m\u001B[0msettings\u001B[0m\u001B[0;34m)\u001B[0m\u001B[0;34m\u001B[0m\u001B[0;34m\u001B[0m\u001B[0m\n\u001B[0;32m--> 542\u001B[0;31m         \u001B[0mresp\u001B[0m \u001B[0;34m=\u001B[0m \u001B[0mself\u001B[0m\u001B[0;34m.\u001B[0m\u001B[0msend\u001B[0m\u001B[0;34m(\u001B[0m\u001B[0mprep\u001B[0m\u001B[0;34m,\u001B[0m \u001B[0;34m**\u001B[0m\u001B[0msend_kwargs\u001B[0m\u001B[0;34m)\u001B[0m\u001B[0;34m\u001B[0m\u001B[0;34m\u001B[0m\u001B[0m\n\u001B[0m\u001B[1;32m    543\u001B[0m \u001B[0;34m\u001B[0m\u001B[0m\n\u001B[1;32m    544\u001B[0m         \u001B[0;32mreturn\u001B[0m \u001B[0mresp\u001B[0m\u001B[0;34m\u001B[0m\u001B[0;34m\u001B[0m\u001B[0m\n",
      "\u001B[0;32m~/anaconda3/envs/QUIC/lib/python3.9/site-packages/requests/sessions.py\u001B[0m in \u001B[0;36msend\u001B[0;34m(self, request, **kwargs)\u001B[0m\n\u001B[1;32m    653\u001B[0m \u001B[0;34m\u001B[0m\u001B[0m\n\u001B[1;32m    654\u001B[0m         \u001B[0;31m# Send the request\u001B[0m\u001B[0;34m\u001B[0m\u001B[0;34m\u001B[0m\u001B[0;34m\u001B[0m\u001B[0m\n\u001B[0;32m--> 655\u001B[0;31m         \u001B[0mr\u001B[0m \u001B[0;34m=\u001B[0m \u001B[0madapter\u001B[0m\u001B[0;34m.\u001B[0m\u001B[0msend\u001B[0m\u001B[0;34m(\u001B[0m\u001B[0mrequest\u001B[0m\u001B[0;34m,\u001B[0m \u001B[0;34m**\u001B[0m\u001B[0mkwargs\u001B[0m\u001B[0;34m)\u001B[0m\u001B[0;34m\u001B[0m\u001B[0;34m\u001B[0m\u001B[0m\n\u001B[0m\u001B[1;32m    656\u001B[0m \u001B[0;34m\u001B[0m\u001B[0m\n\u001B[1;32m    657\u001B[0m         \u001B[0;31m# Total elapsed time of the request (approximately)\u001B[0m\u001B[0;34m\u001B[0m\u001B[0;34m\u001B[0m\u001B[0;34m\u001B[0m\u001B[0m\n",
      "\u001B[0;32m~/anaconda3/envs/QUIC/lib/python3.9/site-packages/requests/adapters.py\u001B[0m in \u001B[0;36msend\u001B[0;34m(self, request, stream, timeout, verify, cert, proxies)\u001B[0m\n\u001B[1;32m    437\u001B[0m         \u001B[0;32mtry\u001B[0m\u001B[0;34m:\u001B[0m\u001B[0;34m\u001B[0m\u001B[0;34m\u001B[0m\u001B[0m\n\u001B[1;32m    438\u001B[0m             \u001B[0;32mif\u001B[0m \u001B[0;32mnot\u001B[0m \u001B[0mchunked\u001B[0m\u001B[0;34m:\u001B[0m\u001B[0;34m\u001B[0m\u001B[0;34m\u001B[0m\u001B[0m\n\u001B[0;32m--> 439\u001B[0;31m                 resp = conn.urlopen(\n\u001B[0m\u001B[1;32m    440\u001B[0m                     \u001B[0mmethod\u001B[0m\u001B[0;34m=\u001B[0m\u001B[0mrequest\u001B[0m\u001B[0;34m.\u001B[0m\u001B[0mmethod\u001B[0m\u001B[0;34m,\u001B[0m\u001B[0;34m\u001B[0m\u001B[0;34m\u001B[0m\u001B[0m\n\u001B[1;32m    441\u001B[0m                     \u001B[0murl\u001B[0m\u001B[0;34m=\u001B[0m\u001B[0murl\u001B[0m\u001B[0;34m,\u001B[0m\u001B[0;34m\u001B[0m\u001B[0;34m\u001B[0m\u001B[0m\n",
      "\u001B[0;32m~/anaconda3/envs/QUIC/lib/python3.9/site-packages/urllib3/connectionpool.py\u001B[0m in \u001B[0;36murlopen\u001B[0;34m(self, method, url, body, headers, retries, redirect, assert_same_host, timeout, pool_timeout, release_conn, chunked, body_pos, **response_kw)\u001B[0m\n\u001B[1;32m    697\u001B[0m \u001B[0;34m\u001B[0m\u001B[0m\n\u001B[1;32m    698\u001B[0m             \u001B[0;31m# Make the request on the httplib connection object.\u001B[0m\u001B[0;34m\u001B[0m\u001B[0;34m\u001B[0m\u001B[0;34m\u001B[0m\u001B[0m\n\u001B[0;32m--> 699\u001B[0;31m             httplib_response = self._make_request(\n\u001B[0m\u001B[1;32m    700\u001B[0m                 \u001B[0mconn\u001B[0m\u001B[0;34m,\u001B[0m\u001B[0;34m\u001B[0m\u001B[0;34m\u001B[0m\u001B[0m\n\u001B[1;32m    701\u001B[0m                 \u001B[0mmethod\u001B[0m\u001B[0;34m,\u001B[0m\u001B[0;34m\u001B[0m\u001B[0;34m\u001B[0m\u001B[0m\n",
      "\u001B[0;32m~/anaconda3/envs/QUIC/lib/python3.9/site-packages/urllib3/connectionpool.py\u001B[0m in \u001B[0;36m_make_request\u001B[0;34m(self, conn, method, url, timeout, chunked, **httplib_request_kw)\u001B[0m\n\u001B[1;32m    443\u001B[0m                     \u001B[0;31m# Python 3 (including for exceptions like SystemExit).\u001B[0m\u001B[0;34m\u001B[0m\u001B[0;34m\u001B[0m\u001B[0;34m\u001B[0m\u001B[0m\n\u001B[1;32m    444\u001B[0m                     \u001B[0;31m# Otherwise it looks like a bug in the code.\u001B[0m\u001B[0;34m\u001B[0m\u001B[0;34m\u001B[0m\u001B[0;34m\u001B[0m\u001B[0m\n\u001B[0;32m--> 445\u001B[0;31m                     \u001B[0msix\u001B[0m\u001B[0;34m.\u001B[0m\u001B[0mraise_from\u001B[0m\u001B[0;34m(\u001B[0m\u001B[0me\u001B[0m\u001B[0;34m,\u001B[0m \u001B[0;32mNone\u001B[0m\u001B[0;34m)\u001B[0m\u001B[0;34m\u001B[0m\u001B[0;34m\u001B[0m\u001B[0m\n\u001B[0m\u001B[1;32m    446\u001B[0m         \u001B[0;32mexcept\u001B[0m \u001B[0;34m(\u001B[0m\u001B[0mSocketTimeout\u001B[0m\u001B[0;34m,\u001B[0m \u001B[0mBaseSSLError\u001B[0m\u001B[0;34m,\u001B[0m \u001B[0mSocketError\u001B[0m\u001B[0;34m)\u001B[0m \u001B[0;32mas\u001B[0m \u001B[0me\u001B[0m\u001B[0;34m:\u001B[0m\u001B[0;34m\u001B[0m\u001B[0;34m\u001B[0m\u001B[0m\n\u001B[1;32m    447\u001B[0m             \u001B[0mself\u001B[0m\u001B[0;34m.\u001B[0m\u001B[0m_raise_timeout\u001B[0m\u001B[0;34m(\u001B[0m\u001B[0merr\u001B[0m\u001B[0;34m=\u001B[0m\u001B[0me\u001B[0m\u001B[0;34m,\u001B[0m \u001B[0murl\u001B[0m\u001B[0;34m=\u001B[0m\u001B[0murl\u001B[0m\u001B[0;34m,\u001B[0m \u001B[0mtimeout_value\u001B[0m\u001B[0;34m=\u001B[0m\u001B[0mread_timeout\u001B[0m\u001B[0;34m)\u001B[0m\u001B[0;34m\u001B[0m\u001B[0;34m\u001B[0m\u001B[0m\n",
      "\u001B[0;32m~/anaconda3/envs/QUIC/lib/python3.9/site-packages/urllib3/packages/six.py\u001B[0m in \u001B[0;36mraise_from\u001B[0;34m(value, from_value)\u001B[0m\n",
      "\u001B[0;32m~/anaconda3/envs/QUIC/lib/python3.9/site-packages/urllib3/connectionpool.py\u001B[0m in \u001B[0;36m_make_request\u001B[0;34m(self, conn, method, url, timeout, chunked, **httplib_request_kw)\u001B[0m\n\u001B[1;32m    438\u001B[0m                 \u001B[0;31m# Python 3\u001B[0m\u001B[0;34m\u001B[0m\u001B[0;34m\u001B[0m\u001B[0;34m\u001B[0m\u001B[0m\n\u001B[1;32m    439\u001B[0m                 \u001B[0;32mtry\u001B[0m\u001B[0;34m:\u001B[0m\u001B[0;34m\u001B[0m\u001B[0;34m\u001B[0m\u001B[0m\n\u001B[0;32m--> 440\u001B[0;31m                     \u001B[0mhttplib_response\u001B[0m \u001B[0;34m=\u001B[0m \u001B[0mconn\u001B[0m\u001B[0;34m.\u001B[0m\u001B[0mgetresponse\u001B[0m\u001B[0;34m(\u001B[0m\u001B[0;34m)\u001B[0m\u001B[0;34m\u001B[0m\u001B[0;34m\u001B[0m\u001B[0m\n\u001B[0m\u001B[1;32m    441\u001B[0m                 \u001B[0;32mexcept\u001B[0m \u001B[0mBaseException\u001B[0m \u001B[0;32mas\u001B[0m \u001B[0me\u001B[0m\u001B[0;34m:\u001B[0m\u001B[0;34m\u001B[0m\u001B[0;34m\u001B[0m\u001B[0m\n\u001B[1;32m    442\u001B[0m                     \u001B[0;31m# Remove the TypeError from the exception chain in\u001B[0m\u001B[0;34m\u001B[0m\u001B[0;34m\u001B[0m\u001B[0;34m\u001B[0m\u001B[0m\n",
      "\u001B[0;32m~/anaconda3/envs/QUIC/lib/python3.9/http/client.py\u001B[0m in \u001B[0;36mgetresponse\u001B[0;34m(self)\u001B[0m\n\u001B[1;32m   1345\u001B[0m         \u001B[0;32mtry\u001B[0m\u001B[0;34m:\u001B[0m\u001B[0;34m\u001B[0m\u001B[0;34m\u001B[0m\u001B[0m\n\u001B[1;32m   1346\u001B[0m             \u001B[0;32mtry\u001B[0m\u001B[0;34m:\u001B[0m\u001B[0;34m\u001B[0m\u001B[0;34m\u001B[0m\u001B[0m\n\u001B[0;32m-> 1347\u001B[0;31m                 \u001B[0mresponse\u001B[0m\u001B[0;34m.\u001B[0m\u001B[0mbegin\u001B[0m\u001B[0;34m(\u001B[0m\u001B[0;34m)\u001B[0m\u001B[0;34m\u001B[0m\u001B[0;34m\u001B[0m\u001B[0m\n\u001B[0m\u001B[1;32m   1348\u001B[0m             \u001B[0;32mexcept\u001B[0m \u001B[0mConnectionError\u001B[0m\u001B[0;34m:\u001B[0m\u001B[0;34m\u001B[0m\u001B[0;34m\u001B[0m\u001B[0m\n\u001B[1;32m   1349\u001B[0m                 \u001B[0mself\u001B[0m\u001B[0;34m.\u001B[0m\u001B[0mclose\u001B[0m\u001B[0;34m(\u001B[0m\u001B[0;34m)\u001B[0m\u001B[0;34m\u001B[0m\u001B[0;34m\u001B[0m\u001B[0m\n",
      "\u001B[0;32m~/anaconda3/envs/QUIC/lib/python3.9/http/client.py\u001B[0m in \u001B[0;36mbegin\u001B[0;34m(self)\u001B[0m\n\u001B[1;32m    305\u001B[0m         \u001B[0;31m# read until we get a non-100 response\u001B[0m\u001B[0;34m\u001B[0m\u001B[0;34m\u001B[0m\u001B[0;34m\u001B[0m\u001B[0m\n\u001B[1;32m    306\u001B[0m         \u001B[0;32mwhile\u001B[0m \u001B[0;32mTrue\u001B[0m\u001B[0;34m:\u001B[0m\u001B[0;34m\u001B[0m\u001B[0;34m\u001B[0m\u001B[0m\n\u001B[0;32m--> 307\u001B[0;31m             \u001B[0mversion\u001B[0m\u001B[0;34m,\u001B[0m \u001B[0mstatus\u001B[0m\u001B[0;34m,\u001B[0m \u001B[0mreason\u001B[0m \u001B[0;34m=\u001B[0m \u001B[0mself\u001B[0m\u001B[0;34m.\u001B[0m\u001B[0m_read_status\u001B[0m\u001B[0;34m(\u001B[0m\u001B[0;34m)\u001B[0m\u001B[0;34m\u001B[0m\u001B[0;34m\u001B[0m\u001B[0m\n\u001B[0m\u001B[1;32m    308\u001B[0m             \u001B[0;32mif\u001B[0m \u001B[0mstatus\u001B[0m \u001B[0;34m!=\u001B[0m \u001B[0mCONTINUE\u001B[0m\u001B[0;34m:\u001B[0m\u001B[0;34m\u001B[0m\u001B[0;34m\u001B[0m\u001B[0m\n\u001B[1;32m    309\u001B[0m                 \u001B[0;32mbreak\u001B[0m\u001B[0;34m\u001B[0m\u001B[0;34m\u001B[0m\u001B[0m\n",
      "\u001B[0;32m~/anaconda3/envs/QUIC/lib/python3.9/http/client.py\u001B[0m in \u001B[0;36m_read_status\u001B[0;34m(self)\u001B[0m\n\u001B[1;32m    266\u001B[0m \u001B[0;34m\u001B[0m\u001B[0m\n\u001B[1;32m    267\u001B[0m     \u001B[0;32mdef\u001B[0m \u001B[0m_read_status\u001B[0m\u001B[0;34m(\u001B[0m\u001B[0mself\u001B[0m\u001B[0;34m)\u001B[0m\u001B[0;34m:\u001B[0m\u001B[0;34m\u001B[0m\u001B[0;34m\u001B[0m\u001B[0m\n\u001B[0;32m--> 268\u001B[0;31m         \u001B[0mline\u001B[0m \u001B[0;34m=\u001B[0m \u001B[0mstr\u001B[0m\u001B[0;34m(\u001B[0m\u001B[0mself\u001B[0m\u001B[0;34m.\u001B[0m\u001B[0mfp\u001B[0m\u001B[0;34m.\u001B[0m\u001B[0mreadline\u001B[0m\u001B[0;34m(\u001B[0m\u001B[0m_MAXLINE\u001B[0m \u001B[0;34m+\u001B[0m \u001B[0;36m1\u001B[0m\u001B[0;34m)\u001B[0m\u001B[0;34m,\u001B[0m \u001B[0;34m\"iso-8859-1\"\u001B[0m\u001B[0;34m)\u001B[0m\u001B[0;34m\u001B[0m\u001B[0;34m\u001B[0m\u001B[0m\n\u001B[0m\u001B[1;32m    269\u001B[0m         \u001B[0;32mif\u001B[0m \u001B[0mlen\u001B[0m\u001B[0;34m(\u001B[0m\u001B[0mline\u001B[0m\u001B[0;34m)\u001B[0m \u001B[0;34m>\u001B[0m \u001B[0m_MAXLINE\u001B[0m\u001B[0;34m:\u001B[0m\u001B[0;34m\u001B[0m\u001B[0;34m\u001B[0m\u001B[0m\n\u001B[1;32m    270\u001B[0m             \u001B[0;32mraise\u001B[0m \u001B[0mLineTooLong\u001B[0m\u001B[0;34m(\u001B[0m\u001B[0;34m\"status line\"\u001B[0m\u001B[0;34m)\u001B[0m\u001B[0;34m\u001B[0m\u001B[0;34m\u001B[0m\u001B[0m\n",
      "\u001B[0;32m~/anaconda3/envs/QUIC/lib/python3.9/socket.py\u001B[0m in \u001B[0;36mreadinto\u001B[0;34m(self, b)\u001B[0m\n\u001B[1;32m    702\u001B[0m         \u001B[0;32mwhile\u001B[0m \u001B[0;32mTrue\u001B[0m\u001B[0;34m:\u001B[0m\u001B[0;34m\u001B[0m\u001B[0;34m\u001B[0m\u001B[0m\n\u001B[1;32m    703\u001B[0m             \u001B[0;32mtry\u001B[0m\u001B[0;34m:\u001B[0m\u001B[0;34m\u001B[0m\u001B[0;34m\u001B[0m\u001B[0m\n\u001B[0;32m--> 704\u001B[0;31m                 \u001B[0;32mreturn\u001B[0m \u001B[0mself\u001B[0m\u001B[0;34m.\u001B[0m\u001B[0m_sock\u001B[0m\u001B[0;34m.\u001B[0m\u001B[0mrecv_into\u001B[0m\u001B[0;34m(\u001B[0m\u001B[0mb\u001B[0m\u001B[0;34m)\u001B[0m\u001B[0;34m\u001B[0m\u001B[0;34m\u001B[0m\u001B[0m\n\u001B[0m\u001B[1;32m    705\u001B[0m             \u001B[0;32mexcept\u001B[0m \u001B[0mtimeout\u001B[0m\u001B[0;34m:\u001B[0m\u001B[0;34m\u001B[0m\u001B[0;34m\u001B[0m\u001B[0m\n\u001B[1;32m    706\u001B[0m                 \u001B[0mself\u001B[0m\u001B[0;34m.\u001B[0m\u001B[0m_timeout_occurred\u001B[0m \u001B[0;34m=\u001B[0m \u001B[0;32mTrue\u001B[0m\u001B[0;34m\u001B[0m\u001B[0;34m\u001B[0m\u001B[0m\n",
      "\u001B[0;32m~/anaconda3/envs/QUIC/lib/python3.9/ssl.py\u001B[0m in \u001B[0;36mrecv_into\u001B[0;34m(self, buffer, nbytes, flags)\u001B[0m\n\u001B[1;32m   1239\u001B[0m                   \u001B[0;34m\"non-zero flags not allowed in calls to recv_into() on %s\"\u001B[0m \u001B[0;34m%\u001B[0m\u001B[0;34m\u001B[0m\u001B[0;34m\u001B[0m\u001B[0m\n\u001B[1;32m   1240\u001B[0m                   self.__class__)\n\u001B[0;32m-> 1241\u001B[0;31m             \u001B[0;32mreturn\u001B[0m \u001B[0mself\u001B[0m\u001B[0;34m.\u001B[0m\u001B[0mread\u001B[0m\u001B[0;34m(\u001B[0m\u001B[0mnbytes\u001B[0m\u001B[0;34m,\u001B[0m \u001B[0mbuffer\u001B[0m\u001B[0;34m)\u001B[0m\u001B[0;34m\u001B[0m\u001B[0;34m\u001B[0m\u001B[0m\n\u001B[0m\u001B[1;32m   1242\u001B[0m         \u001B[0;32melse\u001B[0m\u001B[0;34m:\u001B[0m\u001B[0;34m\u001B[0m\u001B[0;34m\u001B[0m\u001B[0m\n\u001B[1;32m   1243\u001B[0m             \u001B[0;32mreturn\u001B[0m \u001B[0msuper\u001B[0m\u001B[0;34m(\u001B[0m\u001B[0;34m)\u001B[0m\u001B[0;34m.\u001B[0m\u001B[0mrecv_into\u001B[0m\u001B[0;34m(\u001B[0m\u001B[0mbuffer\u001B[0m\u001B[0;34m,\u001B[0m \u001B[0mnbytes\u001B[0m\u001B[0;34m,\u001B[0m \u001B[0mflags\u001B[0m\u001B[0;34m)\u001B[0m\u001B[0;34m\u001B[0m\u001B[0;34m\u001B[0m\u001B[0m\n",
      "\u001B[0;32m~/anaconda3/envs/QUIC/lib/python3.9/ssl.py\u001B[0m in \u001B[0;36mread\u001B[0;34m(self, len, buffer)\u001B[0m\n\u001B[1;32m   1097\u001B[0m         \u001B[0;32mtry\u001B[0m\u001B[0;34m:\u001B[0m\u001B[0;34m\u001B[0m\u001B[0;34m\u001B[0m\u001B[0m\n\u001B[1;32m   1098\u001B[0m             \u001B[0;32mif\u001B[0m \u001B[0mbuffer\u001B[0m \u001B[0;32mis\u001B[0m \u001B[0;32mnot\u001B[0m \u001B[0;32mNone\u001B[0m\u001B[0;34m:\u001B[0m\u001B[0;34m\u001B[0m\u001B[0;34m\u001B[0m\u001B[0m\n\u001B[0;32m-> 1099\u001B[0;31m                 \u001B[0;32mreturn\u001B[0m \u001B[0mself\u001B[0m\u001B[0;34m.\u001B[0m\u001B[0m_sslobj\u001B[0m\u001B[0;34m.\u001B[0m\u001B[0mread\u001B[0m\u001B[0;34m(\u001B[0m\u001B[0mlen\u001B[0m\u001B[0;34m,\u001B[0m \u001B[0mbuffer\u001B[0m\u001B[0;34m)\u001B[0m\u001B[0;34m\u001B[0m\u001B[0;34m\u001B[0m\u001B[0m\n\u001B[0m\u001B[1;32m   1100\u001B[0m             \u001B[0;32melse\u001B[0m\u001B[0;34m:\u001B[0m\u001B[0;34m\u001B[0m\u001B[0;34m\u001B[0m\u001B[0m\n\u001B[1;32m   1101\u001B[0m                 \u001B[0;32mreturn\u001B[0m \u001B[0mself\u001B[0m\u001B[0;34m.\u001B[0m\u001B[0m_sslobj\u001B[0m\u001B[0;34m.\u001B[0m\u001B[0mread\u001B[0m\u001B[0;34m(\u001B[0m\u001B[0mlen\u001B[0m\u001B[0;34m)\u001B[0m\u001B[0;34m\u001B[0m\u001B[0;34m\u001B[0m\u001B[0m\n",
      "\u001B[0;31mKeyboardInterrupt\u001B[0m: "
     ]
    }
   ],
   "source": [
    "IBMQ.stored_account()\n",
    "IBMQ.load_account()"
   ]
  },
  {
   "cell_type": "code",
   "execution_count": null,
   "metadata": {
    "jupyter": {
     "outputs_hidden": false
    },
    "pycharm": {
     "name": "#%%\n"
    },
    "scrolled": true
   },
   "outputs": [],
   "source": [
    "# for SVM\n",
    "from classifiers.convex.svm import BinarySVM\n",
    "from classifiers.kernel import Kernel\n",
    "from classifiers.datasets.dataloader import Example_4x2\n",
    "# for QASVM\n",
    "from classifiers.quantum import Qasvm_Mapping_4x2\n",
    "from classifiers.quantum.qasvm import QASVM\n",
    "from classifiers.quantum.quantum_circuits import AnsatzCircuit9\n",
    "from classifiers.optimizer import tSPSA\n",
    "from qiskit.utils import QuantumInstance\n",
    "from qiskit.ignis.mitigation import CompleteMeasFitter\n",
    "from qiskit.circuit.library import RealAmplitudes, EfficientSU2, NLocal, TwoLocal\n",
    "from qiskit.providers.aer import AerSimulator\n",
    "\n",
    "# for logging & visualization\n",
    "import logging\n",
    "from classifiers.callback import CostParamStorage\n",
    "from torch.utils.tensorboard import SummaryWriter\n",
    "from classifiers.visualization import Plot_Data, Plot_Log_From_SPSA, Plot_SVM, compare_svm_and_qasvm\n",
    "if I_HAVE_ACCESS:\n",
    "    if IBMQ.active_account() is None:\n",
    "        IBMQ.load_account()\n",
    "    provider = IBMQ.get_provider(hub='ibm-q-skku', group='skku', project='saint') # TODO: your provider\n",
    "    backend = provider.get_backend(f'ibmq_{DEVICE}')\n",
    "else:\n",
    "    import dill\n",
    "    with open(f'./summary_ipynb/2021/06 June/03 Thu/naive({DEVICE})/ibmq_{DEVICE}', 'rb') as _f:\n",
    "        backend = dill.load(_f)\n",
    "\n",
    "backend"
   ]
  },
  {
   "cell_type": "markdown",
   "metadata": {},
   "source": [
    "## How to pick `layout`\n",
    "\n",
    "### Priority 1. Should be one of four\n",
    "\n",
    "- (yi - i1 - i0 - xi - a - xj - j0 - j1 - yj) connection\n",
    "- (i1 - i0 - xi - a - xj - j0 - j1) + (i0 - yi) + (j0 - yj) connection\n",
    "- (yi - i0 - i1 - xi - a - xj - j1 - j0 - yj) connection\n",
    "- (i0 - i1 - xi - a - xj - j1 - j0) + (i1 - yi) + (j1 - yj) connection\n",
    "\n",
    "### Priority 2. Should minimize TwoQubit (gate) error of possible connections in layout\n",
    "\n",
    "### Priority 3. Should minimize SingleQubit (gate) error of qubits in layoyt\n",
    "\n",
    "### Priority 4. Overall error on `*i` register should be lower than error on `*j` register"
   ]
  },
  {
   "cell_type": "code",
   "execution_count": null,
   "metadata": {
    "scrolled": true
   },
   "outputs": [],
   "source": [
    "# e.g.\n",
    "# layout = Qasvm_Mapping_4x2(backend, a=3, i0=8, i1=11, xi=5, yi=14, j0=1, j1=4, xj=2, yj=7)\n",
    "# layout = Qasvm_Mapping_4x2(backend, a=16, i0=11, i1=8, xi=14, yi=5, j0=22, j1=25, xj=19, yj=24)\n",
    "# layout = Qasvm_Mapping_4x2(backend, a=3, i0=9, i1=11, xi=5, yi=8, j0=0, j1=4, xj=2, yj=1)\n",
    "# layout = Qasvm_Mapping_4x2(backend, a=13, i0=10, i1=7, xi=12, yi=6, j0=11, j1=8, xj=14, yj=9) # TODO: Choose layout\n",
    "\n",
    "# layout for Montreal / Nov.3.2021\n",
    "layout = Qasvm_Mapping_4x2(backend, a=16, i0=13, i1=12, xi=14, yi=10, j0=22, j1=25, xj=19, yj=26)\n",
    "\n",
    "layout.plot('physical')"
   ]
  },
  {
   "cell_type": "code",
   "execution_count": null,
   "metadata": {
    "scrolled": true
   },
   "outputs": [],
   "source": [
    "import json\n",
    "from pathlib import Path\n",
    "DATA_DIR = Path.cwd()/DIR_NAME/f'{DATA_TYPE}'/f'{DEVICE}'\n",
    "DATA_DIR.mkdir(exist_ok = True, parents=True)\n",
    "\n",
    "with open(DATA_DIR / 'layout.json', 'w') as fp:\n",
    "    json.dump(layout.json_layout, fp)"
   ]
  },
  {
   "cell_type": "code",
   "execution_count": null,
   "metadata": {
    "jupyter": {
     "outputs_hidden": false
    },
    "pycharm": {
     "name": "#%%\n"
    },
    "scrolled": true
   },
   "outputs": [],
   "source": [
    "%matplotlib inline\n",
    "_EPS = 0.01\n",
    "X, y = Example_4x2(DATA_TYPE=='balanced')()\n",
    "ax = plt.axes(projection='3d')\n",
    "\n",
    "from qiskit.visualization.bloch import Bloch\n",
    "B = Bloch(axes=ax)\n",
    "\n",
    "def s2c(x):\n",
    "    bloch = [1, x[0], x[1]]\n",
    "    r, theta, phi = bloch[0], bloch[1], bloch[2]\n",
    "    bloch[0] = r * np.sin(theta) * np.cos(phi)\n",
    "    bloch[1] = r * np.sin(theta) * np.sin(phi)\n",
    "    bloch[2] = r * np.cos(theta)\n",
    "    return bloch\n",
    "\n",
    "def c2s(bloch):\n",
    "    x = [np.arccos(bloch[2]), np.arctan(bloch[1]/bloch[0])]\n",
    "    return x\n",
    "\n",
    "vecs = np.array(list(map(s2c, X)))\n",
    "for v in vecs[y==0]:\n",
    "    B.add_annotation(v, text='A', color='r')\n",
    "for v in vecs[y==1]:\n",
    "    B.add_annotation(v, text='B', color='b')\n",
    "# B.add_annotation(vecs.mean(axis=0), text='M', color='k')\n",
    "vecA = vecs[y==0].mean(axis=0)\n",
    "vecA = vecA/np.linalg.norm(vecA)\n",
    "vecB = vecs[y==1].mean(axis=0)\n",
    "vecB = vecB/np.linalg.norm(vecB)\n",
    "vecP = (vecA-vecB)/np.linalg.norm(vecA-vecB)\n",
    "vecQ = -(vecA-vecB)/np.linalg.norm(vecA-vecB)\n",
    "#B.add_annotation(vecP, text='P', color='r')\n",
    "#B.add_annotation(vecQ, text='Q', color='b')\n",
    "\n",
    "def test_data_gen(n, vecP, vecQ):\n",
    "    Xt = np.array([np.linspace(0, 2*np.pi, n+1), c2s(vecP)[1]*np.ones(n+1)]).T\n",
    "    Xt = Xt[1:]\n",
    "    yt = np.where(np.dot(np.array(list(map(s2c, Xt))), vecP-vecQ)<0, 1, 0)\n",
    "    return Xt, yt\n",
    "\n",
    "Xt, yt = test_data_gen(TEST_SIZE, vecP, vecQ)\n",
    "\n",
    "vecs = np.array(list(map(s2c, Xt)))\n",
    "for v in vecs[yt==0]:\n",
    "    B.add_annotation(v, text='*', color='r')\n",
    "for v in vecs[yt==1]:\n",
    "    B.add_annotation(v, text='*', color='b')\n",
    "\n",
    "B.render()"
   ]
  },
  {
   "cell_type": "code",
   "execution_count": null,
   "metadata": {
    "jupyter": {
     "outputs_hidden": false
    },
    "pycharm": {
     "name": "#%%\n"
    },
    "scrolled": true
   },
   "outputs": [],
   "source": [
    "var_form = RealAmplitudes(2, reps=1)\n",
    "#var_form = AnsatzCircuit9(2, reps=1, rotational_block='rx', entangling_block='cz')\n",
    "#var_form = TwoLocal(2, reps=5, rotation_blocks='rz', entanglement_blocks='cx', entanglement='linear')\n",
    "#var_form = EfficientSU2(2, reps=1)\n",
    "quantum_instance = QuantumInstance(backend, shots=2**13, seed_transpiler=100, optimization_level=2, initial_layout=layout, measurement_error_mitigation_cls=CompleteMeasFitter)\n",
    "qasvm = QASVM(X, y, quantum_instance=quantum_instance, C=None, k=10, option='Bloch_sphere', var_form=var_form).dual\n",
    "print(qasvm.second_order_circuit.depth())\n",
    "print(qasvm.first_order_circuit.depth())\n",
    "qasvm.second_order_circuit.draw(fold=-1, output='mpl', idle_wires=False)"
   ]
  },
  {
   "cell_type": "code",
   "execution_count": null,
   "metadata": {
    "jupyter": {
     "outputs_hidden": false
    },
    "pycharm": {
     "name": "#%%\n"
    },
    "scrolled": true
   },
   "outputs": [],
   "source": [
    "from tqdm.notebook import tqdm\n",
    "def find_min_seed(quantum_instance):\n",
    "    old_tv = 1000\n",
    "    for i in tqdm(range(100)):\n",
    "        old_seed = quantum_instance.compile_config['seed_transpiler']\n",
    "        quantum_instance.compile_config['seed_transpiler'] = i\n",
    "        qasvm = QASVM(X, y, quantum_instance=quantum_instance, C=None, k=10, option='Bloch_sphere', var_form=var_form).dual\n",
    "        new_tv = qasvm.second_order_circuit.depth() + qasvm.first_order_circuit.depth() + np.abs(qasvm.second_order_circuit.depth() - qasvm.first_order_circuit.depth())**2\n",
    "        if new_tv < old_tv:\n",
    "            old_tv = new_tv\n",
    "        else:\n",
    "            quantum_instance.compile_config['seed_transpiler'] = old_seed\n",
    "    return quantum_instance.compile_config['seed_transpiler']\n"
   ]
  },
  {
   "cell_type": "code",
   "execution_count": null,
   "metadata": {
    "scrolled": true
   },
   "outputs": [],
   "source": [
    "seed=find_min_seed(quantum_instance)\n",
    "print(seed)"
   ]
  },
  {
   "cell_type": "code",
   "execution_count": null,
   "metadata": {
    "scrolled": true
   },
   "outputs": [],
   "source": [
    "from copy import deepcopy\n",
    "real_qi =  QuantumInstance(backend, shots=2**13, seed_transpiler=seed, optimization_level=2, initial_layout=layout, measurement_error_mitigation_cls=CompleteMeasFitter)\n",
    "sim_qi = QuantumInstance(AerSimulator.from_backend(backend), shots=2**13, seed_transpiler=seed, optimization_level=2, initial_layout=layout, measurement_error_mitigation_cls=CompleteMeasFitter)\n",
    "exact_qi = deepcopy(sim_qi)\n",
    "exact_qi.backend.set_options(noise_model=None)"
   ]
  },
  {
   "cell_type": "code",
   "execution_count": null,
   "metadata": {
    "scrolled": true
   },
   "outputs": [],
   "source": [
    "real_qasvm = QASVM(X, y, quantum_instance=real_qi, C=C, k=k, option='Bloch_sphere', var_form=var_form).dual\n",
    "print(real_qasvm.second_order_circuit.depth())\n",
    "print(real_qasvm.first_order_circuit.depth())\n",
    "real_qasvm.second_order_circuit.draw(fold=-1, output='mpl', idle_wires=False)"
   ]
  },
  {
   "cell_type": "code",
   "execution_count": null,
   "metadata": {
    "scrolled": true
   },
   "outputs": [],
   "source": [
    "sim_qasvm = deepcopy(real_qasvm)\n",
    "sim_qasvm._quantum_instance = sim_qi\n",
    "exact_qasvm = deepcopy(real_qasvm)\n",
    "exact_qasvm._quantum_instance = exact_qi\n",
    "\n",
    "uniform_qasvm = QASVM(X, y, quantum_instance=exact_qi, C=C, k=k, option='Bloch_uniform', var_form=None).dual"
   ]
  },
  {
   "cell_type": "code",
   "execution_count": null,
   "metadata": {},
   "outputs": [],
   "source": [
    "\"\"\"from tqdm.notebook import tqdm\n",
    "from qiskit.providers.ibmq import IBMQ\n",
    "IBMQ.load_account()\n",
    "qasm_qi = IBMQ.get_provider(group='open').get_backend('ibmq_qasm_simulator')\n",
    "real_qasvm._quantum_instance = QuantumInstance(qasm_qi, shots=2**13, seed_transpiler=seed, optimization_level=2, initial_layout=layout, measurement_error_mitigation_cls=CompleteMeasFitter)\n",
    "# if this works, then any error in `ibmq_device_run.ipynb` is from qiskit itself.\n",
    "if I_HAVE_ACCESS:\n",
    "    random_parameters = np.random.rand(real_qasvm.num_parameters)\n",
    "    print(real_qasvm.cost_fn(random_parameters))\n",
    "    print(real_qasvm.f(Xt[:1]))\"\"\""
   ]
  },
  {
   "cell_type": "code",
   "execution_count": null,
   "metadata": {},
   "outputs": [],
   "source": [
    "from tqdm.notebook import tqdm\n",
    "\n",
    "if I_HAVE_ACCESS:\n",
    "    real_storage = CostParamStorage()\n",
    "    optimizer = tSPSA(maxiter=MAXITER, blocking=True, last_avg=LAST_AVG, callback=real_storage)\n",
    "\n",
    "    for epoch in tqdm(range(1, MAXITER + 1)):\n",
    "        optimizer.step(real_qasvm.cost_fn, real_qasvm.parameters)\n",
    "        if real_storage.num_accepted() > 2 * LAST_AVG and real_storage.last_cost_avg(2 * LAST_AVG, ignore_rejected=True) < real_storage.last_cost_avg(LAST_AVG, ignore_rejected=True):\n",
    "            break\n",
    "\n",
    "    real_qasvm.parameters = real_storage.last_avg(LAST_AVG, ignore_rejected=True)\n",
    "    real_fvec = real_qasvm.f(Xt)\n",
    "    \n",
    "    real_qasvm.save(DATA_DIR / 'real_qasvm')\n",
    "    real_storage.save(DATA_DIR / 'real_storage')\n",
    "    np.save(DATA_DIR / 'real_fvec.npy', real_fvec)"
   ]
  },
  {
   "cell_type": "code",
   "execution_count": null,
   "metadata": {
    "scrolled": true
   },
   "outputs": [],
   "source": [
    "sim_storage = CostParamStorage()\n",
    "optimizer = tSPSA(maxiter=MAXITER, blocking=True, last_avg=LAST_AVG, callback=sim_storage)\n",
    "\n",
    "for epoch in tqdm(range(1, MAXITER + 1)):\n",
    "    optimizer.step(sim_qasvm.cost_fn, sim_qasvm.parameters)\n",
    "    if sim_storage.num_accepted() > 2 * LAST_AVG and sim_storage.last_cost_avg(2 * LAST_AVG, ignore_rejected=True) < sim_storage.last_cost_avg(LAST_AVG, ignore_rejected=True):\n",
    "        break\n",
    "\n",
    "    # if too slow,\n",
    "    # if sim_storage.num_accepted()>=LAST_AVG and sim_storage.last_cost_std(LAST_AVG, ignore_rejected=True)<=optimizer.allowed_increase/2:\n",
    "    #     break\n",
    "    \n",
    "\n",
    "sim_qasvm.parameters = sim_storage.last_avg(LAST_AVG, ignore_rejected=True)\n",
    "sim_fvec = sim_qasvm.f(Xt)\n",
    "\n",
    "sim_qasvm.save(DATA_DIR / 'sim_qasvm')\n",
    "sim_storage.save(DATA_DIR / 'sim_storage')\n",
    "np.save(DATA_DIR / 'sim_fvec.npy', sim_fvec)"
   ]
  },
  {
   "cell_type": "code",
   "execution_count": null,
   "metadata": {
    "scrolled": true
   },
   "outputs": [],
   "source": [
    "exact_storage = CostParamStorage()\n",
    "optimizer = tSPSA(maxiter=MAXITER, blocking=True, last_avg=LAST_AVG, callback=exact_storage)\n",
    "\n",
    "for epoch in tqdm(range(1, MAXITER + 1)):\n",
    "    optimizer.step(exact_qasvm.cost_fn, exact_qasvm.parameters)\n",
    "    if exact_storage.num_accepted() > 2 * LAST_AVG and exact_storage.last_cost_avg(2 * LAST_AVG, ignore_rejected=True) < exact_storage.last_cost_avg(LAST_AVG, ignore_rejected=True):\n",
    "        break\n",
    "\n",
    "exact_qasvm.parameters = exact_storage.last_avg(LAST_AVG, ignore_rejected=True)\n",
    "exact_fvec = exact_qasvm.f(Xt)\n",
    "\n",
    "exact_qasvm.save(DATA_DIR / 'exact_qasvm')\n",
    "exact_storage.save(DATA_DIR / 'exact_storage')\n",
    "np.save(DATA_DIR / 'exact_fvec.npy', exact_fvec)"
   ]
  },
  {
   "cell_type": "code",
   "execution_count": null,
   "metadata": {
    "scrolled": true
   },
   "outputs": [],
   "source": [
    "uniform_fvec = uniform_qasvm.f(Xt)\n",
    "\n",
    "uniform_qasvm.save(DATA_DIR / 'uniform_qasvm')\n",
    "np.save(DATA_DIR / 'uniform_fvec.npy', uniform_fvec)"
   ]
  },
  {
   "cell_type": "code",
   "execution_count": null,
   "metadata": {
    "scrolled": true
   },
   "outputs": [],
   "source": [
    "svm = BinarySVM(Kernel('SingleQubit', reps=1), mutation='REDUCED_QASVM', C=C, k=k)\n",
    "svm.fit(X, y)\n",
    "Xtt, ytt = test_data_gen(100, vecP, vecQ)\n",
    "svm_fvec = svm.f(Xtt)\n",
    "svm.save(DATA_DIR / 'svm')\n",
    "np.save(DATA_DIR / 'svm_fvec.npy', svm_fvec)\n",
    "\n",
    "np.save(DATA_DIR / 'X.npy', X)\n",
    "np.save(DATA_DIR / 'y.npy', y)\n",
    "np.save(DATA_DIR / 'Xt.npy', Xt)\n",
    "np.save(DATA_DIR / 'yt.npy', yt)\n",
    "np.save(DATA_DIR / 'Xtt.npy', Xtt)\n",
    "np.save(DATA_DIR / 'ytt.npy', ytt)"
   ]
  },
  {
   "cell_type": "code",
   "execution_count": null,
   "metadata": {},
   "outputs": [],
   "source": [
    "# Unknown bug fix\n",
    "if len(exact_fvec) != len(yt):\n",
    "    exact_fvec = exact_fvec[4:]\n",
    "if len(sim_fvec) != len(yt):\n",
    "    sim_fvec = sim_fvec[4:]\n",
    "if len(real_fvec) != len(yt):\n",
    "    real_fvec = real_fvec[4:]\n",
    "if len(uniform_fvec) != len(yt):\n",
    "    uniform_fvec = uniform_fvec[4:]\n",
    "if len(svm_fvec) != len(ytt):\n",
    "    svm_fvec = svm_fvec[4:]"
   ]
  },
  {
   "cell_type": "code",
   "execution_count": null,
   "metadata": {
    "scrolled": true
   },
   "outputs": [],
   "source": [
    "plt.plot(Xtt[:, 0], svm_fvec, color='k', label='theory')\n",
    "plt.scatter(Xt[yt==0, 0], exact_fvec[yt==0], c='r', marker='o', label='exact, A')\n",
    "plt.scatter(Xt[yt==1, 0], exact_fvec[yt==1], c='b', marker='o', label='exact, B')\n",
    "plt.scatter(Xt[yt==0, 0], sim_fvec[yt==0], c='r', marker='s', label='sim, A')\n",
    "plt.scatter(Xt[yt==1, 0], sim_fvec[yt==1], c='b', marker='s', label='sim, B')\n",
    "if I_HAVE_ACCESS:\n",
    "    plt.scatter(Xt[yt==0, 0], real_fvec[yt==0], c='r', marker='d', label='real, A')\n",
    "    plt.scatter(Xt[yt==1, 0], real_fvec[yt==1], c='b', marker='d', label='real, B')\n",
    "plt.scatter(Xt[yt==0, 0], uniform_fvec[yt==0], c='r', marker='^', label='uniform, A')\n",
    "plt.scatter(Xt[yt==1, 0], uniform_fvec[yt==1], c='b', marker='^', label='uniform, B')\n",
    "plt.axhline(0, 0, 1, color='k', linestyle='--')\n",
    "plt.legend()\n",
    "plt.xlabel(r'$\\theta$')\n",
    "plt.title(DATA_TYPE)"
   ]
  },
  {
   "cell_type": "code",
   "execution_count": null,
   "metadata": {
    "scrolled": true
   },
   "outputs": [],
   "source": [
    "import qiskit.tools.jupyter\n",
    "%qiskit_version_table\n",
    "%qiskit_copyright"
   ]
  },
  {
   "cell_type": "code",
   "execution_count": null,
   "metadata": {
    "scrolled": true
   },
   "outputs": [],
   "source": []
  }
 ],
 "metadata": {
  "interpreter": {
   "hash": "c16ea0bc48413a71619ba861d91bbc61c353def6044ec2df61fec6d2e152b1bc"
  },
  "kernelspec": {
   "display_name": "Python 3.9.7 64-bit ('test': conda)",
   "name": "python3"
  },
  "language_info": {
   "codemirror_mode": {
    "name": "ipython",
    "version": 3
   },
   "file_extension": ".py",
   "mimetype": "text/x-python",
   "name": "python",
   "nbconvert_exporter": "python",
   "pygments_lexer": "ipython3",
   "version": "3.9.2"
  },
  "widgets": {
   "application/vnd.jupyter.widget-state+json": {
    "state": {
     "012b0ca0964e499fb6ce2e83d8b9057e": {
      "model_module": "@jupyter-widgets/base",
      "model_module_version": "1.2.0",
      "model_name": "LayoutModel",
      "state": {
       "width": "70px"
      }
     },
     "09b10f6550d144d2afe917b6be9958db": {
      "model_module": "@jupyter-widgets/base",
      "model_module_version": "1.2.0",
      "model_name": "LayoutModel",
      "state": {}
     },
     "16e91007c1d54d50a7242b80954fc71f": {
      "model_module": "@jupyter-widgets/controls",
      "model_module_version": "1.5.0",
      "model_name": "ButtonStyleModel",
      "state": {}
     },
     "1aa4729b97f848dfbb796e963da856a5": {
      "model_module": "@jupyter-widgets/base",
      "model_module_version": "1.2.0",
      "model_name": "LayoutModel",
      "state": {}
     },
     "1bf4cd606d6448d2ab543d17d9dc0753": {
      "model_module": "@jupyter-widgets/controls",
      "model_module_version": "1.5.0",
      "model_name": "HBoxModel",
      "state": {
       "children": [
        "IPY_MODEL_663934e24b234e568ce84f28c3113cbf",
        "IPY_MODEL_6575dce63ebc4e808f15fac2ae29ccad",
        "IPY_MODEL_21b0d3b4eebf48108fa6393222a45f0b"
       ],
       "layout": "IPY_MODEL_ad950e3c278848ceb6fbbfad56c9f3e4"
      }
     },
     "1c5bd4b7cadb46f89ec036e914439e60": {
      "model_module": "@jupyter-widgets/base",
      "model_module_version": "1.2.0",
      "model_name": "LayoutModel",
      "state": {}
     },
     "21b0d3b4eebf48108fa6393222a45f0b": {
      "model_module": "@jupyter-widgets/controls",
      "model_module_version": "1.5.0",
      "model_name": "HTMLModel",
      "state": {
       "layout": "IPY_MODEL_31366ff842ec4bd9a38e81b32122f166",
       "style": "IPY_MODEL_eb8e6172c25a431c8155833a1e36181e",
       "value": " 106/1024 [00:10&lt;01:29, 10.28it/s]"
      }
     },
     "31366ff842ec4bd9a38e81b32122f166": {
      "model_module": "@jupyter-widgets/base",
      "model_module_version": "1.2.0",
      "model_name": "LayoutModel",
      "state": {}
     },
     "3155cabaeb04486ca34513db31236458": {
      "model_module": "@jupyter-widgets/base",
      "model_module_version": "1.2.0",
      "model_name": "LayoutModel",
      "state": {}
     },
     "32c59138ffec4ebf80bbc3caa6f5ed8f": {
      "model_module": "@jupyter-widgets/controls",
      "model_module_version": "1.5.0",
      "model_name": "DescriptionStyleModel",
      "state": {
       "description_width": ""
      }
     },
     "3b8be089009c45c89aca752a43f9eda3": {
      "model_module": "@jupyter-widgets/base",
      "model_module_version": "1.2.0",
      "model_name": "LayoutModel",
      "state": {
       "width": "145px"
      }
     },
     "3ceb80d213b24c668871f7ada509b81c": {
      "model_module": "@jupyter-widgets/controls",
      "model_module_version": "1.5.0",
      "model_name": "HTMLModel",
      "state": {
       "layout": "IPY_MODEL_f0b0a95644854864ab24cd8855c828ca",
       "style": "IPY_MODEL_8bb1276a1dc64d1f987f69442f8f00dc",
       "value": "<h5>Job ID</h5>"
      }
     },
     "4550b5cb780749c795bca0e264d48391": {
      "model_module": "@jupyter-widgets/controls",
      "model_module_version": "1.5.0",
      "model_name": "DescriptionStyleModel",
      "state": {
       "description_width": ""
      }
     },
     "4ae7096b5d084972b887774567933114": {
      "model_module": "@jupyter-widgets/controls",
      "model_module_version": "1.5.0",
      "model_name": "HBoxModel",
      "state": {
       "children": [
        "IPY_MODEL_d03beae4f3ce42dc9090b69348b0490d",
        "IPY_MODEL_57f406ef595b4669a0ef8c774f7f12e3",
        "IPY_MODEL_cc23485fc59e46a3b8865068297282eb"
       ],
       "layout": "IPY_MODEL_8fcbf8b658ee406cb8a641b5e95e8f92"
      }
     },
     "4df774d29baf4b4ca6634f2718f23f34": {
      "model_module": "@jupyter-widgets/controls",
      "model_module_version": "1.5.0",
      "model_name": "HTMLModel",
      "state": {
       "layout": "IPY_MODEL_5f6cb2d23055421db13d705d960c712a",
       "style": "IPY_MODEL_4550b5cb780749c795bca0e264d48391",
       "value": "<h5>Message</h5>"
      }
     },
     "5693a5e83736498ca25ae53152cbbc91": {
      "model_module": "@jupyter-widgets/controls",
      "model_module_version": "1.5.0",
      "model_name": "GridBoxModel",
      "state": {
       "children": [
        "IPY_MODEL_a66a57190eeb423b8925493251af2bd7"
       ],
       "layout": "IPY_MODEL_fab4a2f3ea67469b9aaa08c3261a7628"
      }
     },
     "57f406ef595b4669a0ef8c774f7f12e3": {
      "model_module": "@jupyter-widgets/controls",
      "model_module_version": "1.5.0",
      "model_name": "FloatProgressModel",
      "state": {
       "bar_style": "danger",
       "layout": "IPY_MODEL_8d85f7b7c2c04b2195e7b68a9d450041",
       "max": 1024,
       "style": "IPY_MODEL_6b60a46dd6ff431aa488c937745fc045",
       "value": 51
      }
     },
     "5b206665ce5d4d90871de27b3cb255d0": {
      "model_module": "@jupyter-widgets/controls",
      "model_module_version": "1.5.0",
      "model_name": "DescriptionStyleModel",
      "state": {
       "description_width": ""
      }
     },
     "5f6cb2d23055421db13d705d960c712a": {
      "model_module": "@jupyter-widgets/base",
      "model_module_version": "1.2.0",
      "model_name": "LayoutModel",
      "state": {}
     },
     "6575dce63ebc4e808f15fac2ae29ccad": {
      "model_module": "@jupyter-widgets/controls",
      "model_module_version": "1.5.0",
      "model_name": "FloatProgressModel",
      "state": {
       "bar_style": "danger",
       "layout": "IPY_MODEL_1aa4729b97f848dfbb796e963da856a5",
       "max": 1024,
       "style": "IPY_MODEL_67c838337803469bbe47e5f855b48149",
       "value": 106
      }
     },
     "663934e24b234e568ce84f28c3113cbf": {
      "model_module": "@jupyter-widgets/controls",
      "model_module_version": "1.5.0",
      "model_name": "HTMLModel",
      "state": {
       "layout": "IPY_MODEL_09b10f6550d144d2afe917b6be9958db",
       "style": "IPY_MODEL_6e152181827149268c8e8fa406929c95",
       "value": "exact SPSA opt:  10%"
      }
     },
     "67c838337803469bbe47e5f855b48149": {
      "model_module": "@jupyter-widgets/controls",
      "model_module_version": "1.5.0",
      "model_name": "ProgressStyleModel",
      "state": {
       "description_width": ""
      }
     },
     "67edcd48fb2c4b3d8bfcee7a29160c65": {
      "model_module": "@jupyter-widgets/base",
      "model_module_version": "1.2.0",
      "model_name": "LayoutModel",
      "state": {}
     },
     "6aa356f7a82c4f99974ec4d924e2e9e2": {
      "model_module": "@jupyter-widgets/base",
      "model_module_version": "1.2.0",
      "model_name": "LayoutModel",
      "state": {
       "grid_area": "right",
       "padding": "0px 0px 0px 0px",
       "width": "70px"
      }
     },
     "6b60a46dd6ff431aa488c937745fc045": {
      "model_module": "@jupyter-widgets/controls",
      "model_module_version": "1.5.0",
      "model_name": "ProgressStyleModel",
      "state": {
       "description_width": ""
      }
     },
     "6e152181827149268c8e8fa406929c95": {
      "model_module": "@jupyter-widgets/controls",
      "model_module_version": "1.5.0",
      "model_name": "DescriptionStyleModel",
      "state": {
       "description_width": ""
      }
     },
     "6ed12d4be7494c53ac00c10283776ad9": {
      "model_module": "@jupyter-widgets/controls",
      "model_module_version": "1.5.0",
      "model_name": "HTMLModel",
      "state": {
       "layout": "IPY_MODEL_012b0ca0964e499fb6ce2e83d8b9057e",
       "style": "IPY_MODEL_f576cb22250b4e69a036ad7ba9fce8e8",
       "value": "<h5>Queue</h5>"
      }
     },
     "714b60e4898e4090b80a77db24c31820": {
      "model_module": "@jupyter-widgets/controls",
      "model_module_version": "1.5.0",
      "model_name": "DescriptionStyleModel",
      "state": {
       "description_width": ""
      }
     },
     "75341e45fd80416da3890f62248d071a": {
      "model_module": "@jupyter-widgets/base",
      "model_module_version": "1.2.0",
      "model_name": "LayoutModel",
      "state": {}
     },
     "8bb1276a1dc64d1f987f69442f8f00dc": {
      "model_module": "@jupyter-widgets/controls",
      "model_module_version": "1.5.0",
      "model_name": "DescriptionStyleModel",
      "state": {
       "description_width": ""
      }
     },
     "8d85f7b7c2c04b2195e7b68a9d450041": {
      "model_module": "@jupyter-widgets/base",
      "model_module_version": "1.2.0",
      "model_name": "LayoutModel",
      "state": {}
     },
     "8f4297bc919f440cb77176a909223803": {
      "model_module": "@jupyter-widgets/controls",
      "model_module_version": "1.5.0",
      "model_name": "DescriptionStyleModel",
      "state": {
       "description_width": ""
      }
     },
     "8fcbf8b658ee406cb8a641b5e95e8f92": {
      "model_module": "@jupyter-widgets/base",
      "model_module_version": "1.2.0",
      "model_name": "LayoutModel",
      "state": {}
     },
     "9e676074cf7f466287614e78e0e56587": {
      "model_module": "@jupyter-widgets/base",
      "model_module_version": "1.2.0",
      "model_name": "LayoutModel",
      "state": {
       "width": "95px"
      }
     },
     "a3909f8275e84531a9b06be3b0e40792": {
      "model_module": "@jupyter-widgets/controls",
      "model_module_version": "1.5.0",
      "model_name": "HBoxModel",
      "state": {
       "children": [
        "IPY_MODEL_3ceb80d213b24c668871f7ada509b81c",
        "IPY_MODEL_e78e42fb562a499b825a531a55220cdd",
        "IPY_MODEL_ac44be98e479402fa8c6a548096272e0",
        "IPY_MODEL_6ed12d4be7494c53ac00c10283776ad9",
        "IPY_MODEL_4df774d29baf4b4ca6634f2718f23f34"
       ],
       "layout": "IPY_MODEL_e40feb53cf9248f28ecf42e03ec34d5f"
      }
     },
     "a66a57190eeb423b8925493251af2bd7": {
      "model_module": "@jupyter-widgets/controls",
      "model_module_version": "1.5.0",
      "model_name": "ButtonModel",
      "state": {
       "button_style": "primary",
       "description": "Clear",
       "layout": "IPY_MODEL_6aa356f7a82c4f99974ec4d924e2e9e2",
       "style": "IPY_MODEL_16e91007c1d54d50a7242b80954fc71f"
      }
     },
     "ac44be98e479402fa8c6a548096272e0": {
      "model_module": "@jupyter-widgets/controls",
      "model_module_version": "1.5.0",
      "model_name": "HTMLModel",
      "state": {
       "layout": "IPY_MODEL_9e676074cf7f466287614e78e0e56587",
       "style": "IPY_MODEL_5b206665ce5d4d90871de27b3cb255d0",
       "value": "<h5>Status</h5>"
      }
     },
     "ad950e3c278848ceb6fbbfad56c9f3e4": {
      "model_module": "@jupyter-widgets/base",
      "model_module_version": "1.2.0",
      "model_name": "LayoutModel",
      "state": {}
     },
     "af7d7b2a49fa4925be124061b7f3aef7": {
      "model_module": "@jupyter-widgets/base",
      "model_module_version": "1.2.0",
      "model_name": "LayoutModel",
      "state": {
       "margin": "0px 0px 10px 0px"
      }
     },
     "b01d8a8805ca41deba52291ced55a391": {
      "model_module": "@jupyter-widgets/controls",
      "model_module_version": "1.5.0",
      "model_name": "HTMLModel",
      "state": {
       "layout": "IPY_MODEL_af7d7b2a49fa4925be124061b7f3aef7",
       "style": "IPY_MODEL_714b60e4898e4090b80a77db24c31820",
       "value": "<p style='font-family: IBM Plex Sans, Arial, Helvetica, sans-serif; font-size: 20px; font-weight: medium;'>Circuit Properties</p>"
      }
     },
     "baa8fc70046b4180b9733ce571cb5844": {
      "model_module": "@jupyter-widgets/controls",
      "model_module_version": "1.5.0",
      "model_name": "FloatProgressModel",
      "state": {
       "bar_style": "success",
       "layout": "IPY_MODEL_75341e45fd80416da3890f62248d071a",
       "style": "IPY_MODEL_e0a023bfa9c3474f80f6f2f58ea96ed2",
       "value": 100
      }
     },
     "bda359c70a2f46979f8b310a9a8ca90c": {
      "model_module": "@jupyter-widgets/controls",
      "model_module_version": "1.5.0",
      "model_name": "DescriptionStyleModel",
      "state": {
       "description_width": ""
      }
     },
     "c3065b8d6347484dae618ebbb17f7645": {
      "model_module": "@jupyter-widgets/controls",
      "model_module_version": "1.5.0",
      "model_name": "DescriptionStyleModel",
      "state": {
       "description_width": ""
      }
     },
     "cc23485fc59e46a3b8865068297282eb": {
      "model_module": "@jupyter-widgets/controls",
      "model_module_version": "1.5.0",
      "model_name": "HTMLModel",
      "state": {
       "layout": "IPY_MODEL_1c5bd4b7cadb46f89ec036e914439e60",
       "style": "IPY_MODEL_8f4297bc919f440cb77176a909223803",
       "value": " 51/1024 [00:44&lt;13:41,  1.19it/s]"
      }
     },
     "cf061850f26e41bfb59762053927e294": {
      "model_module": "@jupyter-widgets/controls",
      "model_module_version": "1.5.0",
      "model_name": "DescriptionStyleModel",
      "state": {
       "description_width": ""
      }
     },
     "d03beae4f3ce42dc9090b69348b0490d": {
      "model_module": "@jupyter-widgets/controls",
      "model_module_version": "1.5.0",
      "model_name": "HTMLModel",
      "state": {
       "layout": "IPY_MODEL_eb6d0dcafd9d41629b1ae27e09146563",
       "style": "IPY_MODEL_bda359c70a2f46979f8b310a9a8ca90c",
       "value": "sim SPSA opt:   5%"
      }
     },
     "d72d745971154bb9a7877451b82ca871": {
      "model_module": "@jupyter-widgets/controls",
      "model_module_version": "1.5.0",
      "model_name": "HBoxModel",
      "state": {
       "children": [
        "IPY_MODEL_dd3c0376f6b342e293f2ff423181ca79",
        "IPY_MODEL_baa8fc70046b4180b9733ce571cb5844",
        "IPY_MODEL_d7307e1bd85448c7bbbdb195bd49b891"
       ],
       "layout": "IPY_MODEL_67edcd48fb2c4b3d8bfcee7a29160c65"
      }
     },
     "d7307e1bd85448c7bbbdb195bd49b891": {
      "model_module": "@jupyter-widgets/controls",
      "model_module_version": "1.5.0",
      "model_name": "HTMLModel",
      "state": {
       "layout": "IPY_MODEL_ebcda20413334959a0f6ad8ee6fc5f76",
       "style": "IPY_MODEL_cf061850f26e41bfb59762053927e294",
       "value": " 100/100 [00:28&lt;00:00,  3.31it/s]"
      }
     },
     "dd3c0376f6b342e293f2ff423181ca79": {
      "model_module": "@jupyter-widgets/controls",
      "model_module_version": "1.5.0",
      "model_name": "HTMLModel",
      "state": {
       "layout": "IPY_MODEL_3155cabaeb04486ca34513db31236458",
       "style": "IPY_MODEL_32c59138ffec4ebf80bbc3caa6f5ed8f",
       "value": "100%"
      }
     },
     "e0a023bfa9c3474f80f6f2f58ea96ed2": {
      "model_module": "@jupyter-widgets/controls",
      "model_module_version": "1.5.0",
      "model_name": "ProgressStyleModel",
      "state": {
       "description_width": ""
      }
     },
     "e40feb53cf9248f28ecf42e03ec34d5f": {
      "model_module": "@jupyter-widgets/base",
      "model_module_version": "1.2.0",
      "model_name": "LayoutModel",
      "state": {
       "margin": "0px 0px 0px 37px",
       "width": "600px"
      }
     },
     "e78e42fb562a499b825a531a55220cdd": {
      "model_module": "@jupyter-widgets/controls",
      "model_module_version": "1.5.0",
      "model_name": "HTMLModel",
      "state": {
       "layout": "IPY_MODEL_3b8be089009c45c89aca752a43f9eda3",
       "style": "IPY_MODEL_c3065b8d6347484dae618ebbb17f7645",
       "value": "<h5>Backend</h5>"
      }
     },
     "eb6d0dcafd9d41629b1ae27e09146563": {
      "model_module": "@jupyter-widgets/base",
      "model_module_version": "1.2.0",
      "model_name": "LayoutModel",
      "state": {}
     },
     "eb8e6172c25a431c8155833a1e36181e": {
      "model_module": "@jupyter-widgets/controls",
      "model_module_version": "1.5.0",
      "model_name": "DescriptionStyleModel",
      "state": {
       "description_width": ""
      }
     },
     "ebcda20413334959a0f6ad8ee6fc5f76": {
      "model_module": "@jupyter-widgets/base",
      "model_module_version": "1.2.0",
      "model_name": "LayoutModel",
      "state": {}
     },
     "f0b0a95644854864ab24cd8855c828ca": {
      "model_module": "@jupyter-widgets/base",
      "model_module_version": "1.2.0",
      "model_name": "LayoutModel",
      "state": {
       "width": "190px"
      }
     },
     "f576cb22250b4e69a036ad7ba9fce8e8": {
      "model_module": "@jupyter-widgets/controls",
      "model_module_version": "1.5.0",
      "model_name": "DescriptionStyleModel",
      "state": {
       "description_width": ""
      }
     },
     "fab4a2f3ea67469b9aaa08c3261a7628": {
      "model_module": "@jupyter-widgets/base",
      "model_module_version": "1.2.0",
      "model_name": "LayoutModel",
      "state": {
       "grid_template_areas": "\n                                       \". . . . right \"\n                                        ",
       "grid_template_columns": "20% 20% 20% 20% 20%",
       "width": "100%"
      }
     }
    },
    "version_major": 2,
    "version_minor": 0
   }
  }
 },
 "nbformat": 4,
 "nbformat_minor": 4
}