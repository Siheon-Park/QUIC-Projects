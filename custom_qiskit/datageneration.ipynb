{
 "metadata": {
  "language_info": {
   "codemirror_mode": {
    "name": "ipython",
    "version": 3
   },
   "file_extension": ".py",
   "mimetype": "text/x-python",
   "name": "python",
   "nbconvert_exporter": "python",
   "pygments_lexer": "ipython3",
   "version": "3.8.3-final"
  },
  "orig_nbformat": 2,
  "kernelspec": {
   "name": "python_defaultSpec_1599994089762",
   "display_name": "Python 3.8.3 64-bit ('base': conda)"
  }
 },
 "nbformat": 4,
 "nbformat_minor": 2,
 "cells": [
  {
   "cell_type": "code",
   "execution_count": 76,
   "metadata": {},
   "outputs": [],
   "source": [
    "import numpy as np\n",
    "from typing import List\n",
    "\n",
    "\n",
    "\n",
    "class DataSet:\n",
    "    def __init__(self):\n",
    "\n",
    "\n",
    "\n",
    "class ramdomclassicaldata:\n",
    "    def __init__(self, dim: int, num:int=1, iscomplex:bool=False):\n",
    "        self._dim = dim\n",
    "        self._num = num\n",
    "        if iscomplex:\n",
    "            data= np.array([np.random.rand(dim) + 1j*np.random.rand(dim) for i in range(num)])\n",
    "        else:\n",
    "            data= np.array([np.random.rand(dim) for i in range(num)])\n",
    "        if num==1:\n",
    "            data = data[0]\n",
    "        self._data = data\n",
    "    @property\n",
    "    def data(self):\n",
    "        return self._data\n",
    "    @property\n",
    "    def dim(self):\n",
    "        return self._dim\n",
    "    @data.setter\n",
    "    def data(self, data):\n",
    "        self._data=data\n",
    "    @dim.setter\n",
    "    def dim(self, dim):\n",
    "        self._dim = dim\n",
    "\n",
    "    def __repr__(self):\n",
    "        return self.data.__repr__()\n",
    "    def __str__(self):\n",
    "        return self.data.__str__()\n",
    "    \n",
    "    \n",
    "    "
   ]
  },
  {
   "cell_type": "code",
   "execution_count": 78,
   "metadata": {
    "tags": []
   },
   "outputs": [
    {
     "output_type": "execute_result",
     "data": {
      "text/plain": "array([[0.9821908 , 0.73719112],\n       [0.78204769, 0.86878245]])"
     },
     "metadata": {},
     "execution_count": 78
    }
   ],
   "source": [
    "a = ramdomclassicaldata(2, 2)\n",
    "a.data"
   ]
  },
  {
   "cell_type": "code",
   "execution_count": null,
   "metadata": {},
   "outputs": [],
   "source": []
  }
 ]
}