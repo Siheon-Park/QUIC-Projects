{
 "metadata": {
  "language_info": {
   "codemirror_mode": {
    "name": "ipython",
    "version": 3
   },
   "file_extension": ".py",
   "mimetype": "text/x-python",
   "name": "python",
   "nbconvert_exporter": "python",
   "pygments_lexer": "ipython3",
   "version": "3.8.5-final"
  },
  "orig_nbformat": 2,
  "kernelspec": {
   "name": "python3",
   "display_name": "Python 3",
   "language": "python"
  }
 },
 "nbformat": 4,
 "nbformat_minor": 2,
 "cells": [
  {
   "cell_type": "code",
   "execution_count": 1,
   "metadata": {},
   "outputs": [],
   "source": [
    "import sys\n",
    "quic_path = '/home/quic/QUIC-Projects'\n",
    "if not quic_path in sys.path:\n",
    "    sys.path.append(quic_path)"
   ]
  },
  {
   "source": [
    "## Is reduction of b critical?\n",
    "lifted from https://www.elen.ucl.ac.be/Proceedings/esann/esannpdf/es2004-11.pdf<br>\n",
    "said in classifying the MNIST data with Gaussian kernels, the value k = 10 proved to be a very good one justifying all the reasons for its introduction (fast learning, small number of support vectors and good generalization).\n",
    "\n",
    "$$\n",
    "\\frac{1}{2}||w||^2 \\quad V.S. \\quad \\frac{1}{2}||w||^2+\\frac{k}{2}b^2\n",
    "$$"
   ],
   "cell_type": "markdown",
   "metadata": {}
  },
  {
   "cell_type": "code",
   "execution_count": null,
   "metadata": {},
   "outputs": [],
   "source": []
  }
 ]
}