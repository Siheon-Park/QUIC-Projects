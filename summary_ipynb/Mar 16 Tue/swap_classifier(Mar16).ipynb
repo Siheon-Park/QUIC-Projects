{
 "cells": [
  {
   "cell_type": "code",
   "execution_count": 1,
   "metadata": {},
   "outputs": [],
   "source": [
    "import sys\n",
    "quic_path = '/home/quic/QUIC-Projects'\n",
    "if not quic_path in sys.path:\n",
    "    sys.path.append(quic_path)"
   ]
  },
  {
   "cell_type": "code",
   "execution_count": 2,
   "metadata": {},
   "outputs": [],
   "source": [
    "import numpy as np \n",
    "from matplotlib import pyplot as plt"
   ]
  },
  {
   "cell_type": "code",
   "execution_count": 3,
   "metadata": {},
   "outputs": [
    {
     "ename": "ImportError",
     "evalue": "cannot import name 'SimpleStorage' from 'classifiers.optimizer' (/home/quic/QUIC-Projects/classifiers/optimizer.py)",
     "output_type": "error",
     "traceback": [
      "\u001b[0;31m---------------------------------------------------------------------------\u001b[0m",
      "\u001b[0;31mImportError\u001b[0m                               Traceback (most recent call last)",
      "\u001b[0;32m<ipython-input-3-b8bd412334e9>\u001b[0m in \u001b[0;36m<module>\u001b[0;34m\u001b[0m\n\u001b[1;32m      2\u001b[0m \u001b[0;32mfrom\u001b[0m \u001b[0mclassifiers\u001b[0m\u001b[0;34m.\u001b[0m\u001b[0mquantum\u001b[0m \u001b[0;32mimport\u001b[0m \u001b[0mQasvm_Mapping_4x2\u001b[0m\u001b[0;34m\u001b[0m\u001b[0;34m\u001b[0m\u001b[0m\n\u001b[1;32m      3\u001b[0m \u001b[0;32mfrom\u001b[0m \u001b[0mclassifiers\u001b[0m\u001b[0;34m.\u001b[0m\u001b[0moptimizer\u001b[0m \u001b[0;32mimport\u001b[0m \u001b[0mMySPSA\u001b[0m\u001b[0;34m\u001b[0m\u001b[0;34m\u001b[0m\u001b[0m\n\u001b[0;32m----> 4\u001b[0;31m \u001b[0;32mfrom\u001b[0m \u001b[0mclassifiers\u001b[0m\u001b[0;34m.\u001b[0m\u001b[0moptimizer\u001b[0m \u001b[0;32mimport\u001b[0m \u001b[0mSimpleStorage\u001b[0m\u001b[0;34m\u001b[0m\u001b[0;34m\u001b[0m\u001b[0m\n\u001b[0m\u001b[1;32m      5\u001b[0m \u001b[0;32mfrom\u001b[0m \u001b[0mqiskit\u001b[0m\u001b[0;34m.\u001b[0m\u001b[0mcircuit\u001b[0m\u001b[0;34m.\u001b[0m\u001b[0mlibrary\u001b[0m \u001b[0;32mimport\u001b[0m \u001b[0mRealAmplitudes\u001b[0m\u001b[0;34m\u001b[0m\u001b[0;34m\u001b[0m\u001b[0m\n\u001b[1;32m      6\u001b[0m \u001b[0;32mfrom\u001b[0m \u001b[0mqiskit\u001b[0m\u001b[0;34m.\u001b[0m\u001b[0maqua\u001b[0m \u001b[0;32mimport\u001b[0m \u001b[0mQuantumInstance\u001b[0m\u001b[0;34m\u001b[0m\u001b[0;34m\u001b[0m\u001b[0m\n",
      "\u001b[0;31mImportError\u001b[0m: cannot import name 'SimpleStorage' from 'classifiers.optimizer' (/home/quic/QUIC-Projects/classifiers/optimizer.py)"
     ]
    }
   ],
   "source": [
    "from classifiers.quantum.qasvm import QASVM\n",
    "from classifiers.quantum import Qasvm_Mapping_4x2\n",
    "from classifiers.optimizer import MySPSA\n",
    "from classifiers.optimizer import SimpleStorage\n",
    "from qiskit.circuit.library import RealAmplitudes\n",
    "from qiskit.aqua import QuantumInstance\n",
    "from qiskit.providers.aer import QasmSimulator\n",
    "from qiskit.ignis.mitigation import CompleteMeasFitter\n",
    "from qiskit import IBMQ\n"
   ]
  },
  {
   "cell_type": "code",
   "execution_count": null,
   "metadata": {},
   "outputs": [],
   "source": [
    "import torch\n",
    "from torch.autograd import Function\n",
    "from torch import optim\n",
    "from torch import nn\n",
    "from torch.nn import functional as F"
   ]
  },
  {
   "cell_type": "code",
   "execution_count": null,
   "metadata": {},
   "outputs": [],
   "source": [
    "IBMQ.load_account()\n",
    "provider = IBMQ.get_provider(hub='ibm-q-kaist', group='internal', project='default')\n",
    "backend = provider.get_backend('ibmq_toronto')\n",
    "backend"
   ]
  },
  {
   "cell_type": "code",
   "execution_count": null,
   "metadata": {},
   "outputs": [],
   "source": [
    "X =np.array([[ 0.72294659, -1.00386432],\n",
    "            [-0.60553577,  2.29966755],\n",
    "            [-2.50699176, -1.03101898],\n",
    "            [ 2.63961761,  2.21632328]])\n",
    "y = np.array([0,0,1,1])\n",
    "var_form = RealAmplitudes(2, reps=1)\n",
    "storage = SimpleStorage()\n",
    "optimizer = MySPSA(maxiter=2**10, last_avg=2**7, callback=storage)\n",
    "quantum_instance = QuantumInstance(backend=QasmSimulator.from_backend(backend), shots=2**13, seed_transpiler=0, measurement_error_mitigation_cls=CompleteMeasFitter, initial_layout=Qasvm_Mapping_4x2(backend).layout, optimization_level=2)\n",
    "quantum_instance.backend_config['basis_gates'] = backend.configuration().basis_gates\n",
    "qasvm = QASVM(X, y, var_form=var_form, optimizer=optimizer, quantum_instance=quantum_instance, C=1, k=0.1, option='Bloch_sphere').dual\n",
    "qasvm"
   ]
  },
  {
   "cell_type": "code",
   "execution_count": null,
   "metadata": {},
   "outputs": [],
   "source": [
    "class TensorQASVM(Function):\n",
    "\n",
    "    @staticmethod\n",
    "    def forward(ctx, input, qasvm):\n",
    "        ctx.qasvm = qasvm\n",
    "        evaluation = torch.tensor([ctx.qasvm.cost_fn(input.tolist())])\n",
    "        ctx.save_for_backward(input)\n",
    "        return evaluation\n",
    "\n",
    "    @staticmethod\n",
    "    def backward(ctx, grad_output):\n",
    "        input, = ctx.saved_tensors\n",
    "\n",
    "        if ctx.qasvm.grad_fn is not None:\n",
    "            gradients = ctx.qasvm.grad_fn(input.tolist())\n",
    "        else:\n",
    "            input_list = np.array(input.tolist())\n",
    "            input_list_rights = input_list + 1e-3*np.eye(len(input_list))\n",
    "            input_list_lefts = input_list + 1e-3*np.eye(len(input_list))\n",
    "\n",
    "            gradients = (np.array(list(map(ctx.qasvm.cost_fn, input_list_rights))) - np.array(list(map(ctx.qasvm.cost_fn, input_list_lefts))))/(2*1e-3)\n",
    "\n",
    "        return grad_output * gradients, None"
   ]
  },
  {
   "cell_type": "code",
   "execution_count": null,
   "metadata": {},
   "outputs": [],
   "source": [
    "class QASVM_layer(nn.Module):\n",
    "    def __init__(self, qasvm):\n",
    "        super().__init__()\n",
    "        self.qasvm = qasvm\n",
    "        self.thetas = nn.Parameter(torch.randn(qasvm.num_parameters))\n",
    "    def forward(self):\n",
    "        return TensorQASVM.apply(self.thetas, self.qasvm)\n"
   ]
  },
  {
   "cell_type": "code",
   "execution_count": null,
   "metadata": {},
   "outputs": [],
   "source": [
    "from torch.utils.tensorboard import SummaryWriter\n",
    "writer = SummaryWriter(comment = 'SGD qasvm')\n",
    "model = QASVM_layer(qasvm)\n"
   ]
  },
  {
   "cell_type": "code",
   "execution_count": null,
   "metadata": {},
   "outputs": [],
   "source": [
    "from tqdm.notebook import tqdm\n",
    "optimizer = optim.SGD(model.parameters(), lr=0.01, )\n",
    "\n",
    "epochs = 2**10\n",
    "\n",
    "model.train()\n",
    "obj_vals = []\n",
    "params = []\n",
    "param_names = [f'param_{i}' for i in range(qasvm.num_parameters)]\n",
    "for epoch in tqdm(range(epochs)):\n",
    "    optimizer.zero_grad()\n",
    "    output = model()\n",
    "    output.backward()\n",
    "    optimizer.step()\n",
    "    with torch.no_grad():\n",
    "        obj_vals.append(output.item()) \n",
    "        writer.add_scalar('Train/objectiv_value', output, epoch)\n",
    "        thetas = model.thetas.data\n",
    "        params.append(thetas)\n",
    "        writer.add_scalars('Parameters', dict(zip(param_names, thetas)), epoch)\n",
    "\n",
    "writer.close()"
   ]
  },
  {
   "cell_type": "code",
   "execution_count": null,
   "metadata": {},
   "outputs": [],
   "source": [
    "param_list = model.thetas.data.numpy()"
   ]
  },
  {
   "cell_type": "code",
   "execution_count": null,
   "metadata": {},
   "outputs": [],
   "source": [
    "from qiskit.aqua.algorithms import VQResult\n",
    "result = VQResult()\n",
    "result.optimizer_evals = 1000\n",
    "result.optimizer_time = 47*60+57\n",
    "result.optimal_value = qasvm.cost_fn(param_list)\n",
    "result.optimal_point = param_list\n",
    "result.optimal_parameters = dict(zip(qasvm.var_form_params['0'], param_list))\n",
    "qasvm.result = result"
   ]
  },
  {
   "cell_type": "code",
   "execution_count": null,
   "metadata": {},
   "outputs": [],
   "source": [
    "'''\n",
    "params = np.array(list(storage.params.values()))\n",
    "steps = np.array(list(storage.params.keys()))\n",
    "[plt.plot(steps, params[:,i], label=f'parameter {i}') for i in range(len(qasvm.var_form_params['0']))]\n",
    "plt.legend(bbox_to_anchor=(1.05, 1), loc='upper left')\n",
    "plt.xlim([min(steps), max(steps)])\n",
    "plt.yticks([-np.pi, -np.pi/2, 0, np.pi/2, np.pi], ['-$\\pi$', '-$\\pi/2$', '$0$', '$\\pi/2$', '$\\pi$'])\n",
    "plt.xlabel('steps')\n",
    "plt.ylabel('param value')\n",
    "plt.grid()'''"
   ]
  },
  {
   "cell_type": "code",
   "execution_count": null,
   "metadata": {},
   "outputs": [],
   "source": [
    "from classifiers.convex.svm import BinarySVM\n",
    "from classifiers.kernel import Kernel\n",
    "kernel = Kernel('SingleQubit')\n",
    "svm = BinarySVM(kernel, C=None, k=0.1, mutation='uniform_QASVM')\n",
    "svm.fit(X, y)\n",
    "svm.accuracy(X, y)"
   ]
  },
  {
   "cell_type": "code",
   "execution_count": null,
   "metadata": {},
   "outputs": [],
   "source": [
    "plt.plot(svm.f(svm.data), label='sim')\n",
    "res = np.array([qasvm.f(qasvm.data) for _ in range(10)])\n",
    "plt.errorbar(range(len(res.mean(axis=0))), res.mean(axis=0), yerr=2*res.std(axis=0), label='qasvm')\n",
    "plt.xticks(range(4), [f'Data {i}' for i in range(4)])\n",
    "plt.ylabel('f')\n",
    "plt.legend()\n",
    "plt.grid()"
   ]
  },
  {
   "cell_type": "code",
   "execution_count": null,
   "metadata": {},
   "outputs": [],
   "source": []
  }
 ],
 "metadata": {
  "kernelspec": {
   "display_name": "Python 3",
   "language": "python",
   "name": "python3"
  },
  "language_info": {
   "codemirror_mode": {
    "name": "ipython",
    "version": 3
   },
   "file_extension": ".py",
   "mimetype": "text/x-python",
   "name": "python",
   "nbconvert_exporter": "python",
   "pygments_lexer": "ipython3",
   "version": "3.8.5"
  }
 },
 "nbformat": 4,
 "nbformat_minor": 2
}
