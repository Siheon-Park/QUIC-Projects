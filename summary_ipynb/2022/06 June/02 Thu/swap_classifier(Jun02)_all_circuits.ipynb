{
 "cells": [
  {
   "cell_type": "code",
   "execution_count": 1,
   "metadata": {},
   "outputs": [],
   "source": [
    "import sys\n",
    "quic_path = '/home/quic/QUIC-Projects'\n",
    "if not quic_path in sys.path:\n",
    "    sys.path.append(quic_path)"
   ]
  },
  {
   "cell_type": "code",
   "execution_count": 2,
   "metadata": {},
   "outputs": [],
   "source": [
    "import numpy as np \n",
    "from matplotlib import pyplot as plt\n",
    "import dill\n",
    "import json"
   ]
  },
  {
   "cell_type": "code",
   "execution_count": 3,
   "metadata": {},
   "outputs": [],
   "source": [
    "# for SVM\n",
    "from classifiers.convex.svm import BinarySVM\n",
    "from classifiers.kernel import Kernel\n",
    "from classifiers.datasets import IrisDataset, SklearnDataset\n",
    "# for QASVM\n",
    "from classifiers.quantum.qasvm import SoftQASVM, PseudoSoftQASVM\n",
    "from classifiers.convex.svm import CvxSoftQASVM\n",
    "from classifiers.quantum.ansatz import Circuit9, sample_circuit, MultilayerCircuit9FeatureMap\n",
    "from classifiers.callback import CostParamStorage\n",
    "from qiskit.utils import QuantumInstance\n",
    "from qiskit.providers.aer import AerSimulator, StatevectorSimulator, Aer, QasmSimulator\n",
    "# for optimization\n",
    "from qiskit.algorithms.optimizers import SPSA, ADAM\n",
    "from tqdm.notebook import tqdm"
   ]
  },
  {
   "cell_type": "code",
   "execution_count": 4,
   "metadata": {},
   "outputs": [
    {
     "data": {
      "text/plain": [
       "(86679, 64, 86)"
      ]
     },
     "execution_count": 4,
     "metadata": {},
     "output_type": "execute_result"
    }
   ],
   "source": [
    "dataset = SklearnDataset('iris', feature_range=(-np.pi, np.pi), true_hot=None)\n",
    "with open('./circuits_benchmarking/setting.json', 'r') as fp:\n",
    "    random_seed = json.load(fp)['Repetition setting']['SEED']\n",
    "with open('./circuits_benchmarking/setting.json', 'r') as fp:\n",
    "    training_size = json.load(fp)['Data set selection']['TRAINING_SIZE']\n",
    "with open('./circuits_benchmarking/setting.json', 'r') as fp:\n",
    "    test_size = json.load(fp)['Data set selection']['TEST_SIZE']\n",
    "random_seed, training_size, test_size"
   ]
  },
  {
   "cell_type": "code",
   "execution_count": 5,
   "metadata": {},
   "outputs": [],
   "source": [
    "# dataset = IrisDataset(feature_range=(-np.pi, np.pi))\n",
    "data, lable, label_names, features = dataset.data, dataset.target, dataset.target_names, dataset.feature_names\n",
    "\n",
    "classes = list(label_names)\n",
    "training_set, test_set = SklearnDataset('iris', feature_range=(-np.pi, np.pi)).sample_training_and_test_dataset((training_size, test_size), random_state = 12983047)\n",
    "training_data = training_set[features].to_numpy()\n",
    "training_label = training_set['target'].to_numpy()\n",
    "test_data = test_set[features].to_numpy()\n",
    "test_label = test_set['target'].to_numpy()\n",
    "training_labels = {__l:  np.where(training_label==__i, 1, 0) for __i, __l in enumerate(classes)}\n",
    "test_labels = {__l:  np.where(test_label==__i, 1, 0) for __i, __l in enumerate(classes)}"
   ]
  },
  {
   "cell_type": "code",
   "execution_count": 6,
   "metadata": {},
   "outputs": [
    {
     "data": {
      "text/plain": [
       "(False, False)"
      ]
     },
     "execution_count": 6,
     "metadata": {},
     "output_type": "execute_result"
    }
   ],
   "source": [
    "np.all(training_data==np.load('./circuits_benchmarking/Dataset #0/training_data.npy')), np.all(test_data==np.load('./circuits_benchmarking/Dataset #0/test_data.npy'))"
   ]
  },
  {
   "cell_type": "code",
   "execution_count": 7,
   "metadata": {},
   "outputs": [
    {
     "data": {
      "text/plain": [
       "Options(shots=8192, device='CPU', precision='double', executor=None, max_job_size=None, max_shot_size=None, zero_threshold=1e-10, validation_threshold=None, max_parallel_threads=None, max_parallel_experiments=None, max_parallel_shots=None, max_memory_mb=None, seed_simulator=None, fusion_enable=True, fusion_verbose=False, fusion_max_qubit=5, fusion_threshold=14, statevector_parallel_threshold=14)"
      ]
     },
     "execution_count": 7,
     "metadata": {},
     "output_type": "execute_result"
    }
   ],
   "source": [
    "backend = StatevectorSimulator(device='CPU', shots=2**13)\n",
    "backend.options"
   ]
  },
  {
   "cell_type": "code",
   "execution_count": 8,
   "metadata": {},
   "outputs": [],
   "source": [
    "var_form = sample_circuit(15)(num_qubits=int(np.log2(training_size)), reps=5)\n",
    "quantum_instance = QuantumInstance(backend=backend, shots=2**13)\n",
    "\n",
    "MAXITER = 2**13"
   ]
  },
  {
   "cell_type": "code",
   "execution_count": 9,
   "metadata": {},
   "outputs": [],
   "source": [
    "label_index = 0\n",
    "\n",
    "from tqdm.notebook import tqdm\n",
    "from itertools import product\n",
    "\n",
    "feature_map = MultilayerCircuit9FeatureMap(4, 2)\n",
    "\n",
    "from sklearn.svm import SVC\n",
    "__qasvm = PseudoSoftQASVM(\n",
    "        training_data, training_labels[classes[label_index]], lamda=1, C=10,\n",
    "        quantum_instance=quantum_instance,\n",
    "        var_form=None,\n",
    "        feature_map=feature_map\n",
    "    )\n",
    "kernel_matrix = __qasvm.kernel_matrix\n",
    "hyperC = 10**np.linspace(-4, 4, 5)\n",
    "lamdas = 10**np.linspace(-10, 10, 5)\n",
    "X, Y = np.meshgrid(hyperC, lamdas)\n",
    "Z = np.empty_like(X)"
   ]
  },
  {
   "cell_type": "code",
   "execution_count": 10,
   "metadata": {},
   "outputs": [
    {
     "data": {
      "application/vnd.jupyter.widget-view+json": {
       "model_id": "395c2480cd3a439fb9f97b6afc885057",
       "version_major": 2,
       "version_minor": 0
      },
      "text/plain": [
       "  0%|          | 0/25 [00:00<?, ?it/s]"
      ]
     },
     "metadata": {},
     "output_type": "display_data"
    }
   ],
   "source": [
    "with tqdm(total = len(X.flatten())) as pbar:\n",
    "    for i, _X in enumerate(X):\n",
    "        for j, _ in enumerate(_X):\n",
    "            svm = SVC(C=X[i, j], kernel='precomputed')\n",
    "            svm.fit(kernel_matrix+1/Y[i, j], training_labels[classes[label_index]])\n",
    "            accuracy = svm.score(__qasvm._qk.evaluate(test_data, training_data)+1/Y[i, j], test_labels[classes[label_index]])\n",
    "            # svm = SVC(C=X[i, j], kernel='rbf')\n",
    "            # svm.fit(training_data, training_labels[classes[label_index]])\n",
    "            # accuracy = svm.score(test_data, test_labels[classes[label_index]])\n",
    "            Z[i, j] = accuracy\n",
    "            pbar.update()"
   ]
  },
  {
   "cell_type": "code",
   "execution_count": 11,
   "metadata": {},
   "outputs": [
    {
     "data": {
      "text/plain": [
       "<matplotlib.colorbar.Colorbar at 0x7f3b7a9bcbe0>"
      ]
     },
     "execution_count": 11,
     "metadata": {},
     "output_type": "execute_result"
    },
    {
     "data": {
      "image/png": "[encoded data removed]",
      "text/plain": [
       "<Figure size 432x288 with 2 Axes>"
      ]
     },
     "metadata": {
      "needs_background": "light"
     },
     "output_type": "display_data"
    }
   ],
   "source": [
    "fig, ax = plt.subplots()\n",
    "cs = ax.imshow(Z, interpolation='gaussian')\n",
    "ax.set_xlabel('C')\n",
    "ax.set_ylabel(r'$\\lambda$')\n",
    "ax.set_xticks(np.arange(len(hyperC)))\n",
    "ax.set_xticklabels(list(map(r'$10^{{{:1.0f}}}$'.format, np.log10(hyperC))))\n",
    "ax.set_yticks(np.arange(len(lamdas)))\n",
    "ax.set_yticklabels(list(map(r'$10^{{{:1.0f}}}$'.format, np.log10(lamdas))))\n",
    "ax.set_title('SVM')\n",
    "cs.set_clim(None, 1)\n",
    "fig.colorbar(cs)"
   ]
  },
  {
   "cell_type": "code",
   "execution_count": 12,
   "metadata": {},
   "outputs": [
    {
     "data": {
      "application/vnd.jupyter.widget-view+json": {
       "model_id": "3275733b54034f509213c02a5e6b9f50",
       "version_major": 2,
       "version_minor": 0
      },
      "text/plain": [
       "  0%|          | 0/25 [00:00<?, ?it/s]"
      ]
     },
     "metadata": {},
     "output_type": "display_data"
    }
   ],
   "source": [
    "Z_ = np.empty_like(Z)\n",
    "with tqdm(total = len(X.flatten())) as pbar:\n",
    "    def callback(*args):\n",
    "        pass\n",
    "    for i, _X in enumerate(X):\n",
    "        for j, _ in enumerate(_X):\n",
    "            qasvm = CvxSoftQASVM(kernel='precomputed', C=X[i, j], lamda=Y[i, j])\n",
    "            qasvm.fit(kernel_matrix, training_labels[classes[label_index]])\n",
    "            accuracy2 = qasvm.score(__qasvm._qk.evaluate(test_data, training_data), test_labels[classes[label_index]])\n",
    "\n",
    "            Z_[i, j] = accuracy2\n",
    "            pbar.update()"
   ]
  },
  {
   "cell_type": "code",
   "execution_count": 19,
   "metadata": {},
   "outputs": [
    {
     "data": {
      "text/plain": [
       "<matplotlib.colorbar.Colorbar at 0x7f3b7a9abfd0>"
      ]
     },
     "execution_count": 19,
     "metadata": {},
     "output_type": "execute_result"
    },
    {
     "data": {
      "image/png": "[encoded data removed]",
      "text/plain": [
       "<Figure size 432x288 with 2 Axes>"
      ]
     },
     "metadata": {
      "needs_background": "light"
     },
     "output_type": "display_data"
    }
   ],
   "source": [
    "fig, ax = plt.subplots()\n",
    "cs = ax.imshow(Z_, interpolation='gaussian')\n",
    "ax.set_xlabel('C')\n",
    "ax.set_ylabel(r'$\\lambda$')\n",
    "ax.set_xticks(np.arange(len(hyperC)))\n",
    "ax.set_xticklabels(list(map(r'$10^{{{:1.0f}}}$'.format, np.log10(hyperC))))\n",
    "ax.set_yticks(np.arange(len(lamdas)))\n",
    "ax.set_yticklabels(list(map(r'$10^{{{:1.0f}}}$'.format, np.log10(lamdas))))\n",
    "ax.set_title('Accuracy')\n",
    "# cs.set_clim(None, 1)\n",
    "fig.colorbar(cs)"
   ]
  },
  {
   "cell_type": "code",
   "execution_count": 18,
   "metadata": {},
   "outputs": [
    {
     "data": {
      "text/plain": [
       "array([[0.68604651, 0.68604651, 0.93023256, 0.93023256, 0.93023256],\n",
       "       [0.68604651, 0.68604651, 0.93023256, 0.93023256, 0.93023256],\n",
       "       [0.68604651, 0.76744186, 0.93023256, 0.93023256, 0.93023256],\n",
       "       [0.88372093, 0.89534884, 0.90697674, 0.91860465, 0.91860465],\n",
       "       [0.88372093, 0.89534884, 0.90697674, 0.91860465, 0.91860465]])"
      ]
     },
     "execution_count": 18,
     "metadata": {},
     "output_type": "execute_result"
    }
   ],
   "source": [
    "Z_"
   ]
  },
  {
   "cell_type": "code",
   "execution_count": 14,
   "metadata": {},
   "outputs": [],
   "source": [
    "a, b = np.argwhere(Z_==max(Z_.flatten()))[-1]\n",
    "_opt_C, _opt_l = hyperC[a], lamdas[b]"
   ]
  },
  {
   "cell_type": "code",
   "execution_count": 14,
   "metadata": {},
   "outputs": [
    {
     "data": {
      "application/vnd.jupyter.widget-view+json": {
       "model_id": "2a1fd8be92e64d5c8c971e0f7c215303",
       "version_major": 2,
       "version_minor": 0
      },
      "text/plain": [
       "  0%|          | 0/10 [00:00<?, ?it/s]"
      ]
     },
     "metadata": {},
     "output_type": "display_data"
    },
    {
     "data": {
      "application/vnd.jupyter.widget-view+json": {
       "model_id": "de7b0ae5ba9d4785855a135628588b01",
       "version_major": 2,
       "version_minor": 0
      },
      "text/plain": [
       "  0%|          | 0/1024 [00:00<?, ?it/s]"
      ]
     },
     "metadata": {},
     "output_type": "display_data"
    },
    {
     "data": {
      "application/vnd.jupyter.widget-view+json": {
       "model_id": "7fa959e9e2484607ba3b085f4dd03294",
       "version_major": 2,
       "version_minor": 0
      },
      "text/plain": [
       "  0%|          | 0/1024 [00:00<?, ?it/s]"
      ]
     },
     "metadata": {},
     "output_type": "display_data"
    },
    {
     "data": {
      "application/vnd.jupyter.widget-view+json": {
       "model_id": "9bfdf1c8b6b44358b1e70c2dea989b23",
       "version_major": 2,
       "version_minor": 0
      },
      "text/plain": [
       "  0%|          | 0/1024 [00:00<?, ?it/s]"
      ]
     },
     "metadata": {},
     "output_type": "display_data"
    },
    {
     "data": {
      "application/vnd.jupyter.widget-view+json": {
       "model_id": "498be8cb7d2e4a83aff6e8ac9aca2017",
       "version_major": 2,
       "version_minor": 0
      },
      "text/plain": [
       "  0%|          | 0/1024 [00:00<?, ?it/s]"
      ]
     },
     "metadata": {},
     "output_type": "display_data"
    },
    {
     "data": {
      "application/vnd.jupyter.widget-view+json": {
       "model_id": "fdff77b7918145d5a9e4745ccaf30cca",
       "version_major": 2,
       "version_minor": 0
      },
      "text/plain": [
       "  0%|          | 0/1024 [00:00<?, ?it/s]"
      ]
     },
     "metadata": {},
     "output_type": "display_data"
    },
    {
     "data": {
      "application/vnd.jupyter.widget-view+json": {
       "model_id": "d2a9f50e08574346adb119258e80b93d",
       "version_major": 2,
       "version_minor": 0
      },
      "text/plain": [
       "  0%|          | 0/1024 [00:00<?, ?it/s]"
      ]
     },
     "metadata": {},
     "output_type": "display_data"
    },
    {
     "data": {
      "application/vnd.jupyter.widget-view+json": {
       "model_id": "ff94d300113d455390b3729ce1941d2b",
       "version_major": 2,
       "version_minor": 0
      },
      "text/plain": [
       "  0%|          | 0/1024 [00:00<?, ?it/s]"
      ]
     },
     "metadata": {},
     "output_type": "display_data"
    },
    {
     "data": {
      "application/vnd.jupyter.widget-view+json": {
       "model_id": "cf21190bee0a4bdeb56501475db62227",
       "version_major": 2,
       "version_minor": 0
      },
      "text/plain": [
       "  0%|          | 0/1024 [00:00<?, ?it/s]"
      ]
     },
     "metadata": {},
     "output_type": "display_data"
    },
    {
     "data": {
      "application/vnd.jupyter.widget-view+json": {
       "model_id": "999b6b3e8481463e98368371f3040368",
       "version_major": 2,
       "version_minor": 0
      },
      "text/plain": [
       "  0%|          | 0/1024 [00:00<?, ?it/s]"
      ]
     },
     "metadata": {},
     "output_type": "display_data"
    },
    {
     "data": {
      "application/vnd.jupyter.widget-view+json": {
       "model_id": "e65cf47539f243efaf368d5ad1671d60",
       "version_major": 2,
       "version_minor": 0
      },
      "text/plain": [
       "  0%|          | 0/1024 [00:00<?, ?it/s]"
      ]
     },
     "metadata": {},
     "output_type": "display_data"
    }
   ],
   "source": [
    "layers = np.arange(1, 21, 2)\n",
    "var_forms = [sample_circuit(15)(num_qubits=int(np.log2(len(training_data))), reps=_r) for _r in layers]\n",
    "accuracy_list = []\n",
    "num_params_list = []\n",
    "last_cost_list = []\n",
    "qasvm_list = []\n",
    "result_list = []\n",
    "\n",
    "for i, layer in enumerate(tqdm(layers)):\n",
    "    qasvm = PseudoSoftQASVM(\n",
    "        data=training_data, label=training_labels[classes[label_index]],\n",
    "        quantum_instance=quantum_instance,\n",
    "        feature_map=feature_map,\n",
    "        var_form=var_forms[i],\n",
    "        lamda=_opt_l, C=_opt_C\n",
    "    )\n",
    "    with tqdm(total=2**10) as pbar:\n",
    "        pbar.set_description(f'layer: {layer}')\n",
    "        def callback(*args):\n",
    "            pbar.update()\n",
    "        optimzer = SPSA(maxiter=2**10, blocking=True, callback=callback)\n",
    "        result = optimzer.minimize(qasvm.cost_fn, qasvm.initial_point)\n",
    "    qasvm.parameters = result.x\n",
    "    accuracy = qasvm.accuracy(test_data, test_labels[classes[label_index]])\n",
    "    accuracy_list.append(accuracy)\n",
    "    num_params_list.append(qasvm.num_parameters)\n",
    "    last_cost_list.append(result.fun)\n",
    "    qasvm_list.append(qasvm)\n",
    "    result_list.append(result)"
   ]
  },
  {
   "cell_type": "code",
   "execution_count": 15,
   "metadata": {},
   "outputs": [
    {
     "data": {
      "text/plain": [
       "<matplotlib.legend.Legend at 0x7f8781e645e0>"
      ]
     },
     "execution_count": 15,
     "metadata": {},
     "output_type": "execute_result"
    },
    {
     "data": {
      "image/png": "[encoded data removed]",
      "text/plain": [
       "<Figure size 864x432 with 2 Axes>"
      ]
     },
     "metadata": {
      "needs_background": "light"
     },
     "output_type": "display_data"
    }
   ],
   "source": [
    "fig, axes = plt.subplots(1, 2, figsize=(12, 6))\n",
    "axes[0].plot(num_params_list, accuracy_list, label='accuracy')\n",
    "axes[1].plot(num_params_list, last_cost_list, label='training cost')\n",
    "axes[0].legend()\n",
    "axes[1].legend()"
   ]
  },
  {
   "cell_type": "code",
   "execution_count": 16,
   "metadata": {},
   "outputs": [
    {
     "data": {
      "application/vnd.jupyter.widget-view+json": {
       "model_id": "0767d692c6af4fe7868f4f97e93360e4",
       "version_major": 2,
       "version_minor": 0
      },
      "text/plain": [
       "  0%|          | 0/10 [00:00<?, ?it/s]"
      ]
     },
     "metadata": {},
     "output_type": "display_data"
    },
    {
     "data": {
      "application/vnd.jupyter.widget-view+json": {
       "model_id": "b525d7d8c98540788dd917c4d556ef14",
       "version_major": 2,
       "version_minor": 0
      },
      "text/plain": [
       "  0%|          | 0/1024 [00:00<?, ?it/s]"
      ]
     },
     "metadata": {},
     "output_type": "display_data"
    },
    {
     "data": {
      "application/vnd.jupyter.widget-view+json": {
       "model_id": "f91fac889a0e43a48cefe8d6969ae5a5",
       "version_major": 2,
       "version_minor": 0
      },
      "text/plain": [
       "  0%|          | 0/1024 [00:00<?, ?it/s]"
      ]
     },
     "metadata": {},
     "output_type": "display_data"
    },
    {
     "data": {
      "application/vnd.jupyter.widget-view+json": {
       "model_id": "2cdc2c53f64842ff9428a723d7049c18",
       "version_major": 2,
       "version_minor": 0
      },
      "text/plain": [
       "  0%|          | 0/1024 [00:00<?, ?it/s]"
      ]
     },
     "metadata": {},
     "output_type": "display_data"
    },
    {
     "data": {
      "application/vnd.jupyter.widget-view+json": {
       "model_id": "3124e8a042994e92b42fcb2c3264c774",
       "version_major": 2,
       "version_minor": 0
      },
      "text/plain": [
       "  0%|          | 0/1024 [00:00<?, ?it/s]"
      ]
     },
     "metadata": {},
     "output_type": "display_data"
    },
    {
     "data": {
      "application/vnd.jupyter.widget-view+json": {
       "model_id": "d400f2fdc6784adbb20659d65b43f4eb",
       "version_major": 2,
       "version_minor": 0
      },
      "text/plain": [
       "  0%|          | 0/1024 [00:00<?, ?it/s]"
      ]
     },
     "metadata": {},
     "output_type": "display_data"
    },
    {
     "data": {
      "application/vnd.jupyter.widget-view+json": {
       "model_id": "2c859ec024dc450bbc7f4cde4ff3ff11",
       "version_major": 2,
       "version_minor": 0
      },
      "text/plain": [
       "  0%|          | 0/1024 [00:00<?, ?it/s]"
      ]
     },
     "metadata": {},
     "output_type": "display_data"
    },
    {
     "data": {
      "application/vnd.jupyter.widget-view+json": {
       "model_id": "6e9117f8113548948409507b2edf58b5",
       "version_major": 2,
       "version_minor": 0
      },
      "text/plain": [
       "  0%|          | 0/1024 [00:00<?, ?it/s]"
      ]
     },
     "metadata": {},
     "output_type": "display_data"
    },
    {
     "data": {
      "application/vnd.jupyter.widget-view+json": {
       "model_id": "e14691b4d126461abd499aecbe2d023e",
       "version_major": 2,
       "version_minor": 0
      },
      "text/plain": [
       "  0%|          | 0/1024 [00:00<?, ?it/s]"
      ]
     },
     "metadata": {},
     "output_type": "display_data"
    },
    {
     "data": {
      "application/vnd.jupyter.widget-view+json": {
       "model_id": "118ef1de117e4ebab0be9bd2afe490ec",
       "version_major": 2,
       "version_minor": 0
      },
      "text/plain": [
       "  0%|          | 0/1024 [00:00<?, ?it/s]"
      ]
     },
     "metadata": {},
     "output_type": "display_data"
    },
    {
     "data": {
      "application/vnd.jupyter.widget-view+json": {
       "model_id": "b7260cdfa7434510ba9a9beb5741986b",
       "version_major": 2,
       "version_minor": 0
      },
      "text/plain": [
       "  0%|          | 0/1024 [00:00<?, ?it/s]"
      ]
     },
     "metadata": {},
     "output_type": "display_data"
    }
   ],
   "source": [
    "layers = np.arange(1, 21, 2)\n",
    "var_forms = [sample_circuit(9)(num_qubits=int(np.log2(len(training_data))), reps=_r) for _r in layers]\n",
    "_accuracy_list = []\n",
    "_num_params_list = []\n",
    "_last_cost_list = []\n",
    "_qasvm_list = []\n",
    "_result_list = []\n",
    "\n",
    "for i, layer in enumerate(tqdm(layers)):\n",
    "    qasvm = PseudoSoftQASVM(\n",
    "        data=training_data, label=np.where(training_set['target'].to_numpy()==label_index, 1, 0),\n",
    "        quantum_instance=quantum_instance,\n",
    "        feature_map=feature_map,\n",
    "        var_form=var_forms[i],\n",
    "        lamda=_opt_l, C=_opt_C\n",
    "    )\n",
    "    with tqdm(total=2**10) as pbar:\n",
    "        pbar.set_description(f'layer: {layer}')\n",
    "        def callback(*args):\n",
    "            pbar.update()\n",
    "        optimzer = SPSA(maxiter=2**10, blocking=True, callback=callback)\n",
    "        result = optimzer.minimize(qasvm.cost_fn, qasvm.initial_point)\n",
    "    qasvm.parameters = result.x\n",
    "    accuracy = qasvm.accuracy(test_data, test_labels[classes[label_index]])\n",
    "    _accuracy_list.append(accuracy)\n",
    "    _num_params_list.append(qasvm.num_parameters)\n",
    "    _last_cost_list.append(result.fun)\n",
    "    _qasvm_list.append(qasvm)\n",
    "    _result_list.append(result)"
   ]
  },
  {
   "cell_type": "code",
   "execution_count": 17,
   "metadata": {},
   "outputs": [
    {
     "data": {
      "text/plain": [
       "<matplotlib.legend.Legend at 0x7f88b5e89190>"
      ]
     },
     "execution_count": 17,
     "metadata": {},
     "output_type": "execute_result"
    },
    {
     "data": {
      "image/png": "[encoded data removed]",
      "text/plain": [
       "<Figure size 864x432 with 2 Axes>"
      ]
     },
     "metadata": {
      "needs_background": "light"
     },
     "output_type": "display_data"
    }
   ],
   "source": [
    "fig, axes = plt.subplots(1, 2, figsize=(12, 6))\n",
    "axes[0].plot(_num_params_list, _accuracy_list, label='accuracy')\n",
    "axes[1].plot(_num_params_list, _last_cost_list, label='training cost')\n",
    "axes[0].legend()\n",
    "axes[1].legend()"
   ]
  },
  {
   "cell_type": "code",
   "execution_count": 18,
   "metadata": {},
   "outputs": [
    {
     "data": {
      "image/png": "[encoded data removed]",
      "text/plain": [
       "<Figure size 432x288 with 1 Axes>"
      ]
     },
     "metadata": {
      "needs_background": "light"
     },
     "output_type": "display_data"
    }
   ],
   "source": [
    "import matplotlib\n",
    "matplotlib.rcParams['font.size'] = 15\n",
    "\n",
    "plt.plot(_num_params_list, _last_cost_list, label='circuit #9', color='#D81B60')\n",
    "for _x, _y, _a in zip(_num_params_list, _last_cost_list, _accuracy_list):\n",
    "    plt.scatter([_x+5], [_y+0.005], marker=\"${:.1%}$%\".format(1-_a), c='#D81B60', s=1000)\n",
    "\n",
    "plt.plot(num_params_list, last_cost_list, label='circuit #15', color='#1E88E5')\n",
    "for _x, _y, _a in zip(num_params_list, last_cost_list, accuracy_list):\n",
    "    plt.scatter([_x+3], [_y-0.005], marker=\"${:.1%}$%\".format(1-_a), c='#1E88E5', s=1000)\n",
    "plt.xlabel(\"# parameters\")\n",
    "plt.ylabel(\"training loss\")\n",
    "plt.legend()\n",
    "plt.tight_layout()"
   ]
  },
  {
   "cell_type": "code",
   "execution_count": 19,
   "metadata": {},
   "outputs": [],
   "source": [
    "circuit15_result = dict(\n",
    "    accuracy_list = accuracy_list,\n",
    "    num_params_list = num_params_list,\n",
    "    last_cost_list = last_cost_list,\n",
    "    qasvm_list = qasvm_list,\n",
    "    result_list = result_list,\n",
    ")\n",
    "\n",
    "circuit9_result = dict(\n",
    "    accuracy_list = _accuracy_list,\n",
    "    num_params_list = _num_params_list,\n",
    "    last_cost_list = _last_cost_list,\n",
    "    qasvm_list = _qasvm_list,\n",
    "    result_list = _result_list,\n",
    ")\n",
    "\n",
    "import dill\n",
    "\n",
    "with open(f'./circuit15result(label{label_index})_6_18', 'wb') as fp:\n",
    "    dill.dump(circuit15_result, fp)\n",
    "with open(f'./circuit9result(label{label_index})_6_18', 'wb') as fp:\n",
    "    dill.dump(circuit9_result, fp)"
   ]
  },
  {
   "cell_type": "code",
   "execution_count": 20,
   "metadata": {},
   "outputs": [
    {
     "data": {
      "text/plain": [
       "0.010577528195686378"
      ]
     },
     "execution_count": 20,
     "metadata": {},
     "output_type": "execute_result"
    }
   ],
   "source": [
    "qasvm = CvxSoftQASVM(kernel='precomputed', C=_opt_C, lamda=_opt_l)\n",
    "qasvm.fit(kernel_matrix, training_labels[classes[label_index]])\n",
    "qasvm.dual_objective_value"
   ]
  },
  {
   "cell_type": "code",
   "execution_count": null,
   "metadata": {},
   "outputs": [],
   "source": []
  }
 ],
 "metadata": {
  "interpreter": {
   "hash": "bd569b419454c0a0019c09bece6d44cb1c2509ee45afef24a0823fc75b36fb0e"
  },
  "kernelspec": {
   "display_name": "Python 3.9.2 64-bit ('QUIC': conda)",
   "language": "python",
   "name": "python3"
  },
  "language_info": {
   "codemirror_mode": {
    "name": "ipython",
    "version": 3
   },
   "file_extension": ".py",
   "mimetype": "text/x-python",
   "name": "python",
   "nbconvert_exporter": "python",
   "pygments_lexer": "ipython3",
   "version": "3.9.2"
  },
  "metadata": {
   "interpreter": {
    "hash": "6a082bf6134b372c06e64927897e08d4d2745f2f33cff72046cfead1af299ef7"
   }
  }
 },
 "nbformat": 4,
 "nbformat_minor": 2
}
