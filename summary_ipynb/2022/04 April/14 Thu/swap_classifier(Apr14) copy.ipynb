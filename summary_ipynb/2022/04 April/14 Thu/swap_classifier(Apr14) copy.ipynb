{
 "cells": [
  {
   "cell_type": "code",
   "execution_count": 1,
   "metadata": {
    "pycharm": {
     "name": "#%%\n"
    }
   },
   "outputs": [],
   "source": [
    "import sys\n",
    "quic_path = '/home/quic/QUIC-Projects'\n",
    "if not quic_path in sys.path:\n",
    "    sys.path.append(quic_path)"
   ]
  },
  {
   "cell_type": "code",
   "execution_count": 2,
   "metadata": {
    "pycharm": {
     "name": "#%%\n"
    }
   },
   "outputs": [],
   "source": [
    "import numpy as np \n",
    "from matplotlib import pyplot as plt"
   ]
  },
  {
   "cell_type": "code",
   "execution_count": 3,
   "metadata": {},
   "outputs": [],
   "source": [
    "from qiskit.algorithms.linear_solvers import NumPyLinearSolver, HHL\n",
    "from qiskit_machine_learning.kernels import QuantumKernel\n",
    "from qiskit.utils import QuantumInstance\n",
    "from qiskit.providers.aer import StatevectorSimulator\n",
    "from qiskit import transpile"
   ]
  },
  {
   "cell_type": "code",
   "execution_count": 4,
   "metadata": {},
   "outputs": [],
   "source": [
    "from classifiers.datasets import SklearnDataset\n",
    "from classifiers.quantum.ansatz import MultilayerCircuit9FeatureMap"
   ]
  },
  {
   "cell_type": "code",
   "execution_count": 5,
   "metadata": {},
   "outputs": [],
   "source": [
    "gamma = 10**4\n",
    "iris_dataset = SklearnDataset('iris', feature_range=(-np.pi, np.pi), true_hot=0)\n",
    "\n",
    "def calculate_hhl_depth(data, label, basis_gate = ['rx', 'ry', 'rz', 'cx']):\n",
    "    quantum_kernel = QuantumKernel(feature_map=MultilayerCircuit9FeatureMap(4, 2), quantum_instance=StatevectorSimulator())\n",
    "\n",
    "    kernel_matrix = quantum_kernel.evaluate(data, data)\n",
    "    kernel_matrix\n",
    "    F_kernel_matrix = np.matrix(np.vstack((np.hstack([(0,), np.ones(len(label))]), np.hstack((np.ones(len(label)).reshape(-1, 1), kernel_matrix+np.eye(len(label))/gamma)))))\n",
    "    F_kernel_matrix = F_kernel_matrix/F_kernel_matrix.trace()\n",
    "\n",
    "    vector = np.hstack(((0,), 2*label-1))\n",
    "    vector = vector/np.linalg.norm(vector)\n",
    "    hhl_circuit = HHL().construct_circuit(matrix=F_kernel_matrix, vector=vector, neg_vals=False)\n",
    "    return transpile(hhl_circuit, basis_gates=basis_gate).depth()"
   ]
  },
  {
   "cell_type": "code",
   "execution_count": 6,
   "metadata": {},
   "outputs": [
    {
     "data": {
      "application/vnd.jupyter.widget-view+json": {
       "model_id": "7197df8b2a8b4ef3a6791695e9f5b18f",
       "version_major": 2,
       "version_minor": 0
      },
      "text/plain": [
       "  0%|          | 0/3 [00:00<?, ?it/s]"
      ]
     },
     "metadata": {},
     "output_type": "display_data"
    }
   ],
   "source": [
    "from tqdm.notebook import tqdm\n",
    "\n",
    "hhl_depths = []\n",
    "system_size = 2**np.arange(1, 4)\n",
    "for s in tqdm(system_size):\n",
    "    X, y = iris_dataset.sample(s-1, return_X_y=True)\n",
    "    depth = calculate_hhl_depth(X, y)\n",
    "    hhl_depths.append(depth)"
   ]
  },
  {
   "cell_type": "code",
   "execution_count": 7,
   "metadata": {},
   "outputs": [
    {
     "data": {
      "text/plain": [
       "[57, 2346, 517755]"
      ]
     },
     "execution_count": 7,
     "metadata": {},
     "output_type": "execute_result"
    }
   ],
   "source": [
    "hhl_depths"
   ]
  },
  {
   "cell_type": "code",
   "execution_count": 11,
   "metadata": {},
   "outputs": [
    {
     "data": {
      "image/png": "[encoded data removed]",
      "text/plain": [
       "<Figure size 432x288 with 1 Axes>"
      ]
     },
     "metadata": {
      "needs_background": "light"
     },
     "output_type": "display_data"
    }
   ],
   "source": [
    "plt.plot(system_size, hhl_depths)\n",
    "plt.xscale('log')\n",
    "plt.yscale('log')"
   ]
  },
  {
   "cell_type": "code",
   "execution_count": 33,
   "metadata": {},
   "outputs": [
    {
     "data": {
      "text/plain": [
       "<BarContainer object of 150 artists>"
      ]
     },
     "execution_count": 33,
     "metadata": {},
     "output_type": "execute_result"
    },
    {
     "data": {
      "image/png": "[encoded data removed]",
      "text/plain": [
       "<Figure size 432x288 with 1 Axes>"
      ]
     },
     "metadata": {
      "needs_background": "light"
     },
     "output_type": "display_data"
    }
   ],
   "source": [
    "quantum_kernel = QuantumKernel(MultilayerCircuit9FeatureMap(4, 2), 4, quantum_instance=StatevectorSimulator())\n",
    "kernel = quantum_kernel.evaluate(iris_dataset.sample(150, return_X_y=True)[0])\n",
    "iris_singular_values = np.linalg.svd(kernel)[1]\n",
    "plt.bar(x=range(150), height = iris_singular_values)"
   ]
  },
  {
   "cell_type": "code",
   "execution_count": 34,
   "metadata": {},
   "outputs": [
    {
     "data": {
      "text/plain": [
       "0.009177726912539647"
      ]
     },
     "execution_count": 34,
     "metadata": {},
     "output_type": "execute_result"
    }
   ],
   "source": [
    "iris_singular_values[37]/iris_singular_values[0]"
   ]
  },
  {
   "cell_type": "code",
   "execution_count": 35,
   "metadata": {},
   "outputs": [
    {
     "data": {
      "text/plain": [
       "0.8023420093493836"
      ]
     },
     "execution_count": 35,
     "metadata": {},
     "output_type": "execute_result"
    }
   ],
   "source": [
    "iris_singular_values[1]/iris_singular_values[0]"
   ]
  },
  {
   "cell_type": "code",
   "execution_count": 36,
   "metadata": {},
   "outputs": [
    {
     "data": {
      "text/plain": [
       "0.5318184862945976"
      ]
     },
     "execution_count": 36,
     "metadata": {},
     "output_type": "execute_result"
    }
   ],
   "source": [
    "iris_singular_values[2]/iris_singular_values[0]"
   ]
  },
  {
   "cell_type": "code",
   "execution_count": 46,
   "metadata": {},
   "outputs": [
    {
     "data": {
      "text/plain": [
       "1.0"
      ]
     },
     "execution_count": 46,
     "metadata": {},
     "output_type": "execute_result"
    }
   ],
   "source": [
    "sum(iris_singular_values[:100])/sum(iris_singular_values)"
   ]
  },
  {
   "cell_type": "code",
   "execution_count": 41,
   "metadata": {},
   "outputs": [
    {
     "data": {
      "text/plain": [
       "0.1"
      ]
     },
     "execution_count": 41,
     "metadata": {},
     "output_type": "execute_result"
    }
   ],
   "source": [
    "15/150"
   ]
  },
  {
   "cell_type": "code",
   "execution_count": 45,
   "metadata": {},
   "outputs": [
    {
     "data": {
      "image/png": "[encoded data removed]",
      "text/plain": [
       "<Figure size 432x288 with 1 Axes>"
      ]
     },
     "metadata": {
      "needs_background": "light"
     },
     "output_type": "display_data"
    }
   ],
   "source": [
    "plt.bar(x=range(150), height = iris_singular_values)\n",
    "plt.yscale('log')"
   ]
  },
  {
   "cell_type": "code",
   "execution_count": null,
   "metadata": {},
   "outputs": [],
   "source": []
  }
 ],
 "metadata": {
  "kernelspec": {
   "display_name": "qiskit",
   "language": "python",
   "name": "qiskit"
  },
  "language_info": {
   "codemirror_mode": {
    "name": "ipython",
    "version": 3
   },
   "file_extension": ".py",
   "mimetype": "text/x-python",
   "name": "python",
   "nbconvert_exporter": "python",
   "pygments_lexer": "ipython3",
   "version": "3.9.2"
  },
  "metadata": {
   "interpreter": {
    "hash": "6a082bf6134b372c06e64927897e08d4d2745f2f33cff72046cfead1af299ef7"
   }
  },
  "widgets": {
   "application/vnd.jupyter.widget-state+json": {
    "state": {
     "1f56a46b6ead4114aefb2799f5e91d59": {
      "model_module": "@jupyter-widgets/base",
      "model_module_version": "1.2.0",
      "model_name": "LayoutModel",
      "state": {}
     },
     "318f400b3d59413db33e0ee8ad157522": {
      "model_module": "@jupyter-widgets/controls",
      "model_module_version": "1.5.0",
      "model_name": "HTMLModel",
      "state": {
       "layout": "IPY_MODEL_d4415c54221349838616c57586087af4",
       "style": "IPY_MODEL_e8284b68529e4a8c90518504859b6e9d",
       "value": "100%"
      }
     },
     "31e440bf223b491d9bcdfe8100e14de4": {
      "model_module": "@jupyter-widgets/controls",
      "model_module_version": "1.5.0",
      "model_name": "DescriptionStyleModel",
      "state": {
       "description_width": ""
      }
     },
     "44e4b1a6f3704b8bab4423b34d6fa410": {
      "model_module": "@jupyter-widgets/base",
      "model_module_version": "1.2.0",
      "model_name": "LayoutModel",
      "state": {}
     },
     "44f82bbb2aeb42b6bf97b361c024e9ec": {
      "model_module": "@jupyter-widgets/base",
      "model_module_version": "1.2.0",
      "model_name": "LayoutModel",
      "state": {}
     },
     "648b7f9969e248afb55bd262d9f05802": {
      "model_module": "@jupyter-widgets/controls",
      "model_module_version": "1.5.0",
      "model_name": "HTMLModel",
      "state": {
       "layout": "IPY_MODEL_44f82bbb2aeb42b6bf97b361c024e9ec",
       "style": "IPY_MODEL_e5c5f9ee543449b6a63ef1edb68aad17",
       "value": " 5/42 [02:02&lt;07:48, 12.66s/it]"
      }
     },
     "70bcd17357044ed6b779188c0ad262b9": {
      "model_module": "@jupyter-widgets/base",
      "model_module_version": "1.2.0",
      "model_name": "LayoutModel",
      "state": {}
     },
     "75cb282869ca43c2ad2670e8eae13de8": {
      "model_module": "@jupyter-widgets/controls",
      "model_module_version": "1.5.0",
      "model_name": "HBoxModel",
      "state": {
       "children": [
        "IPY_MODEL_318f400b3d59413db33e0ee8ad157522",
        "IPY_MODEL_7b0a5203686441218810d11b40f613ce",
        "IPY_MODEL_9705e6240adf4a9db5a7ef0e0eb8bc54"
       ],
       "layout": "IPY_MODEL_70bcd17357044ed6b779188c0ad262b9"
      }
     },
     "7b0a5203686441218810d11b40f613ce": {
      "model_module": "@jupyter-widgets/controls",
      "model_module_version": "1.5.0",
      "model_name": "FloatProgressModel",
      "state": {
       "bar_style": "success",
       "layout": "IPY_MODEL_b2ef565681394929a760aa85a9bde95b",
       "max": 42,
       "style": "IPY_MODEL_7e67322bcc8f4c9ab8b55995a2b6b35f",
       "value": 42
      }
     },
     "7e67322bcc8f4c9ab8b55995a2b6b35f": {
      "model_module": "@jupyter-widgets/controls",
      "model_module_version": "1.5.0",
      "model_name": "ProgressStyleModel",
      "state": {
       "description_width": ""
      }
     },
     "83367068f7784c60b5fbc3d151e66c86": {
      "model_module": "@jupyter-widgets/controls",
      "model_module_version": "1.5.0",
      "model_name": "HTMLModel",
      "state": {
       "layout": "IPY_MODEL_acd07e1acdae466ca3b0778f21ef6526",
       "style": "IPY_MODEL_31e440bf223b491d9bcdfe8100e14de4",
       "value": " 12%"
      }
     },
     "88677640efcd44359de0d0b5c3dde721": {
      "model_module": "@jupyter-widgets/controls",
      "model_module_version": "1.5.0",
      "model_name": "ProgressStyleModel",
      "state": {
       "description_width": ""
      }
     },
     "8a316caff5d84d10989df6a0bfcdb673": {
      "model_module": "@jupyter-widgets/base",
      "model_module_version": "1.2.0",
      "model_name": "LayoutModel",
      "state": {}
     },
     "9705e6240adf4a9db5a7ef0e0eb8bc54": {
      "model_module": "@jupyter-widgets/controls",
      "model_module_version": "1.5.0",
      "model_name": "HTMLModel",
      "state": {
       "layout": "IPY_MODEL_44e4b1a6f3704b8bab4423b34d6fa410",
       "style": "IPY_MODEL_e85bb4aeb2044016a6cfb665b5a52d0a",
       "value": " 42/42 [2:19:53&lt;00:00, 1156.62s/it]"
      }
     },
     "acd07e1acdae466ca3b0778f21ef6526": {
      "model_module": "@jupyter-widgets/base",
      "model_module_version": "1.2.0",
      "model_name": "LayoutModel",
      "state": {}
     },
     "b2ef565681394929a760aa85a9bde95b": {
      "model_module": "@jupyter-widgets/base",
      "model_module_version": "1.2.0",
      "model_name": "LayoutModel",
      "state": {}
     },
     "c12b6e9ece1d4fb9b29d951b44ebda16": {
      "model_module": "@jupyter-widgets/controls",
      "model_module_version": "1.5.0",
      "model_name": "FloatProgressModel",
      "state": {
       "bar_style": "danger",
       "layout": "IPY_MODEL_8a316caff5d84d10989df6a0bfcdb673",
       "max": 42,
       "style": "IPY_MODEL_88677640efcd44359de0d0b5c3dde721",
       "value": 5
      }
     },
     "ca6226034f1e47688eda65e9ff65138d": {
      "model_module": "@jupyter-widgets/controls",
      "model_module_version": "1.5.0",
      "model_name": "HBoxModel",
      "state": {
       "children": [
        "IPY_MODEL_83367068f7784c60b5fbc3d151e66c86",
        "IPY_MODEL_c12b6e9ece1d4fb9b29d951b44ebda16",
        "IPY_MODEL_648b7f9969e248afb55bd262d9f05802"
       ],
       "layout": "IPY_MODEL_1f56a46b6ead4114aefb2799f5e91d59"
      }
     },
     "d4415c54221349838616c57586087af4": {
      "model_module": "@jupyter-widgets/base",
      "model_module_version": "1.2.0",
      "model_name": "LayoutModel",
      "state": {}
     },
     "e5c5f9ee543449b6a63ef1edb68aad17": {
      "model_module": "@jupyter-widgets/controls",
      "model_module_version": "1.5.0",
      "model_name": "DescriptionStyleModel",
      "state": {
       "description_width": ""
      }
     },
     "e8284b68529e4a8c90518504859b6e9d": {
      "model_module": "@jupyter-widgets/controls",
      "model_module_version": "1.5.0",
      "model_name": "DescriptionStyleModel",
      "state": {
       "description_width": ""
      }
     },
     "e85bb4aeb2044016a6cfb665b5a52d0a": {
      "model_module": "@jupyter-widgets/controls",
      "model_module_version": "1.5.0",
      "model_name": "DescriptionStyleModel",
      "state": {
       "description_width": ""
      }
     }
    },
    "version_major": 2,
    "version_minor": 0
   }
  }
 },
 "nbformat": 4,
 "nbformat_minor": 4
}
