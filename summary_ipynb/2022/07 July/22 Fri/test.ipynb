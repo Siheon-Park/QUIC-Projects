{
 "cells": [
  {
   "cell_type": "code",
   "execution_count": 1,
   "metadata": {},
   "outputs": [],
   "source": [
    "import sys\n",
    "from pathlib import Path\n",
    "import json\n",
    "\n",
    "import numpy as np\n",
    "import pennylane as qml\n",
    "from matplotlib import pyplot as plt\n",
    "from qiskit import QuantumCircuit\n",
    "from qiskit.utils import QuantumInstance\n",
    "from qiskit_machine_learning.kernels import QuantumKernel\n",
    "from qiskit.providers.aer import StatevectorSimulator\n",
    "from qiskit.circuit.library import ZZFeatureMap\n",
    "from sklearn.datasets import fetch_openml\n",
    "from sklearn.decomposition import PCA\n",
    "from sklearn.preprocessing import StandardScaler\n",
    "from sklearn.model_selection import train_test_split\n",
    "from sklearn.metrics import accuracy_score\n",
    "from torch.utils.tensorboard import SummaryWriter\n",
    "from pandas import DataFrame\n",
    "\n",
    "sys.path.extend(['/home/quic/QUIC-Projects/'])\n",
    "from classifiers.quantum.qml.qasvm import PseudoTensorSoftQASVM\n",
    "from classifiers.datasets.sklearn import SklearnDataset\n",
    "from classifiers.quantum.ansatz import MultilayerCircuit9FeatureMap\n",
    "from classifiers.convex.svm import CvxSoftQASVM"
   ]
  },
  {
   "cell_type": "markdown",
   "metadata": {},
   "source": [
    "# Grad fn simulation testing"
   ]
  },
  {
   "cell_type": "code",
   "execution_count": 11,
   "metadata": {},
   "outputs": [],
   "source": [
    "n_qubits = 13\n",
    "n_feature = 10\n",
    "\n",
    "device:qml.Device = qml.device('lightning.gpu', wires=n_qubits) # TODO: gpu vs cpu\n",
    "def var_form(params):\n",
    "    qml.BasicEntanglerLayers(params, wires=device.wires, rotation=qml.RY)\n",
    "\n",
    "feature_map = ZZFeatureMap(feature_dimension=n_feature, reps=2, entanglement='linear')\n",
    "data = np.random.rand(2**n_qubits, n_feature)\n",
    "label = np.random.randint(0, 2, 2**n_qubits)\n",
    "qasvm = PseudoTensorSoftQASVM(data=data @ data.T, label=label, device=device, feature_map=None, var_form=var_form)\n",
    "parameter_shape = qml.BasicEntanglerLayers.shape(n_layers=20, n_wires=device.num_wires)\n",
    "\n",
    "grad_result = np.empty(shape=(10, *parameter_shape))\n",
    "for t in range(10):\n",
    "    params=qml.numpy.random.random((parameter_shape), requires_grad=True)\n",
    "    grad_result[t, :, :] = qasvm.grad_fn(params)"
   ]
  },
  {
   "cell_type": "markdown",
   "metadata": {},
   "source": [
    "GPU time: 2m 2.6s"
   ]
  },
  {
   "cell_type": "code",
   "execution_count": 13,
   "metadata": {},
   "outputs": [],
   "source": [
    "n_qubits = 13\n",
    "n_feature = 10\n",
    "\n",
    "device:qml.Device = qml.device('lightning.qubit', wires=n_qubits) # TODO: gpu vs cpu\n",
    "def var_form(params):\n",
    "    qml.BasicEntanglerLayers(params, wires=device.wires, rotation=qml.RY)\n",
    "\n",
    "feature_map = ZZFeatureMap(feature_dimension=n_feature, reps=2, entanglement='linear')\n",
    "data = np.random.rand(2**n_qubits, n_feature)\n",
    "label = np.random.randint(0, 2, 2**n_qubits)\n",
    "qasvm = PseudoTensorSoftQASVM(data=data @ data.T, label=label, device=device, feature_map=None, var_form=var_form)\n",
    "parameter_shape = qml.BasicEntanglerLayers.shape(n_layers=20, n_wires=device.num_wires)\n",
    "\n",
    "grad_result = np.empty(shape=(10, *parameter_shape))\n",
    "for t in range(10):\n",
    "    params=qml.numpy.random.random((parameter_shape), requires_grad=True)\n",
    "    grad_result[t, :, :] = qasvm.grad_fn(params)"
   ]
  },
  {
   "cell_type": "markdown",
   "metadata": {},
   "source": [
    "CPU time: 1m 30.4s"
   ]
  },
  {
   "cell_type": "code",
   "execution_count": 14,
   "metadata": {},
   "outputs": [],
   "source": [
    "n_qubits = 13\n",
    "n_feature = 10\n",
    "\n",
    "device:qml.Device = qml.device('lightning.qubit', wires=n_qubits) # TODO: gpu vs cpu\n",
    "def var_form(params):\n",
    "    qml.BasicEntanglerLayers(params, wires=device.wires, rotation=qml.RY)\n",
    "\n",
    "feature_map = ZZFeatureMap(feature_dimension=n_feature, reps=2, entanglement='linear')\n",
    "data = np.random.rand(2**n_qubits, n_feature)\n",
    "label = np.random.randint(0, 2, 2**n_qubits)\n",
    "qasvm = PseudoTensorSoftQASVM(data=data @ data.T, label=label, device=device, feature_map=None, var_form=var_form)\n",
    "parameter_shape = qml.BasicEntanglerLayers.shape(n_layers=20, n_wires=device.num_wires)\n",
    "\n",
    "grad_result = np.empty(shape=(10, *parameter_shape))\n",
    "grad_fn = qml.jacobian(qasvm.cost_fn)\n",
    "for t in range(10):\n",
    "    params=qml.numpy.random.random((parameter_shape), requires_grad=True)\n",
    "    grad_result[t, :, :] = grad_fn(params)"
   ]
  },
  {
   "cell_type": "markdown",
   "metadata": {},
   "source": [
    "Exterior grad fn: 1m 29.2s"
   ]
  },
  {
   "cell_type": "code",
   "execution_count": 15,
   "metadata": {},
   "outputs": [],
   "source": [
    "n_qubits = 13\n",
    "n_feature = 10\n",
    "\n",
    "device:qml.Device = qml.device('lightning.qubit', wires=n_qubits) # TODO: gpu vs cpu\n",
    "def var_form(params):\n",
    "    qml.BasicEntanglerLayers(params, wires=device.wires, rotation=qml.RY)\n",
    "\n",
    "feature_map = ZZFeatureMap(feature_dimension=n_feature, reps=2, entanglement='linear')\n",
    "data = np.random.rand(2**n_qubits, n_feature)\n",
    "label = np.random.randint(0, 2, 2**n_qubits)\n",
    "qasvm = PseudoTensorSoftQASVM(data=data @ data.T, label=label, device=device, feature_map=None, var_form=var_form)\n",
    "parameter_shape = qml.BasicEntanglerLayers.shape(n_layers=20, n_wires=device.num_wires)\n",
    "\n",
    "grad_result = np.empty(shape=(10, *parameter_shape))\n",
    "grad_fn = qml.grad(qasvm.cost_fn)\n",
    "for t in range(10):\n",
    "    params=qml.numpy.random.random((parameter_shape), requires_grad=True)\n",
    "    grad_result[t, :, :] = grad_fn(params)"
   ]
  },
  {
   "cell_type": "markdown",
   "metadata": {},
   "source": [
    "`qml.jacobian` -> `qml.grad`: 1m 29.2s"
   ]
  },
  {
   "cell_type": "code",
   "execution_count": 33,
   "metadata": {},
   "outputs": [
    {
     "data": {
      "text/plain": [
       "0.004942012038085211"
      ]
     },
     "execution_count": 33,
     "metadata": {},
     "output_type": "execute_result"
    }
   ],
   "source": [
    "grad_result[:, 0, 0].var()"
   ]
  },
  {
   "cell_type": "code",
   "execution_count": null,
   "metadata": {},
   "outputs": [],
   "source": []
  }
 ],
 "metadata": {
  "kernelspec": {
   "display_name": "Python 3.9.13 ('qiskit')",
   "language": "python",
   "name": "python3"
  },
  "language_info": {
   "codemirror_mode": {
    "name": "ipython",
    "version": 3
   },
   "file_extension": ".py",
   "mimetype": "text/x-python",
   "name": "python",
   "nbconvert_exporter": "python",
   "pygments_lexer": "ipython3",
   "version": "3.9.13"
  },
  "orig_nbformat": 4,
  "vscode": {
   "interpreter": {
    "hash": "86394d4aecdf90bfa3aa767d508cb9549ad3b678679daec23858fa7c305a4457"
   }
  }
 },
 "nbformat": 4,
 "nbformat_minor": 2
}
