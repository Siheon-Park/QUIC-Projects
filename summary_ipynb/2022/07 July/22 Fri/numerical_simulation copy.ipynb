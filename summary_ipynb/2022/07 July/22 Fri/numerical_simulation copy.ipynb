{
 "cells": [
  {
   "cell_type": "code",
   "execution_count": 1,
   "metadata": {},
   "outputs": [],
   "source": [
    "import sys\n",
    "from pathlib import Path\n",
    "import json\n",
    "\n",
    "import numpy as np\n",
    "import pennylane as qml\n",
    "from matplotlib import pyplot as plt\n",
    "from qiskit import QuantumCircuit\n",
    "from qiskit.utils import QuantumInstance\n",
    "from qiskit_machine_learning.kernels import QuantumKernel\n",
    "from qiskit.providers.aer import StatevectorSimulator\n",
    "from qiskit.circuit.library import ZZFeatureMap\n",
    "from sklearn.datasets import fetch_openml\n",
    "from sklearn.decomposition import PCA\n",
    "from sklearn.preprocessing import StandardScaler\n",
    "from sklearn.model_selection import train_test_split\n",
    "from sklearn.metrics import accuracy_score\n",
    "from torch.utils.tensorboard import SummaryWriter\n",
    "from pandas import DataFrame\n",
    "\n",
    "sys.path.extend(['/home/quic/QUIC-Projects/'])\n",
    "from classifiers.quantum.qml.qasvm import PseudoTensorSoftQASVM\n",
    "from classifiers.datasets.sklearn import SklearnDataset\n",
    "from classifiers.quantum.ansatz import MultilayerCircuit9FeatureMap\n",
    "from classifiers.convex.svm import CvxSoftQASVM"
   ]
  },
  {
   "cell_type": "code",
   "execution_count": 2,
   "metadata": {},
   "outputs": [],
   "source": [
    "# simulation setting\n",
    "test_size = 14780-2**13 #2**13\n",
    "n_steps = 2**10\n",
    "stepsize = 0.001\n",
    "n_feature = 10\n",
    "n_qubits_list = np.arange(6, 13+1, dtype=int) # 6 7 8 9 10 11 12 13\n",
    "n_layers_list = np.arange(1, 19+1, 2, dtype=int) # 1 3 5 7 9 11 13 15 17 19\n",
    "C=10**3\n",
    "lamda=10**3\n",
    "dir_name = 'numerical_simulation4'\n",
    "sampling_seed=19782"
   ]
  },
  {
   "cell_type": "code",
   "execution_count": 3,
   "metadata": {},
   "outputs": [],
   "source": [
    "def load_train_and_test_data(dataset, train_size:float=2**13, test_size:float=2**7):\n",
    "    data = dataset.data.to_numpy()\n",
    "    label = dataset.target.to_numpy().astype(float)\n",
    "    # label = np.where(label%2, 1, 0)\n",
    "    mask = (label==0) + (label==1)\n",
    "    data = data[mask]\n",
    "    label = label[mask]\n",
    "    X_train, X_test, y_train, y_test = train_test_split(data, label, train_size=train_size, test_size=test_size, random_state=sampling_seed)\n",
    "    return X_train, y_train, X_test, y_test\n",
    "\n",
    "def reduce_and_normalize_data(n_components, X_train, X_test):\n",
    "    scaler = StandardScaler()\n",
    "    pca = PCA(n_components=n_components)\n",
    "    X_train = scaler.fit_transform(X_train)\n",
    "    X_train = pca.fit_transform(X_train)\n",
    "    X_test = scaler.transform(X_test)\n",
    "    X_test = pca.transform(X_test)\n",
    "    for i, d in enumerate(X_train):\n",
    "        X_train[i] = d/np.linalg.norm(d)\n",
    "    for i, d in enumerate(X_test):\n",
    "        X_test[i] = d/np.linalg.norm(d)\n",
    "    return X_train, X_test\n",
    "\n",
    "def construct_training_and_test_quantum_kernel_matrix(feature_map:QuantumCircuit, X_train:np.ndarray, X_test:np.ndarray):\n",
    "    quantum_instance = QuantumInstance(backend = StatevectorSimulator())\n",
    "    quantum_kernel = QuantumKernel(feature_map=feature_map, quantum_instance=quantum_instance, enforce_psd=False)\n",
    "    training_kernel = quantum_kernel.evaluate(X_train, X_train)\n",
    "    test_kernel = quantum_kernel.evaluate(X_train, X_test)\n",
    "    return training_kernel, test_kernel\n",
    "\n",
    "def train_and_test_reference(cvxsvm:CvxSoftQASVM, train_kernel:np.ndarray, test_kernel:np.ndarray, y_train:np.ndarray, y_test:np.ndarray):\n",
    "    cvxsvm.fit(train_kernel, y_train)\n",
    "    fvec = cvxsvm.f(test_kernel.T)\n",
    "    accuarcy = cvxsvm.accuracy(test_kernel.T, y_test)\n",
    "    cost = cvxsvm.dual_objective_value\n",
    "    return fvec, accuarcy, cost\n",
    "\n",
    "def epsilon(fvec, true_fvec):\n",
    "    return np.sqrt(np.mean(np.abs(fvec-true_fvec)**2)).item()\n",
    "\n",
    "def make_figure(df:DataFrame):\n",
    "    fig, ax = plt.subplots()\n",
    "    mappable = ax.imshow(df, cmap='binary')\n",
    "    ax.set_xlabel('n_qubits')\n",
    "    ax.set_ylabel('n_layers')\n",
    "    ax.set_xticks(np.arange(len(n_qubits_list)))\n",
    "    ax.set_yticks(np.arange(len(n_layers_list)))\n",
    "    ax.set_xticklabels(n_qubits_list)\n",
    "    ax.set_yticklabels(n_layers_list)\n",
    "    fig.colorbar(mappable)\n",
    "    return fig"
   ]
  },
  {
   "cell_type": "code",
   "execution_count": 4,
   "metadata": {},
   "outputs": [
    {
     "name": "stdout",
     "output_type": "stream",
     "text": [
      "loaded mnist data set\n"
     ]
    }
   ],
   "source": [
    "# setting\n",
    "dir_path = Path.cwd() / dir_name\n",
    "dir_path.mkdir(parents=True, exist_ok=True)\n",
    "dataset = fetch_openml('mnist_784')\n",
    "print('loaded mnist data set')"
   ]
  },
  {
   "cell_type": "code",
   "execution_count": 5,
   "metadata": {},
   "outputs": [
    {
     "name": "stdout",
     "output_type": "stream",
     "text": [
      "64 X 64 train kernel matrix and 64 X 6588 test kernel matrix generated\n",
      "128 X 128 train kernel matrix and 128 X 6588 test kernel matrix generated\n",
      "256 X 256 train kernel matrix and 256 X 6588 test kernel matrix generated\n",
      "512 X 512 train kernel matrix and 512 X 6588 test kernel matrix generated\n",
      "1024 X 1024 train kernel matrix and 1024 X 6588 test kernel matrix generated\n",
      "2048 X 2048 train kernel matrix and 2048 X 6588 test kernel matrix generated\n",
      "4096 X 4096 train kernel matrix and 4096 X 6588 test kernel matrix generated\n",
      "8192 X 8192 train kernel matrix and 8192 X 6588 test kernel matrix generated\n"
     ]
    }
   ],
   "source": [
    "epsilon_summary = DataFrame({n_qubits:dict(zip(n_layers_list, np.zeros_like(n_layers_list))) for n_qubits in n_qubits_list}, dtype=float)\n",
    "delta_summary = DataFrame({n_qubits:dict(zip(n_layers_list, np.zeros_like(n_layers_list))) for n_qubits in n_qubits_list}, dtype=float)\n",
    "accuracy_summary = DataFrame({n_qubits:dict(zip(n_layers_list, np.zeros_like(n_layers_list))) for n_qubits in n_qubits_list}, dtype=float)\n",
    "\n",
    "summary_writer = SummaryWriter(log_dir=dir_path)\n",
    "feature_map = ZZFeatureMap(feature_dimension=n_feature, reps=2, entanglement='linear')\n",
    "for n_qubits in n_qubits_list:\n",
    "    sub_dir_path = dir_path / f'n_qubits={n_qubits}'\n",
    "    sub_dir_path.mkdir(parents=True, exist_ok=True)\n",
    "    # data loading\n",
    "    train_size = 2**n_qubits\n",
    "    X_train, y_train, X_test, y_test = load_train_and_test_data(dataset, train_size=train_size, test_size=test_size)\n",
    "    X_train, X_test = reduce_and_normalize_data(n_feature, X_train, X_test)\n",
    "    train_kernel, test_kernel = construct_training_and_test_quantum_kernel_matrix(feature_map=feature_map, X_train=X_train, X_test=X_test)\n",
    "    print(f'{train_size} X {train_size} train kernel matrix and {train_size} X {test_size} test kernel matrix generated')\n",
    "\n",
    "    # set reference\n",
    "    cvxsvm = CvxSoftQASVM(kernel='precomputed', C=C, lamda=lamda)\n",
    "    true_fvec, true_accuarcy, true_cost = train_and_test_reference(cvxsvm, train_kernel, test_kernel, y_train, y_test)\n",
    "    summary_writer.add_scalar('Reference/Accuracy', true_accuarcy, n_qubits)\n",
    "    summary_writer.add_scalar('Reference/Minimized_Cost', true_cost, n_qubits)\n",
    "\n",
    "    # save data and reference\n",
    "    np.save(sub_dir_path/'X_train.npy', X_train)\n",
    "    np.save(sub_dir_path/'X_test.npy', X_test)\n",
    "    np.save(sub_dir_path/'y_train.npy', y_train)\n",
    "    np.save(sub_dir_path/'y_test.npy', y_test)\n",
    "    np.save(sub_dir_path/'train_kernel.npy', train_kernel)\n",
    "    np.save(sub_dir_path/'test_kernel.npy', test_kernel)\n",
    "    with open(sub_dir_path/'reference.json', 'w') as fp:\n",
    "        json.dump(dict(\n",
    "            accuracy=true_accuarcy, last_cost = true_cost, fvec=true_fvec\n",
    "        ), fp=fp, default=list)\n",
    "\n",
    "    # ansatz setup\n",
    "    device:qml.Device = qml.device('lightning.qubit', wires=n_qubits)\n",
    "    def var_form(params):\n",
    "        # qml.BasicEntanglerLayers(params, wires=device.wires, rotation=qml.RY)\n",
    "        qml.StronglyEntanglingLayers(params, wires=device.wires)\n",
    "    for n_layers in n_layers_list:\n",
    "        sub_sub_dir_path = sub_dir_path / f'n_layers={n_layers}'\n",
    "        sub_sub_dir_path.mkdir(parents=True, exist_ok=True)\n",
    "        writer = SummaryWriter(log_dir=sub_sub_dir_path)\n",
    "        # training\n",
    "        # parameter_shape = qml.BasicEntanglerLayers.shape(n_layers=n_layers, n_wires=device.num_wires)\n",
    "        parameter_shape = qml.StronglyEntanglingLayers.shape(n_layers=n_layers, n_wires=device.num_wires)\n",
    "        qasvm = PseudoTensorSoftQASVM(data=train_kernel, label=y_train, C=C, lamda=lamda, device=device, feature_map=None, var_form=var_form)\n",
    "        params=qml.numpy.random.random(parameter_shape, requires_grad=True)\n",
    "        opt = qml.AdamOptimizer(stepsize=stepsize)\n",
    "        cost_list = []\n",
    "        for step in range(1, n_steps+1):\n",
    "            params, cost = opt.step_and_cost(qasvm.cost_fn, params)\n",
    "            cost_list.append(cost.item())\n",
    "            if writer is not None:\n",
    "                writer.add_scalar('Training/Cost', cost_list[-1], step)\n",
    "                #writer.add_scalar('Training/Normal_Cost', (cost_list[-1]-true_cost)/(cost_list[0]-true_cost), step)\n",
    "        # test\n",
    "        cost = qasvm.cost_fn(params.numpy()).item()\n",
    "        fvec = qasvm.f(test_kernel, params.numpy()).numpy()\n",
    "        accuracy = accuracy_score(np.where(fvec>0, 1, 0), y_test)\n",
    "        epsilon_summary[n_qubits][n_layers] = epsilon(fvec, true_fvec)\n",
    "        delta_summary[n_qubits][n_layers] = cost-true_cost\n",
    "        accuracy_summary[n_qubits][n_layers] = accuracy\n",
    "        summary_writer.add_figure('Test/epsilon', make_figure(epsilon_summary))\n",
    "        summary_writer.add_figure('Test/delta', make_figure(delta_summary))\n",
    "        summary_writer.add_figure('Test/accuracy', make_figure(accuracy_summary))\n",
    "        # save result\n",
    "        with open(sub_sub_dir_path/'result.json', 'w') as fp:\n",
    "            json.dump(dict(\n",
    "                accuracy=accuracy, last_cost = cost, fvec=fvec, cost_list=cost_list\n",
    "            ), fp=fp, default=list)\n",
    "        epsilon_summary.to_csv(dir_path/'epsilon_summary')\n",
    "        delta_summary.to_csv(dir_path/'delta_summary')\n",
    "        accuracy_summary.to_csv(dir_path/'accuracy_summary')\n"
   ]
  },
  {
   "cell_type": "code",
   "execution_count": 6,
   "metadata": {},
   "outputs": [
    {
     "data": {
      "text/html": [
       "<div>\n",
       "<style scoped>\n",
       "    .dataframe tbody tr th:only-of-type {\n",
       "        vertical-align: middle;\n",
       "    }\n",
       "\n",
       "    .dataframe tbody tr th {\n",
       "        vertical-align: top;\n",
       "    }\n",
       "\n",
       "    .dataframe thead th {\n",
       "        text-align: right;\n",
       "    }\n",
       "</style>\n",
       "<table border=\"1\" class=\"dataframe\">\n",
       "  <thead>\n",
       "    <tr style=\"text-align: right;\">\n",
       "      <th></th>\n",
       "      <th>6</th>\n",
       "      <th>7</th>\n",
       "      <th>8</th>\n",
       "      <th>9</th>\n",
       "      <th>10</th>\n",
       "      <th>11</th>\n",
       "      <th>12</th>\n",
       "      <th>13</th>\n",
       "    </tr>\n",
       "  </thead>\n",
       "  <tbody>\n",
       "    <tr>\n",
       "      <th>1</th>\n",
       "      <td>0.794171</td>\n",
       "      <td>0.721463</td>\n",
       "      <td>0.866120</td>\n",
       "      <td>0.897541</td>\n",
       "      <td>0.881603</td>\n",
       "      <td>0.910595</td>\n",
       "      <td>0.883728</td>\n",
       "      <td>0.865361</td>\n",
       "    </tr>\n",
       "    <tr>\n",
       "      <th>3</th>\n",
       "      <td>0.847146</td>\n",
       "      <td>0.904220</td>\n",
       "      <td>0.963418</td>\n",
       "      <td>0.962508</td>\n",
       "      <td>0.968124</td>\n",
       "      <td>0.970401</td>\n",
       "      <td>0.972678</td>\n",
       "      <td>0.969490</td>\n",
       "    </tr>\n",
       "    <tr>\n",
       "      <th>5</th>\n",
       "      <td>0.862325</td>\n",
       "      <td>0.933515</td>\n",
       "      <td>0.965543</td>\n",
       "      <td>0.957043</td>\n",
       "      <td>0.960838</td>\n",
       "      <td>0.971311</td>\n",
       "      <td>0.970704</td>\n",
       "      <td>0.972070</td>\n",
       "    </tr>\n",
       "    <tr>\n",
       "      <th>7</th>\n",
       "      <td>0.875531</td>\n",
       "      <td>0.932757</td>\n",
       "      <td>0.955070</td>\n",
       "      <td>0.947177</td>\n",
       "      <td>0.953855</td>\n",
       "      <td>0.961900</td>\n",
       "      <td>0.965999</td>\n",
       "      <td>0.971615</td>\n",
       "    </tr>\n",
       "    <tr>\n",
       "      <th>9</th>\n",
       "      <td>0.885701</td>\n",
       "      <td>0.929872</td>\n",
       "      <td>0.948239</td>\n",
       "      <td>0.940953</td>\n",
       "      <td>0.948846</td>\n",
       "      <td>0.958106</td>\n",
       "      <td>0.961293</td>\n",
       "      <td>0.968124</td>\n",
       "    </tr>\n",
       "    <tr>\n",
       "      <th>11</th>\n",
       "      <td>0.892532</td>\n",
       "      <td>0.927747</td>\n",
       "      <td>0.943078</td>\n",
       "      <td>0.927292</td>\n",
       "      <td>0.941409</td>\n",
       "      <td>0.946418</td>\n",
       "      <td>0.946418</td>\n",
       "      <td>0.962508</td>\n",
       "    </tr>\n",
       "    <tr>\n",
       "      <th>13</th>\n",
       "      <td>0.894505</td>\n",
       "      <td>0.925015</td>\n",
       "      <td>0.933971</td>\n",
       "      <td>0.919399</td>\n",
       "      <td>0.914845</td>\n",
       "      <td>0.930480</td>\n",
       "      <td>0.942471</td>\n",
       "      <td>0.953248</td>\n",
       "    </tr>\n",
       "    <tr>\n",
       "      <th>15</th>\n",
       "      <td>0.897845</td>\n",
       "      <td>0.921220</td>\n",
       "      <td>0.925471</td>\n",
       "      <td>0.898604</td>\n",
       "      <td>0.899666</td>\n",
       "      <td>0.919095</td>\n",
       "      <td>0.927899</td>\n",
       "      <td>0.948391</td>\n",
       "    </tr>\n",
       "    <tr>\n",
       "      <th>17</th>\n",
       "      <td>0.899818</td>\n",
       "      <td>0.917122</td>\n",
       "      <td>0.913783</td>\n",
       "      <td>0.873558</td>\n",
       "      <td>0.882210</td>\n",
       "      <td>0.894657</td>\n",
       "      <td>0.909684</td>\n",
       "      <td>0.936248</td>\n",
       "    </tr>\n",
       "    <tr>\n",
       "      <th>19</th>\n",
       "      <td>0.900729</td>\n",
       "      <td>0.912568</td>\n",
       "      <td>0.901639</td>\n",
       "      <td>0.840164</td>\n",
       "      <td>0.802064</td>\n",
       "      <td>0.859290</td>\n",
       "      <td>0.881755</td>\n",
       "      <td>0.924560</td>\n",
       "    </tr>\n",
       "  </tbody>\n",
       "</table>\n",
       "</div>"
      ],
      "text/plain": [
       "          6         7         8         9         10        11        12  \\\n",
       "1   0.794171  0.721463  0.866120  0.897541  0.881603  0.910595  0.883728   \n",
       "3   0.847146  0.904220  0.963418  0.962508  0.968124  0.970401  0.972678   \n",
       "5   0.862325  0.933515  0.965543  0.957043  0.960838  0.971311  0.970704   \n",
       "7   0.875531  0.932757  0.955070  0.947177  0.953855  0.961900  0.965999   \n",
       "9   0.885701  0.929872  0.948239  0.940953  0.948846  0.958106  0.961293   \n",
       "11  0.892532  0.927747  0.943078  0.927292  0.941409  0.946418  0.946418   \n",
       "13  0.894505  0.925015  0.933971  0.919399  0.914845  0.930480  0.942471   \n",
       "15  0.897845  0.921220  0.925471  0.898604  0.899666  0.919095  0.927899   \n",
       "17  0.899818  0.917122  0.913783  0.873558  0.882210  0.894657  0.909684   \n",
       "19  0.900729  0.912568  0.901639  0.840164  0.802064  0.859290  0.881755   \n",
       "\n",
       "          13  \n",
       "1   0.865361  \n",
       "3   0.969490  \n",
       "5   0.972070  \n",
       "7   0.971615  \n",
       "9   0.968124  \n",
       "11  0.962508  \n",
       "13  0.953248  \n",
       "15  0.948391  \n",
       "17  0.936248  \n",
       "19  0.924560  "
      ]
     },
     "execution_count": 6,
     "metadata": {},
     "output_type": "execute_result"
    }
   ],
   "source": [
    "accuracy_summary"
   ]
  },
  {
   "cell_type": "code",
   "execution_count": 7,
   "metadata": {},
   "outputs": [
    {
     "data": {
      "text/plain": [
       "<matplotlib.colorbar.Colorbar at 0x7fbc5ab3c310>"
      ]
     },
     "execution_count": 7,
     "metadata": {},
     "output_type": "execute_result"
    },
    {
     "data": {
      "image/png": "[encoded data removed]",
      "text/plain": [
       "<Figure size 432x288 with 2 Axes>"
      ]
     },
     "metadata": {
      "needs_background": "light"
     },
     "output_type": "display_data"
    }
   ],
   "source": [
    "fig, ax = plt.subplots()\n",
    "mappable = ax.imshow(np.log(epsilon_summary), cmap='bwr', interpolation='gaussian')\n",
    "ax.set_xlabel(r'$M$')\n",
    "ax.set_ylabel('# layer')\n",
    "ax.set_xticks(np.arange(len(n_qubits_list)))\n",
    "ax.set_yticks(np.arange(len(n_layers_list)))\n",
    "ax.set_xticklabels(n_qubits_list)\n",
    "ax.set_yticklabels(n_layers_list)\n",
    "fig.colorbar(mappable)"
   ]
  },
  {
   "cell_type": "code",
   "execution_count": 8,
   "metadata": {},
   "outputs": [
    {
     "data": {
      "text/plain": [
       "(array([[ 6,  7,  8,  9, 10, 11, 12, 13],\n",
       "        [ 6,  7,  8,  9, 10, 11, 12, 13],\n",
       "        [ 6,  7,  8,  9, 10, 11, 12, 13],\n",
       "        [ 6,  7,  8,  9, 10, 11, 12, 13],\n",
       "        [ 6,  7,  8,  9, 10, 11, 12, 13],\n",
       "        [ 6,  7,  8,  9, 10, 11, 12, 13],\n",
       "        [ 6,  7,  8,  9, 10, 11, 12, 13],\n",
       "        [ 6,  7,  8,  9, 10, 11, 12, 13],\n",
       "        [ 6,  7,  8,  9, 10, 11, 12, 13],\n",
       "        [ 6,  7,  8,  9, 10, 11, 12, 13]]),\n",
       " array([[ 1,  1,  1,  1,  1,  1,  1,  1],\n",
       "        [ 3,  3,  3,  3,  3,  3,  3,  3],\n",
       "        [ 5,  5,  5,  5,  5,  5,  5,  5],\n",
       "        [ 7,  7,  7,  7,  7,  7,  7,  7],\n",
       "        [ 9,  9,  9,  9,  9,  9,  9,  9],\n",
       "        [11, 11, 11, 11, 11, 11, 11, 11],\n",
       "        [13, 13, 13, 13, 13, 13, 13, 13],\n",
       "        [15, 15, 15, 15, 15, 15, 15, 15],\n",
       "        [17, 17, 17, 17, 17, 17, 17, 17],\n",
       "        [19, 19, 19, 19, 19, 19, 19, 19]]))"
      ]
     },
     "execution_count": 8,
     "metadata": {},
     "output_type": "execute_result"
    }
   ],
   "source": [
    "N_qubits, N_layers = np.meshgrid(n_qubits_list, n_layers_list)\n",
    "N_qubits, N_layers"
   ]
  },
  {
   "cell_type": "code",
   "execution_count": 9,
   "metadata": {},
   "outputs": [
    {
     "data": {
      "text/plain": [
       "array([[  6,   7,   8,   9,  10,  11,  12,  13],\n",
       "       [ 18,  21,  24,  27,  30,  33,  36,  39],\n",
       "       [ 30,  35,  40,  45,  50,  55,  60,  65],\n",
       "       [ 42,  49,  56,  63,  70,  77,  84,  91],\n",
       "       [ 54,  63,  72,  81,  90,  99, 108, 117],\n",
       "       [ 66,  77,  88,  99, 110, 121, 132, 143],\n",
       "       [ 78,  91, 104, 117, 130, 143, 156, 169],\n",
       "       [ 90, 105, 120, 135, 150, 165, 180, 195],\n",
       "       [102, 119, 136, 153, 170, 187, 204, 221],\n",
       "       [114, 133, 152, 171, 190, 209, 228, 247]])"
      ]
     },
     "execution_count": 9,
     "metadata": {},
     "output_type": "execute_result"
    }
   ],
   "source": [
    "N_params = N_qubits*N_layers\n",
    "N_params"
   ]
  },
  {
   "cell_type": "code",
   "execution_count": 10,
   "metadata": {},
   "outputs": [
    {
     "data": {
      "text/plain": [
       "array([[0.00505389, 0.00614728, 0.0086612 , 0.00957487, 0.01114621,\n",
       "        0.00688643, 0.00977736, 0.0107078 ],\n",
       "       [0.00179371, 0.00194982, 0.00371446, 0.00396506, 0.00530337,\n",
       "        0.0041465 , 0.00565386, 0.00661241],\n",
       "       [0.00024471, 0.00065156, 0.00133093, 0.00208538, 0.00297294,\n",
       "        0.00296965, 0.00482572, 0.00528731],\n",
       "       [0.00023366, 0.00053103, 0.0010631 , 0.00121372, 0.0018702 ,\n",
       "        0.00209823, 0.00417931, 0.00570635],\n",
       "       [0.00031168, 0.00067114, 0.00140562, 0.00121404, 0.00142925,\n",
       "        0.00167839, 0.00352207, 0.00510121],\n",
       "       [0.00038971, 0.00084891, 0.00183488, 0.00161304, 0.00139413,\n",
       "        0.00142947, 0.00282274, 0.00449404],\n",
       "       [0.00046732, 0.00101845, 0.00225822, 0.00204528, 0.00177092,\n",
       "        0.00135502, 0.00253251, 0.00387255],\n",
       "       [0.00054514, 0.00118789, 0.00267374, 0.00249116, 0.00203163,\n",
       "        0.00145781, 0.00229005, 0.00354269],\n",
       "       [0.00062284, 0.00135777, 0.00306768, 0.00292713, 0.00229645,\n",
       "        0.00170664, 0.00223202, 0.00321001],\n",
       "       [0.00070465, 0.00152929, 0.00344973, 0.00334972, 0.00287657,\n",
       "        0.00191567, 0.00239319, 0.00300873]])"
      ]
     },
     "execution_count": 10,
     "metadata": {},
     "output_type": "execute_result"
    }
   ],
   "source": [
    "epsilon_summary.to_numpy()"
   ]
  },
  {
   "cell_type": "code",
   "execution_count": 11,
   "metadata": {},
   "outputs": [
    {
     "data": {
      "image/png": "[encoded data removed]",
      "text/plain": [
       "<Figure size 432x288 with 2 Axes>"
      ]
     },
     "metadata": {
      "needs_background": "light"
     },
     "output_type": "display_data"
    }
   ],
   "source": [
    "plt.scatter(N_params.flatten(), epsilon_summary.to_numpy().flatten(), c=N_qubits.flatten())\n",
    "plt.colorbar()\n",
    "plt.xscale('log')\n",
    "plt.yscale('log')"
   ]
  },
  {
   "cell_type": "code",
   "execution_count": 12,
   "metadata": {},
   "outputs": [
    {
     "data": {
      "text/plain": [
       "Text(0.5, 0, '$M$')"
      ]
     },
     "execution_count": 12,
     "metadata": {},
     "output_type": "execute_result"
    },
    {
     "data": {
      "image/png": "[encoded data removed]",
      "text/plain": [
       "<Figure size 432x288 with 2 Axes>"
      ]
     },
     "metadata": {
      "needs_background": "light"
     },
     "output_type": "display_data"
    }
   ],
   "source": [
    "plt.contourf(2**N_qubits, N_params, epsilon_summary, cmap='binary')\n",
    "plt.plot((2**N_qubits)[0], ((2**N_qubits))[0]/20)\n",
    "plt.colorbar()\n",
    "plt.ylabel('# params')\n",
    "plt.ylim([None, np.max(N_params)])\n",
    "plt.xlabel(r'$M$')"
   ]
  },
  {
   "cell_type": "code",
   "execution_count": null,
   "metadata": {},
   "outputs": [],
   "source": []
  }
 ],
 "metadata": {
  "interpreter": {
   "hash": "bd569b419454c0a0019c09bece6d44cb1c2509ee45afef24a0823fc75b36fb0e"
  },
  "kernelspec": {
   "display_name": "Python 3.9.2 ('qiskit')",
   "language": "python",
   "name": "python3"
  },
  "language_info": {
   "codemirror_mode": {
    "name": "ipython",
    "version": 3
   },
   "file_extension": ".py",
   "mimetype": "text/x-python",
   "name": "python",
   "nbconvert_exporter": "python",
   "pygments_lexer": "ipython3",
   "version": "3.9.2"
  },
  "orig_nbformat": 4
 },
 "nbformat": 4,
 "nbformat_minor": 2
}
