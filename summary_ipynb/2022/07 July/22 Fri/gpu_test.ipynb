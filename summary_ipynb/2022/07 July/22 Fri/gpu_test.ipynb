{
 "cells": [
  {
   "cell_type": "code",
   "execution_count": 1,
   "metadata": {},
   "outputs": [],
   "source": [
    "import sys\n",
    "from pathlib import Path\n",
    "import json\n",
    "\n",
    "import numpy as np\n",
    "import pennylane as qml\n",
    "from matplotlib import pyplot as plt\n",
    "from qiskit import QuantumCircuit\n",
    "from qiskit.utils import QuantumInstance\n",
    "from qiskit_machine_learning.kernels import QuantumKernel\n",
    "from qiskit.providers.aer import StatevectorSimulator\n",
    "from qiskit.circuit.library import ZZFeatureMap\n",
    "from sklearn.datasets import fetch_openml\n",
    "from sklearn.decomposition import PCA\n",
    "from sklearn.preprocessing import StandardScaler\n",
    "from sklearn.model_selection import train_test_split\n",
    "from sklearn.metrics import accuracy_score\n",
    "from torch.utils.tensorboard import SummaryWriter\n",
    "from pandas import DataFrame\n",
    "\n",
    "sys.path.extend(['/home/quic/QUIC-Projects/'])\n",
    "from classifiers.quantum.qml.qasvm import PseudoTensorSoftQASVM\n",
    "from classifiers.datasets.sklearn import SklearnDataset\n",
    "from classifiers.quantum.ansatz import MultilayerCircuit9FeatureMap\n",
    "from classifiers.convex.svm import CvxSoftQASVM"
   ]
  },
  {
   "cell_type": "code",
   "execution_count": 2,
   "metadata": {},
   "outputs": [
    {
     "name": "stdout",
     "output_type": "stream",
     "text": [
      "loaded mnist data set\n"
     ]
    }
   ],
   "source": [
    "dataset = fetch_openml('mnist_784')\n",
    "print('loaded mnist data set')"
   ]
  },
  {
   "cell_type": "code",
   "execution_count": 7,
   "metadata": {},
   "outputs": [],
   "source": [
    "test_size = 14780-2**13 #2**13\n",
    "train_size = 2**13\n",
    "n_feature = 10"
   ]
  },
  {
   "cell_type": "code",
   "execution_count": 8,
   "metadata": {},
   "outputs": [],
   "source": [
    "def load_train_and_test_data(dataset, train_size:float=2**13, test_size:float=2**7):\n",
    "    data = dataset.data.to_numpy()\n",
    "    label = dataset.target.to_numpy().astype(float)\n",
    "    # label = np.where(label%2, 1, 0)\n",
    "    mask = (label==0) + (label==1)\n",
    "    data = data[mask]\n",
    "    label = label[mask]\n",
    "    reproducible_seed = np.random.randint(99999)\n",
    "    X_train, X_test, y_train, y_test = train_test_split(data, label, train_size=train_size, test_size=test_size, random_state=reproducible_seed)\n",
    "    return X_train, y_train, X_test, y_test, reproducible_seed\n",
    "\n",
    "def reduce_and_normalize_data(n_components, X_train, X_test):\n",
    "    scaler = StandardScaler()\n",
    "    pca = PCA(n_components=n_components)\n",
    "    X_train = scaler.fit_transform(X_train)\n",
    "    X_train = pca.fit_transform(X_train)\n",
    "    X_test = scaler.transform(X_test)\n",
    "    X_test = pca.transform(X_test)\n",
    "    for i, d in enumerate(X_train):\n",
    "        X_train[i] = d/np.linalg.norm(d)\n",
    "    for i, d in enumerate(X_test):\n",
    "        X_test[i] = d/np.linalg.norm(d)\n",
    "    return X_train, X_test\n",
    "\n",
    "def construct_training_and_test_quantum_kernel_matrix_cpu(feature_map:QuantumCircuit, X_train:np.ndarray, X_test:np.ndarray):\n",
    "    quantum_instance = QuantumInstance(backend = StatevectorSimulator(device='CPU')) # TODO: gpu vs cpu\n",
    "    quantum_kernel = QuantumKernel(feature_map=feature_map, quantum_instance=quantum_instance, enforce_psd=False)\n",
    "    training_kernel = quantum_kernel.evaluate(X_train, X_train)\n",
    "    test_kernel = quantum_kernel.evaluate(X_train, X_test)\n",
    "    return training_kernel, test_kernel\n",
    "\n",
    "def construct_training_and_test_quantum_kernel_matrix_gpu(feature_map:QuantumCircuit, X_train:np.ndarray, X_test:np.ndarray):\n",
    "    quantum_instance = QuantumInstance(backend = StatevectorSimulator(device='GPU')) # TODO: gpu vs cpu\n",
    "    quantum_kernel = QuantumKernel(feature_map=feature_map, quantum_instance=quantum_instance, enforce_psd=False)\n",
    "    training_kernel = quantum_kernel.evaluate(X_train, X_train)\n",
    "    test_kernel = quantum_kernel.evaluate(X_train, X_test)\n",
    "    return training_kernel, test_kernel"
   ]
  },
  {
   "cell_type": "code",
   "execution_count": 10,
   "metadata": {},
   "outputs": [],
   "source": [
    "X_train, y_train, X_test, y_test, reproducible_seed = load_train_and_test_data(dataset, train_size=train_size, test_size=test_size)\n",
    "X_train, X_test = reduce_and_normalize_data(n_feature, X_train, X_test)\n",
    "feature_map = ZZFeatureMap(feature_dimension=n_feature, reps=2, entanglement='linear')"
   ]
  },
  {
   "cell_type": "code",
   "execution_count": 11,
   "metadata": {},
   "outputs": [],
   "source": [
    "train_kernel, test_kernel = construct_training_and_test_quantum_kernel_matrix_cpu(feature_map=feature_map, X_train=X_train, X_test=X_test)"
   ]
  },
  {
   "cell_type": "code",
   "execution_count": 12,
   "metadata": {},
   "outputs": [],
   "source": [
    "train_kernel, test_kernel = construct_training_and_test_quantum_kernel_matrix_gpu(feature_map=feature_map, X_train=X_train, X_test=X_test)"
   ]
  },
  {
   "cell_type": "code",
   "execution_count": 26,
   "metadata": {},
   "outputs": [],
   "source": [
    "import pennylane as qml\n",
    "from itertools import permutations, combinations\n",
    "\n",
    "device = qml.device('lightning.gpu', wires = n_feature)\n",
    "\n",
    "def qmlZZfeatureMap(params, wires:list, reps:int, entanglement:str='linear'):\n",
    "    phi1 = lambda x: x\n",
    "    phi2 = lambda x, y: (np.pi-x)*(np.pi-y)\n",
    "    wires = list(wires)\n",
    "    for wire in wires:\n",
    "        qml.Hadamard(wires=wire)\n",
    "        qml.U1(2.0*phi1(params[wire]), wires=wire)\n",
    "    if entanglement=='linear':\n",
    "        ent_wires = zip(wires[:-1], wires[1:])\n",
    "    elif entanglement=='all':\n",
    "        ent_wires = combinations(wires, 2)\n",
    "    elif entanglement=='circular':\n",
    "        ent_wires = zip(wires[:], wires[1:]+[wires[0]])\n",
    "    for wire1, wire2 in ent_wires:\n",
    "        qml.CNOT(wires=(wire1, wire2))\n",
    "        qml.U1(2.0*phi2(params[wire1], params[wire2]), wires=wire2)\n",
    "        qml.CNOT(wires=(wire1, wire2))\n"
   ]
  },
  {
   "cell_type": "code",
   "execution_count": 31,
   "metadata": {},
   "outputs": [],
   "source": [
    "@qml.qnode(device=device)\n",
    "def circuit(x1, x2):\n",
    "    qmlZZfeatureMap(x1, wires=device.wires, reps=2)\n",
    "    qml.adjoint(qmlZZfeatureMap)(x2, wires=device.wires, reps=2)\n",
    "    return qml.probs(wires=device.wires)\n",
    "kernel = lambda x1, x2: circuit(x1, x2)[0]\n",
    "\n",
    "def construct_training_and_test_quantum_kernel_matrix_qml(X_train:np.ndarray, X_test:np.ndarray):\n",
    "    training_kernel = qml.kernels.square_kernel_matrix(X_train, kernel)\n",
    "    test_kernel = qml.kernels.kernel_matrix(X_train, X_test, kernel)\n",
    "    return training_kernel, test_kernel"
   ]
  },
  {
   "cell_type": "code",
   "execution_count": 32,
   "metadata": {},
   "outputs": [
    {
     "ename": "KeyboardInterrupt",
     "evalue": "",
     "output_type": "error",
     "traceback": [
      "\u001b[0;31m---------------------------------------------------------------------------\u001b[0m",
      "\u001b[0;31mKeyboardInterrupt\u001b[0m                         Traceback (most recent call last)",
      "Cell \u001b[0;32mIn [32], line 1\u001b[0m\n\u001b[0;32m----> 1\u001b[0m train_kernel, test_kernel \u001b[38;5;241m=\u001b[39m \u001b[43mconstruct_training_and_test_quantum_kernel_matrix_qml\u001b[49m\u001b[43m(\u001b[49m\u001b[43mX_train\u001b[49m\u001b[38;5;241;43m=\u001b[39;49m\u001b[43mX_train\u001b[49m\u001b[43m,\u001b[49m\u001b[43m \u001b[49m\u001b[43mX_test\u001b[49m\u001b[38;5;241;43m=\u001b[39;49m\u001b[43mX_test\u001b[49m\u001b[43m)\u001b[49m\n",
      "Cell \u001b[0;32mIn [31], line 9\u001b[0m, in \u001b[0;36mconstruct_training_and_test_quantum_kernel_matrix_qml\u001b[0;34m(X_train, X_test)\u001b[0m\n\u001b[1;32m      8\u001b[0m \u001b[38;5;28;01mdef\u001b[39;00m \u001b[38;5;21mconstruct_training_and_test_quantum_kernel_matrix_qml\u001b[39m(X_train:np\u001b[38;5;241m.\u001b[39mndarray, X_test:np\u001b[38;5;241m.\u001b[39mndarray):\n\u001b[0;32m----> 9\u001b[0m     training_kernel \u001b[38;5;241m=\u001b[39m \u001b[43mqml\u001b[49m\u001b[38;5;241;43m.\u001b[39;49m\u001b[43mkernels\u001b[49m\u001b[38;5;241;43m.\u001b[39;49m\u001b[43msquare_kernel_matrix\u001b[49m\u001b[43m(\u001b[49m\u001b[43mX_train\u001b[49m\u001b[43m,\u001b[49m\u001b[43m \u001b[49m\u001b[43mkernel\u001b[49m\u001b[43m)\u001b[49m\n\u001b[1;32m     10\u001b[0m     test_kernel \u001b[38;5;241m=\u001b[39m qml\u001b[38;5;241m.\u001b[39mkernels\u001b[38;5;241m.\u001b[39mkernel_matrix(X_train, X_test, kernel)\n\u001b[1;32m     11\u001b[0m     \u001b[38;5;28;01mreturn\u001b[39;00m training_kernel, test_kernel\n",
      "File \u001b[0;32m~/anaconda/envs/qiskit/lib/python3.9/site-packages/pennylane/kernels/utils.py:67\u001b[0m, in \u001b[0;36msquare_kernel_matrix\u001b[0;34m(X, kernel, assume_normalized_kernel)\u001b[0m\n\u001b[1;32m     65\u001b[0m             matrix[N \u001b[39m*\u001b[39m i \u001b[39m+\u001b[39m j] \u001b[39m=\u001b[39m \u001b[39m1.0\u001b[39m\n\u001b[1;32m     66\u001b[0m         \u001b[39melse\u001b[39;00m:\n\u001b[0;32m---> 67\u001b[0m             matrix[N \u001b[39m*\u001b[39m i \u001b[39m+\u001b[39m j] \u001b[39m=\u001b[39m kernel(X[i], X[j])\n\u001b[1;32m     68\u001b[0m             matrix[N \u001b[39m*\u001b[39m j \u001b[39m+\u001b[39m i] \u001b[39m=\u001b[39m matrix[N \u001b[39m*\u001b[39m i \u001b[39m+\u001b[39m j]\n\u001b[1;32m     70\u001b[0m \u001b[39mreturn\u001b[39;00m np\u001b[39m.\u001b[39marray(matrix)\u001b[39m.\u001b[39mreshape((N, N))\n",
      "Cell \u001b[0;32mIn [31], line 6\u001b[0m, in \u001b[0;36m<lambda>\u001b[0;34m(x1, x2)\u001b[0m\n\u001b[1;32m      4\u001b[0m     qml\u001b[38;5;241m.\u001b[39madjoint(qmlZZfeatureMap)(x2, wires\u001b[38;5;241m=\u001b[39mdevice\u001b[38;5;241m.\u001b[39mwires, reps\u001b[38;5;241m=\u001b[39m\u001b[38;5;241m2\u001b[39m)\n\u001b[1;32m      5\u001b[0m     \u001b[38;5;28;01mreturn\u001b[39;00m qml\u001b[38;5;241m.\u001b[39mprobs(wires\u001b[38;5;241m=\u001b[39mdevice\u001b[38;5;241m.\u001b[39mwires)\n\u001b[0;32m----> 6\u001b[0m kernel \u001b[38;5;241m=\u001b[39m \u001b[38;5;28;01mlambda\u001b[39;00m x1, x2: \u001b[43mcircuit\u001b[49m\u001b[43m(\u001b[49m\u001b[43mx1\u001b[49m\u001b[43m,\u001b[49m\u001b[43m \u001b[49m\u001b[43mx2\u001b[49m\u001b[43m)\u001b[49m[\u001b[38;5;241m0\u001b[39m]\n\u001b[1;32m      8\u001b[0m \u001b[38;5;28;01mdef\u001b[39;00m \u001b[38;5;21mconstruct_training_and_test_quantum_kernel_matrix_qml\u001b[39m(X_train:np\u001b[38;5;241m.\u001b[39mndarray, X_test:np\u001b[38;5;241m.\u001b[39mndarray):\n\u001b[1;32m      9\u001b[0m     training_kernel \u001b[38;5;241m=\u001b[39m qml\u001b[38;5;241m.\u001b[39mkernels\u001b[38;5;241m.\u001b[39msquare_kernel_matrix(X_train, kernel)\n",
      "File \u001b[0;32m~/anaconda/envs/qiskit/lib/python3.9/site-packages/pennylane/qnode.py:660\u001b[0m, in \u001b[0;36mQNode.__call__\u001b[0;34m(self, *args, **kwargs)\u001b[0m\n\u001b[1;32m    656\u001b[0m             res \u001b[39m=\u001b[39m \u001b[39mtuple\u001b[39m(res)\n\u001b[1;32m    658\u001b[0m     \u001b[39mreturn\u001b[39;00m res\n\u001b[0;32m--> 660\u001b[0m res \u001b[39m=\u001b[39m qml\u001b[39m.\u001b[39;49mexecute(\n\u001b[1;32m    661\u001b[0m     [\u001b[39mself\u001b[39;49m\u001b[39m.\u001b[39;49mtape],\n\u001b[1;32m    662\u001b[0m     device\u001b[39m=\u001b[39;49m\u001b[39mself\u001b[39;49m\u001b[39m.\u001b[39;49mdevice,\n\u001b[1;32m    663\u001b[0m     gradient_fn\u001b[39m=\u001b[39;49m\u001b[39mself\u001b[39;49m\u001b[39m.\u001b[39;49mgradient_fn,\n\u001b[1;32m    664\u001b[0m     interface\u001b[39m=\u001b[39;49m\u001b[39mself\u001b[39;49m\u001b[39m.\u001b[39;49minterface,\n\u001b[1;32m    665\u001b[0m     gradient_kwargs\u001b[39m=\u001b[39;49m\u001b[39mself\u001b[39;49m\u001b[39m.\u001b[39;49mgradient_kwargs,\n\u001b[1;32m    666\u001b[0m     override_shots\u001b[39m=\u001b[39;49moverride_shots,\n\u001b[1;32m    667\u001b[0m     \u001b[39m*\u001b[39;49m\u001b[39m*\u001b[39;49m\u001b[39mself\u001b[39;49m\u001b[39m.\u001b[39;49mexecute_kwargs,\n\u001b[1;32m    668\u001b[0m )\n\u001b[1;32m    670\u001b[0m \u001b[39mif\u001b[39;00m autograd\u001b[39m.\u001b[39misinstance(res, (\u001b[39mtuple\u001b[39m, \u001b[39mlist\u001b[39m)) \u001b[39mand\u001b[39;00m \u001b[39mlen\u001b[39m(res) \u001b[39m==\u001b[39m \u001b[39m1\u001b[39m:\n\u001b[1;32m    671\u001b[0m     \u001b[39m# If a device batch transform was applied, we need to 'unpack'\u001b[39;00m\n\u001b[1;32m    672\u001b[0m     \u001b[39m# the returned tuple/list to a float.\u001b[39;00m\n\u001b[0;32m   (...)\u001b[0m\n\u001b[1;32m    679\u001b[0m     \u001b[39m# TODO: find a more explicit way of determining that a batch transform\u001b[39;00m\n\u001b[1;32m    680\u001b[0m     \u001b[39m# was applied.\u001b[39;00m\n\u001b[1;32m    682\u001b[0m     res \u001b[39m=\u001b[39m res[\u001b[39m0\u001b[39m]\n",
      "File \u001b[0;32m~/anaconda/envs/qiskit/lib/python3.9/site-packages/pennylane/interfaces/execution.py:443\u001b[0m, in \u001b[0;36mexecute\u001b[0;34m(tapes, device, gradient_fn, interface, mode, gradient_kwargs, cache, cachesize, max_diff, override_shots, expand_fn, max_expansion, device_batch_transform)\u001b[0m\n\u001b[1;32m    437\u001b[0m \u001b[39mexcept\u001b[39;00m \u001b[39mImportError\u001b[39;00m \u001b[39mas\u001b[39;00m e:\n\u001b[1;32m    438\u001b[0m     \u001b[39mraise\u001b[39;00m qml\u001b[39m.\u001b[39mQuantumFunctionError(\n\u001b[1;32m    439\u001b[0m         \u001b[39mf\u001b[39m\u001b[39m\"\u001b[39m\u001b[39m{\u001b[39;00mmapped_interface\u001b[39m}\u001b[39;00m\u001b[39m not found. Please install the latest \u001b[39m\u001b[39m\"\u001b[39m\n\u001b[1;32m    440\u001b[0m         \u001b[39mf\u001b[39m\u001b[39m\"\u001b[39m\u001b[39mversion of \u001b[39m\u001b[39m{\u001b[39;00mmapped_interface\u001b[39m}\u001b[39;00m\u001b[39m to enable the \u001b[39m\u001b[39m'\u001b[39m\u001b[39m{\u001b[39;00mmapped_interface\u001b[39m}\u001b[39;00m\u001b[39m'\u001b[39m\u001b[39m interface.\u001b[39m\u001b[39m\"\u001b[39m\n\u001b[1;32m    441\u001b[0m     ) \u001b[39mfrom\u001b[39;00m \u001b[39me\u001b[39;00m\n\u001b[0;32m--> 443\u001b[0m res \u001b[39m=\u001b[39m _execute(\n\u001b[1;32m    444\u001b[0m     tapes, device, execute_fn, gradient_fn, gradient_kwargs, _n\u001b[39m=\u001b[39;49m\u001b[39m1\u001b[39;49m, max_diff\u001b[39m=\u001b[39;49mmax_diff, mode\u001b[39m=\u001b[39;49m_mode\n\u001b[1;32m    445\u001b[0m )\n\u001b[1;32m    447\u001b[0m \u001b[39mreturn\u001b[39;00m batch_fn(res)\n",
      "File \u001b[0;32m~/anaconda/envs/qiskit/lib/python3.9/site-packages/pennylane/interfaces/autograd.py:66\u001b[0m, in \u001b[0;36mexecute\u001b[0;34m(tapes, device, execute_fn, gradient_fn, gradient_kwargs, _n, max_diff, mode)\u001b[0m\n\u001b[1;32m     60\u001b[0m \u001b[39m# pylint misidentifies autograd.builtins as a dict\u001b[39;00m\n\u001b[1;32m     61\u001b[0m \u001b[39m# pylint: disable=no-member\u001b[39;00m\n\u001b[1;32m     62\u001b[0m parameters \u001b[39m=\u001b[39m autograd\u001b[39m.\u001b[39mbuiltins\u001b[39m.\u001b[39mtuple(\n\u001b[1;32m     63\u001b[0m     [autograd\u001b[39m.\u001b[39mbuiltins\u001b[39m.\u001b[39mlist(t\u001b[39m.\u001b[39mget_parameters()) \u001b[39mfor\u001b[39;00m t \u001b[39min\u001b[39;00m tapes]\n\u001b[1;32m     64\u001b[0m )\n\u001b[0;32m---> 66\u001b[0m \u001b[39mreturn\u001b[39;00m _execute(\n\u001b[1;32m     67\u001b[0m     parameters,\n\u001b[1;32m     68\u001b[0m     tapes\u001b[39m=\u001b[39;49mtapes,\n\u001b[1;32m     69\u001b[0m     device\u001b[39m=\u001b[39;49mdevice,\n\u001b[1;32m     70\u001b[0m     execute_fn\u001b[39m=\u001b[39;49mexecute_fn,\n\u001b[1;32m     71\u001b[0m     gradient_fn\u001b[39m=\u001b[39;49mgradient_fn,\n\u001b[1;32m     72\u001b[0m     gradient_kwargs\u001b[39m=\u001b[39;49mgradient_kwargs,\n\u001b[1;32m     73\u001b[0m     _n\u001b[39m=\u001b[39;49m_n,\n\u001b[1;32m     74\u001b[0m     max_diff\u001b[39m=\u001b[39;49mmax_diff,\n\u001b[1;32m     75\u001b[0m )[\u001b[39m0\u001b[39m]\n",
      "File \u001b[0;32m~/anaconda/envs/qiskit/lib/python3.9/site-packages/autograd/tracer.py:48\u001b[0m, in \u001b[0;36mprimitive.<locals>.f_wrapped\u001b[0;34m(*args, **kwargs)\u001b[0m\n\u001b[1;32m     46\u001b[0m     \u001b[39mreturn\u001b[39;00m new_box(ans, trace, node)\n\u001b[1;32m     47\u001b[0m \u001b[39melse\u001b[39;00m:\n\u001b[0;32m---> 48\u001b[0m     \u001b[39mreturn\u001b[39;00m f_raw(\u001b[39m*\u001b[39;49margs, \u001b[39m*\u001b[39;49m\u001b[39m*\u001b[39;49mkwargs)\n",
      "File \u001b[0;32m~/anaconda/envs/qiskit/lib/python3.9/site-packages/pennylane/interfaces/autograd.py:110\u001b[0m, in \u001b[0;36m_execute\u001b[0;34m(parameters, tapes, device, execute_fn, gradient_fn, gradient_kwargs, _n, max_diff)\u001b[0m\n\u001b[1;32m     89\u001b[0m \u001b[39m\"\"\"Autodifferentiable wrapper around ``Device.batch_execute``.\u001b[39;00m\n\u001b[1;32m     90\u001b[0m \n\u001b[1;32m     91\u001b[0m \u001b[39mThe signature of this function is designed to work around Autograd restrictions.\u001b[39;00m\n\u001b[0;32m   (...)\u001b[0m\n\u001b[1;32m    107\u001b[0m \u001b[39munderstand the consequences!\u001b[39;00m\n\u001b[1;32m    108\u001b[0m \u001b[39m\"\"\"\u001b[39;00m\n\u001b[1;32m    109\u001b[0m \u001b[39mwith\u001b[39;00m qml\u001b[39m.\u001b[39mtape\u001b[39m.\u001b[39mUnwrap(\u001b[39m*\u001b[39mtapes):\n\u001b[0;32m--> 110\u001b[0m     res, jacs \u001b[39m=\u001b[39m execute_fn(tapes, \u001b[39m*\u001b[39;49m\u001b[39m*\u001b[39;49mgradient_kwargs)\n\u001b[1;32m    112\u001b[0m \u001b[39mfor\u001b[39;00m i, r \u001b[39min\u001b[39;00m \u001b[39menumerate\u001b[39m(res):\n\u001b[1;32m    114\u001b[0m     \u001b[39mif\u001b[39;00m \u001b[39many\u001b[39m(m\u001b[39m.\u001b[39mreturn_type \u001b[39mis\u001b[39;00m qml\u001b[39m.\u001b[39mmeasurements\u001b[39m.\u001b[39mCounts \u001b[39mfor\u001b[39;00m m \u001b[39min\u001b[39;00m tapes[i]\u001b[39m.\u001b[39mmeasurements):\n",
      "File \u001b[0;32m~/anaconda/envs/qiskit/lib/python3.9/site-packages/pennylane/interfaces/execution.py:142\u001b[0m, in \u001b[0;36mcache_execute.<locals>.wrapper\u001b[0;34m(tapes, **kwargs)\u001b[0m\n\u001b[1;32m    139\u001b[0m repeated \u001b[39m=\u001b[39m {}\n\u001b[1;32m    141\u001b[0m \u001b[39mfor\u001b[39;00m i, tape \u001b[39min\u001b[39;00m \u001b[39menumerate\u001b[39m(tapes):\n\u001b[0;32m--> 142\u001b[0m     h \u001b[39m=\u001b[39m tape\u001b[39m.\u001b[39;49mhash\n\u001b[1;32m    144\u001b[0m     \u001b[39mif\u001b[39;00m h \u001b[39min\u001b[39;00m hashes\u001b[39m.\u001b[39mvalues():\n\u001b[1;32m    145\u001b[0m         \u001b[39m# Tape already exists within ``tapes``. Determine the\u001b[39;00m\n\u001b[1;32m    146\u001b[0m         \u001b[39m# index of the first occurrence of the tape, store this,\u001b[39;00m\n\u001b[1;32m    147\u001b[0m         \u001b[39m# and continue to the next iteration.\u001b[39;00m\n\u001b[1;32m    148\u001b[0m         idx \u001b[39m=\u001b[39m \u001b[39mlist\u001b[39m(hashes\u001b[39m.\u001b[39mkeys())[\u001b[39mlist\u001b[39m(hashes\u001b[39m.\u001b[39mvalues())\u001b[39m.\u001b[39mindex(h)]\n",
      "File \u001b[0;32m~/anaconda/envs/qiskit/lib/python3.9/site-packages/pennylane/tape/tape.py:1571\u001b[0m, in \u001b[0;36mQuantumTape.hash\u001b[0;34m(self)\u001b[0m\n\u001b[1;32m   1569\u001b[0m \u001b[39m\"\"\"int: returns an integer hash uniquely representing the quantum tape\"\"\"\u001b[39;00m\n\u001b[1;32m   1570\u001b[0m fingerprint \u001b[39m=\u001b[39m []\n\u001b[0;32m-> 1571\u001b[0m fingerprint\u001b[39m.\u001b[39;49mextend(op\u001b[39m.\u001b[39;49mhash \u001b[39mfor\u001b[39;49;00m op \u001b[39min\u001b[39;49;00m \u001b[39mself\u001b[39;49m\u001b[39m.\u001b[39;49moperations)\n\u001b[1;32m   1572\u001b[0m fingerprint\u001b[39m.\u001b[39mextend(m\u001b[39m.\u001b[39mhash \u001b[39mfor\u001b[39;00m m \u001b[39min\u001b[39;00m \u001b[39mself\u001b[39m\u001b[39m.\u001b[39mmeasurements)\n\u001b[1;32m   1573\u001b[0m fingerprint\u001b[39m.\u001b[39mextend(\u001b[39mself\u001b[39m\u001b[39m.\u001b[39mtrainable_params)\n",
      "File \u001b[0;32m~/anaconda/envs/qiskit/lib/python3.9/site-packages/pennylane/tape/tape.py:1571\u001b[0m, in \u001b[0;36m<genexpr>\u001b[0;34m(.0)\u001b[0m\n\u001b[1;32m   1569\u001b[0m \u001b[39m\"\"\"int: returns an integer hash uniquely representing the quantum tape\"\"\"\u001b[39;00m\n\u001b[1;32m   1570\u001b[0m fingerprint \u001b[39m=\u001b[39m []\n\u001b[0;32m-> 1571\u001b[0m fingerprint\u001b[39m.\u001b[39mextend(op\u001b[39m.\u001b[39;49mhash \u001b[39mfor\u001b[39;00m op \u001b[39min\u001b[39;00m \u001b[39mself\u001b[39m\u001b[39m.\u001b[39moperations)\n\u001b[1;32m   1572\u001b[0m fingerprint\u001b[39m.\u001b[39mextend(m\u001b[39m.\u001b[39mhash \u001b[39mfor\u001b[39;00m m \u001b[39min\u001b[39;00m \u001b[39mself\u001b[39m\u001b[39m.\u001b[39mmeasurements)\n\u001b[1;32m   1573\u001b[0m fingerprint\u001b[39m.\u001b[39mextend(\u001b[39mself\u001b[39m\u001b[39m.\u001b[39mtrainable_params)\n",
      "File \u001b[0;32m~/anaconda/envs/qiskit/lib/python3.9/site-packages/pennylane/operation.py:544\u001b[0m, in \u001b[0;36mOperator.hash\u001b[0;34m(self)\u001b[0m\n\u001b[1;32m    537\u001b[0m \u001b[39m@property\u001b[39m\n\u001b[1;32m    538\u001b[0m \u001b[39mdef\u001b[39;00m \u001b[39mhash\u001b[39m(\u001b[39mself\u001b[39m):\n\u001b[1;32m    539\u001b[0m     \u001b[39m\"\"\"int: Integer hash that uniquely represents the operator.\"\"\"\u001b[39;00m\n\u001b[1;32m    540\u001b[0m     \u001b[39mreturn\u001b[39;00m \u001b[39mhash\u001b[39m(\n\u001b[1;32m    541\u001b[0m         (\n\u001b[1;32m    542\u001b[0m             \u001b[39mstr\u001b[39m(\u001b[39mself\u001b[39m\u001b[39m.\u001b[39mname),\n\u001b[1;32m    543\u001b[0m             \u001b[39mtuple\u001b[39m(\u001b[39mself\u001b[39m\u001b[39m.\u001b[39mwires\u001b[39m.\u001b[39mtolist()),\n\u001b[0;32m--> 544\u001b[0m             \u001b[39mstr\u001b[39;49m(\u001b[39mself\u001b[39;49m\u001b[39m.\u001b[39;49mhyperparameters\u001b[39m.\u001b[39;49mvalues()),\n\u001b[1;32m    545\u001b[0m             _process_data(\u001b[39mself\u001b[39m),\n\u001b[1;32m    546\u001b[0m         )\n\u001b[1;32m    547\u001b[0m     )\n",
      "File \u001b[0;32m~/anaconda/envs/qiskit/lib/python3.9/site-packages/pennylane/operation.py:953\u001b[0m, in \u001b[0;36mOperator.__repr__\u001b[0;34m(self)\u001b[0m\n\u001b[1;32m    951\u001b[0m \u001b[39m\"\"\"Constructor-call-like representation.\"\"\"\u001b[39;00m\n\u001b[1;32m    952\u001b[0m \u001b[39mif\u001b[39;00m \u001b[39mself\u001b[39m\u001b[39m.\u001b[39mparameters:\n\u001b[0;32m--> 953\u001b[0m     params \u001b[39m=\u001b[39m \u001b[39m\"\u001b[39m\u001b[39m, \u001b[39m\u001b[39m\"\u001b[39m\u001b[39m.\u001b[39mjoin([\u001b[39mrepr\u001b[39m(p) \u001b[39mfor\u001b[39;00m p \u001b[39min\u001b[39;00m \u001b[39mself\u001b[39m\u001b[39m.\u001b[39mparameters])\n\u001b[1;32m    954\u001b[0m     \u001b[39mreturn\u001b[39;00m \u001b[39mf\u001b[39m\u001b[39m\"\u001b[39m\u001b[39m{\u001b[39;00m\u001b[39mself\u001b[39m\u001b[39m.\u001b[39mname\u001b[39m}\u001b[39;00m\u001b[39m(\u001b[39m\u001b[39m{\u001b[39;00mparams\u001b[39m}\u001b[39;00m\u001b[39m, wires=\u001b[39m\u001b[39m{\u001b[39;00m\u001b[39mself\u001b[39m\u001b[39m.\u001b[39mwires\u001b[39m.\u001b[39mtolist()\u001b[39m}\u001b[39;00m\u001b[39m)\u001b[39m\u001b[39m\"\u001b[39m\n\u001b[1;32m    955\u001b[0m \u001b[39mreturn\u001b[39;00m \u001b[39mf\u001b[39m\u001b[39m\"\u001b[39m\u001b[39m{\u001b[39;00m\u001b[39mself\u001b[39m\u001b[39m.\u001b[39mname\u001b[39m}\u001b[39;00m\u001b[39m(wires=\u001b[39m\u001b[39m{\u001b[39;00m\u001b[39mself\u001b[39m\u001b[39m.\u001b[39mwires\u001b[39m.\u001b[39mtolist()\u001b[39m}\u001b[39;00m\u001b[39m)\u001b[39m\u001b[39m\"\u001b[39m\n",
      "File \u001b[0;32m~/anaconda/envs/qiskit/lib/python3.9/site-packages/pennylane/operation.py:953\u001b[0m, in \u001b[0;36m<listcomp>\u001b[0;34m(.0)\u001b[0m\n\u001b[1;32m    951\u001b[0m \u001b[39m\"\"\"Constructor-call-like representation.\"\"\"\u001b[39;00m\n\u001b[1;32m    952\u001b[0m \u001b[39mif\u001b[39;00m \u001b[39mself\u001b[39m\u001b[39m.\u001b[39mparameters:\n\u001b[0;32m--> 953\u001b[0m     params \u001b[39m=\u001b[39m \u001b[39m\"\u001b[39m\u001b[39m, \u001b[39m\u001b[39m\"\u001b[39m\u001b[39m.\u001b[39mjoin([\u001b[39mrepr\u001b[39;49m(p) \u001b[39mfor\u001b[39;00m p \u001b[39min\u001b[39;00m \u001b[39mself\u001b[39m\u001b[39m.\u001b[39mparameters])\n\u001b[1;32m    954\u001b[0m     \u001b[39mreturn\u001b[39;00m \u001b[39mf\u001b[39m\u001b[39m\"\u001b[39m\u001b[39m{\u001b[39;00m\u001b[39mself\u001b[39m\u001b[39m.\u001b[39mname\u001b[39m}\u001b[39;00m\u001b[39m(\u001b[39m\u001b[39m{\u001b[39;00mparams\u001b[39m}\u001b[39;00m\u001b[39m, wires=\u001b[39m\u001b[39m{\u001b[39;00m\u001b[39mself\u001b[39m\u001b[39m.\u001b[39mwires\u001b[39m.\u001b[39mtolist()\u001b[39m}\u001b[39;00m\u001b[39m)\u001b[39m\u001b[39m\"\u001b[39m\n\u001b[1;32m    955\u001b[0m \u001b[39mreturn\u001b[39;00m \u001b[39mf\u001b[39m\u001b[39m\"\u001b[39m\u001b[39m{\u001b[39;00m\u001b[39mself\u001b[39m\u001b[39m.\u001b[39mname\u001b[39m}\u001b[39;00m\u001b[39m(wires=\u001b[39m\u001b[39m{\u001b[39;00m\u001b[39mself\u001b[39m\u001b[39m.\u001b[39mwires\u001b[39m.\u001b[39mtolist()\u001b[39m}\u001b[39;00m\u001b[39m)\u001b[39m\u001b[39m\"\u001b[39m\n",
      "\u001b[0;31mKeyboardInterrupt\u001b[0m: "
     ]
    }
   ],
   "source": [
    "train_kernel, test_kernel = construct_training_and_test_quantum_kernel_matrix_qml(X_train=X_train, X_test=X_test)"
   ]
  },
  {
   "cell_type": "markdown",
   "metadata": {},
   "source": [
    "## Result\n",
    "\n",
    "1. cpu: 19m 55.1s\n",
    "2. gpu: 20m 27.7s\n",
    "3. pennylane+gpu: >40m 8.4s"
   ]
  },
  {
   "cell_type": "markdown",
   "metadata": {},
   "source": []
  }
 ],
 "metadata": {
  "kernelspec": {
   "display_name": "Python 3.9.13 ('qiskit')",
   "language": "python",
   "name": "python3"
  },
  "language_info": {
   "codemirror_mode": {
    "name": "ipython",
    "version": 3
   },
   "file_extension": ".py",
   "mimetype": "text/x-python",
   "name": "python",
   "nbconvert_exporter": "python",
   "pygments_lexer": "ipython3",
   "version": "3.9.13"
  },
  "orig_nbformat": 4,
  "vscode": {
   "interpreter": {
    "hash": "86394d4aecdf90bfa3aa767d508cb9549ad3b678679daec23858fa7c305a4457"
   }
  }
 },
 "nbformat": 4,
 "nbformat_minor": 2
}
