{
 "cells": [
  {
   "cell_type": "code",
   "execution_count": 1,
   "metadata": {},
   "outputs": [],
   "source": [
    "import sys\n",
    "quic_path = '/home/quic/QUIC-Projects'\n",
    "if not quic_path in sys.path:\n",
    "    sys.path.append(quic_path)"
   ]
  },
  {
   "cell_type": "code",
   "execution_count": 2,
   "metadata": {},
   "outputs": [],
   "source": [
    "import numpy as np \n",
    "from matplotlib import pyplot as plt"
   ]
  },
  {
   "cell_type": "code",
   "execution_count": 3,
   "metadata": {},
   "outputs": [],
   "source": [
    "# for SVM\n",
    "from classifiers.convex.svm import BinarySVM\n",
    "from classifiers.kernel import Kernel\n",
    "from classifiers.datasets.dataloader import Example_4x2\n",
    "from classifiers.datasets import IrisDataset\n",
    "# for QASVM\n",
    "from classifiers.quantum.qasvm import QASVM, NormQSVM\n",
    "from classifiers.quantum.ansatz import Circuit9, sample_circuit\n",
    "from classifiers.optimizer import tSPSA\n",
    "from classifiers.callback import CostParamStorage\n",
    "from qiskit.utils import QuantumInstance\n",
    "from qiskit.providers.aer import AerSimulator, StatevectorSimulator, Aer, QasmSimulator"
   ]
  },
  {
   "cell_type": "code",
   "execution_count": 4,
   "metadata": {},
   "outputs": [],
   "source": [
    "ds = IrisDataset(feature_range=(-np.pi, np.pi), true_hot=0)\n",
    "X, y = ds.sample(2**6, return_X_y=True)"
   ]
  },
  {
   "cell_type": "code",
   "execution_count": 5,
   "metadata": {},
   "outputs": [
    {
     "data": {
      "text/plain": [
       "Options(shots=8192, device='CPU', precision='double', executor=None, max_job_size=None, max_shot_size=None, zero_threshold=1e-10, validation_threshold=None, max_parallel_threads=None, max_parallel_experiments=None, max_parallel_shots=None, max_memory_mb=None, seed_simulator=None, fusion_enable=True, fusion_verbose=False, fusion_max_qubit=5, fusion_threshold=14, statevector_parallel_threshold=14)"
      ]
     },
     "execution_count": 5,
     "metadata": {},
     "output_type": "execute_result"
    }
   ],
   "source": [
    "backend = StatevectorSimulator(device='CPU', shots=2**13)\n",
    "backend.options"
   ]
  },
  {
   "cell_type": "code",
   "execution_count": 6,
   "metadata": {},
   "outputs": [],
   "source": [
    "_feature_map = Circuit9(X.shape[1], reps=1)\n",
    "feature_map = _feature_map.copy()\n",
    "for _ in range(2 - 1):\n",
    "    feature_map.compose(_feature_map, inplace=True)\n",
    "\n",
    "var_form = sample_circuit(15)(num_qubits=6, reps=5)\n",
    "quantum_instance = QuantumInstance(backend=backend, shots=2**13)\n",
    "qasvm = NormQSVM(\n",
    "        X, y, lamda=1,\n",
    "        quantum_instance=quantum_instance,\n",
    "        var_form=var_form,\n",
    "        feature_map=feature_map\n",
    "    )\n",
    "storage = CostParamStorage()\n",
    "optimizer = tSPSA(maxiter=2**5, blocking=True, last_avg=16, callback=storage)"
   ]
  },
  {
   "cell_type": "code",
   "execution_count": 7,
   "metadata": {},
   "outputs": [
    {
     "data": {
      "text/plain": [
       "0.4941355257148294"
      ]
     },
     "execution_count": 7,
     "metadata": {},
     "output_type": "execute_result"
    }
   ],
   "source": [
    "qasvm.cost_fn(qasvm.parameters)"
   ]
  },
  {
   "cell_type": "code",
   "execution_count": 8,
   "metadata": {},
   "outputs": [
    {
     "data": {
      "application/vnd.jupyter.widget-view+json": {
       "model_id": "42df40765d654e45bb81d63a998335c5",
       "version_major": 2,
       "version_minor": 0
      },
      "text/plain": [
       "  0%|          | 0/1024 [00:00<?, ?it/s]"
      ]
     },
     "metadata": {},
     "output_type": "display_data"
    }
   ],
   "source": [
    "import qiskit.tools.jupyter\n",
    "from qiskit.algorithms.optimizers import SPSA, ADAM\n",
    "from tqdm.notebook import tqdm\n",
    "MAXITER = 2**10\n",
    "\n",
    "pbar = tqdm(total=MAXITER)\n",
    "\n",
    "def callback(nfev, params, fval, stepsize, accepted):\n",
    "    storage(nfev, parameters=params, cost=fval, step_size=stepsize, isaccepted=accepted)\n",
    "    pbar.update()\n",
    "\n",
    "optimizer = SPSA(maxiter=MAXITER, blocking=True, last_avg=16, callback=callback)\n",
    "# optimizer = ADAM(snapshot_dir='./')\n",
    "\n",
    "opt_result = optimizer.minimize(fun=qasvm.cost_fn, x0=qasvm.initial_point, jac=qasvm.grad_fn)"
   ]
  },
  {
   "cell_type": "code",
   "execution_count": 9,
   "metadata": {},
   "outputs": [
    {
     "name": "stdout",
     "output_type": "stream",
     "text": [
      "{   'fun': 0.040174694660051274,\n",
      "    'jac': None,\n",
      "    'nfev': 3073,\n",
      "    'nit': None,\n",
      "    'njev': None,\n",
      "    'x': array([-1.56472876,  2.59855177, -2.33426715,  0.33851011,  2.45094263,\n",
      "        1.2882865 ,  3.12587804, -0.57830676,  2.6432059 ,  2.3190778 ,\n",
      "        0.88254545, -1.01237409, -2.12377778, -0.21592798, -2.73249379,\n",
      "        1.25568205,  2.14040463, -0.02059231, -1.53714043,  3.14998873,\n",
      "        0.85116713,  2.11539627, -2.84584746,  0.35570974, -0.31693988,\n",
      "        0.28039534,  3.46960393,  3.57825509, -1.06509618,  1.22323275])}\n"
     ]
    }
   ],
   "source": [
    "print(opt_result)"
   ]
  },
  {
   "cell_type": "code",
   "execution_count": 10,
   "metadata": {},
   "outputs": [
    {
     "data": {
      "text/plain": [
       "<seaborn.axisgrid.FacetGrid at 0x7f03980f6400>"
      ]
     },
     "execution_count": 10,
     "metadata": {},
     "output_type": "execute_result"
    },
    {
     "data": {
      "image/png": "[encoded data removed]",
      "text/plain": [
       "<Figure size 421.25x360 with 1 Axes>"
      ]
     },
     "metadata": {
      "needs_background": "light"
     },
     "output_type": "display_data"
    }
   ],
   "source": [
    "storage.plot()"
   ]
  },
  {
   "cell_type": "code",
   "execution_count": 11,
   "metadata": {},
   "outputs": [
    {
     "data": {
      "text/plain": [
       "0.96875"
      ]
     },
     "execution_count": 11,
     "metadata": {},
     "output_type": "execute_result"
    }
   ],
   "source": [
    "qasvm.parameters = storage.last_avg(16)\n",
    "qasvm.accuracy(X, y)"
   ]
  },
  {
   "cell_type": "code",
   "execution_count": 25,
   "metadata": {},
   "outputs": [],
   "source": [
    "from classifiers.quantum.qasvm import PseudoNormQSVM\n",
    "\n",
    "pqasvm = PseudoNormQSVM(X, y, quantum_instance=quantum_instance, feature_map=feature_map, lamda=qasvm.lamda)\n",
    "pstorage = CostParamStorage()"
   ]
  },
  {
   "cell_type": "code",
   "execution_count": 29,
   "metadata": {},
   "outputs": [
    {
     "data": {
      "text/plain": [
       "0.17508276289179958"
      ]
     },
     "execution_count": 29,
     "metadata": {},
     "output_type": "execute_result"
    }
   ],
   "source": [
    "pqasvm.cost_fn(pqasvm.parameters)"
   ]
  },
  {
   "cell_type": "code",
   "execution_count": 38,
   "metadata": {},
   "outputs": [
    {
     "data": {
      "application/vnd.jupyter.widget-view+json": {
       "model_id": "cfe25db6370546eca43b68898b951770",
       "version_major": 2,
       "version_minor": 0
      },
      "text/plain": [
       "  0%|          | 0/10240 [00:00<?, ?it/s]"
      ]
     },
     "metadata": {},
     "output_type": "display_data"
    }
   ],
   "source": [
    "pbar = tqdm(total=10*MAXITER)\n",
    "\n",
    "def pcallback(nfev, params, fval, stepsize, accepted):\n",
    "    pstorage(nfev, parameters=params, cost=fval, step_size=stepsize, isaccepted=accepted)\n",
    "    pbar.update()\n",
    "\n",
    "poptimizer = SPSA(maxiter=10*MAXITER, blocking=True, last_avg=16, callback=pcallback)\n",
    "# optimizer = ADAM(snapshot_dir='./')\n",
    "\n",
    "popt_result = poptimizer.minimize(fun=pqasvm.cost_fn, x0=pqasvm.initial_point)\n",
    "pbar.close()"
   ]
  },
  {
   "cell_type": "code",
   "execution_count": 39,
   "metadata": {},
   "outputs": [
    {
     "name": "stdout",
     "output_type": "stream",
     "text": [
      "{   'fun': 0.05178688441050265,\n",
      "    'jac': None,\n",
      "    'nfev': 30721,\n",
      "    'nit': None,\n",
      "    'njev': None,\n",
      "    'x': array([ 2.17913971e+00, -1.31054254e-03,  4.76432120e-01, -2.39203582e-02,\n",
      "        4.82090089e+00, -1.49852202e+00,  3.35600863e-03,  2.13149570e+00,\n",
      "       -3.50781996e+00,  3.74396408e-01,  3.59592035e-01,  3.38285048e-02,\n",
      "       -1.26211737e+00,  2.52957861e+00, -7.74974906e-01,  7.98401216e-01,\n",
      "        3.86676537e+00, -1.28512243e+00,  9.39643074e-01,  2.13681129e+00,\n",
      "        3.12044521e+00,  1.81099979e+00,  2.28253315e+00, -6.94399973e-03,\n",
      "        1.10545853e+00,  3.58452911e+00,  2.78096031e+00,  7.61560507e-01,\n",
      "        3.88092578e+00,  5.71192535e-03,  1.22644558e+00, -1.81739803e-01,\n",
      "        1.87348852e-03,  1.58159485e+00,  2.13308268e+00,  3.37299003e+00,\n",
      "        4.00005602e-01, -1.52611687e-03,  1.37608972e+00, -1.17021983e-03,\n",
      "        2.66759647e+00, -1.18904930e+00,  9.93127714e-01,  3.15291372e+00,\n",
      "       -1.10135324e+00, -9.22684128e-04, -5.20989465e-01, -1.05240673e+00,\n",
      "       -1.47108431e-04,  1.04490498e+00, -2.22539728e+00, -6.15383280e-01,\n",
      "       -1.00919235e+00,  7.46506308e-04,  2.91121727e+00, -7.55627117e-03,\n",
      "       -3.13061693e+00, -1.48520614e+00, -9.25105318e-05, -1.81310190e+00,\n",
      "        7.54823489e-01,  7.75353557e-01,  3.04540526e+00,  5.28987428e-03])}\n"
     ]
    }
   ],
   "source": [
    "print(popt_result)"
   ]
  },
  {
   "cell_type": "code",
   "execution_count": 41,
   "metadata": {},
   "outputs": [
    {
     "data": {
      "text/plain": [
       "0.96875"
      ]
     },
     "execution_count": 41,
     "metadata": {},
     "output_type": "execute_result"
    }
   ],
   "source": [
    "pqasvm.parameters = pstorage.last_avg(16, True)\n",
    "pqasvm.accuracy(X, y)"
   ]
  },
  {
   "cell_type": "code",
   "execution_count": 42,
   "metadata": {},
   "outputs": [
    {
     "data": {
      "text/html": [
       "<h3>Version Information</h3><table><tr><th>Qiskit Software</th><th>Version</th></tr><tr><td><code>qiskit-terra</code></td><td>0.20.2</td></tr><tr><td><code>qiskit-aer</code></td><td>0.10.4</td></tr><tr><td><code>qiskit-ignis</code></td><td>0.7.1</td></tr><tr><td><code>qiskit-ibmq-provider</code></td><td>0.19.1</td></tr><tr><td><code>qiskit-aqua</code></td><td>0.9.5</td></tr><tr><td><code>qiskit</code></td><td>0.36.2</td></tr><tr><th>System information</th></tr><tr><td>Python version</td><td>3.9.2</td></tr><tr><td>Python compiler</td><td>GCC 7.3.0</td></tr><tr><td>Python build</td><td>default, Mar  3 2021 20:02:32</td></tr><tr><td>OS</td><td>Linux</td></tr><tr><td>CPUs</td><td>8</td></tr><tr><td>Memory (Gb)</td><td>62.733314514160156</td></tr><tr><td colspan='2'>Wed Jun 01 01:02:47 2022 KST</td></tr></table>"
      ],
      "text/plain": [
       "<IPython.core.display.HTML object>"
      ]
     },
     "metadata": {},
     "output_type": "display_data"
    }
   ],
   "source": [
    "import qiskit.tools.jupyter\n",
    "%qiskit_version_table"
   ]
  },
  {
   "cell_type": "code",
   "execution_count": null,
   "metadata": {},
   "outputs": [],
   "source": []
  }
 ],
 "metadata": {
  "interpreter": {
   "hash": "bd569b419454c0a0019c09bece6d44cb1c2509ee45afef24a0823fc75b36fb0e"
  },
  "kernelspec": {
   "display_name": "Python 3.9.2 64-bit ('QUIC': conda)",
   "language": "python",
   "name": "python3"
  },
  "language_info": {
   "codemirror_mode": {
    "name": "ipython",
    "version": 3
   },
   "file_extension": ".py",
   "mimetype": "text/x-python",
   "name": "python",
   "nbconvert_exporter": "python",
   "pygments_lexer": "ipython3",
   "version": "3.9.2"
  },
  "metadata": {
   "interpreter": {
    "hash": "6a082bf6134b372c06e64927897e08d4d2745f2f33cff72046cfead1af299ef7"
   }
  }
 },
 "nbformat": 4,
 "nbformat_minor": 2
}
