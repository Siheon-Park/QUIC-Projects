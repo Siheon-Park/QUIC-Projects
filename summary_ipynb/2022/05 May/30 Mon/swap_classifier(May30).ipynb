{
 "cells": [
  {
   "cell_type": "code",
   "execution_count": 1,
   "metadata": {},
   "outputs": [],
   "source": [
    "import sys\n",
    "quic_path = '/home/quic/QUIC-Projects'\n",
    "if not quic_path in sys.path:\n",
    "    sys.path.append(quic_path)"
   ]
  },
  {
   "cell_type": "code",
   "execution_count": 2,
   "metadata": {},
   "outputs": [],
   "source": [
    "import numpy as np \n",
    "from matplotlib import pyplot as plt"
   ]
  },
  {
   "cell_type": "code",
   "execution_count": 3,
   "metadata": {},
   "outputs": [],
   "source": [
    "# for SVM\n",
    "from classifiers.convex.svm import BinarySVM\n",
    "from classifiers.kernel import Kernel\n",
    "from classifiers.datasets.dataloader import Example_4x2\n",
    "from classifiers.datasets import IrisDataset\n",
    "# for QASVM\n",
    "from classifiers.quantum.qasvm import QASVM, NormQSVM\n",
    "from classifiers.quantum.ansatz import Circuit9, sample_circuit\n",
    "from classifiers.optimizer import tSPSA\n",
    "from classifiers.callback import CostParamStorage\n",
    "from qiskit.utils import QuantumInstance\n",
    "from qiskit.providers.aer import AerSimulator, StatevectorSimulator, Aer, QasmSimulator"
   ]
  },
  {
   "cell_type": "code",
   "execution_count": 4,
   "metadata": {},
   "outputs": [],
   "source": [
    "ds = IrisDataset(feature_range=(-np.pi, np.pi), true_hot=0)\n",
    "X, y = ds.sample(2**6, return_X_y=True)"
   ]
  },
  {
   "cell_type": "code",
   "execution_count": 5,
   "metadata": {},
   "outputs": [
    {
     "data": {
      "text/plain": [
       "Options(shots=1, device='GPU', precision='double', executor=None, max_job_size=None, max_shot_size=None, zero_threshold=1e-10, validation_threshold=None, max_parallel_threads=None, max_parallel_experiments=None, max_parallel_shots=None, max_memory_mb=None, seed_simulator=None, fusion_enable=True, fusion_verbose=False, fusion_max_qubit=5, fusion_threshold=14, statevector_parallel_threshold=14)"
      ]
     },
     "execution_count": 5,
     "metadata": {},
     "output_type": "execute_result"
    }
   ],
   "source": [
    "backend = StatevectorSimulator(device='GPU')\n",
    "backend.options"
   ]
  },
  {
   "cell_type": "code",
   "execution_count": 6,
   "metadata": {},
   "outputs": [],
   "source": [
    "_feature_map = Circuit9(X.shape[1], reps=1)\n",
    "feature_map = _feature_map.copy()\n",
    "for _ in range(2 - 1):\n",
    "    feature_map.compose(_feature_map, inplace=True)\n",
    "\n",
    "var_form = sample_circuit(15)(num_qubits=6, reps=5)\n",
    "quantum_instance = QuantumInstance(backend=backend, shots=2**13)\n",
    "qasvm = NormQSVM(\n",
    "        X, y, lamda=1,\n",
    "        quantum_instance=quantum_instance,\n",
    "        var_form=var_form,\n",
    "        feature_map=feature_map\n",
    "    )\n",
    "storage = CostParamStorage()"
   ]
  },
  {
   "cell_type": "code",
   "execution_count": 7,
   "metadata": {},
   "outputs": [
    {
     "data": {
      "text/plain": [
       "0.1423668212652708"
      ]
     },
     "execution_count": 7,
     "metadata": {},
     "output_type": "execute_result"
    }
   ],
   "source": [
    "qasvm.cost_fn(qasvm.parameters)"
   ]
  },
  {
   "cell_type": "code",
   "execution_count": 8,
   "metadata": {},
   "outputs": [
    {
     "data": {
      "application/vnd.jupyter.widget-view+json": {
       "model_id": "5db8e5886cdf4bd692a9f241c68df0cc",
       "version_major": 2,
       "version_minor": 0
      },
      "text/plain": [
       "  0%|          | 0/1024 [00:00<?, ?it/s]"
      ]
     },
     "metadata": {},
     "output_type": "display_data"
    }
   ],
   "source": [
    "from qiskit.algorithms.optimizers import ADAM, SPSA\n",
    "from tqdm.notebook import tqdm\n",
    "MAXITER = 2**10\n",
    "\n",
    "pbar = tqdm(total=MAXITER)\n",
    "\n",
    "def callback(*args):\n",
    "    storage(*args)\n",
    "    pbar.update()\n",
    "\n",
    "optimizer = SPSA(maxiter=MAXITER, callback=callback, last_avg=16)\n",
    "\n",
    "opt_result = optimizer.minimize(fun=qasvm.cost_fn, x0=qasvm.initial_point, jac=qasvm.grad_fn)\n",
    "pbar.close()"
   ]
  },
  {
   "cell_type": "code",
   "execution_count": 11,
   "metadata": {},
   "outputs": [
    {
     "name": "stdout",
     "output_type": "stream",
     "text": [
      "{   'fun': 0.032518951191511936,\n",
      "    'jac': None,\n",
      "    'nfev': 3072,\n",
      "    'nit': None,\n",
      "    'njev': None,\n",
      "    'x': array([-0.73382402, -0.54642068, -3.85920876, -2.20608863,  2.66631398,\n",
      "       -2.51388573,  1.0755247 ,  0.30774831,  1.06526339, -2.67512822,\n",
      "        1.40641147,  0.60400886, -0.62643533, -1.95245856, -1.19365898,\n",
      "       -3.47988306,  2.75973921, -0.29318762, -1.83947976, -4.02607737,\n",
      "        2.21411046,  2.407811  , -0.80739082,  0.04506319, -0.48381792,\n",
      "       -1.52110587,  0.06137395, -3.56197034,  1.83129536, -1.29624856])}\n"
     ]
    }
   ],
   "source": [
    "print(opt_result)"
   ]
  },
  {
   "cell_type": "code",
   "execution_count": 13,
   "metadata": {},
   "outputs": [
    {
     "data": {
      "text/plain": [
       "0.9375"
      ]
     },
     "execution_count": 13,
     "metadata": {},
     "output_type": "execute_result"
    }
   ],
   "source": [
    "qasvm.parameters = storage.last_avg(16, True)\n",
    "qasvm.accuracy(X, y)"
   ]
  },
  {
   "cell_type": "code",
   "execution_count": 12,
   "metadata": {},
   "outputs": [
    {
     "data": {
      "text/plain": [
       "<seaborn.axisgrid.FacetGrid at 0x7f1ddde79940>"
      ]
     },
     "execution_count": 12,
     "metadata": {},
     "output_type": "execute_result"
    },
    {
     "data": {
      "image/png": "[encoded data removed]",
      "text/plain": [
       "<Figure size 421.25x360 with 1 Axes>"
      ]
     },
     "metadata": {
      "needs_background": "light"
     },
     "output_type": "display_data"
    }
   ],
   "source": [
    "storage.plot()"
   ]
  },
  {
   "cell_type": "code",
   "execution_count": 20,
   "metadata": {},
   "outputs": [],
   "source": [
    "from classifiers.quantum.qasvm import PseudoNormQSVM\n",
    "\n",
    "pqasvm = PseudoNormQSVM(data=X, label=y, quantum_instance=quantum_instance, feature_map=feature_map, lamda=qasvm.lamda)\n",
    "pstorage = CostParamStorage()"
   ]
  },
  {
   "cell_type": "code",
   "execution_count": 21,
   "metadata": {},
   "outputs": [
    {
     "data": {
      "text/plain": [
       "0.08315991883145023"
      ]
     },
     "execution_count": 21,
     "metadata": {},
     "output_type": "execute_result"
    }
   ],
   "source": [
    "pqasvm.cost_fn(pqasvm.initial_point)"
   ]
  },
  {
   "cell_type": "code",
   "execution_count": 22,
   "metadata": {},
   "outputs": [
    {
     "data": {
      "application/vnd.jupyter.widget-view+json": {
       "model_id": "18ad2fda46d647f3bb4b09c02794efd2",
       "version_major": 2,
       "version_minor": 0
      },
      "text/plain": [
       "  0%|          | 0/10240 [00:00<?, ?it/s]"
      ]
     },
     "metadata": {},
     "output_type": "display_data"
    }
   ],
   "source": [
    "pbar = tqdm(total=10*MAXITER)\n",
    "\n",
    "def pcallback(*args):\n",
    "    pstorage(*args)\n",
    "    pbar.update()\n",
    "\n",
    "poptimizer = SPSA(maxiter=10*MAXITER, callback=pcallback, last_avg=16)\n",
    "\n",
    "popt_result = poptimizer.minimize(fun=pqasvm.cost_fn, x0=pqasvm.initial_point)\n",
    "pbar.close()"
   ]
  },
  {
   "cell_type": "code",
   "execution_count": 23,
   "metadata": {},
   "outputs": [
    {
     "name": "stdout",
     "output_type": "stream",
     "text": [
      "{   'fun': 0.03472968633728051,\n",
      "    'jac': None,\n",
      "    'nfev': 30720,\n",
      "    'nit': None,\n",
      "    'njev': None,\n",
      "    'x': array([ 8.87352535e-01, -2.33869520e-01, -7.61014594e-01,  3.63152951e+00,\n",
      "        3.09465813e+00, -5.54458275e-03,  1.86279020e+00, -1.27604532e+00,\n",
      "        2.07908171e-01,  3.91728598e+00, -1.11286862e+00,  3.72628673e-01,\n",
      "        1.34772085e-02,  1.96782569e+00, -2.64620368e+00, -1.38778562e-02,\n",
      "       -3.80111094e+00,  1.04238581e+00, -2.77973204e+00,  2.92359707e+00,\n",
      "       -1.16021724e+00, -5.51098946e+00,  2.43019252e-02,  6.84855505e-03,\n",
      "       -1.69899230e+00,  2.45216931e+00,  9.28417575e-01, -8.42635478e-01,\n",
      "        1.15356772e+00, -1.49709827e-02, -2.81621736e-03, -2.45747248e+00,\n",
      "        3.65914516e+00, -5.53887155e-03, -3.97823168e+00,  2.50131641e+00,\n",
      "       -3.85778861e-01, -3.04154695e-03,  1.80752344e+00, -9.66107402e-04,\n",
      "        5.44455617e-01,  4.70361793e-01, -2.19084579e+00, -5.29183885e-03,\n",
      "        4.37862022e+00, -2.25641930e+00, -8.62959128e-02,  1.63847738e+00,\n",
      "        8.95654136e-01, -1.78117798e+00, -2.02741914e+00,  7.14325071e-01,\n",
      "       -2.66035269e-01, -1.60486149e+00,  6.75771939e-01,  3.02762327e+00,\n",
      "        3.73706879e+00,  1.71327240e+00,  2.11603614e+00, -7.42596535e-01,\n",
      "       -9.44983653e-02,  9.24382450e-01,  2.38234490e-04, -4.82884490e-01])}\n"
     ]
    }
   ],
   "source": [
    "print(popt_result)"
   ]
  },
  {
   "cell_type": "code",
   "execution_count": 24,
   "metadata": {},
   "outputs": [
    {
     "data": {
      "text/plain": [
       "<seaborn.axisgrid.FacetGrid at 0x7f1d7997a4f0>"
      ]
     },
     "execution_count": 24,
     "metadata": {},
     "output_type": "execute_result"
    },
    {
     "data": {
      "image/png": "[encoded data removed]",
      "text/plain": [
       "<Figure size 421.25x360 with 1 Axes>"
      ]
     },
     "metadata": {
      "needs_background": "light"
     },
     "output_type": "display_data"
    }
   ],
   "source": [
    "pstorage.plot()"
   ]
  },
  {
   "cell_type": "code",
   "execution_count": 25,
   "metadata": {},
   "outputs": [
    {
     "data": {
      "text/plain": [
       "1.0"
      ]
     },
     "execution_count": 25,
     "metadata": {},
     "output_type": "execute_result"
    }
   ],
   "source": [
    "pqasvm.parameters = pstorage.last_avg(16, True)\n",
    "pqasvm.accuracy(X, y)"
   ]
  },
  {
   "cell_type": "code",
   "execution_count": 28,
   "metadata": {},
   "outputs": [
    {
     "data": {
      "text/plain": [
       "0.03251895119151196"
      ]
     },
     "execution_count": 28,
     "metadata": {},
     "output_type": "execute_result"
    }
   ],
   "source": [
    "qasvm.cost_fn(qasvm.parameters)"
   ]
  },
  {
   "cell_type": "code",
   "execution_count": 31,
   "metadata": {},
   "outputs": [
    {
     "data": {
      "text/plain": [
       "0.03472968633728051"
      ]
     },
     "execution_count": 31,
     "metadata": {},
     "output_type": "execute_result"
    }
   ],
   "source": [
    "pqasvm.cost_fn(pqasvm.parameters)"
   ]
  },
  {
   "cell_type": "code",
   "execution_count": 91,
   "metadata": {},
   "outputs": [],
   "source": [
    "from classifiers.optimizer import Result2Dict\n",
    "\n",
    "qasvm.save('./qasvm')\n",
    "storage.save('./storage')\n",
    "Result2Dict(opt_result).save_json('./opt_result.json')\n",
    "\n",
    "pqasvm.save('./pqasvm')\n",
    "pstorage.save('./pstorage')\n",
    "Result2Dict(popt_result).save_json('./popt_result.json')"
   ]
  },
  {
   "cell_type": "code",
   "execution_count": 93,
   "metadata": {},
   "outputs": [
    {
     "data": {
      "text/html": [
       "<h3>Version Information</h3><table><tr><th>Qiskit Software</th><th>Version</th></tr><tr><td><code>qiskit-terra</code></td><td>0.20.2</td></tr><tr><td><code>qiskit-aer</code></td><td>0.10.4</td></tr><tr><td><code>qiskit-ignis</code></td><td>0.7.1</td></tr><tr><td><code>qiskit-ibmq-provider</code></td><td>0.19.1</td></tr><tr><td><code>qiskit</code></td><td>0.36.2</td></tr><tr><td><code>qiskit-machine-learning</code></td><td>0.4.0</td></tr><tr><th>System information</th></tr><tr><td>Python version</td><td>3.9.7</td></tr><tr><td>Python compiler</td><td>GCC 7.5.0</td></tr><tr><td>Python build</td><td>default, Sep 16 2021 13:09:58</td></tr><tr><td>OS</td><td>Linux</td></tr><tr><td>CPUs</td><td>8</td></tr><tr><td>Memory (Gb)</td><td>62.74072265625</td></tr><tr><td colspan='2'>Wed Jun 01 00:21:10 2022 KST</td></tr></table>"
      ],
      "text/plain": [
       "<IPython.core.display.HTML object>"
      ]
     },
     "metadata": {},
     "output_type": "display_data"
    }
   ],
   "source": [
    "import qiskit.tools.jupyter\n",
    "%qiskit_version_table"
   ]
  },
  {
   "cell_type": "code",
   "execution_count": null,
   "metadata": {},
   "outputs": [],
   "source": []
  }
 ],
 "metadata": {
  "interpreter": {
   "hash": "bd569b419454c0a0019c09bece6d44cb1c2509ee45afef24a0823fc75b36fb0e"
  },
  "kernelspec": {
   "display_name": "Python 3.9.2 64-bit ('QUIC': conda)",
   "language": "python",
   "name": "python3"
  },
  "language_info": {
   "codemirror_mode": {
    "name": "ipython",
    "version": 3
   },
   "file_extension": ".py",
   "mimetype": "text/x-python",
   "name": "python",
   "nbconvert_exporter": "python",
   "pygments_lexer": "ipython3",
   "version": "3.9.7"
  },
  "metadata": {
   "interpreter": {
    "hash": "6a082bf6134b372c06e64927897e08d4d2745f2f33cff72046cfead1af299ef7"
   }
  }
 },
 "nbformat": 4,
 "nbformat_minor": 2
}
