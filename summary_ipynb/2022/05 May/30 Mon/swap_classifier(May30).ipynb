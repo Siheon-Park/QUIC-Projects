{
 "cells": [
  {
   "cell_type": "code",
   "execution_count": 1,
   "metadata": {},
   "outputs": [],
   "source": [
    "import sys\n",
    "quic_path = '/home/quic/QUIC-Projects'\n",
    "if not quic_path in sys.path:\n",
    "    sys.path.append(quic_path)"
   ]
  },
  {
   "cell_type": "code",
   "execution_count": 2,
   "metadata": {},
   "outputs": [],
   "source": [
    "import numpy as np \n",
    "from matplotlib import pyplot as plt"
   ]
  },
  {
   "cell_type": "code",
   "execution_count": 3,
   "metadata": {},
   "outputs": [],
   "source": [
    "# for SVM\n",
    "from classifiers.convex.svm import BinarySVM\n",
    "from classifiers.kernel import Kernel\n",
    "from classifiers.datasets import IrisDataset\n",
    "# for QASVM\n",
    "from classifiers.quantum.qasvm import SoftQASVM, PseudoSoftQASVM\n",
    "from classifiers.quantum.ansatz import Circuit9, sample_circuit\n",
    "from classifiers.optimizer import tSPSA\n",
    "from classifiers.callback import CostParamStorage\n",
    "from qiskit.utils import QuantumInstance\n",
    "from qiskit.providers.aer import AerSimulator, StatevectorSimulator, Aer, QasmSimulator"
   ]
  },
  {
   "cell_type": "code",
   "execution_count": 21,
   "metadata": {},
   "outputs": [],
   "source": [
    "ds = IrisDataset(feature_range=(-np.pi, np.pi), true_hot=2)\n",
    "X, y = ds.sample(2**6, return_X_y=True)"
   ]
  },
  {
   "cell_type": "code",
   "execution_count": 45,
   "metadata": {},
   "outputs": [
    {
     "data": {
      "text/plain": [
       "array([0, 0, 0, 0, 0, 0, 0, 0, 0, 0, 0, 0, 0, 0, 0, 0, 0, 0, 0, 0, 0, 0,\n",
       "       0, 0, 0, 0, 0, 0, 0, 0, 0, 0, 0, 0, 0, 0, 0, 0, 0, 0, 0, 0, 0, 0,\n",
       "       0, 0, 0, 0, 0, 0, 0, 0, 0, 0, 0, 0, 0, 0, 0, 0, 0, 0, 0, 0, 0, 0,\n",
       "       0, 0, 0, 0, 0, 0, 0, 0, 0, 0, 0, 0, 0, 0, 0, 0, 0, 0, 0, 0, 0, 0,\n",
       "       0, 0, 0, 0, 0, 0, 0, 0, 0, 0, 0, 0, 1, 1, 1, 1, 1, 1, 1, 1, 1, 1,\n",
       "       1, 1, 1, 1, 1, 1, 1, 1, 1, 1, 1, 1, 1, 1, 1, 1, 1, 1, 1, 1, 1, 1,\n",
       "       1, 1, 1, 1, 1, 1, 1, 1, 1, 1, 1, 1, 1, 1, 1, 1, 1, 1])"
      ]
     },
     "execution_count": 45,
     "metadata": {},
     "output_type": "execute_result"
    }
   ],
   "source": [
    "ds.target"
   ]
  },
  {
   "cell_type": "code",
   "execution_count": 23,
   "metadata": {},
   "outputs": [
    {
     "data": {
      "text/plain": [
       "Options(shots=8192, device='CPU', precision='double', executor=None, max_job_size=None, max_shot_size=None, zero_threshold=1e-10, validation_threshold=None, max_parallel_threads=None, max_parallel_experiments=None, max_parallel_shots=None, max_memory_mb=None, seed_simulator=None, fusion_enable=True, fusion_verbose=False, fusion_max_qubit=5, fusion_threshold=14, statevector_parallel_threshold=14)"
      ]
     },
     "execution_count": 23,
     "metadata": {},
     "output_type": "execute_result"
    }
   ],
   "source": [
    "backend = StatevectorSimulator(device='CPU', shots=2**13)\n",
    "backend.options"
   ]
  },
  {
   "cell_type": "code",
   "execution_count": 24,
   "metadata": {},
   "outputs": [],
   "source": [
    "_feature_map = Circuit9(X.shape[1], reps=1)\n",
    "feature_map = _feature_map.copy()\n",
    "for _ in range(2 - 1):\n",
    "    feature_map.compose(_feature_map, inplace=True)\n",
    "\n",
    "var_form = sample_circuit(15)(num_qubits=6, reps=5)\n",
    "quantum_instance = QuantumInstance(backend=backend, shots=2**13)\n",
    "qasvm = SoftQASVM(\n",
    "        X, y, lamda=1, C=10,\n",
    "        quantum_instance=quantum_instance,\n",
    "        var_form=var_form,\n",
    "        feature_map=feature_map\n",
    "    )\n",
    "storage = CostParamStorage()\n",
    "optimizer = tSPSA(maxiter=2**5, blocking=True, last_avg=16, callback=storage)"
   ]
  },
  {
   "cell_type": "code",
   "execution_count": null,
   "metadata": {},
   "outputs": [],
   "source": [
    "qasvm.cost_fn(qasvm.parameters)"
   ]
  },
  {
   "cell_type": "code",
   "execution_count": null,
   "metadata": {},
   "outputs": [],
   "source": [
    "import qiskit.tools.jupyter\n",
    "from qiskit.algorithms.optimizers import SPSA, ADAM\n",
    "from tqdm.notebook import tqdm\n",
    "MAXITER = 2**10\n",
    "\n",
    "pbar = tqdm(total=MAXITER)\n",
    "\n",
    "def callback(nfev, params, fval, stepsize, accepted):\n",
    "    storage(nfev, parameters=params, cost=fval, step_size=stepsize, isaccepted=accepted)\n",
    "    pbar.update()\n",
    "\n",
    "optimizer = SPSA(maxiter=MAXITER, blocking=True, last_avg=16, callback=callback)\n",
    "# optimizer = ADAM(snapshot_dir='./')\n",
    "\n",
    "opt_result = optimizer.minimize(fun=qasvm.cost_fn, x0=qasvm.initial_point, jac=qasvm.grad_fn)"
   ]
  },
  {
   "cell_type": "code",
   "execution_count": null,
   "metadata": {},
   "outputs": [],
   "source": [
    "random_params = np.random.random(qasvm.num_parameters)\n",
    "qasvm.cost_fn(random_params)"
   ]
  },
  {
   "cell_type": "code",
   "execution_count": null,
   "metadata": {},
   "outputs": [],
   "source": [
    "from qiskit import transpile\n",
    "qc = qasvm.var_form.assign_parameters(dict(zip(qasvm.var_form.parameters, random_params)))\n",
    "alpha = np.abs(StatevectorSimulator().run(transpile(qc, backend=StatevectorSimulator())).result().get_statevector())**2"
   ]
  },
  {
   "cell_type": "code",
   "execution_count": null,
   "metadata": {},
   "outputs": [],
   "source": [
    "pqasvm.cost_fn(alpha)"
   ]
  },
  {
   "cell_type": "code",
   "execution_count": null,
   "metadata": {},
   "outputs": [],
   "source": [
    "qasvm._evaluate_regularizer_circuit(random_params)"
   ]
  },
  {
   "cell_type": "code",
   "execution_count": null,
   "metadata": {},
   "outputs": [],
   "source": [
    "sum(alpha**2)"
   ]
  },
  {
   "cell_type": "code",
   "execution_count": null,
   "metadata": {},
   "outputs": [],
   "source": [
    "print(opt_result)"
   ]
  },
  {
   "cell_type": "code",
   "execution_count": null,
   "metadata": {},
   "outputs": [],
   "source": [
    "storage.plot()"
   ]
  },
  {
   "cell_type": "code",
   "execution_count": null,
   "metadata": {},
   "outputs": [],
   "source": [
    "qasvm.parameters = storage.last_avg(16)\n",
    "qasvm.accuracy(X, y)"
   ]
  },
  {
   "cell_type": "code",
   "execution_count": 25,
   "metadata": {},
   "outputs": [],
   "source": [
    "pqasvm = PseudoSoftQASVM(X, y, quantum_instance=quantum_instance, feature_map=feature_map, lamda=1, C=qasvm.C)\n",
    "pstorage = CostParamStorage()"
   ]
  },
  {
   "cell_type": "code",
   "execution_count": 26,
   "metadata": {},
   "outputs": [
    {
     "data": {
      "text/plain": [
       "0.12060156681437949"
      ]
     },
     "execution_count": 26,
     "metadata": {},
     "output_type": "execute_result"
    }
   ],
   "source": [
    "pqasvm.cost_fn(pqasvm.parameters)"
   ]
  },
  {
   "cell_type": "code",
   "execution_count": 27,
   "metadata": {},
   "outputs": [],
   "source": [
    "pqasvm.initial_point = np.where(y>0, 1-sum(y)/len(y), sum(y)/len(y))\n",
    "pqasvm.parameters = pqasvm.initial_point"
   ]
  },
  {
   "cell_type": "code",
   "execution_count": 28,
   "metadata": {},
   "outputs": [
    {
     "data": {
      "text/plain": [
       "     fun: 0.0244360286289753\n",
       "     jac: array([-5.20971837e-04,  2.22556293e-04,  3.91353387e-04,  2.13901745e-04,\n",
       "        4.21479810e-04, -4.31355787e-04, -4.82431846e-04, -4.01244499e-04,\n",
       "       -7.00720120e-04, -6.08833507e-05, -8.71662050e-05,  2.54473649e-04,\n",
       "       -2.31562648e-04,  6.04685396e-04,  7.18232943e-04, -3.41805164e-04,\n",
       "        6.51461538e-04,  1.49717089e-04, -3.77359567e-04, -2.42688018e-03,\n",
       "       -3.19448067e-04,  2.97821593e-04, -2.71503348e-04, -3.49923037e-04,\n",
       "        1.84424687e-04,  2.51554884e-05,  4.91858693e-04,  2.33746134e-04,\n",
       "        6.55625947e-04,  3.95481940e-04, -1.00207515e-04,  3.57290031e-04,\n",
       "       -3.94925009e-04,  3.97631899e-04,  3.72686423e-04, -2.53985403e-04,\n",
       "        1.84190180e-03,  1.27383973e-04,  3.80649231e-04,  4.42641089e-04,\n",
       "       -2.41357833e-04,  2.91964738e-04, -1.69040635e-04, -1.73826702e-04,\n",
       "       -2.97777820e-04,  4.81766183e-04,  4.63223085e-04,  1.85887795e-04,\n",
       "       -4.42458317e-04, -1.95937930e-04,  5.51666599e-04,  3.11271288e-05,\n",
       "       -6.69877045e-05, -2.91418051e-04, -2.31427606e-04,  3.25522851e-04,\n",
       "       -4.32427041e-04, -6.07877970e-04, -2.80062202e-04,  6.74962532e-04,\n",
       "       -3.14277597e-04, -1.91021478e-04, -1.42135215e-03, -2.95259757e-04])\n",
       " message: 'Iteration limit reached'\n",
       "    nfev: 6512\n",
       "     nit: 100\n",
       "    njev: 100\n",
       "  status: 9\n",
       " success: False\n",
       "       x: array([ 4.11758968e-01,  1.41867556e+00,  5.34618308e-01,  8.62641400e-01,\n",
       "        2.82375242e-01,  8.05164157e-02,  2.51312109e-01,  3.01490294e-01,\n",
       "       -1.03313452e-02,  1.87407145e+00, -4.42746027e-02, -1.39093358e-01,\n",
       "        8.73814344e-02,  8.96516790e-03,  5.19173584e-03, -2.37121470e-01,\n",
       "        2.67890169e+00, -2.27569594e-01,  7.67872251e-03, -2.84463073e-03,\n",
       "        2.66213070e-01,  8.31544355e-03,  4.66516250e-01,  3.90910144e-02,\n",
       "        2.16192521e+00,  2.09076653e-03,  4.27036172e-01, -6.49217054e-02,\n",
       "        5.66007357e-02,  3.26418052e-03, -1.01712947e-02,  1.42344443e-02,\n",
       "        3.47615861e+00,  9.20630881e-03,  4.07497148e-02,  2.15877657e-01,\n",
       "        4.42102098e-03, -8.17531264e-03,  8.14116937e-01, -1.51784944e-01,\n",
       "        1.81595006e-02,  4.73457129e-02,  7.22377721e-01,  1.65460837e+00,\n",
       "        4.15906285e-01,  3.21877625e-01,  7.32629510e-01,  4.91324293e+00,\n",
       "        2.39754002e-01, -2.20956660e-03,  9.30635892e-02,  3.42786504e-01,\n",
       "        2.03463238e-02,  4.72759376e-01,  1.33246915e-02,  6.81889760e-02,\n",
       "       -7.89291372e-04,  2.88637496e+00,  3.33438925e-01,  3.83133385e-03,\n",
       "        3.20834184e-01,  4.81992161e-04, -8.04642828e-03,  8.60880145e-02])"
      ]
     },
     "execution_count": 28,
     "metadata": {},
     "output_type": "execute_result"
    }
   ],
   "source": [
    "from scipy.optimize import minimize\n",
    "\n",
    "scipy_result = minimize(pqasvm._w_fn, x0=pqasvm.initial_point, method='SLSQP', constraints=dict(type='eq', fun=pqasvm.constraint))\n",
    "scipy_result"
   ]
  },
  {
   "cell_type": "code",
   "execution_count": 29,
   "metadata": {},
   "outputs": [
    {
     "data": {
      "text/plain": [
       "0.9333333333333333"
      ]
     },
     "execution_count": 29,
     "metadata": {},
     "output_type": "execute_result"
    }
   ],
   "source": [
    "pqasvm.parameters = scipy_result.x\n",
    "pqasvm.accuracy(ds.data, ds.target)"
   ]
  },
  {
   "cell_type": "code",
   "execution_count": 43,
   "metadata": {},
   "outputs": [
    {
     "data": {
      "text/plain": [
       "0.9266666666666666"
      ]
     },
     "execution_count": 43,
     "metadata": {},
     "output_type": "execute_result"
    }
   ],
   "source": [
    "from sklearn.svm import SVC\n",
    "\n",
    "svm = SVC(C=10, kernel='precomputed')\n",
    "svm.fit(pqasvm.kernel_matrix, y)\n",
    "testK = np.abs(pqasvm._qk.evaluate(ds.data, X))**2\n",
    "sum(svm.predict(testK)==ds.target)/len(ds.target)"
   ]
  },
  {
   "cell_type": "code",
   "execution_count": 31,
   "metadata": {},
   "outputs": [
    {
     "data": {
      "application/vnd.jupyter.widget-view+json": {
       "model_id": "39e080bfa9c6483c9b5b9f48a3b3c771",
       "version_major": 2,
       "version_minor": 0
      },
      "text/plain": [
       "  0%|          | 0/10240 [00:00<?, ?it/s]"
      ]
     },
     "metadata": {},
     "output_type": "display_data"
    }
   ],
   "source": [
    "import qiskit.tools.jupyter\n",
    "from qiskit.algorithms.optimizers import SPSA, ADAM\n",
    "from tqdm.notebook import tqdm\n",
    "MAXITER = 2**10\n",
    "\n",
    "pbar = tqdm(total=10*MAXITER)\n",
    "\n",
    "def pcallback(nfev, params, fval, stepsize, accepted):\n",
    "    pstorage(nfev, parameters=params, cost=fval, step_size=stepsize, isaccepted=accepted)\n",
    "    pbar.update()\n",
    "\n",
    "poptimizer = SPSA(maxiter=10*MAXITER, blocking=True, last_avg=16, callback=pcallback)\n",
    "#poptimizer = ADAM()\n",
    "\n",
    "popt_result = poptimizer.minimize(fun=pqasvm.cost_fn, x0=pqasvm.initial_point)\n",
    "pbar.close()"
   ]
  },
  {
   "cell_type": "code",
   "execution_count": 32,
   "metadata": {},
   "outputs": [
    {
     "name": "stdout",
     "output_type": "stream",
     "text": [
      "{   'fun': 0.032293830980844845,\n",
      "    'jac': None,\n",
      "    'nfev': 30721,\n",
      "    'nit': None,\n",
      "    'njev': None,\n",
      "    'x': array([-2.03507274e-01,  2.02900998e+00,  6.53796335e-01,  1.52527365e+00,\n",
      "        6.05677424e-01,  4.77160576e-01, -2.83763944e-01,  2.55481503e-01,\n",
      "        6.62226589e-01, -1.32872252e+00,  4.46198925e-01,  2.96176239e-01,\n",
      "        2.73489257e-01,  1.57889742e-01,  9.53231550e-04, -1.42732353e-01,\n",
      "        2.42607531e+00,  1.53573738e-01,  6.85965834e-02, -6.57869285e-04,\n",
      "        3.48635329e-01, -1.99631617e-01,  7.73768189e-01, -1.61021198e-02,\n",
      "        2.54569873e+00,  1.09885391e-02,  4.81987774e-01,  3.25745800e-01,\n",
      "        2.79772553e-01, -1.06556466e-02,  1.89462629e-02, -1.10594523e-04,\n",
      "        2.51455557e+00,  9.28420786e-01,  4.10109333e-03,  1.40428964e-01,\n",
      "        3.10104307e-02, -1.68344793e-02, -1.02933385e+00, -3.34604691e-01,\n",
      "        3.21575561e-02,  1.78209819e-01,  4.37992294e-01, -2.03667449e+00,\n",
      "        8.62047480e-01,  5.27038583e-01,  8.66941639e-01,  4.42978299e+00,\n",
      "        7.63150227e-01, -1.46265155e-01, -1.09480801e-03,  9.80488987e-01,\n",
      "       -7.00077478e-03,  6.63369568e-01,  1.16483705e-02, -2.24739414e-01,\n",
      "        2.22661737e-01,  2.80277755e+00,  6.42919104e-01,  5.21359723e-02,\n",
      "        3.22385585e-01,  4.75529702e-01,  4.16363079e-01, -2.12351523e-01])}\n"
     ]
    }
   ],
   "source": [
    "print(popt_result)"
   ]
  },
  {
   "cell_type": "code",
   "execution_count": 33,
   "metadata": {},
   "outputs": [
    {
     "data": {
      "text/plain": [
       "0.94"
      ]
     },
     "execution_count": 33,
     "metadata": {},
     "output_type": "execute_result"
    }
   ],
   "source": [
    "#pqasvm.parameters = pstorage.last_avg(16, True)\n",
    "pqasvm.parameters = popt_result.x\n",
    "pqasvm.accuracy(ds.data, ds.target)"
   ]
  },
  {
   "cell_type": "code",
   "execution_count": null,
   "metadata": {},
   "outputs": [],
   "source": [
    "pstorage.plot()"
   ]
  },
  {
   "cell_type": "code",
   "execution_count": null,
   "metadata": {},
   "outputs": [],
   "source": [
    "pqasvm"
   ]
  },
  {
   "cell_type": "code",
   "execution_count": null,
   "metadata": {},
   "outputs": [],
   "source": [
    "import qiskit.tools.jupyter\n",
    "%qiskit_version_table"
   ]
  },
  {
   "cell_type": "code",
   "execution_count": null,
   "metadata": {},
   "outputs": [],
   "source": []
  }
 ],
 "metadata": {
  "interpreter": {
   "hash": "bd569b419454c0a0019c09bece6d44cb1c2509ee45afef24a0823fc75b36fb0e"
  },
  "kernelspec": {
   "display_name": "Python 3.9.2 64-bit ('QUIC': conda)",
   "language": "python",
   "name": "python3"
  },
  "language_info": {
   "codemirror_mode": {
    "name": "ipython",
    "version": 3
   },
   "file_extension": ".py",
   "mimetype": "text/x-python",
   "name": "python",
   "nbconvert_exporter": "python",
   "pygments_lexer": "ipython3",
   "version": "3.9.2"
  },
  "metadata": {
   "interpreter": {
    "hash": "6a082bf6134b372c06e64927897e08d4d2745f2f33cff72046cfead1af299ef7"
   }
  }
 },
 "nbformat": 4,
 "nbformat_minor": 2
}
