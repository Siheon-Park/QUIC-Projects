{
 "cells": [
  {
   "cell_type": "code",
   "execution_count": 12,
   "metadata": {
    "collapsed": true
   },
   "outputs": [],
   "source": [
    "from pathlib import Path\n",
    "dir_path = Path('/home/quic/QUIC-Projects/summary_ipynb/2021/06 June/03 Thu/naive(toronto)')"
   ]
  },
  {
   "cell_type": "code",
   "execution_count": 13,
   "outputs": [],
   "source": [
    "import dill\n",
    "def latex_circuit(dist:str='balanced'):\n",
    "    with open(dir_path/dist/'qasvm', 'rb') as f:\n",
    "        qasvm = dill.load(f)\n",
    "    print(qasvm.naive_first_order_circuit.draw(output='latex_source'))\n",
    "    print(qasvm.naive_second_order_circuit.draw(output='latex_source'))"
   ],
   "metadata": {
    "collapsed": false,
    "pycharm": {
     "name": "#%%\n"
    }
   }
  },
  {
   "cell_type": "code",
   "execution_count": 15,
   "outputs": [
    {
     "name": "stdout",
     "output_type": "stream",
     "text": [
      "% \\documentclass[preview]{standalone}\n",
      "% If the image is too large to fit on this documentclass use\n",
      "\\documentclass[draft]{beamer}\n",
      "% img_width = 7, img_depth = 11\n",
      "\\usepackage[size=custom,height=10,width=58,scale=0.7]{beamerposter}\n",
      "% instead and customize the height and width (in cm) to fit.\n",
      "% Large images may run out of memory quickly.\n",
      "% To fix this use the LuaLaTeX compiler, which dynamically\n",
      "% allocates memory.\n",
      "\\usepackage[braket, qm]{qcircuit}\n",
      "\\usepackage{amsmath}\n",
      "\\pdfmapfile{+sansmathaccent.map}\n",
      "% \\usepackage[landscape]{geometry}\n",
      "% Comment out the above line if using the beamer documentclass.\n",
      "\\begin{document}\n",
      "\n",
      "\\begin{equation*}\n",
      "    \\Qcircuit @C=1.0em @R=0.2em @!R {\n",
      "\t \t\\lstick{ {a}_{0} :  } & \\gate{\\mathrm{H}} & \\qw & \\qw & \\qw & \\qw & \\qw & \\ctrl{3} & \\gate{\\mathrm{H}} & \\meter & \\qw & \\qw\\\\\n",
      "\t \t\\lstick{ {i}_{0} :  } & \\gate{\\mathrm{R}_\\mathrm{Y}\\,\\mathrm{(}\\mathrm{{\\ensuremath{\\theta}}[0]}\\mathrm{)}} & \\ctrl{1} & \\gate{\\mathrm{R}_\\mathrm{Y}\\,\\mathrm{(}\\mathrm{{\\ensuremath{\\theta}}[2]}\\mathrm{)}} & \\multigate{2}{\\mathrm{Ucry}\\,\\mathrm{(}\\mathrm{0.7229},\\mathrm{-0.6055},\\mathrm{-2.507},\\mathrm{2.64}\\mathrm{)}} & \\multigate{2}{\\mathrm{Ucrz}\\,\\mathrm{(}\\mathrm{-1.004},\\mathrm{2.3},\\mathrm{-1.031},\\mathrm{2.216}\\mathrm{)}} & \\multigate{3}{\\mathrm{Ucrx}\\,\\mathrm{(}\\mathrm{\\pi},\\mathrm{\\pi},\\mathrm{0},\\mathrm{0}\\mathrm{)}} & \\qw & \\qw & \\qw & \\qw & \\qw\\\\\n",
      "\t \t\\lstick{ {i}_{1} :  } & \\gate{\\mathrm{R}_\\mathrm{Y}\\,\\mathrm{(}\\mathrm{{\\ensuremath{\\theta}}[1]}\\mathrm{)}} & \\targ & \\gate{\\mathrm{R}_\\mathrm{Y}\\,\\mathrm{(}\\mathrm{{\\ensuremath{\\theta}}[3]}\\mathrm{)}} & \\ghost{\\mathrm{Ucry}\\,\\mathrm{(}\\mathrm{0.7229},\\mathrm{-0.6055},\\mathrm{-2.507},\\mathrm{2.64}\\mathrm{)}} & \\ghost{\\mathrm{Ucrz}\\,\\mathrm{(}\\mathrm{-1.004},\\mathrm{2.3},\\mathrm{-1.031},\\mathrm{2.216}\\mathrm{)}} & \\ghost{\\mathrm{Ucrx}\\,\\mathrm{(}\\mathrm{\\pi},\\mathrm{\\pi},\\mathrm{0},\\mathrm{0}\\mathrm{)}} & \\qw & \\qw & \\qw & \\qw & \\qw\\\\\n",
      "\t \t\\lstick{ {xi}_{0} :  } & \\qw & \\qw & \\qw & \\ghost{\\mathrm{Ucry}\\,\\mathrm{(}\\mathrm{0.7229},\\mathrm{-0.6055},\\mathrm{-2.507},\\mathrm{2.64}\\mathrm{)}} & \\ghost{\\mathrm{Ucrz}\\,\\mathrm{(}\\mathrm{-1.004},\\mathrm{2.3},\\mathrm{-1.031},\\mathrm{2.216}\\mathrm{)}} & \\ghost{\\mathrm{Ucrx}\\,\\mathrm{(}\\mathrm{\\pi},\\mathrm{\\pi},\\mathrm{0},\\mathrm{0}\\mathrm{)}} & \\qswap & \\qw & \\qw & \\qw & \\qw\\\\\n",
      "\t \t\\lstick{ {yi}_{0} :  } & \\qw & \\qw & \\qw & \\qw & \\qw & \\ghost{\\mathrm{Ucrx}\\,\\mathrm{(}\\mathrm{\\pi},\\mathrm{\\pi},\\mathrm{0},\\mathrm{0}\\mathrm{)}} & \\qw & \\meter & \\qw & \\qw & \\qw\\\\\n",
      "\t \t\\lstick{ {xj}_{0} :  } & \\gate{\\mathrm{U}_3\\,\\mathrm{(}\\mathrm{X[0]},\\mathrm{X[1]},\\mathrm{0}\\mathrm{)}} & \\qw & \\qw & \\qw & \\qw & \\qw & \\qswap \\qwx[-2] & \\qw & \\qw & \\qw & \\qw\\\\\n",
      "\t \t\\lstick{c:} & \\lstick{/_{_{2}}} \\cw & \\cw & \\cw & \\cw & \\cw & \\cw & \\cw & \\dstick{_{_{1}}} \\cw \\cwx[-2] & \\dstick{_{_{0}}} \\cw \\cwx[-6] & \\cw & \\cw\\\\\n",
      "\t }\n",
      "\\end{equation*}\n",
      "\n",
      "\\end{document}\n",
      "% \\documentclass[preview]{standalone}\n",
      "% If the image is too large to fit on this documentclass use\n",
      "\\documentclass[draft]{beamer}\n",
      "% img_width = 10, img_depth = 11\n",
      "\\usepackage[size=custom,height=15,width=58,scale=0.7]{beamerposter}\n",
      "% instead and customize the height and width (in cm) to fit.\n",
      "% Large images may run out of memory quickly.\n",
      "% To fix this use the LuaLaTeX compiler, which dynamically\n",
      "% allocates memory.\n",
      "\\usepackage[braket, qm]{qcircuit}\n",
      "\\usepackage{amsmath}\n",
      "\\pdfmapfile{+sansmathaccent.map}\n",
      "% \\usepackage[landscape]{geometry}\n",
      "% Comment out the above line if using the beamer documentclass.\n",
      "\\begin{document}\n",
      "\n",
      "\\begin{equation*}\n",
      "    \\Qcircuit @C=1.0em @R=0.2em @!R {\n",
      "\t \t\\lstick{ {a}_{0} :  } & \\gate{\\mathrm{H}} & \\qw & \\qw & \\qw & \\qw & \\qw & \\ctrl{3} & \\gate{\\mathrm{H}} & \\meter & \\qw & \\qw\\\\\n",
      "\t \t\\lstick{ {i}_{0} :  } & \\gate{\\mathrm{R}_\\mathrm{Y}\\,\\mathrm{(}\\mathrm{{\\ensuremath{\\theta}}_i[0]}\\mathrm{)}} & \\ctrl{1} & \\gate{\\mathrm{R}_\\mathrm{Y}\\,\\mathrm{(}\\mathrm{{\\ensuremath{\\theta}}_i[2]}\\mathrm{)}} & \\multigate{2}{\\mathrm{Ucry}\\,\\mathrm{(}\\mathrm{0.7229},\\mathrm{-0.6055},\\mathrm{-2.507},\\mathrm{2.64}\\mathrm{)}} & \\multigate{2}{\\mathrm{Ucrz}\\,\\mathrm{(}\\mathrm{-1.004},\\mathrm{2.3},\\mathrm{-1.031},\\mathrm{2.216}\\mathrm{)}} & \\multigate{3}{\\mathrm{Ucrx}\\,\\mathrm{(}\\mathrm{\\pi},\\mathrm{\\pi},\\mathrm{0},\\mathrm{0}\\mathrm{)}} & \\qw & \\qw & \\qw & \\qw & \\qw\\\\\n",
      "\t \t\\lstick{ {i}_{1} :  } & \\gate{\\mathrm{R}_\\mathrm{Y}\\,\\mathrm{(}\\mathrm{{\\ensuremath{\\theta}}_i[1]}\\mathrm{)}} & \\targ & \\gate{\\mathrm{R}_\\mathrm{Y}\\,\\mathrm{(}\\mathrm{{\\ensuremath{\\theta}}_i[3]}\\mathrm{)}} & \\ghost{\\mathrm{Ucry}\\,\\mathrm{(}\\mathrm{0.7229},\\mathrm{-0.6055},\\mathrm{-2.507},\\mathrm{2.64}\\mathrm{)}} & \\ghost{\\mathrm{Ucrz}\\,\\mathrm{(}\\mathrm{-1.004},\\mathrm{2.3},\\mathrm{-1.031},\\mathrm{2.216}\\mathrm{)}} & \\ghost{\\mathrm{Ucrx}\\,\\mathrm{(}\\mathrm{\\pi},\\mathrm{\\pi},\\mathrm{0},\\mathrm{0}\\mathrm{)}} & \\qw & \\qw & \\qw & \\qw & \\qw\\\\\n",
      "\t \t\\lstick{ {xi}_{0} :  } & \\qw & \\qw & \\qw & \\ghost{\\mathrm{Ucry}\\,\\mathrm{(}\\mathrm{0.7229},\\mathrm{-0.6055},\\mathrm{-2.507},\\mathrm{2.64}\\mathrm{)}} & \\ghost{\\mathrm{Ucrz}\\,\\mathrm{(}\\mathrm{-1.004},\\mathrm{2.3},\\mathrm{-1.031},\\mathrm{2.216}\\mathrm{)}} & \\ghost{\\mathrm{Ucrx}\\,\\mathrm{(}\\mathrm{\\pi},\\mathrm{\\pi},\\mathrm{0},\\mathrm{0}\\mathrm{)}} & \\qswap & \\qw & \\qw & \\qw & \\qw\\\\\n",
      "\t \t\\lstick{ {yi}_{0} :  } & \\qw & \\qw & \\qw & \\qw & \\qw & \\ghost{\\mathrm{Ucrx}\\,\\mathrm{(}\\mathrm{\\pi},\\mathrm{\\pi},\\mathrm{0},\\mathrm{0}\\mathrm{)}} & \\qw & \\meter & \\qw & \\qw & \\qw\\\\\n",
      "\t \t\\lstick{ {j}_{0} :  } & \\gate{\\mathrm{R}_\\mathrm{Y}\\,\\mathrm{(}\\mathrm{{\\ensuremath{\\theta}}_j[0]}\\mathrm{)}} & \\ctrl{1} & \\gate{\\mathrm{R}_\\mathrm{Y}\\,\\mathrm{(}\\mathrm{{\\ensuremath{\\theta}}_j[2]}\\mathrm{)}} & \\multigate{2}{\\mathrm{Ucry}\\,\\mathrm{(}\\mathrm{0.7229},\\mathrm{-0.6055},\\mathrm{-2.507},\\mathrm{2.64}\\mathrm{)}} & \\multigate{2}{\\mathrm{Ucrz}\\,\\mathrm{(}\\mathrm{-1.004},\\mathrm{2.3},\\mathrm{-1.031},\\mathrm{2.216}\\mathrm{)}} & \\multigate{3}{\\mathrm{Ucrx}\\,\\mathrm{(}\\mathrm{\\pi},\\mathrm{\\pi},\\mathrm{0},\\mathrm{0}\\mathrm{)}} & \\qw & \\qw & \\qw & \\qw & \\qw\\\\\n",
      "\t \t\\lstick{ {j}_{1} :  } & \\gate{\\mathrm{R}_\\mathrm{Y}\\,\\mathrm{(}\\mathrm{{\\ensuremath{\\theta}}_j[1]}\\mathrm{)}} & \\targ & \\gate{\\mathrm{R}_\\mathrm{Y}\\,\\mathrm{(}\\mathrm{{\\ensuremath{\\theta}}_j[3]}\\mathrm{)}} & \\ghost{\\mathrm{Ucry}\\,\\mathrm{(}\\mathrm{0.7229},\\mathrm{-0.6055},\\mathrm{-2.507},\\mathrm{2.64}\\mathrm{)}} & \\ghost{\\mathrm{Ucrz}\\,\\mathrm{(}\\mathrm{-1.004},\\mathrm{2.3},\\mathrm{-1.031},\\mathrm{2.216}\\mathrm{)}} & \\ghost{\\mathrm{Ucrx}\\,\\mathrm{(}\\mathrm{\\pi},\\mathrm{\\pi},\\mathrm{0},\\mathrm{0}\\mathrm{)}} & \\qw & \\qw & \\qw & \\qw & \\qw\\\\\n",
      "\t \t\\lstick{ {xj}_{0} :  } & \\qw & \\qw & \\qw & \\ghost{\\mathrm{Ucry}\\,\\mathrm{(}\\mathrm{0.7229},\\mathrm{-0.6055},\\mathrm{-2.507},\\mathrm{2.64}\\mathrm{)}} & \\ghost{\\mathrm{Ucrz}\\,\\mathrm{(}\\mathrm{-1.004},\\mathrm{2.3},\\mathrm{-1.031},\\mathrm{2.216}\\mathrm{)}} & \\ghost{\\mathrm{Ucrx}\\,\\mathrm{(}\\mathrm{\\pi},\\mathrm{\\pi},\\mathrm{0},\\mathrm{0}\\mathrm{)}} & \\qswap \\qwx[-4] & \\qw & \\qw & \\qw & \\qw\\\\\n",
      "\t \t\\lstick{ {yj}_{0} :  } & \\qw & \\qw & \\qw & \\qw & \\qw & \\ghost{\\mathrm{Ucrx}\\,\\mathrm{(}\\mathrm{\\pi},\\mathrm{\\pi},\\mathrm{0},\\mathrm{0}\\mathrm{)}} & \\meter & \\qw & \\qw & \\qw & \\qw\\\\\n",
      "\t \t\\lstick{c:} & \\lstick{/_{_{3}}} \\cw & \\cw & \\cw & \\cw & \\cw & \\cw & \\dstick{_{_{2}}} \\cw \\cwx[-1] & \\dstick{_{_{1}}} \\cw \\cwx[-5] & \\dstick{_{_{0}}} \\cw \\cwx[-9] & \\cw & \\cw\\\\\n",
      "\t }\n",
      "\\end{equation*}\n",
      "\n",
      "\\end{document}\n",
      "% \\documentclass[preview]{standalone}\n",
      "% If the image is too large to fit on this documentclass use\n",
      "\\documentclass[draft]{beamer}\n",
      "% img_width = 7, img_depth = 11\n",
      "\\usepackage[size=custom,height=10,width=57,scale=0.7]{beamerposter}\n",
      "% instead and customize the height and width (in cm) to fit.\n",
      "% Large images may run out of memory quickly.\n",
      "% To fix this use the LuaLaTeX compiler, which dynamically\n",
      "% allocates memory.\n",
      "\\usepackage[braket, qm]{qcircuit}\n",
      "\\usepackage{amsmath}\n",
      "\\pdfmapfile{+sansmathaccent.map}\n",
      "% \\usepackage[landscape]{geometry}\n",
      "% Comment out the above line if using the beamer documentclass.\n",
      "\\begin{document}\n",
      "\n",
      "\\begin{equation*}\n",
      "    \\Qcircuit @C=1.0em @R=0.2em @!R {\n",
      "\t \t\\lstick{ {a}_{0} :  } & \\gate{\\mathrm{H}} & \\qw & \\qw & \\qw & \\qw & \\qw & \\ctrl{3} & \\gate{\\mathrm{H}} & \\meter & \\qw & \\qw\\\\\n",
      "\t \t\\lstick{ {i}_{0} :  } & \\gate{\\mathrm{R}_\\mathrm{Y}\\,\\mathrm{(}\\mathrm{{\\ensuremath{\\theta}}[0]}\\mathrm{)}} & \\ctrl{1} & \\gate{\\mathrm{R}_\\mathrm{Y}\\,\\mathrm{(}\\mathrm{{\\ensuremath{\\theta}}[2]}\\mathrm{)}} & \\multigate{2}{\\mathrm{Ucry}\\,\\mathrm{(}\\mathrm{1.521},\\mathrm{1.725},\\mathrm{1.612},\\mathrm{1.81}\\mathrm{)}} & \\multigate{2}{\\mathrm{Ucrz}\\,\\mathrm{(}\\mathrm{-2.005},\\mathrm{1.309},\\mathrm{1.124},\\mathrm{1.214}\\mathrm{)}} & \\multigate{3}{\\mathrm{Ucrx}\\,\\mathrm{(}\\mathrm{\\pi},\\mathrm{0},\\mathrm{0},\\mathrm{0}\\mathrm{)}} & \\qw & \\qw & \\qw & \\qw & \\qw\\\\\n",
      "\t \t\\lstick{ {i}_{1} :  } & \\gate{\\mathrm{R}_\\mathrm{Y}\\,\\mathrm{(}\\mathrm{{\\ensuremath{\\theta}}[1]}\\mathrm{)}} & \\targ & \\gate{\\mathrm{R}_\\mathrm{Y}\\,\\mathrm{(}\\mathrm{{\\ensuremath{\\theta}}[3]}\\mathrm{)}} & \\ghost{\\mathrm{Ucry}\\,\\mathrm{(}\\mathrm{1.521},\\mathrm{1.725},\\mathrm{1.612},\\mathrm{1.81}\\mathrm{)}} & \\ghost{\\mathrm{Ucrz}\\,\\mathrm{(}\\mathrm{-2.005},\\mathrm{1.309},\\mathrm{1.124},\\mathrm{1.214}\\mathrm{)}} & \\ghost{\\mathrm{Ucrx}\\,\\mathrm{(}\\mathrm{\\pi},\\mathrm{0},\\mathrm{0},\\mathrm{0}\\mathrm{)}} & \\qw & \\qw & \\qw & \\qw & \\qw\\\\\n",
      "\t \t\\lstick{ {xi}_{0} :  } & \\qw & \\qw & \\qw & \\ghost{\\mathrm{Ucry}\\,\\mathrm{(}\\mathrm{1.521},\\mathrm{1.725},\\mathrm{1.612},\\mathrm{1.81}\\mathrm{)}} & \\ghost{\\mathrm{Ucrz}\\,\\mathrm{(}\\mathrm{-2.005},\\mathrm{1.309},\\mathrm{1.124},\\mathrm{1.214}\\mathrm{)}} & \\ghost{\\mathrm{Ucrx}\\,\\mathrm{(}\\mathrm{\\pi},\\mathrm{0},\\mathrm{0},\\mathrm{0}\\mathrm{)}} & \\qswap & \\qw & \\qw & \\qw & \\qw\\\\\n",
      "\t \t\\lstick{ {yi}_{0} :  } & \\qw & \\qw & \\qw & \\qw & \\qw & \\ghost{\\mathrm{Ucrx}\\,\\mathrm{(}\\mathrm{\\pi},\\mathrm{0},\\mathrm{0},\\mathrm{0}\\mathrm{)}} & \\qw & \\meter & \\qw & \\qw & \\qw\\\\\n",
      "\t \t\\lstick{ {xj}_{0} :  } & \\gate{\\mathrm{U}_3\\,\\mathrm{(}\\mathrm{X[0]},\\mathrm{X[1]},\\mathrm{0}\\mathrm{)}} & \\qw & \\qw & \\qw & \\qw & \\qw & \\qswap \\qwx[-2] & \\qw & \\qw & \\qw & \\qw\\\\\n",
      "\t \t\\lstick{c:} & \\lstick{/_{_{2}}} \\cw & \\cw & \\cw & \\cw & \\cw & \\cw & \\cw & \\dstick{_{_{1}}} \\cw \\cwx[-2] & \\dstick{_{_{0}}} \\cw \\cwx[-6] & \\cw & \\cw\\\\\n",
      "\t }\n",
      "\\end{equation*}\n",
      "\n",
      "\\end{document}\n",
      "% \\documentclass[preview]{standalone}\n",
      "% If the image is too large to fit on this documentclass use\n",
      "\\documentclass[draft]{beamer}\n",
      "% img_width = 10, img_depth = 11\n",
      "\\usepackage[size=custom,height=15,width=55,scale=0.7]{beamerposter}\n",
      "% instead and customize the height and width (in cm) to fit.\n",
      "% Large images may run out of memory quickly.\n",
      "% To fix this use the LuaLaTeX compiler, which dynamically\n",
      "% allocates memory.\n",
      "\\usepackage[braket, qm]{qcircuit}\n",
      "\\usepackage{amsmath}\n",
      "\\pdfmapfile{+sansmathaccent.map}\n",
      "% \\usepackage[landscape]{geometry}\n",
      "% Comment out the above line if using the beamer documentclass.\n",
      "\\begin{document}\n",
      "\n",
      "\\begin{equation*}\n",
      "    \\Qcircuit @C=1.0em @R=0.2em @!R {\n",
      "\t \t\\lstick{ {a}_{0} :  } & \\gate{\\mathrm{H}} & \\qw & \\qw & \\qw & \\qw & \\qw & \\ctrl{3} & \\gate{\\mathrm{H}} & \\meter & \\qw & \\qw\\\\\n",
      "\t \t\\lstick{ {i}_{0} :  } & \\gate{\\mathrm{R}_\\mathrm{Y}\\,\\mathrm{(}\\mathrm{{\\ensuremath{\\theta}}_i[0]}\\mathrm{)}} & \\ctrl{1} & \\gate{\\mathrm{R}_\\mathrm{Y}\\,\\mathrm{(}\\mathrm{{\\ensuremath{\\theta}}_i[2]}\\mathrm{)}} & \\multigate{2}{\\mathrm{Ucry}\\,\\mathrm{(}\\mathrm{1.521},\\mathrm{1.725},\\mathrm{1.612},\\mathrm{1.81}\\mathrm{)}} & \\multigate{2}{\\mathrm{Ucrz}\\,\\mathrm{(}\\mathrm{-2.005},\\mathrm{1.309},\\mathrm{1.124},\\mathrm{1.214}\\mathrm{)}} & \\multigate{3}{\\mathrm{Ucrx}\\,\\mathrm{(}\\mathrm{\\pi},\\mathrm{0},\\mathrm{0},\\mathrm{0}\\mathrm{)}} & \\qw & \\qw & \\qw & \\qw & \\qw\\\\\n",
      "\t \t\\lstick{ {i}_{1} :  } & \\gate{\\mathrm{R}_\\mathrm{Y}\\,\\mathrm{(}\\mathrm{{\\ensuremath{\\theta}}_i[1]}\\mathrm{)}} & \\targ & \\gate{\\mathrm{R}_\\mathrm{Y}\\,\\mathrm{(}\\mathrm{{\\ensuremath{\\theta}}_i[3]}\\mathrm{)}} & \\ghost{\\mathrm{Ucry}\\,\\mathrm{(}\\mathrm{1.521},\\mathrm{1.725},\\mathrm{1.612},\\mathrm{1.81}\\mathrm{)}} & \\ghost{\\mathrm{Ucrz}\\,\\mathrm{(}\\mathrm{-2.005},\\mathrm{1.309},\\mathrm{1.124},\\mathrm{1.214}\\mathrm{)}} & \\ghost{\\mathrm{Ucrx}\\,\\mathrm{(}\\mathrm{\\pi},\\mathrm{0},\\mathrm{0},\\mathrm{0}\\mathrm{)}} & \\qw & \\qw & \\qw & \\qw & \\qw\\\\\n",
      "\t \t\\lstick{ {xi}_{0} :  } & \\qw & \\qw & \\qw & \\ghost{\\mathrm{Ucry}\\,\\mathrm{(}\\mathrm{1.521},\\mathrm{1.725},\\mathrm{1.612},\\mathrm{1.81}\\mathrm{)}} & \\ghost{\\mathrm{Ucrz}\\,\\mathrm{(}\\mathrm{-2.005},\\mathrm{1.309},\\mathrm{1.124},\\mathrm{1.214}\\mathrm{)}} & \\ghost{\\mathrm{Ucrx}\\,\\mathrm{(}\\mathrm{\\pi},\\mathrm{0},\\mathrm{0},\\mathrm{0}\\mathrm{)}} & \\qswap & \\qw & \\qw & \\qw & \\qw\\\\\n",
      "\t \t\\lstick{ {yi}_{0} :  } & \\qw & \\qw & \\qw & \\qw & \\qw & \\ghost{\\mathrm{Ucrx}\\,\\mathrm{(}\\mathrm{\\pi},\\mathrm{0},\\mathrm{0},\\mathrm{0}\\mathrm{)}} & \\qw & \\meter & \\qw & \\qw & \\qw\\\\\n",
      "\t \t\\lstick{ {j}_{0} :  } & \\gate{\\mathrm{R}_\\mathrm{Y}\\,\\mathrm{(}\\mathrm{{\\ensuremath{\\theta}}_j[0]}\\mathrm{)}} & \\ctrl{1} & \\gate{\\mathrm{R}_\\mathrm{Y}\\,\\mathrm{(}\\mathrm{{\\ensuremath{\\theta}}_j[2]}\\mathrm{)}} & \\multigate{2}{\\mathrm{Ucry}\\,\\mathrm{(}\\mathrm{1.521},\\mathrm{1.725},\\mathrm{1.612},\\mathrm{1.81}\\mathrm{)}} & \\multigate{2}{\\mathrm{Ucrz}\\,\\mathrm{(}\\mathrm{-2.005},\\mathrm{1.309},\\mathrm{1.124},\\mathrm{1.214}\\mathrm{)}} & \\multigate{3}{\\mathrm{Ucrx}\\,\\mathrm{(}\\mathrm{\\pi},\\mathrm{0},\\mathrm{0},\\mathrm{0}\\mathrm{)}} & \\qw & \\qw & \\qw & \\qw & \\qw\\\\\n",
      "\t \t\\lstick{ {j}_{1} :  } & \\gate{\\mathrm{R}_\\mathrm{Y}\\,\\mathrm{(}\\mathrm{{\\ensuremath{\\theta}}_j[1]}\\mathrm{)}} & \\targ & \\gate{\\mathrm{R}_\\mathrm{Y}\\,\\mathrm{(}\\mathrm{{\\ensuremath{\\theta}}_j[3]}\\mathrm{)}} & \\ghost{\\mathrm{Ucry}\\,\\mathrm{(}\\mathrm{1.521},\\mathrm{1.725},\\mathrm{1.612},\\mathrm{1.81}\\mathrm{)}} & \\ghost{\\mathrm{Ucrz}\\,\\mathrm{(}\\mathrm{-2.005},\\mathrm{1.309},\\mathrm{1.124},\\mathrm{1.214}\\mathrm{)}} & \\ghost{\\mathrm{Ucrx}\\,\\mathrm{(}\\mathrm{\\pi},\\mathrm{0},\\mathrm{0},\\mathrm{0}\\mathrm{)}} & \\qw & \\qw & \\qw & \\qw & \\qw\\\\\n",
      "\t \t\\lstick{ {xj}_{0} :  } & \\qw & \\qw & \\qw & \\ghost{\\mathrm{Ucry}\\,\\mathrm{(}\\mathrm{1.521},\\mathrm{1.725},\\mathrm{1.612},\\mathrm{1.81}\\mathrm{)}} & \\ghost{\\mathrm{Ucrz}\\,\\mathrm{(}\\mathrm{-2.005},\\mathrm{1.309},\\mathrm{1.124},\\mathrm{1.214}\\mathrm{)}} & \\ghost{\\mathrm{Ucrx}\\,\\mathrm{(}\\mathrm{\\pi},\\mathrm{0},\\mathrm{0},\\mathrm{0}\\mathrm{)}} & \\qswap \\qwx[-4] & \\qw & \\qw & \\qw & \\qw\\\\\n",
      "\t \t\\lstick{ {yj}_{0} :  } & \\qw & \\qw & \\qw & \\qw & \\qw & \\ghost{\\mathrm{Ucrx}\\,\\mathrm{(}\\mathrm{\\pi},\\mathrm{0},\\mathrm{0},\\mathrm{0}\\mathrm{)}} & \\meter & \\qw & \\qw & \\qw & \\qw\\\\\n",
      "\t \t\\lstick{c:} & \\lstick{/_{_{3}}} \\cw & \\cw & \\cw & \\cw & \\cw & \\cw & \\dstick{_{_{2}}} \\cw \\cwx[-1] & \\dstick{_{_{1}}} \\cw \\cwx[-5] & \\dstick{_{_{0}}} \\cw \\cwx[-9] & \\cw & \\cw\\\\\n",
      "\t }\n",
      "\\end{equation*}\n",
      "\n",
      "\\end{document}\n"
     ]
    }
   ],
   "source": [
    "latex_circuit('balanced')\n",
    "latex_circuit('unbalanced')"
   ],
   "metadata": {
    "collapsed": false,
    "pycharm": {
     "name": "#%%\n"
    }
   }
  },
  {
   "cell_type": "code",
   "execution_count": 21,
   "outputs": [
    {
     "name": "stdout",
     "output_type": "stream",
     "text": [
      "% \\documentclass[preview]{standalone}\n",
      "% If the image is too large to fit on this documentclass use\n",
      "\\documentclass[draft]{beamer}\n",
      "% img_width = 10, img_depth = 11\n",
      "\\usepackage[size=custom,height=15,width=55,scale=0.7]{beamerposter}\n",
      "% instead and customize the height and width (in cm) to fit.\n",
      "% Large images may run out of memory quickly.\n",
      "% To fix this use the LuaLaTeX compiler, which dynamically\n",
      "% allocates memory.\n",
      "\\usepackage[braket, qm]{qcircuit}\n",
      "\\usepackage{amsmath}\n",
      "\\pdfmapfile{+sansmathaccent.map}\n",
      "% \\usepackage[landscape]{geometry}\n",
      "% Comment out the above line if using the beamer documentclass.\n",
      "\\begin{document}\n",
      "\n",
      "\\begin{equation*}\n",
      "    \\Qcircuit @C=1.0em @R=0.2em @!R {\n",
      "\t \t\\lstick{ {a}_{0} :  } & \\gate{\\mathrm{H}} & \\qw & \\qw & \\qw & \\qw & \\qw & \\ctrl{3} & \\gate{\\mathrm{H}} & \\meter & \\qw & \\qw\\\\\n",
      "\t \t\\lstick{ {i}_{0} :  } & \\gate{\\mathrm{R}_\\mathrm{Y}\\,\\mathrm{(}\\mathrm{{\\ensuremath{\\theta}}_i[0]}\\mathrm{)}} & \\ctrl{1} & \\gate{\\mathrm{R}_\\mathrm{Y}\\,\\mathrm{(}\\mathrm{{\\ensuremath{\\theta}}_i[2]}\\mathrm{)}} & \\multigate{2}{\\mathrm{Ucry}\\,\\mathrm{(}\\mathrm{1.521},\\mathrm{1.725},\\mathrm{1.612},\\mathrm{1.81}\\mathrm{)}} & \\multigate{2}{\\mathrm{Ucrz}\\,\\mathrm{(}\\mathrm{-2.005},\\mathrm{1.309},\\mathrm{1.124},\\mathrm{1.214}\\mathrm{)}} & \\multigate{3}{\\mathrm{Ucrx}\\,\\mathrm{(}\\mathrm{\\pi},\\mathrm{0},\\mathrm{0},\\mathrm{0}\\mathrm{)}} & \\qw & \\qw & \\qw & \\qw & \\qw\\\\\n",
      "\t \t\\lstick{ {i}_{1} :  } & \\gate{\\mathrm{R}_\\mathrm{Y}\\,\\mathrm{(}\\mathrm{{\\ensuremath{\\theta}}_i[1]}\\mathrm{)}} & \\targ & \\gate{\\mathrm{R}_\\mathrm{Y}\\,\\mathrm{(}\\mathrm{{\\ensuremath{\\theta}}_i[3]}\\mathrm{)}} & \\ghost{\\mathrm{Ucry}\\,\\mathrm{(}\\mathrm{1.521},\\mathrm{1.725},\\mathrm{1.612},\\mathrm{1.81}\\mathrm{)}} & \\ghost{\\mathrm{Ucrz}\\,\\mathrm{(}\\mathrm{-2.005},\\mathrm{1.309},\\mathrm{1.124},\\mathrm{1.214}\\mathrm{)}} & \\ghost{\\mathrm{Ucrx}\\,\\mathrm{(}\\mathrm{\\pi},\\mathrm{0},\\mathrm{0},\\mathrm{0}\\mathrm{)}} & \\qw & \\qw & \\qw & \\qw & \\qw\\\\\n",
      "\t \t\\lstick{ {xi}_{0} :  } & \\qw & \\qw & \\qw & \\ghost{\\mathrm{Ucry}\\,\\mathrm{(}\\mathrm{1.521},\\mathrm{1.725},\\mathrm{1.612},\\mathrm{1.81}\\mathrm{)}} & \\ghost{\\mathrm{Ucrz}\\,\\mathrm{(}\\mathrm{-2.005},\\mathrm{1.309},\\mathrm{1.124},\\mathrm{1.214}\\mathrm{)}} & \\ghost{\\mathrm{Ucrx}\\,\\mathrm{(}\\mathrm{\\pi},\\mathrm{0},\\mathrm{0},\\mathrm{0}\\mathrm{)}} & \\qswap & \\qw & \\qw & \\qw & \\qw\\\\\n",
      "\t \t\\lstick{ {yi}_{0} :  } & \\qw & \\qw & \\qw & \\qw & \\qw & \\ghost{\\mathrm{Ucrx}\\,\\mathrm{(}\\mathrm{\\pi},\\mathrm{0},\\mathrm{0},\\mathrm{0}\\mathrm{)}} & \\qw & \\meter & \\qw & \\qw & \\qw\\\\\n",
      "\t \t\\lstick{ {j}_{0} :  } & \\gate{\\mathrm{R}_\\mathrm{Y}\\,\\mathrm{(}\\mathrm{{\\ensuremath{\\theta}}_j[0]}\\mathrm{)}} & \\ctrl{1} & \\gate{\\mathrm{R}_\\mathrm{Y}\\,\\mathrm{(}\\mathrm{{\\ensuremath{\\theta}}_j[2]}\\mathrm{)}} & \\multigate{2}{\\mathrm{Ucry}\\,\\mathrm{(}\\mathrm{1.521},\\mathrm{1.725},\\mathrm{1.612},\\mathrm{1.81}\\mathrm{)}} & \\multigate{2}{\\mathrm{Ucrz}\\,\\mathrm{(}\\mathrm{-2.005},\\mathrm{1.309},\\mathrm{1.124},\\mathrm{1.214}\\mathrm{)}} & \\multigate{3}{\\mathrm{Ucrx}\\,\\mathrm{(}\\mathrm{\\pi},\\mathrm{0},\\mathrm{0},\\mathrm{0}\\mathrm{)}} & \\qw & \\qw & \\qw & \\qw & \\qw\\\\\n",
      "\t \t\\lstick{ {j}_{1} :  } & \\gate{\\mathrm{R}_\\mathrm{Y}\\,\\mathrm{(}\\mathrm{{\\ensuremath{\\theta}}_j[1]}\\mathrm{)}} & \\targ & \\gate{\\mathrm{R}_\\mathrm{Y}\\,\\mathrm{(}\\mathrm{{\\ensuremath{\\theta}}_j[3]}\\mathrm{)}} & \\ghost{\\mathrm{Ucry}\\,\\mathrm{(}\\mathrm{1.521},\\mathrm{1.725},\\mathrm{1.612},\\mathrm{1.81}\\mathrm{)}} & \\ghost{\\mathrm{Ucrz}\\,\\mathrm{(}\\mathrm{-2.005},\\mathrm{1.309},\\mathrm{1.124},\\mathrm{1.214}\\mathrm{)}} & \\ghost{\\mathrm{Ucrx}\\,\\mathrm{(}\\mathrm{\\pi},\\mathrm{0},\\mathrm{0},\\mathrm{0}\\mathrm{)}} & \\qw & \\qw & \\qw & \\qw & \\qw\\\\\n",
      "\t \t\\lstick{ {xj}_{0} :  } & \\qw & \\qw & \\qw & \\ghost{\\mathrm{Ucry}\\,\\mathrm{(}\\mathrm{1.521},\\mathrm{1.725},\\mathrm{1.612},\\mathrm{1.81}\\mathrm{)}} & \\ghost{\\mathrm{Ucrz}\\,\\mathrm{(}\\mathrm{-2.005},\\mathrm{1.309},\\mathrm{1.124},\\mathrm{1.214}\\mathrm{)}} & \\ghost{\\mathrm{Ucrx}\\,\\mathrm{(}\\mathrm{\\pi},\\mathrm{0},\\mathrm{0},\\mathrm{0}\\mathrm{)}} & \\qswap \\qwx[-4] & \\qw & \\qw & \\qw & \\qw\\\\\n",
      "\t \t\\lstick{ {yj}_{0} :  } & \\qw & \\qw & \\qw & \\qw & \\qw & \\ghost{\\mathrm{Ucrx}\\,\\mathrm{(}\\mathrm{\\pi},\\mathrm{0},\\mathrm{0},\\mathrm{0}\\mathrm{)}} & \\meter & \\qw & \\qw & \\qw & \\qw\\\\\n",
      "\t \t\\lstick{c:} & \\lstick{/_{_{3}}} \\cw & \\cw & \\cw & \\cw & \\cw & \\cw & \\dstick{_{_{2}}} \\cw \\cwx[-1] & \\dstick{_{_{1}}} \\cw \\cwx[-5] & \\dstick{_{_{0}}} \\cw \\cwx[-9] & \\cw & \\cw\\\\\n",
      "\t }\n",
      "\\end{equation*}\n",
      "\n",
      "\\end{document}\n"
     ]
    }
   ],
   "source": [
    "with open(dir_path/'unbalanced'/'qasvm', 'rb') as f:\n",
    "    qasvm = dill.load(f)\n",
    "print(qasvm.naive_second_order_circuit.draw('latex_source'))"
   ],
   "metadata": {
    "collapsed": false,
    "pycharm": {
     "name": "#%%\n"
    }
   }
  },
  {
   "cell_type": "code",
   "execution_count": null,
   "outputs": [],
   "source": [],
   "metadata": {
    "collapsed": false,
    "pycharm": {
     "name": "#%%\n"
    }
   }
  }
 ],
 "metadata": {
  "kernelspec": {
   "display_name": "Python 3",
   "language": "python",
   "name": "python3"
  },
  "language_info": {
   "codemirror_mode": {
    "name": "ipython",
    "version": 2
   },
   "file_extension": ".py",
   "mimetype": "text/x-python",
   "name": "python",
   "nbconvert_exporter": "python",
   "pygments_lexer": "ipython2",
   "version": "2.7.6"
  }
 },
 "nbformat": 4,
 "nbformat_minor": 0
}