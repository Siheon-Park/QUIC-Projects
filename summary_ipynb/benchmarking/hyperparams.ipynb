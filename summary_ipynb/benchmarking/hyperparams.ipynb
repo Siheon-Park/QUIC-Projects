{
 "cells": [
  {
   "cell_type": "code",
   "execution_count": 39,
   "metadata": {},
   "outputs": [],
   "source": [
    "import sys\n",
    "sys.path.extend(['/home/quic/QUIC-Projects'])\n",
    "\n",
    "import numpy as np\n",
    "from matplotlib import pyplot as plt\n",
    "from pathlib import Path\n",
    "DATA_DIR = Path(\"/home/quic/QUIC-Projects/summary_ipynb/2022/06 June/02 Thu/circuits_benchmarking\")\n",
    "OBJ_FUNC = r'$\\mathcal{L}_{\\phi, \\lambda}$'"
   ]
  },
  {
   "cell_type": "code",
   "execution_count": 40,
   "metadata": {},
   "outputs": [],
   "source": [
    "plt.style.use('./styles/figstyle.mplstyle')\n",
    "plt.style.reload_library()"
   ]
  },
  {
   "cell_type": "code",
   "execution_count": 41,
   "metadata": {},
   "outputs": [],
   "source": [
    "import dill\n",
    "import json\n",
    "\n",
    "with open(DATA_DIR/\"setting.json\", 'r') as fp:\n",
    "    _setting = json.load(fp)\n",
    "_setting_save = _setting[\"Saving results\"]\n",
    "_setting_data = _setting[\"Data set selection\"]\n",
    "_setting_qasvm = _setting[\"SoftQASVM setting\"]\n",
    "_setting_simulator = _setting[\"Simulator setting\"]\n",
    "_setting_optimizer = _setting[\"Optimizer setting\"]\n",
    "_setting_rep = _setting[\"Repetition setting\"]"
   ]
  },
  {
   "cell_type": "code",
   "execution_count": 42,
   "metadata": {},
   "outputs": [
    {
     "name": "stdout",
     "output_type": "stream",
     "text": [
      "1004\n"
     ]
    }
   ],
   "source": [
    "from classifiers.datasets import SklearnDataset\n",
    "from pandas import read_csv, DataFrame\n",
    "import random\n",
    "\n",
    "seed = random.randint(0, 9999)\n",
    "\n",
    "data = read_csv(DATA_DIR/'sample_summary.csv')\n",
    "\n",
    "training_data = np.load(DATA_DIR/'Dataset #0/training_data.npy')\n",
    "test_data = np.load(DATA_DIR/'Dataset #0/test_data.npy')\n",
    "training_label = np.load(DATA_DIR/'Dataset #0/training_label.npy')\n",
    "test_label = np.load(DATA_DIR/'Dataset #0/test_label.npy')\n",
    "\n",
    "ds = SklearnDataset('iris', (-np.pi, np.pi), true_hot=0)#_setting_data['DATA_HOT'])\n",
    "training_data, training_label, test_data, test_label = ds.sample_training_and_test_dataset((len(training_label), len(test_label)), return_X_y=True, random_state=7913)#, random_state=_setting_rep[\"SEED\"])\n",
    "print(seed)"
   ]
  },
  {
   "cell_type": "code",
   "execution_count": 43,
   "metadata": {},
   "outputs": [],
   "source": [
    "C = _setting_qasvm[\"C\"]\n",
    "lamda = _setting_qasvm[\"LAMBDA\"]"
   ]
  },
  {
   "cell_type": "code",
   "execution_count": 44,
   "metadata": {},
   "outputs": [],
   "source": [
    "def fval(did, cid, layer, reps):\n",
    "    with open(DATA_DIR/f\"Dataset #{did}/Circuit #{cid}/layer={layer}/{reps}/test_result.json\", 'r') as fp:\n",
    "        f = np.array(json.load(fp)['f'])\n",
    "    return f\n",
    "\n",
    "with open(DATA_DIR/f\"Dataset #{0}/Circuit #{15}/layer={1}/{0}/qasvm\", 'rb') as fp:\n",
    "    _qasvm = dill.load(fp)\n",
    "\n",
    "training_kernel = _qasvm._qk.evaluate(training_data, training_data)\n",
    "test_kernel = _qasvm._qk.evaluate(test_data, training_data)"
   ]
  },
  {
   "cell_type": "code",
   "execution_count": 45,
   "metadata": {},
   "outputs": [],
   "source": [
    "hyperC = 10**np.linspace(-4, 4, 5)\n",
    "lamdas = 10**np.linspace(-4, 4, 5)\n",
    "X, Y = np.meshgrid(hyperC, lamdas)\n",
    "Z = np.empty_like(X)"
   ]
  },
  {
   "cell_type": "code",
   "execution_count": 46,
   "metadata": {},
   "outputs": [
    {
     "name": "stderr",
     "output_type": "stream",
     "text": [
      "100%|██████████| 25/25 [00:00<00:00, 632.71it/s]\n"
     ]
    }
   ],
   "source": [
    "from classifiers.convex.svm import CvxSoftQASVM\n",
    "from tqdm import tqdm\n",
    "\n",
    "with tqdm(total = len(X.flatten())) as pbar:\n",
    "    for i, _X in enumerate(X):\n",
    "        for j, _ in enumerate(_X):\n",
    "            svm = CvxSoftQASVM(kernel='precomputed', C=X[i, j], lamda=Y[i, j])\n",
    "            svm.fit(training_kernel, training_label)\n",
    "            accuracy =svm.accuracy(test_kernel, test_label)\n",
    "            # svm = SVC(C=X[i, j], kernel='rbf')\n",
    "            # svm.fit(training_data, training_labels[classes[label_index]])\n",
    "            # accuracy = svm.score(test_data, test_labels[classes[label_index]])\n",
    "            Z[i, j] = accuracy\n",
    "            pbar.update()"
   ]
  },
  {
   "cell_type": "code",
   "execution_count": 85,
   "metadata": {},
   "outputs": [
    {
     "data": {
      "image/png": "[encoded data removed]",
      "text/plain": [
       "<Figure size 432x288 with 2 Axes>"
      ]
     },
     "metadata": {
      "needs_background": "light"
     },
     "output_type": "display_data"
    }
   ],
   "source": [
    "with plt.rc_context():\n",
    "    fig, ax = plt.subplots()\n",
    "    cs = ax.imshow(Z, interpolation='gaussian', cmap='gist_heat')\n",
    "    # for i in range(Z.shape[0]):\n",
    "    #     for j in range(Z.shape[1]):\n",
    "    #         c = Z[j, i]\n",
    "    #         ax.text(i, j, '{:.1%}'.format(c), va='center', ha='center')\n",
    "    ax.set_xlabel(r'$C$', fontsize=1.3*plt.rcParams['font.size'])\n",
    "    ax.set_ylabel(r'$\\lambda$', fontsize=1.3*plt.rcParams['font.size'])\n",
    "    ax.set_xticks(np.arange(len(hyperC)))\n",
    "    ax.set_xticklabels(list(map(r'$10^{{{:1.0f}}}$'.format, np.log10(hyperC))))\n",
    "    ax.set_yticks(np.arange(len(lamdas)))\n",
    "    ax.set_yticklabels(list(map(r'$10^{{{:1.0f}}}$'.format, np.log10(lamdas))))\n",
    "    # ax.set_title('iris accuracy')\n",
    "    cbar = fig.colorbar(cs, ticks=[np.min(Z), 0.7, 0.8, 0.9, np.max(Z)]) \n",
    "    cbar.ax.set_yticklabels(['{:.1%}'.format(np.min(Z)), '70%', '80%', '90%', '{:.1%}'.format(np.max(Z))])\n",
    "    fig.tight_layout()\n",
    "\n",
    "fig.savefig('./figs/hyperparameters.svg', dpi=300)\n",
    "fig.savefig('./figs/hyperparameters.png', dpi=300)\n",
    "fig.savefig('./figs/hyperparameters.pdf', dpi=300)"
   ]
  },
  {
   "cell_type": "code",
   "execution_count": 91,
   "metadata": {},
   "outputs": [
    {
     "data": {
      "text/plain": [
       "55560.96721236932"
      ]
     },
     "execution_count": 91,
     "metadata": {},
     "output_type": "execute_result"
    }
   ],
   "source": [
    "np.linalg.cond(training_kernel)"
   ]
  },
  {
   "cell_type": "code",
   "execution_count": null,
   "metadata": {},
   "outputs": [],
   "source": [
    "np.linalg.eigvals(training_kernel)"
   ]
  }
 ],
 "metadata": {
  "interpreter": {
   "hash": "bd569b419454c0a0019c09bece6d44cb1c2509ee45afef24a0823fc75b36fb0e"
  },
  "kernelspec": {
   "display_name": "Python 3.9.2 ('qiskit')",
   "language": "python",
   "name": "python3"
  },
  "language_info": {
   "codemirror_mode": {
    "name": "ipython",
    "version": 3
   },
   "file_extension": ".py",
   "mimetype": "text/x-python",
   "name": "python",
   "nbconvert_exporter": "python",
   "pygments_lexer": "ipython3",
   "version": "3.9.2"
  },
  "orig_nbformat": 4
 },
 "nbformat": 4,
 "nbformat_minor": 2
}
