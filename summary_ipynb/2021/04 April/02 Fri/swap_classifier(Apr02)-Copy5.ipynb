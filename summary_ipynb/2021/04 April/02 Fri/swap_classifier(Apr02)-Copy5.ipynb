{
 "cells": [
  {
   "cell_type": "code",
   "execution_count": 1,
   "metadata": {},
   "outputs": [],
   "source": [
    "import sys\n",
    "quic_path = '/home/quic/QUIC-Projects'\n",
    "if not quic_path in sys.path:\n",
    "    sys.path.append(quic_path)"
   ]
  },
  {
   "cell_type": "code",
   "execution_count": 2,
   "metadata": {},
   "outputs": [],
   "source": [
    "import numpy as np \n",
    "from matplotlib import pyplot as plt"
   ]
  },
  {
   "cell_type": "code",
   "execution_count": 3,
   "metadata": {},
   "outputs": [
    {
     "data": {
      "text/plain": [
       "<IBMQBackend('ibmq_toronto') from IBMQ(hub='ibm-q-kaist', group='internal', project='default')>"
      ]
     },
     "execution_count": 3,
     "metadata": {},
     "output_type": "execute_result"
    }
   ],
   "source": [
    "# for SVM\n",
    "from classifiers.convex.svm import BinarySVM\n",
    "from classifiers.kernel import Kernel\n",
    "from classifiers.datasets.dataloader import Example_4x2\n",
    "# for QASVM\n",
    "from classifiers.quantum import Qasvm_Mapping_4x2\n",
    "from classifiers.quantum.qasvm import QASVM\n",
    "from classifiers.optimizer import SPSA\n",
    "from qiskit.aqua import QuantumInstance\n",
    "from qiskit.ignis.mitigation import CompleteMeasFitter\n",
    "from qiskit.circuit.library import RealAmplitudes, EfficientSU2, NLocal, TwoLocal\n",
    "from qiskit.providers.aer import QasmSimulator\n",
    "from qiskit import IBMQ\n",
    "# for logging & visualization\n",
    "import logging\n",
    "from classifiers.callback import CostParamStorage, ParamsStopping\n",
    "from torch.utils.tensorboard import SummaryWriter\n",
    "from classifiers.visualization import Plot_Data, Plot_Log_From_SPSA, Plot_SVM, compare_svm_and_qasvm\n",
    "\n",
    "writer = SummaryWriter()\n",
    "storage = CostParamStorage(writer)\n",
    "\n",
    "if IBMQ.active_account() is None:\n",
    "    IBMQ.load_account()\n",
    "provider = IBMQ.get_provider(hub='ibm-q-kaist', group='internal', project='default')\n",
    "backend = provider.get_backend('ibmq_toronto')\n",
    "backend"
   ]
  },
  {
   "cell_type": "code",
   "execution_count": 4,
   "metadata": {},
   "outputs": [],
   "source": [
    "X, y = Example_4x2(True)()"
   ]
  },
  {
   "cell_type": "code",
   "execution_count": 5,
   "metadata": {},
   "outputs": [
    {
     "name": "stdout",
     "output_type": "stream",
     "text": [
      "8\n"
     ]
    },
    {
     "data": {
      "text/html": [
       "<pre style=\"word-wrap: normal;white-space: pre;background: #fff0;line-height: 1.1;font-family: &quot;Courier New&quot;,Courier,monospace\">          ┌───┐                                                                                                                             ┌───┐┌─┐\n",
       " a_0: ────┤ H ├───────────────────────────────────────────────────────────────────────────────────────────────────────────────────────────■─┤ H ├┤M├\n",
       "      ┌───┴───┴────┐     ┌────────────┐┌───────────────────────────────────────┐┌─────────────────────────────────────┐┌────────────────┐ │ └───┘└╥┘\n",
       " i_0: ┤ RY(θ_i[0]) ├──■──┤ RY(θ_i[2]) ├┤1                                      ├┤1                                    ├┤1               ├─┼───────╫─\n",
       "      ├────────────┤┌─┴─┐├────────────┤│                                       ││                                     ││                │ │       ║ \n",
       " i_1: ┤ RY(θ_i[1]) ├┤ X ├┤ RY(θ_i[3]) ├┤2 UCRY(0.72295,-0.60554,-2.507,2.6396) ├┤2 UCRZ(-1.0039,2.2997,-1.031,2.2163) ├┤2               ├─┼───────╫─\n",
       "      └────────────┘└───┘└────────────┘│                                       ││                                     ││  UCRX(π,π,0,0) │ │       ║ \n",
       "xi_0: ─────────────────────────────────┤0                                      ├┤0                                    ├┤                ├─X───────╫─\n",
       "                                       └───────────────────────────────────────┘└─────────────────────────────────────┘│                │ │  ┌─┐  ║ \n",
       "yi_0: ─────────────────────────────────────────────────────────────────────────────────────────────────────────────────┤0               ├─┼──┤M├──╫─\n",
       "      ┌────────────┐     ┌────────────┐┌───────────────────────────────────────┐┌─────────────────────────────────────┐├────────────────┤ │  └╥┘  ║ \n",
       " j_0: ┤ RY(θ_j[0]) ├──■──┤ RY(θ_j[2]) ├┤1                                      ├┤1                                    ├┤1               ├─┼───╫───╫─\n",
       "      ├────────────┤┌─┴─┐├────────────┤│                                       ││                                     ││                │ │   ║   ║ \n",
       " j_1: ┤ RY(θ_j[1]) ├┤ X ├┤ RY(θ_j[3]) ├┤2 UCRY(0.72295,-0.60554,-2.507,2.6396) ├┤2 UCRZ(-1.0039,2.2997,-1.031,2.2163) ├┤2               ├─┼───╫───╫─\n",
       "      └────────────┘└───┘└────────────┘│                                       ││                                     ││  UCRX(π,π,0,0) │ │   ║   ║ \n",
       "xj_0: ─────────────────────────────────┤0                                      ├┤0                                    ├┤                ├─X───╫───╫─\n",
       "                                       └───────────────────────────────────────┘└─────────────────────────────────────┘│                │┌─┐  ║   ║ \n",
       "yj_0: ─────────────────────────────────────────────────────────────────────────────────────────────────────────────────┤0               ├┤M├──╫───╫─\n",
       "                                                                                                                       └────────────────┘└╥┘  ║   ║ \n",
       " c: 3/════════════════════════════════════════════════════════════════════════════════════════════════════════════════════════════════════╩═══╩═══╩═\n",
       "                                                                                                                                          2   1   0 </pre>"
      ],
      "text/plain": [
       "          ┌───┐                                                                                                                             ┌───┐┌─┐\n",
       " a_0: ────┤ H ├───────────────────────────────────────────────────────────────────────────────────────────────────────────────────────────■─┤ H ├┤M├\n",
       "      ┌───┴───┴────┐     ┌────────────┐┌───────────────────────────────────────┐┌─────────────────────────────────────┐┌────────────────┐ │ └───┘└╥┘\n",
       " i_0: ┤ RY(θ_i[0]) ├──■──┤ RY(θ_i[2]) ├┤1                                      ├┤1                                    ├┤1               ├─┼───────╫─\n",
       "      ├────────────┤┌─┴─┐├────────────┤│                                       ││                                     ││                │ │       ║ \n",
       " i_1: ┤ RY(θ_i[1]) ├┤ X ├┤ RY(θ_i[3]) ├┤2 UCRY(0.72295,-0.60554,-2.507,2.6396) ├┤2 UCRZ(-1.0039,2.2997,-1.031,2.2163) ├┤2               ├─┼───────╫─\n",
       "      └────────────┘└───┘└────────────┘│                                       ││                                     ││  UCRX(π,π,0,0) │ │       ║ \n",
       "xi_0: ─────────────────────────────────┤0                                      ├┤0                                    ├┤                ├─X───────╫─\n",
       "                                       └───────────────────────────────────────┘└─────────────────────────────────────┘│                │ │  ┌─┐  ║ \n",
       "yi_0: ─────────────────────────────────────────────────────────────────────────────────────────────────────────────────┤0               ├─┼──┤M├──╫─\n",
       "      ┌────────────┐     ┌────────────┐┌───────────────────────────────────────┐┌─────────────────────────────────────┐├────────────────┤ │  └╥┘  ║ \n",
       " j_0: ┤ RY(θ_j[0]) ├──■──┤ RY(θ_j[2]) ├┤1                                      ├┤1                                    ├┤1               ├─┼───╫───╫─\n",
       "      ├────────────┤┌─┴─┐├────────────┤│                                       ││                                     ││                │ │   ║   ║ \n",
       " j_1: ┤ RY(θ_j[1]) ├┤ X ├┤ RY(θ_j[3]) ├┤2 UCRY(0.72295,-0.60554,-2.507,2.6396) ├┤2 UCRZ(-1.0039,2.2997,-1.031,2.2163) ├┤2               ├─┼───╫───╫─\n",
       "      └────────────┘└───┘└────────────┘│                                       ││                                     ││  UCRX(π,π,0,0) │ │   ║   ║ \n",
       "xj_0: ─────────────────────────────────┤0                                      ├┤0                                    ├┤                ├─X───╫───╫─\n",
       "                                       └───────────────────────────────────────┘└─────────────────────────────────────┘│                │┌─┐  ║   ║ \n",
       "yj_0: ─────────────────────────────────────────────────────────────────────────────────────────────────────────────────┤0               ├┤M├──╫───╫─\n",
       "                                                                                                                       └────────────────┘└╥┘  ║   ║ \n",
       " c: 3/════════════════════════════════════════════════════════════════════════════════════════════════════════════════════════════════════╩═══╩═══╩═\n",
       "                                                                                                                                          2   1   0 "
      ]
     },
     "execution_count": 5,
     "metadata": {},
     "output_type": "execute_result"
    }
   ],
   "source": [
    "var_form = RealAmplitudes(2, reps=1)\n",
    "quantum_instance = QuantumInstance(backend=QasmSimulator(), shots=2**13, basis_gates=backend.configuration().basis_gates, initial_layout=Qasvm_Mapping_4x2(backend).layout, measurement_error_mitigation_cls=CompleteMeasFitter, optimization_level=2, seed_transpiler=0)\n",
    "qasvm = QASVM(X, y, quantum_instance=quantum_instance, C=1, k=0.1, option='Bloch_sphere', var_form=var_form).dual\n",
    "print(qasvm.second_order_circuit.depth())\n",
    "qasvm.second_order_circuit.draw(fold=-1, idle_wires=False)"
   ]
  },
  {
   "cell_type": "code",
   "execution_count": null,
   "metadata": {},
   "outputs": [
    {
     "data": {
      "application/vnd.jupyter.widget-view+json": {
       "model_id": "a0b413c2c31342258297e64d7bde7e22",
       "version_major": 2,
       "version_minor": 0
      },
      "text/plain": [
       "  0%|          | 0/8192 [00:00<?, ?it/s]"
      ]
     },
     "metadata": {},
     "output_type": "display_data"
    }
   ],
   "source": [
    "from tqdm.notebook import tqdm\n",
    "epochs = 2**13\n",
    "last_avg = 2**10\n",
    "\n",
    "optimizer = SPSA(qasvm.cost_fn, qasvm.parameters)\n",
    "optimizer.calibrate(epochs)\n",
    "\n",
    "storage = CostParamStorage(writer)\n",
    "early_stopping = ParamsStopping(patiance=last_avg, last_avg=last_avg, tol=1e-2)\n",
    "\n",
    "for epoch in tqdm(range(epochs)):\n",
    "    optimizer.step(epoch)\n",
    "    storage(epoch, qasvm.cost_fn, qasvm.parameters)\n",
    "    if early_stopping(qasvm.parameters, epoch):\n",
    "        break\n",
    "\n",
    "qasvm.parameters = early_stopping.best_params\n"
   ]
  },
  {
   "cell_type": "code",
   "execution_count": null,
   "metadata": {},
   "outputs": [],
   "source": [
    "storage.plot_params()"
   ]
  },
  {
   "cell_type": "code",
   "execution_count": null,
   "metadata": {},
   "outputs": [],
   "source": [
    "storage.plot()"
   ]
  },
  {
   "cell_type": "code",
   "execution_count": null,
   "metadata": {},
   "outputs": [],
   "source": [
    "svm = BinarySVM(kernel=Kernel('SingleQubit'), C=None, k=0.1, mutation='REDUCED_QASVM')\n",
    "svm.fit(X, y)\n",
    "compare_svm_and_qasvm(svm=svm, qasvm=qasvm)"
   ]
  },
  {
   "cell_type": "code",
   "execution_count": null,
   "metadata": {},
   "outputs": [],
   "source": []
  }
 ],
 "metadata": {
  "kernelspec": {
   "display_name": "Python 3.9.2 64-bit ('QUIC': conda)",
   "language": "python",
   "name": "python39264bitquiccondac94fb53449fc4da08e26d1a3223e1ed8"
  },
  "language_info": {
   "codemirror_mode": {
    "name": "ipython",
    "version": 3
   },
   "file_extension": ".py",
   "mimetype": "text/x-python",
   "name": "python",
   "nbconvert_exporter": "python",
   "pygments_lexer": "ipython3",
   "version": "3.9.2"
  },
  "metadata": {
   "interpreter": {
    "hash": "6a082bf6134b372c06e64927897e08d4d2745f2f33cff72046cfead1af299ef7"
   }
  }
 },
 "nbformat": 4,
 "nbformat_minor": 2
}
