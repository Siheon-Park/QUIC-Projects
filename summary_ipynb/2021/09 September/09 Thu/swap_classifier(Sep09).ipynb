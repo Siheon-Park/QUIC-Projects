{
 "cells": [
  {
   "cell_type": "code",
   "execution_count": null,
   "outputs": [],
   "source": [
    "import sys\n",
    "quic_path = '/home/quic/QUIC-Projects'\n",
    "if not quic_path in sys.path:\n",
    "    sys.path.append(quic_path)"
   ],
   "metadata": {
    "collapsed": false,
    "pycharm": {
     "name": "#%%\n"
    }
   }
  },
  {
   "cell_type": "code",
   "execution_count": null,
   "outputs": [],
   "source": [
    "%matplotlib inline\n",
    "import numpy as np \n",
    "from matplotlib import pyplot as plt"
   ],
   "metadata": {
    "collapsed": false,
    "pycharm": {
     "name": "#%%\n"
    }
   }
  },
  {
   "cell_type": "code",
   "execution_count": null,
   "outputs": [],
   "source": [
    "from pandas import read_csv\n",
    "import seaborn as sns\n",
    "\n",
    "data = read_csv('./result/trial1/result.csv')\n",
    "sns.relplot(kind='scatter', x=data['layer'], y=data['accuracy'], style=data['circuit_id'],\n",
    "            style_order={i:f\"${i}$\" for i in range(1, 4+1)})"
   ],
   "metadata": {
    "collapsed": false,
    "pycharm": {
     "name": "#%%\n"
    }
   }
  },
  {
   "cell_type": "code",
   "execution_count": null,
   "outputs": [],
   "source": [
    "data = read_csv('./result/trial1/data.csv')\n",
    "data.columns"
   ],
   "metadata": {
    "collapsed": false,
    "pycharm": {
     "name": "#%%\n"
    }
   }
  },
  {
   "cell_type": "code",
   "execution_count": null,
   "outputs": [],
   "source": [
    "from pandas import DataFrame\n",
    "data = read_csv('./result/trial1/data.csv')\n",
    "data = data.pivot_table(values=['accuracy', 'num_iter', 'expr', 'entcap', 'last_cost_avg'], index=['circuit_id', 'num_params', 'layer'],\n",
    "                        aggfunc={'accuracy':['mean', 'median', 'std'],\n",
    "                                 'num_iter':['mean', 'median', 'std'],\n",
    "                                 'expr':'mean',\n",
    "                                 'entcap':'mean',\n",
    "                                 'last_cost_avg':'mean'})\n",
    "data1 = np.array(list(data.index))\n",
    "data2 = data.to_numpy()\n",
    "if len(data1.shape) == 1:\n",
    "    data1 = data1.reshape(-1, 1)\n",
    "data = DataFrame(\n",
    "    data=np.hstack([data1, data2]),\n",
    "    columns=list(data.index.names) + list(data.columns)\n",
    ")\n",
    "prop_cycle = plt.rcParams['axes.prop_cycle']\n",
    "colors = prop_cycle.by_key()['color']\n",
    "fig, axes = plt.subplots(1, 2, sharey=True, figsize=(10, 4))\n",
    "ax = axes[0]\n",
    "for cid in range(1, 5):\n",
    "    _data = data.loc[data['circuit_id'] == cid]\n",
    "    ax.errorbar(x=_data['num_params'], y=_data[('accuracy', 'mean')], yerr=_data[('accuracy', 'std')],\n",
    "                linestyle='none', marker='', color=colors[cid], capsize=3, alpha=0.5)\n",
    "    colorble =ax.scatter(x=_data['num_params'], y=_data[('accuracy', 'median')], c=np.log10(_data[('expr', 'mean')]),\n",
    "               cmap='plasma', marker=f\"${cid}$\", s=100)\n",
    "fig.colorbar(colorble, ax=ax)\n",
    "ax.set_xlabel('num_params')\n",
    "ax.set_ylabel('accuracy')\n",
    "ax.set_title('log10(expr)')\n",
    "ax = axes[1]\n",
    "for cid in range(1, 5):\n",
    "    _data = data.loc[data['circuit_id'] == cid]\n",
    "    ax.errorbar(x=_data['num_params'], y=_data[('accuracy', 'mean')], yerr=_data[('accuracy', 'std')],\n",
    "                 linestyle='none', marker='', color=colors[cid], capsize=3, alpha=0.5)\n",
    "    colorble =ax.scatter(x=_data['num_params'], y=_data[('accuracy', 'median')], c=_data[('entcap', 'mean')],\n",
    "                cmap='plasma', marker=f\"${cid}$\", s=100)\n",
    "fig.colorbar(colorble, ax=ax)\n",
    "ax.set_xlabel('num_params')\n",
    "ax.set_ylabel('accuracy')\n",
    "ax.set_title('ent. cap.')\n",
    "fig.tight_layout()\n",
    "fig.savefig('./result')"
   ],
   "metadata": {
    "collapsed": false,
    "pycharm": {
     "name": "#%%\n"
    }
   }
  },
  {
   "cell_type": "code",
   "execution_count": null,
   "outputs": [],
   "source": [
    "data"
   ],
   "metadata": {
    "collapsed": false,
    "pycharm": {
     "name": "#%%\n"
    }
   }
  },
  {
   "cell_type": "code",
   "execution_count": null,
   "outputs": [],
   "source": [
    "from pandas import DataFrame\n",
    "data = read_csv('./result/trial1/data.csv')\n",
    "data = data.pivot_table(values=['accuracy', 'num_iter'], index=['circuit_id', 'num_params'])\n",
    "data1 = np.array(list(data.index))\n",
    "data2 = data.to_numpy()\n",
    "if len(data1.shape) == 1:\n",
    "    data1 = data1.reshape(-1, 1)\n",
    "data = DataFrame(\n",
    "    data=np.hstack([data1, data2]),\n",
    "    columns=list(data.index.names) + list(data.columns)\n",
    ")\n",
    "data"
   ],
   "metadata": {
    "collapsed": false,
    "pycharm": {
     "name": "#%%\n"
    }
   }
  },
  {
   "cell_type": "code",
   "execution_count": null,
   "outputs": [],
   "source": [
    "sns.relplot(data=data.loc[(data['circuit_id']==1) | (data['circuit_id']==2)], x='num_params', y='num_iter', style='circuit_id', hue='accuracy')"
   ],
   "metadata": {
    "collapsed": false,
    "pycharm": {
     "name": "#%%\n"
    }
   }
  },
  {
   "cell_type": "code",
   "execution_count": null,
   "outputs": [],
   "source": [
    "from classifiers.quantum.ansatz import Circuit5\n",
    "qc = Circuit5(5, reps=1)\n",
    "\n",
    "from qiskit.utils import QuantumInstance\n",
    "from qiskit.providers.aer import AerSimulator\n",
    "from qiskit.visualization import plot_histogram\n",
    "\n",
    "quantum_instance = QuantumInstance(AerSimulator(), shots=2**15)\n",
    "qc.measure_all(inplace=True)\n",
    "result = quantum_instance.execute(qc.assign_parameters(dict(zip(qc.parameters, np.random.rand(qc.num_parameters)))))\n",
    "plot_histogram(result.get_counts())"
   ],
   "metadata": {
    "collapsed": false,
    "pycharm": {
     "name": "#%%\n"
    }
   }
  },
  {
   "cell_type": "code",
   "execution_count": null,
   "outputs": [],
   "source": [
    "from classifiers.datasets import IrisDataset\n",
    "X = np.load('./result/trial1/Dataset #0/Xt.npy')\n",
    "y = np.load('./result/trial1/Dataset #0/yt.npy')\n",
    "IrisDataset(true_hot=0).plot([X, y])"
   ],
   "metadata": {
    "collapsed": false,
    "pycharm": {
     "name": "#%%\n"
    }
   }
  },
  {
   "cell_type": "code",
   "execution_count": null,
   "outputs": [],
   "source": [
    "from pandas import DataFrame\n",
    "data = read_csv('./result/trial1/data.csv')\n",
    "data = data.loc[(data['circuit_id']==3) & (data['layer']<=4)]\n",
    "sns.lineplot(data=data, x='num_iter', y='accuracy', hue='layer')"
   ],
   "metadata": {
    "collapsed": false,
    "pycharm": {
     "name": "#%%\n"
    }
   }
  },
  {
   "cell_type": "code",
   "execution_count": null,
   "outputs": [],
   "source": [
    "data = read_csv('./result/trial1/data.csv')\n",
    "\n",
    "data = read_csv('./result/trial1/data.csv')\n",
    "data = data.pivot_table(values=['accuracy', 'num_iter'], index=['circuit_id', 'num_params', 'layer'],\n",
    "                        aggfunc=[np.median, np.mean, np.std])\n",
    "data1 = np.array(list(data.index))\n",
    "data2 = data.to_numpy()\n",
    "if len(data1.shape) == 1:\n",
    "    data1 = data1.reshape(-1, 1)\n",
    "data = DataFrame(\n",
    "    data=np.hstack([data1, data2]),\n",
    "    columns=list(data.index.names) + list(data.columns)\n",
    ")\n",
    "data"
   ],
   "metadata": {
    "collapsed": false,
    "pycharm": {
     "name": "#%%\n"
    }
   }
  },
  {
   "cell_type": "code",
   "execution_count": null,
   "outputs": [],
   "source": [
    "plt.scatter(x=data[('mean', 'num_iter')], y=data[('median', 'accuracy')], marker='.')\n",
    "plt.errorbar(x=data[('mean', 'num_iter')], y=data[('mean', 'accuracy')], #xerr=data[('std', 'num_iter')],\n",
    "             yerr=data[('std', 'accuracy')], marker='', linestyle='none')"
   ],
   "metadata": {
    "collapsed": false,
    "pycharm": {
     "name": "#%%\n"
    }
   }
  },
  {
   "cell_type": "code",
   "execution_count": null,
   "outputs": [],
   "source": [
    "plt.errorbar(x=data['circuit_id'], y=data[('mean', 'accuracy')],\n",
    "             yerr=data[('std', 'num_iter')], marker='.', linestyle='none')"
   ],
   "metadata": {
    "collapsed": false,
    "pycharm": {
     "name": "#%%\n"
    }
   }
  },
  {
   "cell_type": "code",
   "execution_count": null,
   "outputs": [],
   "source": [
    "import numpy as np\n",
    "import json\n",
    "from pathlib import Path\n",
    "with open('./run_experiment_setting.json', 'r') as f:\n",
    "    _setting = json.load(fp=f)\n",
    "    path = Path('./result/sampling')\n",
    "    with open('./sampling_setting.json', 'w') as g:\n",
    "        _setting['NUM_PQC_SAMPLE'] = 0\n",
    "        _setting[\"NUM_ALPHA_SAMPLE\"] = 0\n",
    "        _setting[\"BINS\"] = 75\n",
    "        _setting[\"BASE\"] = np.e\n",
    "        json.dump(_setting, g, indent=4)"
   ],
   "metadata": {
    "collapsed": false,
    "pycharm": {
     "name": "#%%\n"
    }
   }
  },
  {
   "cell_type": "code",
   "execution_count": 4,
   "outputs": [],
   "source": [
    "import numpy as np\n",
    "from scipy.stats import entropy\n",
    "import matplotlib.pyplot as plt\n",
    "\n",
    "import json\n",
    "%matplotlib inline"
   ],
   "metadata": {
    "collapsed": false,
    "pycharm": {
     "name": "#%%\n"
    }
   }
  },
  {
   "cell_type": "code",
   "execution_count": 34,
   "outputs": [],
   "source": [
    "alpha_samples = []\n",
    "for si in range(2**12):\n",
    "    with open(f'./result/sampling/Dataset #{si}/result.json', 'r') as f:\n",
    "        data = json.load(fp=f)\n",
    "        alpha = np.abs(np.asarray(data['statevector_real'])+1j*np.asarray(data['statevector_imag']))**2\n",
    "        alpha_samples.append(alpha)"
   ],
   "metadata": {
    "collapsed": false,
    "pycharm": {
     "name": "#%%\n"
    }
   }
  },
  {
   "cell_type": "code",
   "execution_count": 35,
   "outputs": [],
   "source": [
    "kld = []\n",
    "for i in range(int(len(alpha_samples)/2)):\n",
    "    pr1 = alpha_samples[2*i]\n",
    "    pr2 = alpha_samples[2*i+1]\n",
    "    kld.append(entropy(pr1, pr2, base=2))\n",
    "\n",
    "dist, bin_edges = np.histogram(\n",
    "    kld, bins=75, range=(0, 1), weights=np.ones(len(kld))/len(kld)\n",
    ")\n",
    "bin_mids = 1/2*(bin_edges[:-1]+bin_edges[1:])"
   ],
   "metadata": {
    "collapsed": false,
    "pycharm": {
     "name": "#%%\n"
    }
   }
  },
  {
   "cell_type": "code",
   "execution_count": 36,
   "outputs": [
    {
     "data": {
      "text/plain": "[<matplotlib.lines.Line2D at 0x7f9a37f3d490>]"
     },
     "execution_count": 36,
     "metadata": {},
     "output_type": "execute_result"
    },
    {
     "data": {
      "text/plain": "<Figure size 432x288 with 1 Axes>",
      "image/png": "[encoded data removed]"
     },
     "metadata": {
      "needs_background": "light"
     },
     "output_type": "display_data"
    }
   ],
   "source": [
    "plt.plot(bin_mids, dist)"
   ],
   "metadata": {
    "collapsed": false,
    "pycharm": {
     "name": "#%%\n"
    }
   }
  },
  {
   "cell_type": "code",
   "execution_count": 74,
   "outputs": [],
   "source": [
    "from qiskit.quantum_info import Statevector, hellinger_fidelity\n",
    "\n",
    "def kld_cost(params, pqc):\n",
    "    _qc = pqc.assign_parameters(dict(zip(pqc.parameters, params)))\n",
    "    _prv = Statevector(_qc).probabilities()\n",
    "    _alpha_ref = np.random.choice(len(alpha_samples), 1).item()\n",
    "    return entropy(alpha_samples[_alpha_ref], _prv, base=2)\n",
    "\n",
    "def hell_fid(params, pqc):\n",
    "    _qc = pqc.assign_parameters(dict(zip(pqc.parameters, params)))\n",
    "    _prv = Statevector(_qc).sample_counts(2**15)\n",
    "    _alpha_ref = np.random.choice(len(alpha_samples), 1).item()\n",
    "    _alpha = Statevector(np.sqrt(alpha_samples[_alpha_ref])).sample_counts(2**15)\n",
    "    return hellinger_fidelity(_alpha, _prv)\n",
    "\n",
    "class Wrapper:\n",
    "    def __init__(self, pqc):\n",
    "        self.pqc = pqc\n",
    "\n",
    "    def __call__(self, params):\n",
    "        return hell_fid(params, self.pqc)\n",
    "\n",
    "    @property\n",
    "    def num_parameters(self):\n",
    "        return self.pqc.num_parameters"
   ],
   "metadata": {
    "collapsed": false,
    "pycharm": {
     "name": "#%%\n"
    }
   }
  },
  {
   "cell_type": "code",
   "execution_count": 48,
   "outputs": [
    {
     "data": {
      "text/plain": "  0%|          | 0/8 [00:00<?, ?it/s]",
      "application/vnd.jupyter.widget-view+json": {
       "version_major": 2,
       "version_minor": 0,
       "model_id": "c9b8a1ea2f854daf9f0230fd03298c31"
      }
     },
     "metadata": {},
     "output_type": "display_data"
    },
    {
     "data": {
      "text/plain": "layer=1:   0%|          | 0/16384 [00:00<?, ?it/s]",
      "application/vnd.jupyter.widget-view+json": {
       "version_major": 2,
       "version_minor": 0,
       "model_id": "d4f7925eac4a420fa08fc1055d2be0b9"
      }
     },
     "metadata": {},
     "output_type": "display_data"
    },
    {
     "data": {
      "text/plain": "layer=2:   0%|          | 0/16384 [00:00<?, ?it/s]",
      "application/vnd.jupyter.widget-view+json": {
       "version_major": 2,
       "version_minor": 0,
       "model_id": "abdc44b42c834737a8e7f467dc45bad2"
      }
     },
     "metadata": {},
     "output_type": "display_data"
    },
    {
     "data": {
      "text/plain": "layer=3:   0%|          | 0/16384 [00:00<?, ?it/s]",
      "application/vnd.jupyter.widget-view+json": {
       "version_major": 2,
       "version_minor": 0,
       "model_id": "88bce8d33dae4812bf9c763368198c4b"
      }
     },
     "metadata": {},
     "output_type": "display_data"
    },
    {
     "data": {
      "text/plain": "layer=4:   0%|          | 0/16384 [00:00<?, ?it/s]",
      "application/vnd.jupyter.widget-view+json": {
       "version_major": 2,
       "version_minor": 0,
       "model_id": "36f8ef0547a545599b48ece71a11e29b"
      }
     },
     "metadata": {},
     "output_type": "display_data"
    },
    {
     "data": {
      "text/plain": "layer=5:   0%|          | 0/16384 [00:00<?, ?it/s]",
      "application/vnd.jupyter.widget-view+json": {
       "version_major": 2,
       "version_minor": 0,
       "model_id": "75f682617d54481baf3ffb773e5682b2"
      }
     },
     "metadata": {},
     "output_type": "display_data"
    },
    {
     "data": {
      "text/plain": "layer=6:   0%|          | 0/16384 [00:00<?, ?it/s]",
      "application/vnd.jupyter.widget-view+json": {
       "version_major": 2,
       "version_minor": 0,
       "model_id": "e80e991b44e54ad29b82bc57ca5547f9"
      }
     },
     "metadata": {},
     "output_type": "display_data"
    },
    {
     "data": {
      "text/plain": "layer=7:   0%|          | 0/16384 [00:00<?, ?it/s]",
      "application/vnd.jupyter.widget-view+json": {
       "version_major": 2,
       "version_minor": 0,
       "model_id": "4dc5be58f3cf4bc2a85205162fb7b7a5"
      }
     },
     "metadata": {},
     "output_type": "display_data"
    },
    {
     "data": {
      "text/plain": "layer=8:   0%|          | 0/16384 [00:00<?, ?it/s]",
      "application/vnd.jupyter.widget-view+json": {
       "version_major": 2,
       "version_minor": 0,
       "model_id": "49805ffd64634effa06698db6276635a"
      }
     },
     "metadata": {},
     "output_type": "display_data"
    },
    {
     "data": {
      "text/plain": "<matplotlib.legend.Legend at 0x7f9a3365efd0>"
     },
     "execution_count": 48,
     "metadata": {},
     "output_type": "execute_result"
    },
    {
     "data": {
      "text/plain": "<Figure size 432x288 with 1 Axes>",
      "image/png": "[encoded data removed]"
     },
     "metadata": {
      "needs_background": "light"
     },
     "output_type": "display_data"
    }
   ],
   "source": [
    "from tqdm.notebook import tqdm\n",
    "from classifiers.quantum.ansatz import sample_circuit\n",
    "for l in tqdm(range(1, 1+8)):\n",
    "    cost_fn = Wrapper(sample_circuit(3)(5, reps=l))\n",
    "    kld_samples = list(tqdm(map(cost_fn, 2 * np.pi * np.random.rand(2**14, cost_fn.num_parameters)), total=2**14, desc=f\"layer={l}\"))\n",
    "    plt.hist(kld_samples, bins=75, label=f'layer={l}')\n",
    "plt.legend()"
   ],
   "metadata": {
    "collapsed": false,
    "pycharm": {
     "name": "#%%\n"
    }
   }
  },
  {
   "cell_type": "code",
   "execution_count": null,
   "outputs": [],
   "source": [
    "from tqdm.notebook import tqdm\n",
    "from classifiers.quantum.ansatz import sample_circuit\n",
    "for l in tqdm(range(1, 1+8)):\n",
    "    cost_fn = Wrapper(sample_circuit(4)(5, reps=l))\n",
    "    kld_samples = list(tqdm(map(cost_fn, 2 * np.pi * np.random.rand(2**10, cost_fn.num_parameters)), total=2**10, desc=f\"layer={l}\"))\n",
    "    plt.hist(kld_samples, bins=75,weights = np.ones(2**10)/2**10, label=f'layer={l}')\n",
    "plt.legend()"
   ],
   "metadata": {
    "collapsed": false,
    "pycharm": {
     "name": "#%%\n"
    }
   }
  },
  {
   "cell_type": "code",
   "execution_count": 54,
   "outputs": [
    {
     "name": "stdout",
     "output_type": "stream",
     "text": [
      "[Errno 2] No such file or directory: './result/trial2(Pseudo)/Dataset #0/Circuit #1/layer=5/3/result.json'\n"
     ]
    },
    {
     "data": {
      "text/plain": "[[0,\n  1,\n  1,\n  10,\n  0.34310322243895924,\n  1.9597703841513058e-32,\n  1024,\n  0.10292589200467851,\n  0.9375],\n [0,\n  1,\n  1,\n  10,\n  0.3472212188903465,\n  1.9544439024999343e-32,\n  1024,\n  0.10311031963367376,\n  0.9375],\n [0,\n  1,\n  1,\n  10,\n  0.35840921423590966,\n  1.909724056133423e-32,\n  1024,\n  0.10282318379283233,\n  0.9375],\n [0,\n  1,\n  1,\n  10,\n  0.34849548180903167,\n  1.8724921796676458e-32,\n  1024,\n  0.1049520955945201,\n  0.9375],\n [0,\n  1,\n  2,\n  20,\n  0.22632910211222754,\n  6.282627858550968e-32,\n  1024,\n  0.10297035577438512,\n  0.9375],\n [0,\n  1,\n  2,\n  20,\n  0.25598917779415487,\n  6.250272162700496e-32,\n  1024,\n  0.10826286367783355,\n  0.9375],\n [0,\n  1,\n  2,\n  20,\n  0.2617072464696262,\n  6.263966157189133e-32,\n  1024,\n  0.10290968066131223,\n  0.9375],\n [0,\n  1,\n  2,\n  20,\n  0.2770580959506763,\n  6.250121524418665e-32,\n  1024,\n  0.10289890345201075,\n  0.9375],\n [0,\n  1,\n  3,\n  30,\n  0.238635301152705,\n  1.1502026777848184e-31,\n  1024,\n  0.1047717136005873,\n  0.9375],\n [0,\n  1,\n  3,\n  30,\n  0.2463569465674871,\n  1.1430855698809112e-31,\n  1024,\n  0.10293224687701978,\n  0.9375],\n [0,\n  1,\n  3,\n  30,\n  0.30255546907496456,\n  1.1416353348484144e-31,\n  1024,\n  0.10279286790798423,\n  0.9375],\n [0,\n  1,\n  3,\n  30,\n  0.2612797009814697,\n  1.1082638954088243e-31,\n  1024,\n  0.10287934769261706,\n  0.9375],\n [0,\n  1,\n  4,\n  40,\n  0.23428054626149503,\n  1.6151600062721683e-31,\n  1024,\n  0.10296250405411578,\n  0.9375],\n [0,\n  1,\n  4,\n  40,\n  0.28422169404658215,\n  1.6218263242794585e-31,\n  1024,\n  0.10307535146138394,\n  0.9375],\n [0,\n  1,\n  4,\n  40,\n  0.26207284699591193,\n  1.6300521655413797e-31,\n  1024,\n  0.10285587943908243,\n  0.9375],\n [0,\n  1,\n  4,\n  40,\n  0.281329696587158,\n  1.6111647209863058e-31,\n  1024,\n  0.1029526784207203,\n  0.9375],\n [0,\n  1,\n  5,\n  50,\n  0.24269652070013276,\n  2.1430886086382075e-31,\n  1024,\n  0.1029073427405099,\n  0.9375],\n [0,\n  1,\n  5,\n  50,\n  0.24111477005177667,\n  2.147836033306842e-31,\n  1024,\n  0.10276010362649828,\n  0.9375],\n [0,\n  1,\n  5,\n  50,\n  0.28164817435374023,\n  2.1365275133422517e-31,\n  1024,\n  0.10309106079186152,\n  0.9375],\n [0,\n  1,\n  6,\n  60,\n  0.21099352572777155,\n  2.6282318271245644e-31,\n  1024,\n  0.1028584427277052,\n  0.9375],\n [0,\n  1,\n  6,\n  60,\n  0.19857072974371556,\n  2.6525298339858568e-31,\n  1024,\n  0.10290612309252459,\n  0.9375],\n [0,\n  1,\n  6,\n  60,\n  0.23200669712198846,\n  2.6726374875933764e-31,\n  1024,\n  0.10294328598572758,\n  0.9375],\n [0,\n  1,\n  6,\n  60,\n  0.20903703584997207,\n  2.657850400034151e-31,\n  1024,\n  0.10283004202259496,\n  0.9375],\n [0,\n  1,\n  7,\n  70,\n  0.3335359555612304,\n  3.1255810256480836e-31,\n  1024,\n  0.10287621584597009,\n  0.9375],\n [0,\n  1,\n  7,\n  70,\n  0.2302452043389395,\n  3.151001904232673e-31,\n  1024,\n  0.10291108131348961,\n  0.9375],\n [0,\n  1,\n  7,\n  70,\n  0.27189098732413997,\n  3.1244035028609116e-31,\n  1024,\n  0.10289144237588133,\n  0.9375],\n [0,\n  1,\n  7,\n  70,\n  0.23087951598095272,\n  3.1742130388673e-31,\n  1024,\n  0.10300930455526544,\n  0.9375],\n [0,\n  1,\n  8,\n  80,\n  0.29272378173571323,\n  3.6388465894932975e-31,\n  1024,\n  0.10298936275687315,\n  0.9375],\n [0,\n  1,\n  8,\n  80,\n  0.28446423042722135,\n  3.625890418160511e-31,\n  1024,\n  0.10291378211064242,\n  0.9375],\n [0,\n  1,\n  8,\n  80,\n  0.18762953367319565,\n  3.647833035983163e-31,\n  1024,\n  0.10283673346049824,\n  0.9375],\n [0,\n  1,\n  8,\n  80,\n  0.2363655108765191,\n  3.6827972834831516e-31,\n  1024,\n  0.10302696001252806,\n  0.9375],\n [0,\n  2,\n  1,\n  10,\n  0.34310322243895924,\n  0.6755849843514229,\n  1024,\n  0.10658259616697666,\n  0.90625],\n [0,\n  2,\n  1,\n  10,\n  0.41334948206262123,\n  0.6844216727485438,\n  1024,\n  0.10308123708456646,\n  0.90625],\n [0,\n  2,\n  1,\n  10,\n  0.3867281308314879,\n  0.6697920828080578,\n  1024,\n  0.1884071063464941,\n  0.71875],\n [0,\n  2,\n  1,\n  10,\n  0.3492199255217038,\n  0.6887422593148885,\n  1024,\n  0.10520421227510215,\n  0.90625],\n [0,\n  2,\n  2,\n  20,\n  0.03794092295157786,\n  0.754555023493662,\n  1024,\n  0.10347232361033194,\n  0.9375],\n [0,\n  2,\n  2,\n  20,\n  0.0437656573696992,\n  0.7562894315378441,\n  1024,\n  0.09393033143442603,\n  0.9375],\n [0,\n  2,\n  2,\n  20,\n  0.06728214816898569,\n  0.7535369502658333,\n  1024,\n  0.13977408990489315,\n  0.90625],\n [0,\n  2,\n  2,\n  20,\n  0.06309768187470002,\n  0.7542059593705488,\n  1024,\n  0.09281656349471948,\n  0.90625],\n [0,\n  2,\n  3,\n  30,\n  0.009054787154077974,\n  0.8511594990514748,\n  1024,\n  0.08593477310695036,\n  0.9375],\n [0,\n  2,\n  3,\n  30,\n  0.01586919289842984,\n  0.8489631588561349,\n  1024,\n  0.08355382693850505,\n  0.9375],\n [0,\n  2,\n  3,\n  30,\n  0.024128483120892122,\n  0.8484324271557827,\n  1024,\n  0.08129342729204499,\n  0.90625],\n [0,\n  2,\n  3,\n  30,\n  0.01679195837283908,\n  0.8496830850637324,\n  1024,\n  0.09079266890987635,\n  0.90625],\n [0,\n  2,\n  4,\n  40,\n  0.009117201318167161,\n  0.8709389679195273,\n  1024,\n  0.08298631509520688,\n  0.90625],\n [0,\n  2,\n  4,\n  40,\n  0.004457587235308896,\n  0.8733728290336183,\n  1024,\n  0.07568492270647581,\n  0.90625],\n [0,\n  2,\n  4,\n  40,\n  0.0068374742510928285,\n  0.8712037116067073,\n  1024,\n  0.08409612072439138,\n  0.90625],\n [0,\n  2,\n  4,\n  40,\n  0.008766986349904568,\n  0.8707644991334764,\n  1024,\n  0.0808682196048032,\n  0.90625],\n [0,\n  2,\n  5,\n  50,\n  0.008875603316607732,\n  0.8922962581449467,\n  1024,\n  0.07832660559125643,\n  0.90625],\n [0,\n  2,\n  5,\n  50,\n  0.008495920400675809,\n  0.8910623901971781,\n  1024,\n  0.08162652716565033,\n  0.90625],\n [0,\n  2,\n  5,\n  50,\n  0.01088911101213954,\n  0.8918716616219022,\n  1024,\n  0.08618877510725376,\n  0.90625],\n [0,\n  2,\n  5,\n  50,\n  0.004780003864168264,\n  0.8920489697158008,\n  1024,\n  0.07585290957591162,\n  0.90625],\n [0,\n  2,\n  6,\n  60,\n  0.005431545318661067,\n  0.901201771201794,\n  1024,\n  0.07848372276490283,\n  0.90625],\n [0,\n  2,\n  6,\n  60,\n  0.0094214309707027,\n  0.9001927046683029,\n  1024,\n  0.0742523060691484,\n  0.90625],\n [0,\n  2,\n  6,\n  60,\n  0.011245039493345323,\n  0.8997621003076082,\n  1024,\n  0.073005753590074,\n  0.90625],\n [0,\n  2,\n  6,\n  60,\n  0.009958338851305072,\n  0.900312722278351,\n  1024,\n  0.0776328068111897,\n  0.90625],\n [0,\n  2,\n  7,\n  70,\n  0.00867330995350794,\n  0.9047732362898129,\n  1024,\n  0.07343679732847186,\n  0.90625],\n [0,\n  2,\n  7,\n  70,\n  0.006474230902038566,\n  0.9076005048630711,\n  1024,\n  0.07598083715537716,\n  0.90625],\n [0,\n  2,\n  7,\n  70,\n  0.0061037610000262005,\n  0.9082558022303042,\n  1024,\n  0.07346783798907403,\n  0.90625],\n [0,\n  2,\n  7,\n  70,\n  0.005970189918243709,\n  0.9044221957592768,\n  1024,\n  0.07602958490519053,\n  0.90625],\n [0,\n  2,\n  8,\n  80,\n  0.011265514375035106,\n  0.9061230332124806,\n  1024,\n  0.07673881484042003,\n  0.875],\n [0,\n  2,\n  8,\n  80,\n  0.011455228097186397,\n  0.9068603348660843,\n  1024,\n  0.07473489898298794,\n  0.90625],\n [0,\n  2,\n  8,\n  80,\n  0.008307636044823659,\n  0.9092854348858799,\n  1024,\n  0.07448005792319087,\n  0.90625],\n [0,\n  2,\n  8,\n  80,\n  0.011961643582381862,\n  0.9079849354304843,\n  1024,\n  0.07372956046916634,\n  0.90625],\n [0,\n  3,\n  1,\n  14,\n  0.2684017566041762,\n  0.18183201195820334,\n  1024,\n  0.10337908496616874,\n  0.9375],\n [0,\n  3,\n  1,\n  14,\n  0.3349261255094622,\n  0.17731099457918306,\n  1024,\n  0.10742721490343216,\n  0.9375],\n [0,\n  3,\n  1,\n  14,\n  0.2982283359457842,\n  0.17653239359149484,\n  1024,\n  0.10396086949569491,\n  0.9375],\n [0,\n  3,\n  1,\n  14,\n  0.35507706757715407,\n  0.1791400046448968,\n  1024,\n  0.1494588897306973,\n  0.84375],\n [0,\n  3,\n  2,\n  28,\n  0.11417873446397843,\n  0.3551720636519144,\n  1024,\n  0.09300770377753673,\n  0.9375],\n [0,\n  3,\n  2,\n  28,\n  0.13208758099752177,\n  0.3463761915370465,\n  1024,\n  0.08596817496061289,\n  0.90625],\n [0,\n  3,\n  2,\n  28,\n  0.10863703133359935,\n  0.3480903005229722,\n  1024,\n  0.09345590386233509,\n  0.90625],\n [0,\n  3,\n  2,\n  28,\n  0.17345334560807651,\n  0.35157017816317204,\n  1024,\n  0.0964982163023305,\n  0.90625],\n [0,\n  3,\n  3,\n  42,\n  0.08332511555161945,\n  0.4586970886925203,\n  1024,\n  0.08234248749748531,\n  0.90625],\n [0,\n  3,\n  3,\n  42,\n  0.09040969511706262,\n  0.4694369357779412,\n  1024,\n  0.0939439605338862,\n  0.90625],\n [0,\n  3,\n  3,\n  42,\n  0.05948010549289459,\n  0.46863404339972686,\n  1024,\n  0.09250881884382989,\n  0.90625],\n [0,\n  3,\n  3,\n  42,\n  0.09120625395034608,\n  0.4682820338949766,\n  1024,\n  0.09049857672402994,\n  0.90625],\n [0,\n  3,\n  4,\n  56,\n  0.060443413844613283,\n  0.5423422166327083,\n  1024,\n  0.09221575257741699,\n  0.90625],\n [0,\n  3,\n  4,\n  56,\n  0.06261168377765808,\n  0.5405383845931864,\n  1024,\n  0.07949985519840577,\n  0.90625],\n [0,\n  3,\n  4,\n  56,\n  0.04737033675854662,\n  0.5369173844743208,\n  1024,\n  0.08701829963044974,\n  0.90625],\n [0,\n  3,\n  4,\n  56,\n  0.05136965698286754,\n  0.5468383127311137,\n  1024,\n  0.08650072686354358,\n  0.90625],\n [0,\n  3,\n  5,\n  70,\n  0.032846945151600755,\n  0.5939185424756934,\n  1024,\n  0.08817710756789263,\n  0.90625],\n [0,\n  3,\n  5,\n  70,\n  0.036771909697210794,\n  0.5938118926175553,\n  1024,\n  0.0868071171085947,\n  0.90625],\n [0,\n  3,\n  5,\n  70,\n  0.04750531864328782,\n  0.5975508247772625,\n  1024,\n  0.07902714107226863,\n  0.90625],\n [0,\n  3,\n  5,\n  70,\n  0.047364504390142545,\n  0.5993766696885591,\n  1024,\n  0.08344376234871055,\n  0.90625],\n [0,\n  3,\n  6,\n  84,\n  0.020034060397641815,\n  0.6397474326000283,\n  1024,\n  0.07806340900508983,\n  0.90625],\n [0,\n  3,\n  6,\n  84,\n  0.035126901560268355,\n  0.6377556435247016,\n  1024,\n  0.07725766961513557,\n  0.90625],\n [0,\n  3,\n  6,\n  84,\n  0.03688222774123163,\n  0.6518312341422139,\n  1024,\n  0.08188618399647626,\n  0.875],\n [0,\n  3,\n  6,\n  84,\n  0.02381099048285841,\n  0.6441276948967047,\n  1024,\n  0.07992287719521361,\n  0.90625],\n [0,\n  3,\n  7,\n  98,\n  0.017379528605302078,\n  0.6784210500360344,\n  1024,\n  0.08637859648421156,\n  0.90625],\n [0,\n  3,\n  7,\n  98,\n  0.035180207522408365,\n  0.6680148525342133,\n  1024,\n  0.07607866058701807,\n  0.90625],\n [0,\n  3,\n  7,\n  98,\n  0.011339726212392922,\n  0.6718027869635745,\n  1024,\n  0.07611711888699331,\n  0.90625],\n [0,\n  3,\n  7,\n  98,\n  0.023624984486530807,\n  0.6756120660207096,\n  1024,\n  0.07848634838919712,\n  0.90625],\n [0,\n  3,\n  8,\n  112,\n  0.01692788010664041,\n  0.7048025864973375,\n  1024,\n  0.08125202176681497,\n  0.90625],\n [0,\n  3,\n  8,\n  112,\n  0.031311602266636575,\n  0.7045924281193056,\n  1024,\n  0.07736405927833037,\n  0.875],\n [0,\n  3,\n  8,\n  112,\n  0.014316697958195169,\n  0.7039948655251289,\n  1024,\n  0.08109256890906733,\n  0.90625],\n [0,\n  3,\n  8,\n  112,\n  0.011105316238219757,\n  0.7035605965836716,\n  1024,\n  0.07969177813246703,\n  0.90625],\n [0,\n  4,\n  1,\n  14,\n  0.17672854005702918,\n  0.3424480370277337,\n  1024,\n  0.10412459536436214,\n  0.90625],\n [0,\n  4,\n  1,\n  14,\n  0.21243412016457242,\n  0.3404080802382945,\n  1024,\n  0.1653242456246101,\n  0.90625],\n [0,\n  4,\n  1,\n  14,\n  0.1917669899185947,\n  0.34288674328571406,\n  1024,\n  0.0980717945360542,\n  0.90625],\n [0,\n  4,\n  1,\n  14,\n  0.1754068643608285,\n  0.342753766614596,\n  1024,\n  0.0945216012582752,\n  0.90625],\n [0,\n  4,\n  2,\n  28,\n  0.0669277127179467,\n  0.49980953586863264,\n  1024,\n  0.09423102054225223,\n  0.90625],\n [0,\n  4,\n  2,\n  28,\n  0.07829300618853954,\n  0.5077385550469276,\n  1024,\n  0.0934850366836284,\n  0.90625],\n [0,\n  4,\n  2,\n  28,\n  0.0535042399381012,\n  0.5041233726512634,\n  1024,\n  0.08778828009168763,\n  0.90625],\n [0,\n  4,\n  2,\n  28,\n  0.06512844638410445,\n  0.5063990297706349,\n  1024,\n  0.10134879375581952,\n  0.90625],\n [0,\n  4,\n  3,\n  42,\n  0.030568079024829345,\n  0.5987373747538909,\n  1024,\n  0.08640809752187824,\n  0.90625],\n [0,\n  4,\n  3,\n  42,\n  0.03544003454349735,\n  0.6007435805013136,\n  1024,\n  0.08686485482008968,\n  0.90625],\n [0,\n  4,\n  3,\n  42,\n  0.02297119243265166,\n  0.5946529778655906,\n  1024,\n  0.08825564817235171,\n  0.9375],\n [0,\n  4,\n  3,\n  42,\n  0.01580159286837067,\n  0.5975140368462938,\n  1024,\n  0.0876632150902051,\n  0.90625],\n [0,\n  4,\n  4,\n  56,\n  0.022099458660164238,\n  0.6691449287796684,\n  1024,\n  0.08048163945106203,\n  0.90625],\n [0,\n  4,\n  4,\n  56,\n  0.023362110945067304,\n  0.6543548472138947,\n  1024,\n  0.07573165869626916,\n  0.9375],\n [0,\n  4,\n  4,\n  56,\n  0.0350180020576234,\n  0.6648749891304218,\n  1024,\n  0.07614060919421214,\n  0.90625],\n [0,\n  4,\n  4,\n  56,\n  0.021287718076268197,\n  0.6621759952978101,\n  1024,\n  0.0796459808309413,\n  0.90625],\n [0,\n  4,\n  5,\n  70,\n  0.013945260500335638,\n  0.7085667231100249,\n  1024,\n  0.07591614867620697,\n  0.90625],\n [0,\n  4,\n  5,\n  70,\n  0.019168837855433603,\n  0.7113174345321291,\n  1024,\n  0.07524762225072434,\n  0.90625],\n [0,\n  4,\n  5,\n  70,\n  0.02544973315068007,\n  0.7092096776945938,\n  1024,\n  0.08174085173332145,\n  0.90625],\n [0,\n  4,\n  5,\n  70,\n  0.01174063572121994,\n  0.7078368123230474,\n  1024,\n  0.08150779561884322,\n  0.90625],\n [0,\n  4,\n  6,\n  84,\n  0.01645173527964908,\n  0.7500714385468464,\n  1024,\n  0.08009394475950425,\n  0.90625],\n [0,\n  4,\n  6,\n  84,\n  0.011036926332895283,\n  0.7425875869575982,\n  1024,\n  0.07666563773845157,\n  0.90625],\n [0,\n  4,\n  6,\n  84,\n  0.012100297673417058,\n  0.7478046811831144,\n  1024,\n  0.07664509225731883,\n  0.90625],\n [0,\n  4,\n  6,\n  84,\n  0.014706259302990096,\n  0.7534592012067614,\n  1024,\n  0.07660164417983975,\n  0.90625],\n [0,\n  4,\n  7,\n  98,\n  0.005983566190714765,\n  0.7809543316300659,\n  1024,\n  0.07937869855486734,\n  0.90625],\n [0,\n  4,\n  7,\n  98,\n  0.013647287055798993,\n  0.7880168735022461,\n  1024,\n  0.07514768513338035,\n  0.90625],\n [0,\n  4,\n  7,\n  98,\n  0.0071619347545760405,\n  0.7771435340968678,\n  1024,\n  0.07592358218626644,\n  0.90625],\n [0,\n  4,\n  7,\n  98,\n  0.007463132058703749,\n  0.7789837670186947,\n  1024,\n  0.07488960126386544,\n  0.90625],\n [0,\n  4,\n  8,\n  112,\n  0.005217476671182468,\n  0.8014208723391401,\n  1024,\n  0.07741529577654892,\n  0.90625],\n [0,\n  4,\n  8,\n  112,\n  0.009918445460622437,\n  0.8051215125561252,\n  1024,\n  0.07834241576604806,\n  0.90625],\n [0,\n  4,\n  8,\n  112,\n  0.007875477315977264,\n  0.8076035468872709,\n  1024,\n  0.07696964517999977,\n  0.90625],\n [0,\n  4,\n  8,\n  112,\n  0.006356453717765741,\n  0.802756038584103,\n  1024,\n  0.07626893008664344,\n  0.90625],\n [0,\n  9,\n  1,\n  5,\n  0.9357146959959368,\n  0.9999999999999999,\n  1024,\n  0.12990554218597142,\n  0.875],\n [0,\n  9,\n  1,\n  5,\n  1.1750381499890048,\n  0.9999999999999999,\n  1024,\n  0.12364581417332439,\n  0.9375],\n [0,\n  9,\n  1,\n  5,\n  1.139003590249915,\n  0.9999999999999999,\n  1024,\n  0.12360858580654677,\n  0.9375],\n [0,\n  9,\n  1,\n  5,\n  0.963882834829987,\n  0.9999999999999999,\n  1024,\n  0.1236223166262222,\n  0.9375],\n [0,\n  9,\n  2,\n  10,\n  0.19933889064458382,\n  0.9999999999999998,\n  1024,\n  0.10961601615472205,\n  0.84375],\n [0,\n  9,\n  2,\n  10,\n  0.125687714923065,\n  0.9999999999999998,\n  1024,\n  0.10921756443226303,\n  0.84375],\n [0,\n  9,\n  2,\n  10,\n  0.1559118728063842,\n  0.9999999999999998,\n  1024,\n  0.11550618323188473,\n  0.84375],\n [0,\n  9,\n  2,\n  10,\n  0.16178645557267435,\n  0.9999999999999997,\n  1024,\n  0.10911229193727409,\n  0.84375],\n [0,\n  9,\n  3,\n  15,\n  0.0337866586504271,\n  0.9999999999999996,\n  1024,\n  0.10556297597216892,\n  0.90625],\n [0,\n  9,\n  3,\n  15,\n  0.06944439357880546,\n  0.9999999999999996,\n  1024,\n  0.0885193722234073,\n  0.9375],\n [0,\n  9,\n  3,\n  15,\n  0.02836036414785558,\n  0.9999999999999996,\n  1024,\n  0.08577929070653013,\n  0.9375],\n [0,\n  9,\n  3,\n  15,\n  0.04806936253395368,\n  0.9999999999999996,\n  1024,\n  0.09566123114887373,\n  0.9375],\n [0,\n  9,\n  4,\n  20,\n  0.012861211037529637,\n  0.984438917364156,\n  1024,\n  0.08589757278968431,\n  0.90625],\n [0,\n  9,\n  4,\n  20,\n  0.008572844360250888,\n  0.9827829147084006,\n  1024,\n  0.0834012317946147,\n  0.90625],\n [0,\n  9,\n  4,\n  20,\n  0.006915651377467962,\n  0.9820544863251558,\n  1024,\n  0.09494602077473842,\n  0.90625],\n [0,\n  9,\n  4,\n  20,\n  0.013665367031461668,\n  0.9820318270520976,\n  1024,\n  0.08455171980543184,\n  0.90625],\n [0,\n  9,\n  5,\n  25,\n  0.007747360239759858,\n  0.8628528518782358,\n  1024,\n  0.08652800020490603,\n  0.96875],\n [0,\n  9,\n  5,\n  25,\n  0.007622333973470976,\n  0.8571225418039022,\n  1024,\n  0.08258875905137832,\n  0.90625],\n [0,\n  9,\n  5,\n  25,\n  0.010576536713595375,\n  0.851833531016571,\n  1024,\n  0.0830845977069373,\n  0.90625],\n [0,\n  9,\n  5,\n  25,\n  0.01652017751664976,\n  0.8560801152142937,\n  1024,\n  0.08024139914015994,\n  0.90625],\n [0,\n  9,\n  6,\n  30,\n  0.008675423299554098,\n  0.8600109832086159,\n  1024,\n  0.08477591688169217,\n  0.90625],\n [0,\n  9,\n  6,\n  30,\n  0.005628087709996093,\n  0.8618744178827589,\n  1024,\n  0.08860855044187954,\n  0.9375],\n [0,\n  9,\n  6,\n  30,\n  0.008428645911935278,\n  0.8667109712426876,\n  1024,\n  0.07942117285368323,\n  0.90625],\n [0,\n  9,\n  6,\n  30,\n  0.010601530855885463,\n  0.8630146516044529,\n  1024,\n  0.07714924929183165,\n  0.90625],\n [0,\n  9,\n  7,\n  35,\n  0.007910887465608963,\n  0.9071129613933149,\n  1024,\n  0.08019593958361393,\n  0.90625],\n [0,\n  9,\n  7,\n  35,\n  0.0072216354101824805,\n  0.906632051232085,\n  1024,\n  0.086707684989376,\n  0.90625],\n [0,\n  9,\n  7,\n  35,\n  0.016077679054092735,\n  0.9052090984820658,\n  1024,\n  0.07985150165316757,\n  0.90625],\n [0,\n  9,\n  7,\n  35,\n  0.010534086644692412,\n  0.9028673962181855,\n  1024,\n  0.08401155401828242,\n  0.90625],\n [0,\n  9,\n  8,\n  40,\n  0.008102085598607074,\n  0.9107402696781407,\n  1024,\n  0.0744463620393578,\n  0.90625],\n [0,\n  9,\n  8,\n  40,\n  0.01776761903726568,\n  0.9108997873177676,\n  1024,\n  0.07519068269911293,\n  0.90625],\n [0,\n  9,\n  8,\n  40,\n  0.0073008660005212805,\n  0.9095411460268552,\n  1024,\n  0.07766828138594355,\n  0.90625],\n [0,\n  9,\n  8,\n  40,\n  0.006329500706279505,\n  0.9092863822513628,\n  1024,\n  0.07548736215776777,\n  0.90625],\n [0,\n  10,\n  1,\n  10,\n  0.24327229798155306,\n  0.37297861919949904,\n  1024,\n  0.09730871896892965,\n  0.90625],\n [0,\n  10,\n  1,\n  10,\n  0.2564270152267946,\n  0.3826243753888505,\n  1024,\n  0.08704378848709775,\n  0.9375],\n [0,\n  10,\n  1,\n  10,\n  0.2678923336603844,\n  0.37871786685538905,\n  1024,\n  0.09949836288781819,\n  0.90625],\n [0,\n  10,\n  1,\n  10,\n  0.2646517836188734,\n  0.3803876591273709,\n  1024,\n  0.10470376397396089,\n  0.90625],\n [0,\n  10,\n  2,\n  15,\n  0.1314771106100594,\n  0.5571181329413236,\n  1024,\n  0.08758487891453122,\n  0.90625],\n [0,\n  10,\n  2,\n  15,\n  0.14640978372383562,\n  0.57304885078312,\n  1024,\n  0.0998941739610435,\n  0.875],\n [0,\n  10,\n  2,\n  15,\n  0.21363960830898227,\n  0.5651562943053693,\n  1024,\n  0.09341611466323041,\n  0.90625],\n [0,\n  10,\n  2,\n  15,\n  0.1486425954137511,\n  0.5723929736734226,\n  1024,\n  0.08736099785631112,\n  0.90625],\n [0,\n  10,\n  3,\n  20,\n  0.09727587504728122,\n  0.6935256512821211,\n  1024,\n  0.09362542786629532,\n  0.90625],\n [0,\n  10,\n  3,\n  20,\n  0.14434900946324014,\n  0.6885770298915773,\n  1024,\n  0.08217792550816812,\n  0.9375],\n [0,\n  10,\n  3,\n  20,\n  0.12532315861804894,\n  0.6892433922016866,\n  1024,\n  0.10191240398262842,\n  0.875],\n [0,\n  10,\n  3,\n  20,\n  0.14930005129094912,\n  0.6892174245254213,\n  1024,\n  0.08929048822295312,\n  0.90625],\n [0,\n  10,\n  4,\n  25,\n  0.12376200240854429,\n  0.7603877838277633,\n  1024,\n  0.08667318930634194,\n  0.90625],\n [0,\n  10,\n  4,\n  25,\n  0.12788083355882662,\n  0.7644227245181466,\n  1024,\n  0.09217625445799937,\n  0.875],\n [0,\n  10,\n  4,\n  25,\n  0.1137964828784811,\n  0.7651947428820953,\n  1024,\n  0.07869910682274019,\n  0.90625],\n [0,\n  10,\n  4,\n  25,\n  0.11430124887313971,\n  0.7552683360133433,\n  1024,\n  0.0889745581595309,\n  0.875],\n [0,\n  10,\n  5,\n  30,\n  0.1193874027058909,\n  0.8033434396431711,\n  1024,\n  0.07854852860829292,\n  0.875],\n [0,\n  10,\n  5,\n  30,\n  0.1312700780295676,\n  0.804384432637005,\n  1024,\n  0.07686245435295949,\n  0.90625],\n [0,\n  10,\n  5,\n  30,\n  0.1535409115505812,\n  0.803225052638543,\n  1024,\n  0.0763070534932068,\n  0.90625],\n [0,\n  10,\n  5,\n  30,\n  0.09329012394220691,\n  0.8011422157438416,\n  1024,\n  0.0870328397326498,\n  0.90625],\n [0,\n  10,\n  6,\n  35,\n  0.12822402331382984,\n  0.8270353274963401,\n  1024,\n  0.08129071180671163,\n  0.90625],\n [0,\n  10,\n  6,\n  35,\n  0.10142327630726146,\n  0.8304853763707776,\n  1024,\n  0.08754649340506582,\n  0.90625],\n [0,\n  10,\n  6,\n  35,\n  0.1425985888727483,\n  0.8289418372135967,\n  1024,\n  0.0736672368822106,\n  0.90625],\n [0,\n  10,\n  6,\n  35,\n  0.14453411660827686,\n  0.82785632371365,\n  1024,\n  0.08569161082240404,\n  0.90625],\n [0,\n  10,\n  7,\n  40,\n  0.11826544520423171,\n  0.8480249667492471,\n  1024,\n  0.07912722075027864,\n  0.90625],\n [0,\n  10,\n  7,\n  40,\n  0.11593198824395437,\n  0.8479863173879425,\n  1024,\n  0.07589805041061429,\n  0.90625],\n [0,\n  10,\n  7,\n  40,\n  0.1491793381784065,\n  0.8451699102532503,\n  1024,\n  0.07782202487327175,\n  0.90625],\n [0,\n  10,\n  7,\n  40,\n  0.12225513914780597,\n  0.8464090455644089,\n  1024,\n  0.08239187272342889,\n  0.90625],\n [0,\n  10,\n  8,\n  45,\n  0.14953981020650764,\n  0.8572634601831516,\n  1024,\n  0.0756424205874354,\n  0.90625],\n [0,\n  10,\n  8,\n  45,\n  0.1284767059074409,\n  0.848208950896931,\n  1024,\n  0.08021951198106028,\n  0.90625],\n [0,\n  10,\n  8,\n  45,\n  0.11441484612776619,\n  0.8564466992502547,\n  1024,\n  0.07665186707494115,\n  0.9375],\n [0,\n  10,\n  8,\n  45,\n  0.10012462388800636,\n  0.8554639889810282,\n  1024,\n  0.08779029572501303,\n  0.90625],\n [0,\n  18,\n  1,\n  15,\n  0.300392683050689,\n  0.21663830126657166,\n  1024,\n  0.10982814213175399,\n  0.96875],\n [0,\n  18,\n  1,\n  15,\n  0.2809869901709012,\n  0.2122048180458766,\n  1024,\n  0.10988134758717025,\n  0.9375],\n [0,\n  18,\n  1,\n  15,\n  0.28118727713861785,\n  0.22331087994646012,\n  1024,\n  0.10387555228264678,\n  0.9375],\n [0,\n  18,\n  1,\n  15,\n  0.25479642453423673,\n  0.21503093581896207,\n  1024,\n  0.10383896881244559,\n  0.9375],\n [0,\n  18,\n  2,\n  30,\n  0.12382941901700337,\n  0.418194338088537,\n  1024,\n  0.0922354900758581,\n  0.90625],\n [0,\n  18,\n  2,\n  30,\n  0.14192238597505277,\n  0.4304119612209498,\n  1024,\n  0.10533117747483547,\n  0.90625],\n [0,\n  18,\n  2,\n  30,\n  0.07579854755796162,\n  0.4151066933586953,\n  1024,\n  0.09818580006068198,\n  0.90625],\n [0,\n  18,\n  2,\n  30,\n  0.104835897394763,\n  0.42021334432577634,\n  1024,\n  0.08982009415537232,\n  0.90625],\n [0,\n  18,\n  3,\n  45,\n  0.045742441527638615,\n  0.5577167433913377,\n  1024,\n  0.09053158605192663,\n  0.90625],\n [0,\n  18,\n  3,\n  45,\n  0.060139091358454286,\n  0.558408522763463,\n  1024,\n  0.09881554885454712,\n  0.9375],\n [0,\n  18,\n  3,\n  45,\n  0.07314027374355654,\n  0.5610906721759499,\n  1024,\n  0.09133678066774639,\n  0.90625],\n [0,\n  18,\n  3,\n  45,\n  0.03545042488782352,\n  0.5525750918347204,\n  1024,\n  0.09632390666644862,\n  0.90625],\n [0,\n  18,\n  4,\n  60,\n  0.015378409279718435,\n  0.6489095598705203,\n  1024,\n  0.08394167643096612,\n  0.90625],\n [0,\n  18,\n  4,\n  60,\n  0.048789966315876634,\n  0.654117903648165,\n  1024,\n  0.0813393814437592,\n  0.90625],\n [0,\n  18,\n  4,\n  60,\n  0.039182078716945776,\n  0.6565804575640504,\n  1024,\n  0.07794803826112084,\n  0.9375],\n [0,\n  18,\n  4,\n  60,\n  0.010220618628307712,\n  0.6417652823419914,\n  1024,\n  0.0970887349341312,\n  0.90625],\n [0,\n  18,\n  5,\n  75,\n  0.021256870205812045,\n  0.7128203174104744,\n  1024,\n  0.08131344438434604,\n  0.90625],\n [0,\n  18,\n  5,\n  75,\n  0.008769501047090584,\n  0.7133961528637413,\n  1024,\n  0.08075132816977296,\n  0.90625],\n [0,\n  18,\n  5,\n  75,\n  0.01112006310867249,\n  0.7136072961288501,\n  1024,\n  0.07487360704710061,\n  0.90625],\n [0,\n  18,\n  5,\n  75,\n  0.025091422891128465,\n  0.7199007709440873,\n  1024,\n  0.07791885009028363,\n  0.90625],\n [0,\n  18,\n  6,\n  90,\n  0.01609599146024715,\n  0.7614491044418735,\n  1024,\n  0.07612868060751883,\n  0.90625],\n [0,\n  18,\n  6,\n  90,\n  0.013401907614140153,\n  0.7651483545277281,\n  1024,\n  0.07593108570272637,\n  0.90625],\n [0,\n  18,\n  6,\n  90,\n  0.01599614126722086,\n  0.7652135788436583,\n  1024,\n  0.07799884932064147,\n  0.90625],\n [0,\n  18,\n  6,\n  90,\n  0.01787581051393779,\n  0.760618640080064,\n  1024,\n  0.07713626969854488,\n  0.90625],\n [0,\n  18,\n  7,\n  105,\n  0.009911443823852718,\n  0.7923123968483831,\n  1024,\n  0.08386020916510345,\n  0.90625],\n [0,\n  18,\n  7,\n  105,\n  0.008752047056423363,\n  0.7957123879172717,\n  1024,\n  0.07811527347104617,\n  0.90625],\n [0,\n  18,\n  7,\n  105,\n  0.012066010439826493,\n  0.7978840974577017,\n  1024,\n  0.07950456321585114,\n  0.90625],\n [0,\n  18,\n  7,\n  105,\n  0.008342401077014672,\n  0.796579656179758,\n  1024,\n  0.08230128636198764,\n  0.90625],\n [0,\n  18,\n  8,\n  120,\n  0.004569614342044202,\n  0.827715381861861,\n  1024,\n  0.07546117734290286,\n  0.90625],\n [0,\n  18,\n  8,\n  120,\n  0.008571185521369587,\n  0.8270305616496789,\n  1024,\n  0.07754853229594737,\n  0.90625],\n [0,\n  18,\n  8,\n  120,\n  0.013542249586345888,\n  0.8236978576838457,\n  1024,\n  0.07603511367168395,\n  0.90625],\n [0,\n  18,\n  8,\n  120,\n  0.019379212760992463,\n  0.8256664801643776,\n  1024,\n  0.0771467482628447,\n  0.90625],\n [0,\n  19,\n  1,\n  15,\n  0.1395240625213195,\n  0.38058466841724864,\n  1024,\n  0.1442466288927612,\n  0.9375],\n [0,\n  19,\n  1,\n  15,\n  0.14432779775141494,\n  0.38263684144921495,\n  1024,\n  0.10023143569903278,\n  0.90625],\n [0,\n  19,\n  1,\n  15,\n  0.13190559423334527,\n  0.3910981782385858,\n  1024,\n  0.08697543133952662,\n  0.90625],\n [0,\n  19,\n  1,\n  15,\n  0.10234744885624299,\n  0.38335219599462184,\n  1024,\n  0.09286341781950153,\n  0.90625],\n [0,\n  19,\n  2,\n  30,\n  0.033261640827407735,\n  0.5946244056691818,\n  1024,\n  0.07697416591528414,\n  0.875],\n [0,\n  19,\n  2,\n  30,\n  0.0268667775446685,\n  0.6133924720167419,\n  1024,\n  0.09361744506128805,\n  0.90625],\n [0,\n  19,\n  2,\n  30,\n  0.030820410267974118,\n  0.5951809600089817,\n  1024,\n  0.0934375741521821,\n  0.90625],\n [0,\n  19,\n  2,\n  30,\n  0.03773647414989677,\n  0.6058867794928323,\n  1024,\n  0.08580158524959913,\n  0.90625],\n [0,\n  19,\n  3,\n  45,\n  0.010999056668813293,\n  0.7174461963218554,\n  1024,\n  0.07996484331066879,\n  0.90625],\n [0,\n  19,\n  3,\n  45,\n  0.013074893210135578,\n  0.721529469291851,\n  1024,\n  0.0865556339181335,\n  0.90625],\n [0,\n  19,\n  3,\n  45,\n  0.007649665655290926,\n  0.7207357724910458,\n  1024,\n  0.08583422698777532,\n  0.9375],\n [0,\n  19,\n  3,\n  45,\n  0.0058119649069800425,\n  0.7240803822239514,\n  1024,\n  0.08454628512688497,\n  0.9375],\n [0,\n  19,\n  4,\n  60,\n  0.016484822514033284,\n  0.7979489781581968,\n  1024,\n  0.07695377178524679,\n  0.90625],\n [0,\n  19,\n  4,\n  60,\n  0.00564145122046857,\n  0.796404774031653,\n  1024,\n  0.08291778464879668,\n  0.90625],\n [0,\n  19,\n  4,\n  60,\n  0.015098982798161872,\n  0.8070854978790106,\n  1024,\n  0.0810238646921965,\n  0.875],\n [0,\n  19,\n  4,\n  60,\n  0.0058755459780777805,\n  0.7958035257416559,\n  1024,\n  0.07713817234836023,\n  0.90625],\n [0,\n  19,\n  5,\n  75,\n  0.01047148430960634,\n  0.8362027555422303,\n  1024,\n  0.07891814488082906,\n  0.90625],\n [0,\n  19,\n  5,\n  75,\n  0.008332205656102099,\n  0.8388019996216647,\n  1024,\n  0.0760610755341466,\n  0.90625],\n [0,\n  19,\n  5,\n  75,\n  0.004552778911009604,\n  0.8432277127065768,\n  1024,\n  0.07537963310390212,\n  0.90625],\n [0,\n  19,\n  5,\n  75,\n  0.0068638719305500195,\n  0.8388499694440695,\n  1024,\n  0.07661620923646767,\n  0.90625],\n [0,\n  19,\n  6,\n  90,\n  0.0074900027717283105,\n  0.8689010408445376,\n  1024,\n  0.07321407585788928,\n  0.90625],\n [0,\n  19,\n  6,\n  90,\n  0.006424945508344911,\n  0.8693452348148352,\n  1024,\n  0.07667522149723766,\n  0.90625],\n [0,\n  19,\n  6,\n  90,\n  0.015268398903072621,\n  0.8681278204883855,\n  1024,\n  0.0769066953088795,\n  0.90625],\n [0,\n  19,\n  6,\n  90,\n  0.014943469987553146,\n  0.8638945955297965,\n  1024,\n  0.07517225906998326,\n  0.90625],\n [0,\n  19,\n  7,\n  105,\n  0.006006617658087538,\n  0.881764169956382,\n  1024,\n  0.07761668582580954,\n  0.875],\n [0,\n  19,\n  7,\n  105,\n  0.010232643917420747,\n  0.8834664055262416,\n  1024,\n  0.0774480392275393,\n  0.90625],\n [0,\n  19,\n  7,\n  105,\n  0.0068908069065117955,\n  0.8813691478741001,\n  1024,\n  0.07381094960004016,\n  0.90625],\n [0,\n  19,\n  7,\n  105,\n  0.013366024716814393,\n  0.8853952957892042,\n  1024,\n  0.0733997623198949,\n  0.90625],\n [0,\n  19,\n  8,\n  120,\n  0.005400544222325544,\n  0.8915303390256148,\n  1024,\n  0.07748650947764743,\n  0.875],\n [0,\n  19,\n  8,\n  120,\n  0.013121373500556262,\n  0.893336505986889,\n  1024,\n  0.07530880425023885,\n  0.90625],\n [0,\n  19,\n  8,\n  120,\n  0.006439451112775685,\n  0.8905956392332838,\n  1024,\n  0.07521073810216874,\n  0.90625],\n [0,\n  19,\n  8,\n  120,\n  0.006893164387099459,\n  0.8910836196923194,\n  1024,\n  0.07338263017799299,\n  0.90625]]"
     },
     "execution_count": 54,
     "metadata": {},
     "output_type": "execute_result"
    }
   ],
   "source": [
    "import dill\n",
    "import json\n",
    "\n",
    "with open('./result/trial2(Pseudo)/.setting.json', 'r') as f:\n",
    "    setting = json.load(fp=f)\n",
    "\n",
    "data = []\n",
    "for ci in setting['CIRCUIT_ID']:\n",
    "    for l in setting['LAYERS']:\n",
    "        for r in range(setting['REPEATS']):\n",
    "            try:\n",
    "                with open(f'./result/trial2(Pseudo)/Dataset #0/Circuit #{ci}/layer={l}/{r}/result.json', 'r') as g:\n",
    "                    data.append(list(json.load(fp=g).values()))\n",
    "            except FileNotFoundError as e:\n",
    "                print(e)"
   ],
   "metadata": {
    "collapsed": false,
    "pycharm": {
     "name": "#%%\n"
    }
   }
  },
  {
   "cell_type": "code",
   "execution_count": 55,
   "outputs": [],
   "source": [
    "with open(f'./result/trial2(Pseudo)/Dataset #0/Circuit #{ci}/layer={l}/{r}/result.json', 'r') as g:\n",
    "    columns = list(json.load(fp=g).keys())\n"
   ],
   "metadata": {
    "collapsed": false,
    "pycharm": {
     "name": "#%%\n"
    }
   }
  },
  {
   "cell_type": "code",
   "execution_count": 58,
   "outputs": [
    {
     "data": {
      "text/plain": "     dataset  circuit_id  layer  ...  num_iter  last_cost_avg  accuracy\n0        0.0         1.0    1.0  ...    1024.0       0.102926   0.93750\n1        0.0         1.0    1.0  ...    1024.0       0.103110   0.93750\n2        0.0         1.0    1.0  ...    1024.0       0.102823   0.93750\n3        0.0         1.0    1.0  ...    1024.0       0.104952   0.93750\n4        0.0         1.0    2.0  ...    1024.0       0.102970   0.93750\n..       ...         ...    ...  ...       ...            ...       ...\n250      0.0        19.0    7.0  ...    1024.0       0.073400   0.90625\n251      0.0        19.0    8.0  ...    1024.0       0.077487   0.87500\n252      0.0        19.0    8.0  ...    1024.0       0.075309   0.90625\n253      0.0        19.0    8.0  ...    1024.0       0.075211   0.90625\n254      0.0        19.0    8.0  ...    1024.0       0.073383   0.90625\n\n[255 rows x 9 columns]",
      "text/html": "<div>\n<style scoped>\n    .dataframe tbody tr th:only-of-type {\n        vertical-align: middle;\n    }\n\n    .dataframe tbody tr th {\n        vertical-align: top;\n    }\n\n    .dataframe thead th {\n        text-align: right;\n    }\n</style>\n<table border=\"1\" class=\"dataframe\">\n  <thead>\n    <tr style=\"text-align: right;\">\n      <th></th>\n      <th>dataset</th>\n      <th>circuit_id</th>\n      <th>layer</th>\n      <th>num_params</th>\n      <th>expr</th>\n      <th>entcap</th>\n      <th>num_iter</th>\n      <th>last_cost_avg</th>\n      <th>accuracy</th>\n    </tr>\n  </thead>\n  <tbody>\n    <tr>\n      <th>0</th>\n      <td>0.0</td>\n      <td>1.0</td>\n      <td>1.0</td>\n      <td>10.0</td>\n      <td>0.343103</td>\n      <td>1.959770e-32</td>\n      <td>1024.0</td>\n      <td>0.102926</td>\n      <td>0.93750</td>\n    </tr>\n    <tr>\n      <th>1</th>\n      <td>0.0</td>\n      <td>1.0</td>\n      <td>1.0</td>\n      <td>10.0</td>\n      <td>0.347221</td>\n      <td>1.954444e-32</td>\n      <td>1024.0</td>\n      <td>0.103110</td>\n      <td>0.93750</td>\n    </tr>\n    <tr>\n      <th>2</th>\n      <td>0.0</td>\n      <td>1.0</td>\n      <td>1.0</td>\n      <td>10.0</td>\n      <td>0.358409</td>\n      <td>1.909724e-32</td>\n      <td>1024.0</td>\n      <td>0.102823</td>\n      <td>0.93750</td>\n    </tr>\n    <tr>\n      <th>3</th>\n      <td>0.0</td>\n      <td>1.0</td>\n      <td>1.0</td>\n      <td>10.0</td>\n      <td>0.348495</td>\n      <td>1.872492e-32</td>\n      <td>1024.0</td>\n      <td>0.104952</td>\n      <td>0.93750</td>\n    </tr>\n    <tr>\n      <th>4</th>\n      <td>0.0</td>\n      <td>1.0</td>\n      <td>2.0</td>\n      <td>20.0</td>\n      <td>0.226329</td>\n      <td>6.282628e-32</td>\n      <td>1024.0</td>\n      <td>0.102970</td>\n      <td>0.93750</td>\n    </tr>\n    <tr>\n      <th>...</th>\n      <td>...</td>\n      <td>...</td>\n      <td>...</td>\n      <td>...</td>\n      <td>...</td>\n      <td>...</td>\n      <td>...</td>\n      <td>...</td>\n      <td>...</td>\n    </tr>\n    <tr>\n      <th>250</th>\n      <td>0.0</td>\n      <td>19.0</td>\n      <td>7.0</td>\n      <td>105.0</td>\n      <td>0.013366</td>\n      <td>8.853953e-01</td>\n      <td>1024.0</td>\n      <td>0.073400</td>\n      <td>0.90625</td>\n    </tr>\n    <tr>\n      <th>251</th>\n      <td>0.0</td>\n      <td>19.0</td>\n      <td>8.0</td>\n      <td>120.0</td>\n      <td>0.005401</td>\n      <td>8.915303e-01</td>\n      <td>1024.0</td>\n      <td>0.077487</td>\n      <td>0.87500</td>\n    </tr>\n    <tr>\n      <th>252</th>\n      <td>0.0</td>\n      <td>19.0</td>\n      <td>8.0</td>\n      <td>120.0</td>\n      <td>0.013121</td>\n      <td>8.933365e-01</td>\n      <td>1024.0</td>\n      <td>0.075309</td>\n      <td>0.90625</td>\n    </tr>\n    <tr>\n      <th>253</th>\n      <td>0.0</td>\n      <td>19.0</td>\n      <td>8.0</td>\n      <td>120.0</td>\n      <td>0.006439</td>\n      <td>8.905956e-01</td>\n      <td>1024.0</td>\n      <td>0.075211</td>\n      <td>0.90625</td>\n    </tr>\n    <tr>\n      <th>254</th>\n      <td>0.0</td>\n      <td>19.0</td>\n      <td>8.0</td>\n      <td>120.0</td>\n      <td>0.006893</td>\n      <td>8.910836e-01</td>\n      <td>1024.0</td>\n      <td>0.073383</td>\n      <td>0.90625</td>\n    </tr>\n  </tbody>\n</table>\n<p>255 rows × 9 columns</p>\n</div>"
     },
     "execution_count": 58,
     "metadata": {},
     "output_type": "execute_result"
    }
   ],
   "source": [
    "from pandas import DataFrame, pivot_table\n",
    "\n",
    "data = DataFrame(data=np.array(data), columns=columns)\n",
    "data"
   ],
   "metadata": {
    "collapsed": false,
    "pycharm": {
     "name": "#%%\n"
    }
   }
  },
  {
   "cell_type": "code",
   "execution_count": 60,
   "outputs": [],
   "source": [
    "def pivot_and_draw(data: DataFrame):\n",
    "    df = data.pivot_table(\n",
    "        index=columns[:4],\n",
    "        values=columns[4:],\n",
    "    )\n",
    "    data1 = np.array(list(df.index))\n",
    "    data2 = df.to_numpy()\n",
    "    if len(data1.shape) == 1:\n",
    "        data1 = data1.reshape(-1, 1)\n",
    "    result = DataFrame(\n",
    "        data=np.hstack([data1, data2]),\n",
    "        columns=list(df.index.names) + list(df.columns)\n",
    "    )\n",
    "    return result"
   ],
   "metadata": {
    "collapsed": false,
    "pycharm": {
     "name": "#%%\n"
    }
   }
  },
  {
   "cell_type": "code",
   "execution_count": 61,
   "outputs": [
    {
     "data": {
      "text/plain": "    dataset  circuit_id  layer  ...      expr  last_cost_avg  num_iter\n0       0.0         1.0    1.0  ...  0.349307       0.103453    1024.0\n1       0.0         1.0    2.0  ...  0.255271       0.104260    1024.0\n2       0.0         1.0    3.0  ...  0.262207       0.103344    1024.0\n3       0.0         1.0    4.0  ...  0.265476       0.102962    1024.0\n4       0.0         1.0    5.0  ...  0.255153       0.102920    1024.0\n..      ...         ...    ...  ...       ...            ...       ...\n59      0.0        19.0    4.0  ...  0.010775       0.079508    1024.0\n60      0.0        19.0    5.0  ...  0.007555       0.076744    1024.0\n61      0.0        19.0    6.0  ...  0.011032       0.075492    1024.0\n62      0.0        19.0    7.0  ...  0.009124       0.075569    1024.0\n63      0.0        19.0    8.0  ...  0.007964       0.075347    1024.0\n\n[64 rows x 9 columns]",
      "text/html": "<div>\n<style scoped>\n    .dataframe tbody tr th:only-of-type {\n        vertical-align: middle;\n    }\n\n    .dataframe tbody tr th {\n        vertical-align: top;\n    }\n\n    .dataframe thead th {\n        text-align: right;\n    }\n</style>\n<table border=\"1\" class=\"dataframe\">\n  <thead>\n    <tr style=\"text-align: right;\">\n      <th></th>\n      <th>dataset</th>\n      <th>circuit_id</th>\n      <th>layer</th>\n      <th>num_params</th>\n      <th>accuracy</th>\n      <th>entcap</th>\n      <th>expr</th>\n      <th>last_cost_avg</th>\n      <th>num_iter</th>\n    </tr>\n  </thead>\n  <tbody>\n    <tr>\n      <th>0</th>\n      <td>0.0</td>\n      <td>1.0</td>\n      <td>1.0</td>\n      <td>10.0</td>\n      <td>0.937500</td>\n      <td>1.924108e-32</td>\n      <td>0.349307</td>\n      <td>0.103453</td>\n      <td>1024.0</td>\n    </tr>\n    <tr>\n      <th>1</th>\n      <td>0.0</td>\n      <td>1.0</td>\n      <td>2.0</td>\n      <td>20.0</td>\n      <td>0.937500</td>\n      <td>6.261747e-32</td>\n      <td>0.255271</td>\n      <td>0.104260</td>\n      <td>1024.0</td>\n    </tr>\n    <tr>\n      <th>2</th>\n      <td>0.0</td>\n      <td>1.0</td>\n      <td>3.0</td>\n      <td>30.0</td>\n      <td>0.937500</td>\n      <td>1.135797e-31</td>\n      <td>0.262207</td>\n      <td>0.103344</td>\n      <td>1024.0</td>\n    </tr>\n    <tr>\n      <th>3</th>\n      <td>0.0</td>\n      <td>1.0</td>\n      <td>4.0</td>\n      <td>40.0</td>\n      <td>0.937500</td>\n      <td>1.619551e-31</td>\n      <td>0.265476</td>\n      <td>0.102962</td>\n      <td>1024.0</td>\n    </tr>\n    <tr>\n      <th>4</th>\n      <td>0.0</td>\n      <td>1.0</td>\n      <td>5.0</td>\n      <td>50.0</td>\n      <td>0.937500</td>\n      <td>2.142484e-31</td>\n      <td>0.255153</td>\n      <td>0.102920</td>\n      <td>1024.0</td>\n    </tr>\n    <tr>\n      <th>...</th>\n      <td>...</td>\n      <td>...</td>\n      <td>...</td>\n      <td>...</td>\n      <td>...</td>\n      <td>...</td>\n      <td>...</td>\n      <td>...</td>\n      <td>...</td>\n    </tr>\n    <tr>\n      <th>59</th>\n      <td>0.0</td>\n      <td>19.0</td>\n      <td>4.0</td>\n      <td>60.0</td>\n      <td>0.898438</td>\n      <td>7.993107e-01</td>\n      <td>0.010775</td>\n      <td>0.079508</td>\n      <td>1024.0</td>\n    </tr>\n    <tr>\n      <th>60</th>\n      <td>0.0</td>\n      <td>19.0</td>\n      <td>5.0</td>\n      <td>75.0</td>\n      <td>0.906250</td>\n      <td>8.392706e-01</td>\n      <td>0.007555</td>\n      <td>0.076744</td>\n      <td>1024.0</td>\n    </tr>\n    <tr>\n      <th>61</th>\n      <td>0.0</td>\n      <td>19.0</td>\n      <td>6.0</td>\n      <td>90.0</td>\n      <td>0.906250</td>\n      <td>8.675672e-01</td>\n      <td>0.011032</td>\n      <td>0.075492</td>\n      <td>1024.0</td>\n    </tr>\n    <tr>\n      <th>62</th>\n      <td>0.0</td>\n      <td>19.0</td>\n      <td>7.0</td>\n      <td>105.0</td>\n      <td>0.898438</td>\n      <td>8.829988e-01</td>\n      <td>0.009124</td>\n      <td>0.075569</td>\n      <td>1024.0</td>\n    </tr>\n    <tr>\n      <th>63</th>\n      <td>0.0</td>\n      <td>19.0</td>\n      <td>8.0</td>\n      <td>120.0</td>\n      <td>0.898438</td>\n      <td>8.916365e-01</td>\n      <td>0.007964</td>\n      <td>0.075347</td>\n      <td>1024.0</td>\n    </tr>\n  </tbody>\n</table>\n<p>64 rows × 9 columns</p>\n</div>"
     },
     "execution_count": 61,
     "metadata": {},
     "output_type": "execute_result"
    }
   ],
   "source": [
    "result = pivot_and_draw(data)\n",
    "result"
   ],
   "metadata": {
    "collapsed": false,
    "pycharm": {
     "name": "#%%\n"
    }
   }
  },
  {
   "cell_type": "code",
   "execution_count": 73,
   "outputs": [
    {
     "data": {
      "text/plain": "<seaborn.axisgrid.FacetGrid at 0x7f9a28f869d0>"
     },
     "execution_count": 73,
     "metadata": {},
     "output_type": "execute_result"
    },
    {
     "data": {
      "text/plain": "<Figure size 418.375x360 with 1 Axes>",
      "image/png": "[encoded data removed]"
     },
     "metadata": {
      "needs_background": "light"
     },
     "output_type": "display_data"
    }
   ],
   "source": [
    "import seaborn as sns\n",
    "\n",
    "sns.relplot(data=result, x='layer', y='accuracy', style='circuit_id', kind='line', markers=True, hue='circuit_id')"
   ],
   "metadata": {
    "collapsed": false,
    "pycharm": {
     "name": "#%%\n"
    }
   }
  },
  {
   "cell_type": "code",
   "execution_count": 92,
   "outputs": [
    {
     "data": {
      "text/plain": "Normalized QSVM(28 number of params)\n<classifiers.quantum.ansatz.Circuit3 object at 0x7f9a28817760>\n<classifiers.quantum.ansatz.Circuit9 object at 0x7f99e5ce4ac0>"
     },
     "execution_count": 92,
     "metadata": {},
     "output_type": "execute_result"
    }
   ],
   "source": [
    "with open('./result/trial5/Dataset #0/Circuit #3/layer=2/0/nqsvm', 'rb') as f:\n",
    "    nqsvm = dill.load(f)\n",
    "nqsvm"
   ],
   "metadata": {
    "collapsed": false,
    "pycharm": {
     "name": "#%%\n"
    }
   }
  },
  {
   "cell_type": "code",
   "execution_count": 93,
   "outputs": [
    {
     "name": "stdout",
     "output_type": "stream",
     "text": [
      "7.548978567123413\n"
     ]
    }
   ],
   "source": [
    "import time\n",
    "start = time.time()\n",
    "nqsvm.cost_fn(nqsvm.parameters)\n",
    "print(time.time()-start)"
   ],
   "metadata": {
    "collapsed": false,
    "pycharm": {
     "name": "#%%\n"
    }
   }
  },
  {
   "cell_type": "code",
   "execution_count": 94,
   "outputs": [],
   "source": [
    "for _ in range(3):\n",
    "    nqsvm.second_order_circuit.remove_final_measurements()"
   ],
   "metadata": {
    "collapsed": false,
    "pycharm": {
     "name": "#%%\n"
    }
   }
  },
  {
   "cell_type": "code",
   "execution_count": 105,
   "outputs": [
    {
     "name": "stdout",
     "output_type": "stream",
     "text": [
      "140.50275182724\n"
     ]
    }
   ],
   "source": [
    "start = time.time()\n",
    "params = np.concatenate((nqsvm.parameters, nqsvm.parameters))\n",
    "sv = Statevector(nqsvm.second_order_circuit.assign_parameters(dict(zip(nqsvm.second_order_circuit.parameters, params))))\n",
    "sv.probabilities_dict([0, int(nqsvm.second_order_circuit.num_qubits-1)/2, nqsvm.second_order_circuit.num_qubits-1])\n",
    "print(time.time()-start)"
   ],
   "metadata": {
    "collapsed": false,
    "pycharm": {
     "name": "#%%\n"
    }
   }
  },
  {
   "cell_type": "code",
   "execution_count": 109,
   "outputs": [
    {
     "ename": "TypeError",
     "evalue": "ufunc 'left_shift' not supported for the input types, and the inputs could not be safely coerced to any supported types according to the casting rule ''safe''",
     "output_type": "error",
     "traceback": [
      "\u001B[0;31m---------------------------------------------------------------------------\u001B[0m",
      "\u001B[0;31mTypeError\u001B[0m                                 Traceback (most recent call last)",
      "\u001B[0;32m<ipython-input-109-3a41a839c04d>\u001B[0m in \u001B[0;36m<module>\u001B[0;34m\u001B[0m\n\u001B[1;32m      4\u001B[0m \u001B[0mparams\u001B[0m \u001B[0;34m=\u001B[0m \u001B[0mnp\u001B[0m\u001B[0;34m.\u001B[0m\u001B[0mconcatenate\u001B[0m\u001B[0;34m(\u001B[0m\u001B[0;34m(\u001B[0m\u001B[0mnqsvm\u001B[0m\u001B[0;34m.\u001B[0m\u001B[0mparameters\u001B[0m\u001B[0;34m,\u001B[0m \u001B[0mnqsvm\u001B[0m\u001B[0;34m.\u001B[0m\u001B[0mparameters\u001B[0m\u001B[0;34m)\u001B[0m\u001B[0;34m)\u001B[0m\u001B[0;34m\u001B[0m\u001B[0;34m\u001B[0m\u001B[0m\n\u001B[1;32m      5\u001B[0m \u001B[0msv\u001B[0m \u001B[0;34m=\u001B[0m \u001B[0mStatevector\u001B[0m\u001B[0;34m(\u001B[0m\u001B[0mnqsvm\u001B[0m\u001B[0;34m.\u001B[0m\u001B[0msecond_order_circuit\u001B[0m\u001B[0;34m.\u001B[0m\u001B[0massign_parameters\u001B[0m\u001B[0;34m(\u001B[0m\u001B[0mdict\u001B[0m\u001B[0;34m(\u001B[0m\u001B[0mzip\u001B[0m\u001B[0;34m(\u001B[0m\u001B[0mnqsvm\u001B[0m\u001B[0;34m.\u001B[0m\u001B[0msecond_order_circuit\u001B[0m\u001B[0;34m.\u001B[0m\u001B[0mparameters\u001B[0m\u001B[0;34m,\u001B[0m \u001B[0mparams\u001B[0m\u001B[0;34m)\u001B[0m\u001B[0;34m)\u001B[0m\u001B[0;34m)\u001B[0m\u001B[0;34m)\u001B[0m\u001B[0;34m\u001B[0m\u001B[0;34m\u001B[0m\u001B[0m\n\u001B[0;32m----> 6\u001B[0;31m \u001B[0msv\u001B[0m\u001B[0;34m.\u001B[0m\u001B[0mexpectation_value\u001B[0m\u001B[0;34m(\u001B[0m\u001B[0mPauli\u001B[0m\u001B[0;34m(\u001B[0m\u001B[0;34m'ZZZ'\u001B[0m\u001B[0;34m)\u001B[0m\u001B[0;34m,\u001B[0m \u001B[0;34m[\u001B[0m\u001B[0;36m0\u001B[0m\u001B[0;34m,\u001B[0m \u001B[0mint\u001B[0m\u001B[0;34m(\u001B[0m\u001B[0mnqsvm\u001B[0m\u001B[0;34m.\u001B[0m\u001B[0msecond_order_circuit\u001B[0m\u001B[0;34m.\u001B[0m\u001B[0mnum_qubits\u001B[0m\u001B[0;34m-\u001B[0m\u001B[0;36m1\u001B[0m\u001B[0;34m)\u001B[0m\u001B[0;34m/\u001B[0m\u001B[0;36m2\u001B[0m\u001B[0;34m,\u001B[0m \u001B[0mnqsvm\u001B[0m\u001B[0;34m.\u001B[0m\u001B[0msecond_order_circuit\u001B[0m\u001B[0;34m.\u001B[0m\u001B[0mnum_qubits\u001B[0m\u001B[0;34m-\u001B[0m\u001B[0;36m1\u001B[0m\u001B[0;34m]\u001B[0m\u001B[0;34m)\u001B[0m\u001B[0;34m\u001B[0m\u001B[0;34m\u001B[0m\u001B[0m\n\u001B[0m\u001B[1;32m      7\u001B[0m \u001B[0mprint\u001B[0m\u001B[0;34m(\u001B[0m\u001B[0mtime\u001B[0m\u001B[0;34m.\u001B[0m\u001B[0mtime\u001B[0m\u001B[0;34m(\u001B[0m\u001B[0;34m)\u001B[0m\u001B[0;34m-\u001B[0m\u001B[0mstart\u001B[0m\u001B[0;34m)\u001B[0m\u001B[0;34m\u001B[0m\u001B[0;34m\u001B[0m\u001B[0m\n\u001B[1;32m      8\u001B[0m \u001B[0;34m\u001B[0m\u001B[0m\n",
      "\u001B[0;32m~/anaconda3/envs/qiskit29/lib/python3.9/site-packages/qiskit/quantum_info/states/statevector.py\u001B[0m in \u001B[0;36mexpectation_value\u001B[0;34m(self, oper, qargs)\u001B[0m\n\u001B[1;32m    425\u001B[0m         \"\"\"\n\u001B[1;32m    426\u001B[0m         \u001B[0;32mif\u001B[0m \u001B[0misinstance\u001B[0m\u001B[0;34m(\u001B[0m\u001B[0moper\u001B[0m\u001B[0;34m,\u001B[0m \u001B[0mPauli\u001B[0m\u001B[0;34m)\u001B[0m\u001B[0;34m:\u001B[0m\u001B[0;34m\u001B[0m\u001B[0;34m\u001B[0m\u001B[0m\n\u001B[0;32m--> 427\u001B[0;31m             \u001B[0;32mreturn\u001B[0m \u001B[0mself\u001B[0m\u001B[0;34m.\u001B[0m\u001B[0m_expectation_value_pauli\u001B[0m\u001B[0;34m(\u001B[0m\u001B[0moper\u001B[0m\u001B[0;34m,\u001B[0m \u001B[0mqargs\u001B[0m\u001B[0;34m)\u001B[0m\u001B[0;34m\u001B[0m\u001B[0;34m\u001B[0m\u001B[0m\n\u001B[0m\u001B[1;32m    428\u001B[0m \u001B[0;34m\u001B[0m\u001B[0m\n\u001B[1;32m    429\u001B[0m         \u001B[0;32mif\u001B[0m \u001B[0misinstance\u001B[0m\u001B[0;34m(\u001B[0m\u001B[0moper\u001B[0m\u001B[0;34m,\u001B[0m \u001B[0mSparsePauliOp\u001B[0m\u001B[0;34m)\u001B[0m\u001B[0;34m:\u001B[0m\u001B[0;34m\u001B[0m\u001B[0;34m\u001B[0m\u001B[0m\n",
      "\u001B[0;32m~/anaconda3/envs/qiskit29/lib/python3.9/site-packages/qiskit/quantum_info/states/statevector.py\u001B[0m in \u001B[0;36m_expectation_value_pauli\u001B[0;34m(self, pauli, qargs)\u001B[0m\n\u001B[1;32m    397\u001B[0m             \u001B[0mqubits\u001B[0m \u001B[0;34m=\u001B[0m \u001B[0mnp\u001B[0m\u001B[0;34m.\u001B[0m\u001B[0marray\u001B[0m\u001B[0;34m(\u001B[0m\u001B[0mqargs\u001B[0m\u001B[0;34m)\u001B[0m\u001B[0;34m\u001B[0m\u001B[0;34m\u001B[0m\u001B[0m\n\u001B[1;32m    398\u001B[0m \u001B[0;34m\u001B[0m\u001B[0m\n\u001B[0;32m--> 399\u001B[0;31m         \u001B[0mx_mask\u001B[0m \u001B[0;34m=\u001B[0m \u001B[0mnp\u001B[0m\u001B[0;34m.\u001B[0m\u001B[0mdot\u001B[0m\u001B[0;34m(\u001B[0m\u001B[0;36m1\u001B[0m \u001B[0;34m<<\u001B[0m \u001B[0mqubits\u001B[0m\u001B[0;34m,\u001B[0m \u001B[0mpauli\u001B[0m\u001B[0;34m.\u001B[0m\u001B[0mx\u001B[0m\u001B[0;34m)\u001B[0m\u001B[0;34m\u001B[0m\u001B[0;34m\u001B[0m\u001B[0m\n\u001B[0m\u001B[1;32m    400\u001B[0m         \u001B[0mz_mask\u001B[0m \u001B[0;34m=\u001B[0m \u001B[0mnp\u001B[0m\u001B[0;34m.\u001B[0m\u001B[0mdot\u001B[0m\u001B[0;34m(\u001B[0m\u001B[0;36m1\u001B[0m \u001B[0;34m<<\u001B[0m \u001B[0mqubits\u001B[0m\u001B[0;34m,\u001B[0m \u001B[0mpauli\u001B[0m\u001B[0;34m.\u001B[0m\u001B[0mz\u001B[0m\u001B[0;34m)\u001B[0m\u001B[0;34m\u001B[0m\u001B[0;34m\u001B[0m\u001B[0m\n\u001B[1;32m    401\u001B[0m         \u001B[0mpauli_phase\u001B[0m \u001B[0;34m=\u001B[0m \u001B[0;34m(\u001B[0m\u001B[0;34m-\u001B[0m\u001B[0;36m1j\u001B[0m\u001B[0;34m)\u001B[0m \u001B[0;34m**\u001B[0m \u001B[0mpauli\u001B[0m\u001B[0;34m.\u001B[0m\u001B[0mphase\u001B[0m \u001B[0;32mif\u001B[0m \u001B[0mpauli\u001B[0m\u001B[0;34m.\u001B[0m\u001B[0mphase\u001B[0m \u001B[0;32melse\u001B[0m \u001B[0;36m1\u001B[0m\u001B[0;34m\u001B[0m\u001B[0;34m\u001B[0m\u001B[0m\n",
      "\u001B[0;31mTypeError\u001B[0m: ufunc 'left_shift' not supported for the input types, and the inputs could not be safely coerced to any supported types according to the casting rule ''safe''"
     ]
    }
   ],
   "source": [
    "from qiskit.quantum_info import Pauli\n",
    "\n",
    "start = time.time()\n",
    "params = np.concatenate((nqsvm.parameters, nqsvm.parameters))\n",
    "sv = Statevector(nqsvm.second_order_circuit.assign_parameters(dict(zip(nqsvm.second_order_circuit.parameters, params))))\n",
    "sv.expectation_value(Pauli('ZZZ'), [0, int(nqsvm.second_order_circuit.num_qubits-1)/2, nqsvm.second_order_circuit.num_qubits-1])\n",
    "print(time.time()-start)\n"
   ],
   "metadata": {
    "collapsed": false,
    "pycharm": {
     "name": "#%%\n"
    }
   }
  },
  {
   "cell_type": "code",
   "execution_count": 110,
   "outputs": [
    {
     "name": "stdout",
     "output_type": "stream",
     "text": [
      "157.85826349258423\n"
     ]
    }
   ],
   "source": [
    "print(time.time()-start)\n"
   ],
   "metadata": {
    "collapsed": false,
    "pycharm": {
     "name": "#%%\n"
    }
   }
  },
  {
   "cell_type": "code",
   "execution_count": 119,
   "outputs": [],
   "source": [
    "Xt = np.load('./result/trial1/Dataset #0/Xt.npy')\n",
    "yt = np.load('./result/trial1/Dataset #0/yt.npy')\n",
    "with open('./result/trial1/Dataset #0/Circuit #4/layer=8/6/storage', 'rb') as f:\n",
    "    storage = dill.load(f)"
   ],
   "metadata": {
    "collapsed": false,
    "pycharm": {
     "name": "#%%\n"
    }
   }
  },
  {
   "cell_type": "code",
   "execution_count": 142,
   "outputs": [
    {
     "data": {
      "text/plain": "array([ 1.88430479, -4.01740082, -2.67040502, -1.48263922,  3.9823833 ,\n       -2.5924553 , -0.60848038,  0.31031754,  0.35897235,  2.28843566,\n        4.0710959 ,  0.53153512,  1.60944211, -3.50617925, -2.9794198 ,\n       -0.47758112,  1.69892574, -2.5130378 , -3.59321027,  1.93918996,\n       -1.64980701,  4.00528335, -3.53818348, -0.25549806, -3.82720677,\n       -3.86065381,  1.78387656,  0.37053737, -1.21981436,  1.5519229 ,\n        3.64972377,  0.62941307, -1.2862672 , -1.01933918, -2.24357106,\n       -0.38318215,  1.9072594 ,  3.37244087, -1.66783361, -0.52017879,\n        0.30629218, -1.687096  , -0.61895378,  1.35356206,  0.55916621,\n        2.19080066,  1.42242083, -1.00868563,  2.20595747, -1.48286564,\n       -0.40922457,  2.55054998, -1.33725705,  1.99038997,  1.312554  ,\n        1.98367895, -1.7682233 ,  4.07449528,  3.71433504, -1.49483711,\n       -1.61307986,  2.43421278,  4.05004743, -1.41352359,  2.42692361,\n       -4.01391247,  2.03092334, -3.30548287, -0.99138818, -2.29504451,\n       -3.4950529 ,  0.32324898, -2.91141053,  1.42156078, -2.13573232,\n       -1.44992073,  2.00010692, -0.77926108, -0.74992813,  0.39914484,\n        1.9133469 , -2.21074167,  0.81645416,  1.59104537,  0.2004483 ,\n       -2.24496368, -1.34038034,  1.53354847,  3.66063422, -2.39861128,\n       -3.07711643, -1.63085513,  3.6724193 , -0.46354034,  2.68375785,\n        1.4867006 ,  0.18676595,  1.59157353,  2.1237843 , -3.73930229,\n       -3.19945952, -2.75313578, -3.38637432, -0.40910869,  0.10454548,\n       -1.0885173 ,  2.96626588, -3.52387526, -0.64984754,  1.09826348,\n        3.46309235, -0.63615534])"
     },
     "execution_count": 142,
     "metadata": {},
     "output_type": "execute_result"
    }
   ],
   "source": [
    "storage.data[storage.data.columns[2:-3]].iloc[0].to_numpy()"
   ],
   "metadata": {
    "collapsed": false,
    "pycharm": {
     "name": "#%%\n"
    }
   }
  },
  {
   "cell_type": "code",
   "execution_count": 139,
   "outputs": [
    {
     "data": {
      "text/plain": "112"
     },
     "execution_count": 139,
     "metadata": {},
     "output_type": "execute_result"
    }
   ],
   "source": [
    "len(storage.data.iloc[0].to_list()[2:-3])"
   ],
   "metadata": {
    "collapsed": false,
    "pycharm": {
     "name": "#%%\n"
    }
   }
  },
  {
   "cell_type": "code",
   "execution_count": null,
   "outputs": [],
   "source": [],
   "metadata": {
    "collapsed": false,
    "pycharm": {
     "name": "#%%\n"
    }
   }
  }
 ],
 "metadata": {
  "kernelspec": {
   "name": "qiskit29",
   "language": "python",
   "display_name": "qiskit29"
  },
  "language_info": {
   "codemirror_mode": {
    "name": "ipython",
    "version": 3
   },
   "file_extension": ".py",
   "mimetype": "text/x-python",
   "name": "python",
   "nbconvert_exporter": "python",
   "pygments_lexer": "ipython3",
   "version": "3.9.2"
  },
  "metadata": {
   "interpreter": {
    "hash": "6a082bf6134b372c06e64927897e08d4d2745f2f33cff72046cfead1af299ef7"
   }
  }
 },
 "nbformat": 4,
 "nbformat_minor": 2
}