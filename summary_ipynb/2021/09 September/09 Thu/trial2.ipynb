{
 "cells": [
  {
   "cell_type": "code",
   "execution_count": 1,
   "metadata": {
    "collapsed": true
   },
   "outputs": [],
   "source": [
    "import sys\n",
    "sys.path.extend(['/home/quic/QUIC-Projects'])\n",
    "\n",
    "import json\n",
    "import dill\n",
    "\n",
    "import logging\n",
    "from pathlib import Path\n",
    "\n",
    "import numpy as np\n",
    "from qiskit import QuantumCircuit\n",
    "from qiskit.quantum_info import Statevector\n",
    "from tqdm.notebook import tqdm\n",
    "from itertools import product\n",
    "\n",
    "with open('./result/sampling_fixed_ds/setting.json', 'r') as f:\n",
    "    ALPHA_SETTING = json.load(fp=f)\n",
    "with open('./result/trial5/setting.json', 'r') as f:\n",
    "    PQC_SETTING = json.load(fp=f)\n",
    "\n",
    "def total_variance_distance(P, Q):\n",
    "    return 0.5*sum(np.abs(P-Q))\n",
    "\n",
    "def sample_alpha():\n",
    "    alpha_dir = Path(ALPHA_SETTING[\"BASE_DIR\"])\n",
    "    alpha_list = []\n",
    "    for si in tqdm(list(range(2*ALPHA_SETTING[\"NUM_ALPHA_SAMPLE\"])), desc='Alpha_Sampling'):\n",
    "        with open(alpha_dir / f\"Dataset #{si}\" / \"result.json\", 'r') as _f:\n",
    "            _result = json.load(_f)\n",
    "        _alpha = np.array(_result['alpha'])\n",
    "        alpha_list.append(_alpha)\n",
    "    return alpha_list\n",
    "\n",
    "def sample_pqc():\n",
    "    pqc_dir = Path(PQC_SETTING[\"BASE_DIR\"])\n",
    "    pqc_list = {}\n",
    "    for si, ci, l in tqdm(list(product(range(PQC_SETTING[\"NUM_SETS\"]),PQC_SETTING[\"CIRCUIT_ID\"],PQC_SETTING[\"LAYERS\"])), desc='PQC_Sampling'):\n",
    "        pqc_list[(ci, l)] = []\n",
    "        for r in range(PQC_SETTING[\"REPEATS\"]):\n",
    "            with open(pqc_dir / f\"Dataset #{si}/Circuit #{ci}/layer={l}/{r}/nqsvm\", 'rb') as _nqsvm_file:\n",
    "                _nqsvm = dill.load(_nqsvm_file)\n",
    "            _var_form = _nqsvm.var_form\n",
    "            _params = _nqsvm.parameters\n",
    "            _sv = Statevector(_var_form.assign_parameters(dict(zip(_var_form.parameters, _params))))\n",
    "            pqc_list[(ci, l)].append(_sv.probabilities())\n",
    "    return pqc_list\n",
    "\n",
    "\n",
    "def random_sample_pqc():\n",
    "    pqc_dir = Path(PQC_SETTING[\"BASE_DIR\"])\n",
    "    pqc_list = {}\n",
    "    for si, ci, l in tqdm(list(product(range(PQC_SETTING[\"NUM_SETS\"]),PQC_SETTING[\"CIRCUIT_ID\"],PQC_SETTING[\"LAYERS\"])), desc='random_PQC_Sampling'):\n",
    "        pqc_list[(ci, l)] = []\n",
    "        for r in range(PQC_SETTING[\"REPEATS\"]):\n",
    "            with open(pqc_dir / f\"Dataset #{si}/Circuit #{ci}/layer={l}/{r}/nqsvm\", 'rb') as _nqsvm_file:\n",
    "                _nqsvm = dill.load(_nqsvm_file)\n",
    "            _var_form = _nqsvm.var_form\n",
    "            _params = 2*np.pi*np.random.rand(_nqsvm.num_parameters)\n",
    "            _sv = Statevector(_var_form.assign_parameters(dict(zip(_var_form.parameters, _params))))\n",
    "            pqc_list[(ci, l)].append(_sv.probabilities())\n",
    "    return pqc_list"
   ]
  },
  {
   "cell_type": "code",
   "execution_count": 2,
   "outputs": [
    {
     "data": {
      "text/plain": "Alpha_Sampling:   0%|          | 0/1024 [00:00<?, ?it/s]",
      "application/vnd.jupyter.widget-view+json": {
       "version_major": 2,
       "version_minor": 0,
       "model_id": "edf1b5bb4ec54458973c6a5186951b24"
      }
     },
     "metadata": {},
     "output_type": "display_data"
    },
    {
     "data": {
      "text/plain": "PQC_Sampling:   0%|          | 0/152 [00:00<?, ?it/s]",
      "application/vnd.jupyter.widget-view+json": {
       "version_major": 2,
       "version_minor": 0,
       "model_id": "adab5b743ff442a0a7c0ab9aa6397107"
      }
     },
     "metadata": {},
     "output_type": "display_data"
    },
    {
     "data": {
      "text/plain": "random_PQC_Sampling:   0%|          | 0/152 [00:00<?, ?it/s]",
      "application/vnd.jupyter.widget-view+json": {
       "version_major": 2,
       "version_minor": 0,
       "model_id": "ea2d96c7c494469d8cfaa5c83dadc5cb"
      }
     },
     "metadata": {},
     "output_type": "display_data"
    }
   ],
   "source": [
    "alpha_list = sample_alpha()\n",
    "pqc_list = sample_pqc()\n",
    "random_pqc_list = random_sample_pqc()"
   ],
   "metadata": {
    "collapsed": false,
    "pycharm": {
     "name": "#%%\n"
    }
   }
  },
  {
   "cell_type": "code",
   "execution_count": 3,
   "outputs": [],
   "source": [
    "from classifiers.convex.svm import BinarySVM\n",
    "from classifiers.datasets import IrisDataset\n",
    "from qiskit_machine_learning.kernels import QuantumKernel\n",
    "with open('./result/trial5/Dataset #0/Circuit #4/layer=8/0/nqsvm', 'rb') as __F:\n",
    "    nqsvm = dill.load(__F)\n",
    "feature_map = nqsvm.feature_map\n",
    "quantum_instance = nqsvm.quantum_instance\n",
    "X = np.load('./result/trial5/Dataset #0/X.npy')\n",
    "y = np.load('./result/trial5/Dataset #0/y.npy')\n",
    "ds = IrisDataset(feature_range=(-np.pi, np.pi), true_hot=0)\n",
    "Xt = ds.data\n",
    "yt = ds.target\n",
    "my_qk = QuantumKernel(feature_map=feature_map, quantum_instance=quantum_instance, enforce_psd=False)\n",
    "def my_kernel_function(x1, x2):\n",
    "    return (np.abs(my_qk.evaluate([x1], [x2])) ** 2).item()\n",
    "svm = BinarySVM(kernel=my_kernel_function, C=None, mutation='REDUCED_QASVM', k=1)\n",
    "svm.fit(X, y)\n",
    "solution_alpha = svm.alpha\n"
   ],
   "metadata": {
    "collapsed": false,
    "pycharm": {
     "name": "#%%\n"
    }
   }
  },
  {
   "cell_type": "code",
   "execution_count": 4,
   "outputs": [],
   "source": [
    "def sample_distance(pqc_id, pqc_layer, seeds=None):\n",
    "    if seeds is None:\n",
    "        alpha = alpha_list[np.random.choice(len(alpha_list), 1).item()]\n",
    "        beta = pqc_list[(pqc_id, pqc_layer)][np.random.choice(8, 1).item()]\n",
    "    else:\n",
    "        # alpha = alpha_list[seeds[0]]\n",
    "        alpha = solution_alpha\n",
    "        beta = pqc_list[(pqc_id, pqc_layer)][seeds[1]]\n",
    "    return total_variance_distance(alpha, beta)\n",
    "\n",
    "def random_sample_distance(pqc_id, pqc_layer, seeds=None):\n",
    "    if seeds is None:\n",
    "        alpha = alpha_list[np.random.choice(len(alpha_list), 1).item()]\n",
    "        beta = random_pqc_list[(pqc_id, pqc_layer)][np.random.choice(8, 1).item()]\n",
    "    else:\n",
    "        # alpha = alpha_list[seeds[0]]\n",
    "        alpha = solution_alpha\n",
    "        beta = random_pqc_list[(pqc_id, pqc_layer)][seeds[1]]\n",
    "    return total_variance_distance(alpha, beta)"
   ],
   "metadata": {
    "collapsed": false,
    "pycharm": {
     "name": "#%%\n"
    }
   }
  },
  {
   "cell_type": "code",
   "execution_count": 60,
   "outputs": [],
   "source": [
    "from pandas import read_csv\n",
    "expr_ref = read_csv('./result/trial5/result.csv')\n",
    "\n",
    "def get_circuit_expr(cid, l):\n",
    "    return expr_ref[(expr_ref['circuit_id']==cid) & (expr_ref['layer']==l)][\"('expr', 'mean')\"].item()\n",
    "\n",
    "def get_circuit_num_params(cid, l):\n",
    "    return expr_ref[(expr_ref['circuit_id']==cid) & (expr_ref['layer']==l)][\"num_params\"].item()"
   ],
   "metadata": {
    "collapsed": false,
    "pycharm": {
     "name": "#%%\n"
    }
   }
  },
  {
   "cell_type": "code",
   "execution_count": 68,
   "outputs": [
    {
     "data": {
      "text/plain": "Index(['Unnamed: 0', 'dataset', 'circuit_id', 'layer', 'num_params',\n       'dataset.1', '('accuracy', 'mean')', '('accuracy', 'median')',\n       '('accuracy', 'std')', '('entcap', 'mean')', '('expr', 'mean')',\n       '('last_cost_avg', 'mean')', '('last_cost_avg', 'median')',\n       '('last_cost_avg', 'std')', '('num_iter', 'mean')',\n       '('num_iter', 'median')', '('num_iter', 'std')'],\n      dtype='object')"
     },
     "execution_count": 68,
     "metadata": {},
     "output_type": "execute_result"
    }
   ],
   "source": [
    "expr_ref.columns"
   ],
   "metadata": {
    "collapsed": false,
    "pycharm": {
     "name": "#%%\n"
    }
   }
  },
  {
   "cell_type": "code",
   "execution_count": 62,
   "outputs": [
    {
     "data": {
      "text/plain": "  0%|          | 0/152 [00:00<?, ?it/s]",
      "application/vnd.jupyter.widget-view+json": {
       "version_major": 2,
       "version_minor": 0,
       "model_id": "fab61ba57f33439fa9c8337cedfbe7cc"
      }
     },
     "metadata": {},
     "output_type": "display_data"
    }
   ],
   "source": [
    "from itertools import product\n",
    "from pandas import DataFrame, concat\n",
    "from tqdm.notebook import tqdm\n",
    "from classifiers.quantum.ansatz import PQC_Properties, sample_circuit\n",
    "tmp = []\n",
    "for si, ci, l in tqdm(list(product(range(PQC_SETTING[\"NUM_SETS\"]), PQC_SETTING[\"CIRCUIT_ID\"], PQC_SETTING[\"LAYERS\"]))):\n",
    "    for a, b in zip(np.random.choice(len(alpha_list), 2**10), np.random.choice(8, 2**10)):\n",
    "        tmp.append(DataFrame({'circuit_id':ci,\n",
    "                              'layer':l,\n",
    "                              'distance':sample_distance(ci, l, (a, b)),\n",
    "                              'random_distance':random_sample_distance(ci, l, (a, b)),\n",
    "                              'expr':get_circuit_expr(ci, l),\n",
    "                              'num_params':get_circuit_num_params(ci, l)},\n",
    "                             index=[0]))"
   ],
   "metadata": {
    "collapsed": false,
    "pycharm": {
     "name": "#%%\n"
    }
   }
  },
  {
   "cell_type": "code",
   "execution_count": 63,
   "outputs": [],
   "source": [
    "result = concat(tmp, ignore_index=True)\n",
    "data = result.pivot_table(values=['distance', 'random_distance', 'expr'], index=['circuit_id', 'layer', 'num_params'])\n",
    "d1 = np.array(list(data.index))\n",
    "d2 = data.to_numpy()\n",
    "result2 = DataFrame(data=np.hstack([d1, d2]), columns=list(data.index.names) + list(data.columns))\n"
   ],
   "metadata": {
    "collapsed": false,
    "pycharm": {
     "name": "#%%\n"
    }
   }
  },
  {
   "cell_type": "code",
   "execution_count": 64,
   "outputs": [
    {
     "data": {
      "text/plain": "<Figure size 720x288 with 2 Axes>",
      "image/png": "[encoded data removed]"
     },
     "metadata": {
      "needs_background": "light"
     },
     "output_type": "display_data"
    }
   ],
   "source": [
    "from matplotlib import pyplot as plt\n",
    "import seaborn as sns\n",
    "%matplotlib inline\n",
    "fig, axes = plt.subplots(1, 2, sharey=True, figsize=(10, 4))\n",
    "sns.scatterplot(ax=axes[0], data=result2, x='expr', y='distance', hue='layer', style='circuit_id')\n",
    "axes[0].set_xscale('log')\n",
    "sns.scatterplot(ax=axes[1], data=result2, x='expr', y='random_distance', hue='layer', style='circuit_id')\n",
    "axes[1].set_xscale('log')\n",
    "axes[0].get_legend().remove()\n",
    "axes[1].get_legend().remove()\n",
    "plt.tight_layout()"
   ],
   "metadata": {
    "collapsed": false,
    "pycharm": {
     "name": "#%%\n"
    }
   }
  },
  {
   "cell_type": "code",
   "execution_count": 66,
   "outputs": [
    {
     "data": {
      "text/plain": "     circuit_id  layer  num_params  distance      expr  random_distance\n0           1.0    1.0        10.0  0.517500  0.358838         0.764633\n1           1.0    2.0        20.0  0.476629  0.285003         0.722952\n2           1.0    3.0        30.0  0.422606  0.259123         0.711337\n3           1.0    4.0        40.0  0.425425  0.248860         0.625843\n4           1.0    5.0        50.0  0.413646  0.250510         0.633302\n..          ...    ...         ...       ...       ...              ...\n147        19.0    4.0        60.0  0.437195  0.011185         0.553180\n148        19.0    5.0        75.0  0.381314  0.008121         0.580880\n149        19.0    6.0        90.0  0.403891  0.009570         0.549620\n150        19.0    7.0       105.0  0.439085  0.007348         0.579047\n151        19.0    8.0       120.0  0.419123  0.007505         0.582319\n\n[152 rows x 6 columns]",
      "text/html": "<div>\n<style scoped>\n    .dataframe tbody tr th:only-of-type {\n        vertical-align: middle;\n    }\n\n    .dataframe tbody tr th {\n        vertical-align: top;\n    }\n\n    .dataframe thead th {\n        text-align: right;\n    }\n</style>\n<table border=\"1\" class=\"dataframe\">\n  <thead>\n    <tr style=\"text-align: right;\">\n      <th></th>\n      <th>circuit_id</th>\n      <th>layer</th>\n      <th>num_params</th>\n      <th>distance</th>\n      <th>expr</th>\n      <th>random_distance</th>\n    </tr>\n  </thead>\n  <tbody>\n    <tr>\n      <th>0</th>\n      <td>1.0</td>\n      <td>1.0</td>\n      <td>10.0</td>\n      <td>0.517500</td>\n      <td>0.358838</td>\n      <td>0.764633</td>\n    </tr>\n    <tr>\n      <th>1</th>\n      <td>1.0</td>\n      <td>2.0</td>\n      <td>20.0</td>\n      <td>0.476629</td>\n      <td>0.285003</td>\n      <td>0.722952</td>\n    </tr>\n    <tr>\n      <th>2</th>\n      <td>1.0</td>\n      <td>3.0</td>\n      <td>30.0</td>\n      <td>0.422606</td>\n      <td>0.259123</td>\n      <td>0.711337</td>\n    </tr>\n    <tr>\n      <th>3</th>\n      <td>1.0</td>\n      <td>4.0</td>\n      <td>40.0</td>\n      <td>0.425425</td>\n      <td>0.248860</td>\n      <td>0.625843</td>\n    </tr>\n    <tr>\n      <th>4</th>\n      <td>1.0</td>\n      <td>5.0</td>\n      <td>50.0</td>\n      <td>0.413646</td>\n      <td>0.250510</td>\n      <td>0.633302</td>\n    </tr>\n    <tr>\n      <th>...</th>\n      <td>...</td>\n      <td>...</td>\n      <td>...</td>\n      <td>...</td>\n      <td>...</td>\n      <td>...</td>\n    </tr>\n    <tr>\n      <th>147</th>\n      <td>19.0</td>\n      <td>4.0</td>\n      <td>60.0</td>\n      <td>0.437195</td>\n      <td>0.011185</td>\n      <td>0.553180</td>\n    </tr>\n    <tr>\n      <th>148</th>\n      <td>19.0</td>\n      <td>5.0</td>\n      <td>75.0</td>\n      <td>0.381314</td>\n      <td>0.008121</td>\n      <td>0.580880</td>\n    </tr>\n    <tr>\n      <th>149</th>\n      <td>19.0</td>\n      <td>6.0</td>\n      <td>90.0</td>\n      <td>0.403891</td>\n      <td>0.009570</td>\n      <td>0.549620</td>\n    </tr>\n    <tr>\n      <th>150</th>\n      <td>19.0</td>\n      <td>7.0</td>\n      <td>105.0</td>\n      <td>0.439085</td>\n      <td>0.007348</td>\n      <td>0.579047</td>\n    </tr>\n    <tr>\n      <th>151</th>\n      <td>19.0</td>\n      <td>8.0</td>\n      <td>120.0</td>\n      <td>0.419123</td>\n      <td>0.007505</td>\n      <td>0.582319</td>\n    </tr>\n  </tbody>\n</table>\n<p>152 rows × 6 columns</p>\n</div>"
     },
     "execution_count": 66,
     "metadata": {},
     "output_type": "execute_result"
    }
   ],
   "source": [
    "result2"
   ],
   "metadata": {
    "collapsed": false,
    "pycharm": {
     "name": "#%%\n"
    }
   }
  },
  {
   "cell_type": "code",
   "execution_count": 65,
   "outputs": [
    {
     "data": {
      "text/plain": "<Figure size 432x288 with 1 Axes>",
      "image/png": "[encoded data removed]"
     },
     "metadata": {
      "needs_background": "light"
     },
     "output_type": "display_data"
    }
   ],
   "source": [
    "sns.scatterplot(data=result2, x='expr', y='num_params', hue='distance')\n",
    "plt.xscale('log')"
   ],
   "metadata": {
    "collapsed": false,
    "pycharm": {
     "name": "#%%\n"
    }
   }
  },
  {
   "cell_type": "code",
   "execution_count": 16,
   "outputs": [],
   "source": [
    "from sklearn.svm import SVC\n",
    "with open('./result/sampling_fixed_ds/Dataset #0/nqsvm', 'rb') as f:\n",
    "    nqsvm = dill.load(f)\n",
    "kernel = nqsvm.kernel_matrix\n",
    "X = nqsvm.data\n",
    "y = nqsvm.label"
   ],
   "metadata": {
    "collapsed": false,
    "pycharm": {
     "name": "#%%\n"
    }
   }
  },
  {
   "cell_type": "code",
   "execution_count": 19,
   "outputs": [],
   "source": [
    "svm = SVC(C=10000, kernel='precomputed')"
   ],
   "metadata": {
    "collapsed": false,
    "pycharm": {
     "name": "#%%\n"
    }
   }
  },
  {
   "cell_type": "code",
   "execution_count": 20,
   "outputs": [
    {
     "data": {
      "text/plain": "SVC(C=10000, kernel='precomputed')"
     },
     "execution_count": 20,
     "metadata": {},
     "output_type": "execute_result"
    }
   ],
   "source": [
    "svm.fit(kernel, y)"
   ],
   "metadata": {
    "collapsed": false,
    "pycharm": {
     "name": "#%%\n"
    }
   }
  },
  {
   "cell_type": "code",
   "execution_count": 23,
   "outputs": [
    {
     "data": {
      "text/plain": "array([1, 1, 1, 1, 1, 1, 1, 1, 1, 1, 1, 1, 1, 1, 1, 0, 0, 1, 1, 1, 1, 1,\n       0, 1, 1, 0, 1, 1, 1, 1, 1, 1, 0, 1, 1, 1, 1, 1, 0, 1, 1, 0, 1, 1,\n       1, 1, 1, 1, 1, 1, 0, 0, 0, 0, 0, 0, 0, 0, 0, 0, 0, 0, 0, 0, 0, 0,\n       0, 0, 1, 0, 0, 0, 0, 0, 0, 0, 0, 0, 0, 0, 0, 0, 0, 0, 0, 0, 0, 1,\n       0, 0, 0, 0, 0, 0, 0, 0, 0, 0, 0, 0, 0, 0, 0, 0, 0, 1, 0, 0, 0, 0,\n       0, 0, 0, 0, 0, 0, 0, 0, 0, 1, 0, 0, 0, 0, 0, 0, 0, 0, 0, 0, 0, 0,\n       0, 0, 0, 0, 0, 0, 0, 0, 0, 0, 0, 0, 0, 0, 0, 0, 0, 0])"
     },
     "execution_count": 23,
     "metadata": {},
     "output_type": "execute_result"
    }
   ],
   "source": [
    "from classifiers.datasets import IrisDataset\n",
    "from qiskit_machine_learning.kernels import QuantumKernel\n",
    "ds = IrisDataset(feature_range=(-np.pi, np.pi), true_hot=0)\n",
    "Xt = ds.data\n",
    "yt = ds.target\n",
    "qk = QuantumKernel(feature_map=nqsvm.feature_map, quantum_instance=nqsvm.quantum_instance, enforce_psd=False)\n",
    "test_kernel = np.abs(qk.evaluate(Xt, X)) ** 2\n",
    "svm.predict(test_kernel)"
   ],
   "metadata": {
    "collapsed": false,
    "pycharm": {
     "name": "#%%\n"
    }
   }
  },
  {
   "cell_type": "code",
   "execution_count": 25,
   "outputs": [
    {
     "data": {
      "text/plain": "0.9266666666666666"
     },
     "execution_count": 25,
     "metadata": {},
     "output_type": "execute_result"
    }
   ],
   "source": [
    "sum(yt==svm.predict(test_kernel))/len(yt)"
   ],
   "metadata": {
    "collapsed": false,
    "pycharm": {
     "name": "#%%\n"
    }
   }
  },
  {
   "cell_type": "code",
   "execution_count": 26,
   "outputs": [
    {
     "data": {
      "text/plain": "0.9333333333333333"
     },
     "execution_count": 26,
     "metadata": {},
     "output_type": "execute_result"
    }
   ],
   "source": [
    "nqsvm.accuracy(Xt, yt)\n"
   ],
   "metadata": {
    "collapsed": false,
    "pycharm": {
     "name": "#%%\n"
    }
   }
  },
  {
   "cell_type": "code",
   "execution_count": 27,
   "outputs": [
    {
     "data": {
      "text/plain": "1.0"
     },
     "execution_count": 27,
     "metadata": {},
     "output_type": "execute_result"
    }
   ],
   "source": [
    "sum(y==svm.predict(kernel))/len(y)"
   ],
   "metadata": {
    "collapsed": false,
    "pycharm": {
     "name": "#%%\n"
    }
   }
  },
  {
   "cell_type": "code",
   "execution_count": 28,
   "outputs": [
    {
     "data": {
      "text/plain": "1.0"
     },
     "execution_count": 28,
     "metadata": {},
     "output_type": "execute_result"
    }
   ],
   "source": [
    "nqsvm.accuracy(X, y)"
   ],
   "metadata": {
    "collapsed": false,
    "pycharm": {
     "name": "#%%\n"
    }
   }
  },
  {
   "cell_type": "code",
   "execution_count": 50,
   "outputs": [],
   "source": [
    "def main():\n",
    "    pqc_dir = Path(PQC_SETTING[\"BASE_DIR\"])\n",
    "    f_list = {}\n",
    "    acc_list = {}\n",
    "    for si, ci, l in tqdm(list(product(range(PQC_SETTING[\"NUM_SETS\"]),PQC_SETTING[\"CIRCUIT_ID\"],PQC_SETTING[\"LAYERS\"])), desc='PQC_Sampling'):\n",
    "        f_list[(ci, l)] = []\n",
    "        for r in range(PQC_SETTING[\"REPEATS\"]):\n",
    "            with open(pqc_dir / f\"Dataset #{si}/Circuit #{ci}/layer={l}/{r}/full_result.json\", 'r') as _file:\n",
    "                _result = json.load(_file)\n",
    "            _f = np.array(_result['f'])\n",
    "            f_list[(ci, l)].append(_f)\n",
    "        _acc = sum(np.where(sum(f_list[(ci, l)])>0, 1, 0)==yt)/len(yt)\n",
    "        acc_list[(ci, l)] = _acc\n",
    "    return f_list, acc_list"
   ],
   "metadata": {
    "collapsed": false,
    "pycharm": {
     "name": "#%%\n"
    }
   }
  },
  {
   "cell_type": "code",
   "execution_count": 51,
   "outputs": [
    {
     "data": {
      "text/plain": "PQC_Sampling:   0%|          | 0/152 [00:00<?, ?it/s]",
      "application/vnd.jupyter.widget-view+json": {
       "version_major": 2,
       "version_minor": 0,
       "model_id": "f561f8aadfd44caf9127e8474f0e3dc1"
      }
     },
     "metadata": {},
     "output_type": "display_data"
    }
   ],
   "source": [
    "f_list, acc_list = main()"
   ],
   "metadata": {
    "collapsed": false,
    "pycharm": {
     "name": "#%%\n"
    }
   }
  },
  {
   "cell_type": "code",
   "execution_count": 52,
   "outputs": [],
   "source": [
    "df_list = []\n",
    "for (ci, l), acc in acc_list.items():\n",
    "    df_list.append(DataFrame({'circuit_id':ci, 'layer':l, 'accuracy':acc, 'expr':get_circuit_expr(ci, l)}, index=[0]))\n",
    "data = concat(df_list, ignore_index=True)"
   ],
   "metadata": {
    "collapsed": false,
    "pycharm": {
     "name": "#%%\n"
    }
   }
  },
  {
   "cell_type": "code",
   "execution_count": 53,
   "outputs": [
    {
     "data": {
      "text/plain": "<Figure size 421.125x360 with 1 Axes>",
      "image/png": "[encoded data removed]"
     },
     "metadata": {
      "needs_background": "light"
     },
     "output_type": "display_data"
    }
   ],
   "source": [
    "sns.relplot(\n",
    "    data=data.loc[data['circuit_id']==9],\n",
    "    x='expr', y='accuracy', hue='layer', style='circuit_id')\n",
    "plt.xscale('log')"
   ],
   "metadata": {
    "collapsed": false,
    "pycharm": {
     "name": "#%%\n"
    }
   }
  },
  {
   "cell_type": "code",
   "execution_count": 46,
   "outputs": [
    {
     "data": {
      "text/plain": "<Figure size 432x288 with 1 Axes>",
      "image/png": "[encoded data removed]"
     },
     "metadata": {
      "needs_background": "light"
     },
     "output_type": "display_data"
    }
   ],
   "source": [
    "min_expr = min(data['expr'])\n",
    "max_expr = max(data['expr'])\n",
    "edges = np.logspace(np.log10(min_expr), np.log10(max_expr), num=25)\n",
    "\n",
    "expr=[]\n",
    "acc=[]\n",
    "acc_std = []\n",
    "num = []\n",
    "for i in range(len(edges)-1):\n",
    "    _data = data.loc[(data['expr']>=edges[i]) & (data['expr']<edges[i+1])]['accuracy']\n",
    "    expr.append(edges[i]/2+edges[i+1]/2)\n",
    "    acc.append(np.mean(_data))\n",
    "    acc_std.append(np.std(_data))\n",
    "    num.append(len(_data))\n",
    "\n",
    "\n",
    "plt.errorbar(expr, acc, yerr=acc_std)\n",
    "plt.scatter(expr, acc, s=num)\n",
    "plt.xscale('log')"
   ],
   "metadata": {
    "collapsed": false,
    "pycharm": {
     "name": "#%%\n"
    }
   }
  },
  {
   "cell_type": "code",
   "execution_count": 69,
   "outputs": [],
   "source": [
    "from classifiers.convex.svm import BinarySVM\n",
    "\n",
    "my_qk = QuantumKernel(feature_map=nqsvm.feature_map, quantum_instance=nqsvm.quantum_instance, enforce_psd=False)\n",
    "def my_kernel_function(x1, x2):\n",
    "    return (np.abs(my_qk.evaluate([x1], [x2])) ** 2).item()"
   ],
   "metadata": {
    "collapsed": false,
    "pycharm": {
     "name": "#%%\n"
    }
   }
  },
  {
   "cell_type": "code",
   "execution_count": 74,
   "outputs": [],
   "source": [
    "my_svm1 = BinarySVM(kernel=my_kernel_function, C=None, mutation='REDUCED_QASVM', k=1)\n",
    "my_svm1.fit(X, y)\n",
    "my_svm2 = BinarySVM(kernel=my_kernel_function, C=None, mutation='REDUCED_QASVM', k=1)\n",
    "my_svm2.fit(X, y)"
   ],
   "metadata": {
    "collapsed": false,
    "pycharm": {
     "name": "#%%\n"
    }
   }
  },
  {
   "cell_type": "code",
   "execution_count": 75,
   "outputs": [
    {
     "data": {
      "text/plain": "[<matplotlib.lines.Line2D at 0x7f966762b3d0>]"
     },
     "execution_count": 75,
     "metadata": {},
     "output_type": "execute_result"
    },
    {
     "data": {
      "text/plain": "<Figure size 432x288 with 1 Axes>",
      "image/png": "[encoded data removed]"
     },
     "metadata": {
      "needs_background": "light"
     },
     "output_type": "display_data"
    }
   ],
   "source": [
    "plt.plot(my_svm1.alpha)\n",
    "plt.plot(my_svm2.alpha)"
   ],
   "metadata": {
    "collapsed": false,
    "pycharm": {
     "name": "#%%\n"
    }
   }
  },
  {
   "cell_type": "code",
   "execution_count": 76,
   "outputs": [],
   "source": [
    "my_alpha = my_svm1.alpha"
   ],
   "metadata": {
    "collapsed": false,
    "pycharm": {
     "name": "#%%\n"
    }
   }
  },
  {
   "cell_type": "code",
   "execution_count": 77,
   "outputs": [
    {
     "data": {
      "text/plain": "1.0000000000000002"
     },
     "execution_count": 77,
     "metadata": {},
     "output_type": "execute_result"
    }
   ],
   "source": [
    "sum(my_alpha)\n"
   ],
   "metadata": {
    "collapsed": false,
    "pycharm": {
     "name": "#%%\n"
    }
   }
  },
  {
   "cell_type": "code",
   "execution_count": 23,
   "outputs": [],
   "source": [
    "min_dist = result2.min()['distance']\n",
    "result3 = result2.loc[result2['distance']<=min_dist+0.02]"
   ],
   "metadata": {
    "collapsed": false,
    "pycharm": {
     "name": "#%%\n"
    }
   }
  },
  {
   "cell_type": "code",
   "execution_count": 24,
   "outputs": [
    {
     "data": {
      "text/plain": "<Figure size 720x288 with 2 Axes>",
      "image/png": "[encoded data removed]"
     },
     "metadata": {
      "needs_background": "light"
     },
     "output_type": "display_data"
    }
   ],
   "source": [
    "fig, axes = plt.subplots(1, 2, sharey=True, figsize=(10, 4))\n",
    "sns.scatterplot(ax=axes[0], data=result3, x='expr', y='distance', hue='layer', style='circuit_id')\n",
    "axes[0].set_xscale('log')\n",
    "sns.scatterplot(ax=axes[1], data=result3, x='expr', y='random_distance', hue='layer', style='circuit_id')\n",
    "axes[1].set_xscale('log')\n",
    "axes[0].get_legend().remove()\n",
    "axes[1].get_legend().remove()\n",
    "plt.tight_layout()"
   ],
   "metadata": {
    "collapsed": false,
    "pycharm": {
     "name": "#%%\n"
    }
   }
  },
  {
   "cell_type": "code",
   "execution_count": 26,
   "outputs": [
    {
     "data": {
      "text/plain": "    circuit_id  layer  distance    expr  random_distance\n21         3.0    6.0  0.368059  0.0271         0.608145",
      "text/html": "<div>\n<style scoped>\n    .dataframe tbody tr th:only-of-type {\n        vertical-align: middle;\n    }\n\n    .dataframe tbody tr th {\n        vertical-align: top;\n    }\n\n    .dataframe thead th {\n        text-align: right;\n    }\n</style>\n<table border=\"1\" class=\"dataframe\">\n  <thead>\n    <tr style=\"text-align: right;\">\n      <th></th>\n      <th>circuit_id</th>\n      <th>layer</th>\n      <th>distance</th>\n      <th>expr</th>\n      <th>random_distance</th>\n    </tr>\n  </thead>\n  <tbody>\n    <tr>\n      <th>21</th>\n      <td>3.0</td>\n      <td>6.0</td>\n      <td>0.368059</td>\n      <td>0.0271</td>\n      <td>0.608145</td>\n    </tr>\n  </tbody>\n</table>\n</div>"
     },
     "execution_count": 26,
     "metadata": {},
     "output_type": "execute_result"
    }
   ],
   "source": [
    "result2.loc[result2['distance']<=min_dist]"
   ],
   "metadata": {
    "collapsed": false,
    "pycharm": {
     "name": "#%%\n"
    }
   }
  },
  {
   "cell_type": "code",
   "execution_count": 40,
   "outputs": [],
   "source": [
    "from classifiers.quantum.qasvm import NormQSVM, QuantumInstance\n",
    "from classifiers.quantum.ansatz import sample_circuit\n",
    "var_form = sample_circuit(3)(5, reps=6)\n",
    "_tmp_c = sample_circuit(9)(4, reps=1)\n",
    "feature_map = _tmp_c.compose(_tmp_c)\n",
    "qasvm = NormQSVM(X, y, quantum_instance=quantum_instance, var_form=var_form, feature_map=feature_map)"
   ],
   "metadata": {
    "collapsed": false,
    "pycharm": {
     "name": "#%%\n"
    }
   }
  },
  {
   "cell_type": "code",
   "execution_count": 41,
   "outputs": [
    {
     "data": {
      "text/plain": "Normalized QSVM(84 number of params)\n<classifiers.quantum.ansatz.Circuit3 object at 0x7f21f92427f0>\n<classifiers.quantum.ansatz.Circuit9 object at 0x7f21ebba8c40>"
     },
     "execution_count": 41,
     "metadata": {},
     "output_type": "execute_result"
    }
   ],
   "source": [
    "from classifiers.optimizer import tSPSA"
   ],
   "metadata": {
    "collapsed": false,
    "pycharm": {
     "name": "#%%\n"
    }
   }
  },
  {
   "cell_type": "code",
   "execution_count": 58,
   "outputs": [
    {
     "data": {
      "text/plain": "     circuit_id  layer  accuracy      expr\n10            2      3  0.966667  0.015306\n26            4      3  0.966667  0.033896\n75           10      4  0.966667  0.117721\n111          14      8  0.966667  0.008410\n112          15      1  0.966667  0.700359\n117          15      6  0.966667  0.092819\n135          17      8  0.966667  0.009141",
      "text/html": "<div>\n<style scoped>\n    .dataframe tbody tr th:only-of-type {\n        vertical-align: middle;\n    }\n\n    .dataframe tbody tr th {\n        vertical-align: top;\n    }\n\n    .dataframe thead th {\n        text-align: right;\n    }\n</style>\n<table border=\"1\" class=\"dataframe\">\n  <thead>\n    <tr style=\"text-align: right;\">\n      <th></th>\n      <th>circuit_id</th>\n      <th>layer</th>\n      <th>accuracy</th>\n      <th>expr</th>\n    </tr>\n  </thead>\n  <tbody>\n    <tr>\n      <th>10</th>\n      <td>2</td>\n      <td>3</td>\n      <td>0.966667</td>\n      <td>0.015306</td>\n    </tr>\n    <tr>\n      <th>26</th>\n      <td>4</td>\n      <td>3</td>\n      <td>0.966667</td>\n      <td>0.033896</td>\n    </tr>\n    <tr>\n      <th>75</th>\n      <td>10</td>\n      <td>4</td>\n      <td>0.966667</td>\n      <td>0.117721</td>\n    </tr>\n    <tr>\n      <th>111</th>\n      <td>14</td>\n      <td>8</td>\n      <td>0.966667</td>\n      <td>0.008410</td>\n    </tr>\n    <tr>\n      <th>112</th>\n      <td>15</td>\n      <td>1</td>\n      <td>0.966667</td>\n      <td>0.700359</td>\n    </tr>\n    <tr>\n      <th>117</th>\n      <td>15</td>\n      <td>6</td>\n      <td>0.966667</td>\n      <td>0.092819</td>\n    </tr>\n    <tr>\n      <th>135</th>\n      <td>17</td>\n      <td>8</td>\n      <td>0.966667</td>\n      <td>0.009141</td>\n    </tr>\n  </tbody>\n</table>\n</div>"
     },
     "execution_count": 58,
     "metadata": {},
     "output_type": "execute_result"
    }
   ],
   "source": [
    "data.loc[data['accuracy']==data.max()['accuracy']]"
   ],
   "metadata": {
    "collapsed": false,
    "pycharm": {
     "name": "#%%\n"
    }
   }
  },
  {
   "cell_type": "code",
   "execution_count": null,
   "outputs": [],
   "source": [],
   "metadata": {
    "collapsed": false,
    "pycharm": {
     "name": "#%%\n"
    }
   }
  },
  {
   "cell_type": "code",
   "execution_count": null,
   "outputs": [],
   "source": [],
   "metadata": {
    "collapsed": false,
    "pycharm": {
     "name": "#%%\n"
    }
   }
  }
 ],
 "metadata": {
  "kernelspec": {
   "name": "pycharm-d07ebf83",
   "language": "python",
   "display_name": "PyCharm (QUIC-Projects)"
  },
  "language_info": {
   "codemirror_mode": {
    "name": "ipython",
    "version": 2
   },
   "file_extension": ".py",
   "mimetype": "text/x-python",
   "name": "python",
   "nbconvert_exporter": "python",
   "pygments_lexer": "ipython2",
   "version": "2.7.6"
  }
 },
 "nbformat": 4,
 "nbformat_minor": 0
}