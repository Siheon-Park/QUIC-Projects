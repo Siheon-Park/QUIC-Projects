{
 "cells": [
  {
   "cell_type": "code",
   "execution_count": 1,
   "metadata": {},
   "outputs": [],
   "source": [
    "import sys\n",
    "quic_path = '/home/quic/QUIC-Projects'\n",
    "if not quic_path in sys.path:\n",
    "    sys.path.append(quic_path)"
   ]
  },
  {
   "cell_type": "code",
   "execution_count": 2,
   "metadata": {},
   "outputs": [],
   "source": [
    "import numpy as np \n",
    "from matplotlib import pyplot as plt"
   ]
  },
  {
   "cell_type": "code",
   "execution_count": 3,
   "metadata": {},
   "outputs": [
    {
     "name": "stderr",
     "output_type": "stream",
     "text": [
      "/home/quic/anaconda3/envs/quic/lib/python3.8/site-packages/qiskit/providers/ibmq/ibmqfactory.py:192: UserWarning: Timestamps in IBMQ backend properties, jobs, and job results are all now in local time instead of UTC.\n",
      "  warnings.warn('Timestamps in IBMQ backend properties, jobs, and job results '\n"
     ]
    },
    {
     "data": {
      "text/plain": [
       "<IBMQBackend('ibmq_toronto') from IBMQ(hub='ibm-q-kaist', group='internal', project='reservations')>"
      ]
     },
     "execution_count": 3,
     "metadata": {},
     "output_type": "execute_result"
    }
   ],
   "source": [
    "# for SVM\n",
    "from classifiers.convex.svm import BinarySVM\n",
    "from classifiers.kernel import Kernel\n",
    "# for QASVM\n",
    "from classifiers.quantum import Qasvm_Mapping_4x2\n",
    "from classifiers.quantum.qasvm import QASVM\n",
    "from classifiers.optimizer import SPSA\n",
    "from qiskit.aqua import QuantumInstance\n",
    "from qiskit.ignis.mitigation import CompleteMeasFitter\n",
    "from qiskit.circuit.library import RealAmplitudes, EfficientSU2, NLocal, TwoLocal\n",
    "from qiskit.providers.aer import QasmSimulator\n",
    "from qiskit import IBMQ\n",
    "# for logging & visualization\n",
    "import logging\n",
    "from classifiers.callback import SimplePMStorage, SimpleStorage\n",
    "from torch.utils.tensorboard import SummaryWriter\n",
    "from classifiers.visualization import Plot_Data, Plot_Log_From_SPSA, Plot_SVM, compare_svm_and_qasvm\n",
    "\n",
    "writer = SummaryWriter()\n",
    "storage = SimpleStorage(writer)\n",
    "\n",
    "if IBMQ.active_account() is None:\n",
    "    IBMQ.load_account()\n",
    "provider = IBMQ.get_provider(hub='ibm-q-kaist', group='internal', project='reservations')\n",
    "backend = provider.get_backend('ibmq_toronto')\n",
    "backend"
   ]
  },
  {
   "cell_type": "code",
   "execution_count": 4,
   "metadata": {},
   "outputs": [
    {
     "data": {
      "image/png": "[encoded data removed]",
      "text/plain": [
       "<Figure size 432x288 with 1 Axes>"
      ]
     },
     "metadata": {
      "needs_background": "light"
     },
     "output_type": "display_data"
    }
   ],
   "source": [
    "from classifiers.datasets.dataloader import Example_4x2\n",
    "X, y = Example_4x2(True)()\n",
    "Plot_Data(X, y).plot()"
   ]
  },
  {
   "cell_type": "code",
   "execution_count": 5,
   "metadata": {},
   "outputs": [
    {
     "name": "stdout",
     "output_type": "stream",
     "text": [
      "72\n"
     ]
    },
    {
     "data": {
      "text/html": [
       "<pre style=\"word-wrap: normal;white-space: pre;background: #fff0;line-height: 1.1;font-family: &quot;Courier New&quot;,Courier,monospace\">global phase: 5π/8\n",
       "              ┌────┐  ┌────────────────┐   ┌────┐  ┌────────┐     ┌───┐     ┌──────────┐┌────┐   ┌─────────┐                                                                                                                                                                                                                                                                                                                                                         ┌───┐                                                ┌───┐           ┌───┐                                                                                                                                                                   ░          \n",
       "  i_0 -> 5 ───┤ √X ├──┤ RZ(θ_i[0] + π) ├───┤ √X ├──┤ RZ(3π) ├──■──┤ X ├──■──┤ RZ(3π/2) ├┤ √X ├───┤ RZ(π/2) ├─────────────────────────────────────────────────────────────────────────────────────────────────────────────────────────────────────────────────────────────────────────────────────────────────────────────────────────────────────────────────────────────────────────────────────────────────────────────────────────────────────────────────────────┤ X ├────────────────────────────────────────────────┤ X ├─────■─────┤ X ├──────■─────────────────────────■──────────────────────────────────────────────────────────────────────────────────────────────────────────────────────────────────░──────────\n",
       "              ├────┤  └────────────────┘   └────┘  └────────┘┌─┴─┐└─┬─┘┌─┴─┐└──────────┘├────┤┌──┴─────────┴───┐      ┌────┐      ┌────────┐                      ┌───┐                                                                                  ┌───┐             ┌───┐  ┌────────┐  ┌────┐  ┌────────────┐    ┌────┐    ┌───┐ ┌─────────────┐     ┌───┐     ┌─────────────┐     ┌───┐     ┌───────────────┐      ┌───┐           ┌───┐                     └─┬─┘           ┌───┐     ┌───┐     ┌───┐            └─┬─┘   ┌─┴─┐   └─┬─┘    ┌─┴─┐    ┌───┐┌──────────┐┌─┴─┐┌─────────┐┌────┐┌──────────┐                                                                                                   ░    ┌─┐   \n",
       " yi_0 -> 8 ───┤ √X ├─────────────────────────────────────────┤ X ├──■──┤ X ├─────■──────┤ √X ├┤ RZ(θ_i[2] + π) ├──────┤ √X ├──────┤ RZ(3π) ├────■─────────■───────┤ X ├─────────■───────────────────────■────────────────────────────────────────■───────┤ X ├───────■─────┤ X ├──┤ RZ(-π) ├──┤ √X ├──┤ RZ(3.1454) ├────┤ √X ├────┤ X ├─┤ RZ(0.62028) ├─────┤ X ├─────┤ RZ(-1.6377) ├─────┤ X ├─────┤ RZ(-0.014047) ├──────┤ X ├────────■──┤ X ├───────■───────────────■──────────■──┤ X ├──■──┤ X ├──■──┤ X ├─────■────────■─────┤ X ├─────■──────┤ X ├────┤ X ├┤ RZ(3π/2) ├┤ X ├┤ RZ(π/2) ├┤ √X ├┤ RZ(3π/2) ├───────────────────────────────────────────────────────────────────────────────────────────────────░────┤M├───\n",
       "              ├────┤  ┌────────────────┐   ┌────┐  ┌────────┐└───┘     └───┘   ┌─┴─┐    ├────┤├────────────────┤      ├────┤      ├────────┤    │       ┌─┴─┐     └─┬─┘       ┌─┴─┐                     │                                        │       └─┬─┘       │     └─┬─┘  └────────┘  └────┘  └────────────┘    └────┘    └─┬─┘ └─────────────┘     └─┬─┘     └─────────────┘     └─┬─┘     └───────────────┘      └─┬─┘      ┌─┴─┐└─┬─┘     ┌─┴─┐      ┌──────────────┐┌─┴─┐└─┬─┘┌─┴─┐└─┬─┘  │  └─┬─┘     │              └───┘            └───┘    └─┬─┘└──────────┘└───┘└─────────┘└────┘└──────────┘                                                                                                   ░    └╥┘   \n",
       "  i_1 -> 9 ───┤ √X ├──┤ RZ(θ_i[1] + π) ├───┤ √X ├──┤ RZ(3π) ├──────────────────┤ X ├────┤ √X ├┤ RZ(θ_i[3] + π) ├──────┤ √X ├──────┤ RZ(3π) ├────┼───────┤ X ├───────■─────────┤ X ├─────────────────────┼────────────────────────────────────────┼─────────┼─────────┼───────■──────────────────────────────────────────────────────┼─────────────────────────■─────────────────────────────┼────────────────────────────────■────────┤ X ├──■───────┤ X ├──────┤ RZ(0.027625) ├┤ X ├──■──┤ X ├──┼────┼────┼───────┼──────────────────────────────────────────■───────────────────────────────────────────────────────────────────────────────────────────────────────────────────────────────────────────────────░─────╫────\n",
       "              ├────┤  └─┬────────────┬─┘   ├────┤  ├───────┬┘                  └───┘    └────┘└────────────────┘      └────┘      └────────┘  ┌─┴─┐   ┌─┴───┴──┐  ┌────┐  ┌───┴───┴────┐    ┌────┐    ┌─┴─┐ ┌────┐┌────────────┐┌────┐┌───────┐┌─┴─┐       │       ┌─┴─┐                                                            │                                                       │                                         └───┘          └───┘      └──────────────┘└───┘     └───┘  │  ┌─┴─┐  │     ┌─┴─┐    ┌───┐                                                                    ┌─────────┐                        ┌───┐    ┌──────────┐   ┌───┐        ┌───┐     ┌─────────┐┌────┐┌─────────┐ ░ ┌─┐ ║    \n",
       "xi_0 -> 11 ───┤ √X ├────┤ RZ(3.2041) ├─────┤ √X ├──┤ RZ(π) ├──────────────────────────────────────────────────────────────────────────────────┤ X ├───┤ RZ(-π) ├──┤ √X ├──┤ RZ(4.0961) ├────┤ √X ├────┤ X ├─┤ √X ├┤ RZ(4.7604) ├┤ √X ├┤ RZ(π) ├┤ X ├───────■───────┤ X ├────────────────────────────────────────────────────────────■───────────────────────────────────────────────────────■────────────────────────────────────────────────────────────────────────────────────────────────────■──┤ X ├──■─────┤ X ├────┤ X ├───────────────────────────────■────────────────────────────────■───┤ RZ(π/4) ├────────────────────────┤ X ├────┤ RZ(7π/4) ├───┤ X ├─────■──┤ X ├──■──┤ RZ(π/2) ├┤ √X ├┤ RZ(π/2) ├─░─┤M├─╫────\n",
       "           ┌──┴────┴─┐  └───┬────┬───┘  ┌──┴────┴─┐└───────┘                                                                                  └───┘   └────────┘  └────┘  └────────────┘    └────┘    └───┘ └────┘└────────────┘└────┘└───────┘└───┘               └───┘                                                                                                                                                                                                                            ├───┤        └───┘    └─┬─┘┌─────────┐┌────┐┌─────────┐ ┌─┴─┐┌──────────┐┌───┐┌─────────┐┌─┴─┐ ├─────────┴┐┌───┐     ┌───┐        └─┬─┘    ├─────────┬┘   └─┬─┘   ┌─┴─┐└─┬─┘┌─┴─┐└──┬───┬──┘└────┘└─────────┘ ░ └╥┘ ║    \n",
       " a_0 -> 14 ┤ RZ(π/2) ├──────┤ √X ├──────┤ RZ(π/2) ├──────────────────────────────────────────────────────────────────────────────────────────────────────────────────────────────────────────────────────────────────────────────────────────────────────────────────────────────────────────────────────────────────────────────────────────────────────────────────────────────────────────────────────────────────────────────────────────────────────────────────────────────────────────────■──┤ X ├──■────────────────■──┤ RZ(π/2) ├┤ √X ├┤ RZ(π/2) ├─┤ X ├┤ RZ(7π/4) ├┤ X ├┤ RZ(π/4) ├┤ X ├─┤ RZ(7π/4) ├┤ X ├──■──┤ X ├──■───────■──────┤ RZ(π/4) ├──────■─────┤ X ├──■──┤ X ├───┤ X ├─────────────────────░──╫──╫────\n",
       "           └──┬────┬─┘  ┌───┴────┴───┐  └──┬────┬─┘┌───────┐                                                                                            ┌───┐   ┌────────┐    ┌────┐    ┌────────────┐┌────┐          ┌───┐                                                                                                                                                                                                           ┌───┐     ┌──────────────┐                          ┌───┐┌─┴─┐└─┬─┘┌─┴─┐                 └─────────┘└────┘└─────────┘ └───┘└──────────┘└─┬─┘└─────────┘└───┘ └──────────┘└─┬─┘┌─┴─┐└─┬─┘┌─┴─┐┌──────────┐└──┬────┬─┘ ┌─────────┐└───┘     └───┘   └─┬─┘                     ░  ║  ║    \n",
       "xj_0 -> 16 ───┤ √X ├────┤ RZ(3.2041) ├─────┤ √X ├──┤ RZ(π) ├────────────────────────────────────────────────────────────────────────────────────────────┤ X ├───┤ RZ(-π) ├────┤ √X ├────┤ RZ(4.0961) ├┤ √X ├──■───────┤ X ├───────■───────────────────────────────────────────────────■──────────────────────────────────────────────────────────────────────────────────────■────────────────────────────────────────────────────────┤ X ├──■──┤ RZ(0.027625) ├──────────────────────────┤ X ├┤ X ├──■──┤ X ├─────────────────────────────────────────────────────────────────■─────────────────────────────────■──┤ X ├──■──┤ X ├┤ RZ(3π/4) ├───┤ √X ├───┤ RZ(π/2) ├────────────────────■───────────────────────░──╫──╫────\n",
       "              ├────┤    └────────────┘     └────┘  └───────┘      ┌───┐                             ┌────┐      ┌────────────────┐  ┌────┐  ┌────────┐  └─┬─┘   └────────┘    └────┘    └────────────┘└────┘┌─┴─┐     └─┬─┘     ┌─┴─┐   ┌───┐  ┌────┐┌────────────┐┌────┐┌───────┐  ┌─┴─┐   ┌────────┐    ┌────┐    ┌────────────┐┌────┐     ┌───┐     ┌─────────────┐     ┌─┴─┐     ┌─────────────┐      ┌───┐      ┌───────────────┐└─┬─┘┌─┴─┐└──────────────┘                ┌───┐     └─┬─┘├───┤     ├───┤┌──────────┐┌───┐┌─────────┐┌────┐┌──────────┐                                                        └───┘     └───┘└──────────┘   └────┘   └─────────┘                                            ░  ║  ║ ┌─┐\n",
       "yj_0 -> 19 ───┤ √X ├───────────────────────────────────────────■──┤ X ├──■────────────────■─────────┤ √X ├──────┤ RZ(θ_j[2] + π) ├──┤ √X ├──┤ RZ(3π) ├────■─────────────────────────────────────────────────┤ X ├───────■───────┤ X ├───┤ X ├──┤ √X ├┤ RZ(4.7604) ├┤ √X ├┤ RZ(π) ├──┤ X ├───┤ RZ(-π) ├────┤ √X ├────┤ RZ(3.1454) ├┤ √X ├─────┤ X ├─────┤ RZ(0.62028) ├─────┤ X ├─────┤ RZ(-1.6377) ├──────┤ X ├──────┤ RZ(-0.014047) ├──■──┤ X ├───────■───────────────■────────┤ X ├──■────■──┤ X ├──■──┤ X ├┤ RZ(3π/2) ├┤ X ├┤ RZ(π/2) ├┤ √X ├┤ RZ(3π/2) ├──────────────────────────────────────────────────────────────────────────────────────────────────────────────────────────────────────────────────────░──╫──╫─┤M├\n",
       "              ├────┤  ┌────────────────┐   ┌────┐  ┌────────┐┌─┴─┐└─┬─┘┌─┴─┐┌──────────┐  │         ├────┤      └──┬─────────┬───┘  └────┘  └────────┘                                                      └───┘               └───┘   └─┬─┘  └────┘└────────────┘└────┘└───────┘  └───┘   └────────┘    └────┘    └────────────┘└────┘     └─┬─┘     └─────────────┘     └───┘     └─────────────┘      └─┬─┘      └───────────────┘     └───┘     ┌─┴─┐             │        └─┬─┘  │       └─┬─┘┌─┴─┐└─┬─┘└──────────┘└─┬─┘└─────────┘└────┘└──────────┘                                                                                                                                                      ░  ║  ║ └╥┘\n",
       " j_0 -> 20 ───┤ √X ├──┤ RZ(θ_j[0] + π) ├───┤ √X ├──┤ RZ(3π) ├┤ X ├──■──┤ X ├┤ RZ(3π/2) ├──┼─────────┤ √X ├─────────┤ RZ(π/2) ├────────────────────────────────────────────────────────────────────────────────────────────────────────────┼────────────────────────────────────────────────────────────────────────────────────────────────────┼────────────────────────────────────────────────────────────┼────────────────────────────────────────┤ X ├─────────────┼──────────┼────┼─────────■──┤ X ├──┼────────────────■─────────────────────────────────────────────────────────────────────────────────────────────────────────────────────────────────────────────────────────────────────────────────────░──╫──╫──╫─\n",
       "              ├────┤  ├────────────────┤   ├────┤  ├────────┤└───┘     └───┘└──────────┘┌─┴─┐       ├────┤      ┌──┴─────────┴───┐  ┌────┐  ┌────────┐                                                                                    │                                                                                                    │                                                            │                                        └───┘           ┌─┴─┐        │  ┌─┴─┐          └───┘  │                                                                                                                                                                                                      ░  ║  ║  ║ \n",
       " j_1 -> 22 ───┤ √X ├──┤ RZ(θ_j[1] + π) ├───┤ √X ├──┤ RZ(3π) ├───────────────────────────┤ X ├───────┤ √X ├──────┤ RZ(θ_j[3] + π) ├──┤ √X ├──┤ RZ(3π) ├────────────────────────────────────────────────────────────────────────────────────■────────────────────────────────────────────────────────────────────────────────────────────────────■────────────────────────────────────────────────────────────■────────────────────────────────────────────────────────┤ X ├────────■──┤ X ├─────────────────■──────────────────────────────────────────────────────────────────────────────────────────────────────────────────────────────────────────────────────────────────────────────────────────────────────░──╫──╫──╫─\n",
       "              └────┘  └────────────────┘   └────┘  └────────┘                           └───┘       └────┘      └────────────────┘  └────┘  └────────┘                                                                                                                                                                                                                                                                                                               └───┘           └───┘                                                                                                                                                                                                                        ░  ║  ║  ║ \n",
       "      c: 3/══════════════════════════════════════════════════════════════════════════════════════════════════════════════════════════════════════════════════════════════════════════════════════════════════════════════════════════════════════════════════════════════════════════════════════════════════════════════════════════════════════════════════════════════════════════════════════════════════════════════════════════════════════════════════════════════════════════════════════════════════════════════════════════════════════════════════════════════════════════════════════════════════════════════════════════════════════════════════════════════════════════════════════════════════════════╩══╩══╩═\n",
       "                                                                                                                                                                                                                                                                                                                                                                                                                                                                                                                                                                                                                                                                                                                     0  1  2 </pre>"
      ],
      "text/plain": [
       "global phase: 5π/8\n",
       "              ┌────┐  ┌────────────────┐   ┌────┐  ┌────────┐     ┌───┐     ┌──────────┐┌────┐   ┌─────────┐                                                                                                                                                                                                                                                                                                                                                         ┌───┐                                                ┌───┐           ┌───┐                                                                                                                                                                   ░          \n",
       "  i_0 -> 5 ───┤ √X ├──┤ RZ(θ_i[0] + π) ├───┤ √X ├──┤ RZ(3π) ├──■──┤ X ├──■──┤ RZ(3π/2) ├┤ √X ├───┤ RZ(π/2) ├─────────────────────────────────────────────────────────────────────────────────────────────────────────────────────────────────────────────────────────────────────────────────────────────────────────────────────────────────────────────────────────────────────────────────────────────────────────────────────────────────────────────────────────┤ X ├────────────────────────────────────────────────┤ X ├─────■─────┤ X ├──────■─────────────────────────■──────────────────────────────────────────────────────────────────────────────────────────────────────────────────────────────────░──────────\n",
       "              ├────┤  └────────────────┘   └────┘  └────────┘┌─┴─┐└─┬─┘┌─┴─┐└──────────┘├────┤┌──┴─────────┴───┐      ┌────┐      ┌────────┐                      ┌───┐                                                                                  ┌───┐             ┌───┐  ┌────────┐  ┌────┐  ┌────────────┐    ┌────┐    ┌───┐ ┌─────────────┐     ┌───┐     ┌─────────────┐     ┌───┐     ┌───────────────┐      ┌───┐           ┌───┐                     └─┬─┘           ┌───┐     ┌───┐     ┌───┐            └─┬─┘   ┌─┴─┐   └─┬─┘    ┌─┴─┐    ┌───┐┌──────────┐┌─┴─┐┌─────────┐┌────┐┌──────────┐                                                                                                   ░    ┌─┐   \n",
       " yi_0 -> 8 ───┤ √X ├─────────────────────────────────────────┤ X ├──■──┤ X ├─────■──────┤ √X ├┤ RZ(θ_i[2] + π) ├──────┤ √X ├──────┤ RZ(3π) ├────■─────────■───────┤ X ├─────────■───────────────────────■────────────────────────────────────────■───────┤ X ├───────■─────┤ X ├──┤ RZ(-π) ├──┤ √X ├──┤ RZ(3.1454) ├────┤ √X ├────┤ X ├─┤ RZ(0.62028) ├─────┤ X ├─────┤ RZ(-1.6377) ├─────┤ X ├─────┤ RZ(-0.014047) ├──────┤ X ├────────■──┤ X ├───────■───────────────■──────────■──┤ X ├──■──┤ X ├──■──┤ X ├─────■────────■─────┤ X ├─────■──────┤ X ├────┤ X ├┤ RZ(3π/2) ├┤ X ├┤ RZ(π/2) ├┤ √X ├┤ RZ(3π/2) ├───────────────────────────────────────────────────────────────────────────────────────────────────░────┤M├───\n",
       "              ├────┤  ┌────────────────┐   ┌────┐  ┌────────┐└───┘     └───┘   ┌─┴─┐    ├────┤├────────────────┤      ├────┤      ├────────┤    │       ┌─┴─┐     └─┬─┘       ┌─┴─┐                     │                                        │       └─┬─┘       │     └─┬─┘  └────────┘  └────┘  └────────────┘    └────┘    └─┬─┘ └─────────────┘     └─┬─┘     └─────────────┘     └─┬─┘     └───────────────┘      └─┬─┘      ┌─┴─┐└─┬─┘     ┌─┴─┐      ┌──────────────┐┌─┴─┐└─┬─┘┌─┴─┐└─┬─┘  │  └─┬─┘     │              └───┘            └───┘    └─┬─┘└──────────┘└───┘└─────────┘└────┘└──────────┘                                                                                                   ░    └╥┘   \n",
       "  i_1 -> 9 ───┤ √X ├──┤ RZ(θ_i[1] + π) ├───┤ √X ├──┤ RZ(3π) ├──────────────────┤ X ├────┤ √X ├┤ RZ(θ_i[3] + π) ├──────┤ √X ├──────┤ RZ(3π) ├────┼───────┤ X ├───────■─────────┤ X ├─────────────────────┼────────────────────────────────────────┼─────────┼─────────┼───────■──────────────────────────────────────────────────────┼─────────────────────────■─────────────────────────────┼────────────────────────────────■────────┤ X ├──■───────┤ X ├──────┤ RZ(0.027625) ├┤ X ├──■──┤ X ├──┼────┼────┼───────┼──────────────────────────────────────────■───────────────────────────────────────────────────────────────────────────────────────────────────────────────────────────────────────────────────░─────╫────\n",
       "              ├────┤  └─┬────────────┬─┘   ├────┤  ├───────┬┘                  └───┘    └────┘└────────────────┘      └────┘      └────────┘  ┌─┴─┐   ┌─┴───┴──┐  ┌────┐  ┌───┴───┴────┐    ┌────┐    ┌─┴─┐ ┌────┐┌────────────┐┌────┐┌───────┐┌─┴─┐       │       ┌─┴─┐                                                            │                                                       │                                         └───┘          └───┘      └──────────────┘└───┘     └───┘  │  ┌─┴─┐  │     ┌─┴─┐    ┌───┐                                                                    ┌─────────┐                        ┌───┐    ┌──────────┐   ┌───┐        ┌───┐     ┌─────────┐┌────┐┌─────────┐ ░ ┌─┐ ║    \n",
       "xi_0 -> 11 ───┤ √X ├────┤ RZ(3.2041) ├─────┤ √X ├──┤ RZ(π) ├──────────────────────────────────────────────────────────────────────────────────┤ X ├───┤ RZ(-π) ├──┤ √X ├──┤ RZ(4.0961) ├────┤ √X ├────┤ X ├─┤ √X ├┤ RZ(4.7604) ├┤ √X ├┤ RZ(π) ├┤ X ├───────■───────┤ X ├────────────────────────────────────────────────────────────■───────────────────────────────────────────────────────■────────────────────────────────────────────────────────────────────────────────────────────────────■──┤ X ├──■─────┤ X ├────┤ X ├───────────────────────────────■────────────────────────────────■───┤ RZ(π/4) ├────────────────────────┤ X ├────┤ RZ(7π/4) ├───┤ X ├─────■──┤ X ├──■──┤ RZ(π/2) ├┤ √X ├┤ RZ(π/2) ├─░─┤M├─╫────\n",
       "           ┌──┴────┴─┐  └───┬────┬───┘  ┌──┴────┴─┐└───────┘                                                                                  └───┘   └────────┘  └────┘  └────────────┘    └────┘    └───┘ └────┘└────────────┘└────┘└───────┘└───┘               └───┘                                                                                                                                                                                                                            ├───┤        └───┘    └─┬─┘┌─────────┐┌────┐┌─────────┐ ┌─┴─┐┌──────────┐┌───┐┌─────────┐┌─┴─┐ ├─────────┴┐┌───┐     ┌───┐        └─┬─┘    ├─────────┬┘   └─┬─┘   ┌─┴─┐└─┬─┘┌─┴─┐└──┬───┬──┘└────┘└─────────┘ ░ └╥┘ ║    \n",
       " a_0 -> 14 ┤ RZ(π/2) ├──────┤ √X ├──────┤ RZ(π/2) ├──────────────────────────────────────────────────────────────────────────────────────────────────────────────────────────────────────────────────────────────────────────────────────────────────────────────────────────────────────────────────────────────────────────────────────────────────────────────────────────────────────────────────────────────────────────────────────────────────────────────────────────────────────────────■──┤ X ├──■────────────────■──┤ RZ(π/2) ├┤ √X ├┤ RZ(π/2) ├─┤ X ├┤ RZ(7π/4) ├┤ X ├┤ RZ(π/4) ├┤ X ├─┤ RZ(7π/4) ├┤ X ├──■──┤ X ├──■───────■──────┤ RZ(π/4) ├──────■─────┤ X ├──■──┤ X ├───┤ X ├─────────────────────░──╫──╫────\n",
       "           └──┬────┬─┘  ┌───┴────┴───┐  └──┬────┬─┘┌───────┐                                                                                            ┌───┐   ┌────────┐    ┌────┐    ┌────────────┐┌────┐          ┌───┐                                                                                                                                                                                                           ┌───┐     ┌──────────────┐                          ┌───┐┌─┴─┐└─┬─┘┌─┴─┐                 └─────────┘└────┘└─────────┘ └───┘└──────────┘└─┬─┘└─────────┘└───┘ └──────────┘└─┬─┘┌─┴─┐└─┬─┘┌─┴─┐┌──────────┐└──┬────┬─┘ ┌─────────┐└───┘     └───┘   └─┬─┘                     ░  ║  ║    \n",
       "xj_0 -> 16 ───┤ √X ├────┤ RZ(3.2041) ├─────┤ √X ├──┤ RZ(π) ├────────────────────────────────────────────────────────────────────────────────────────────┤ X ├───┤ RZ(-π) ├────┤ √X ├────┤ RZ(4.0961) ├┤ √X ├──■───────┤ X ├───────■───────────────────────────────────────────────────■──────────────────────────────────────────────────────────────────────────────────────■────────────────────────────────────────────────────────┤ X ├──■──┤ RZ(0.027625) ├──────────────────────────┤ X ├┤ X ├──■──┤ X ├─────────────────────────────────────────────────────────────────■─────────────────────────────────■──┤ X ├──■──┤ X ├┤ RZ(3π/4) ├───┤ √X ├───┤ RZ(π/2) ├────────────────────■───────────────────────░──╫──╫────\n",
       "              ├────┤    └────────────┘     └────┘  └───────┘      ┌───┐                             ┌────┐      ┌────────────────┐  ┌────┐  ┌────────┐  └─┬─┘   └────────┘    └────┘    └────────────┘└────┘┌─┴─┐     └─┬─┘     ┌─┴─┐   ┌───┐  ┌────┐┌────────────┐┌────┐┌───────┐  ┌─┴─┐   ┌────────┐    ┌────┐    ┌────────────┐┌────┐     ┌───┐     ┌─────────────┐     ┌─┴─┐     ┌─────────────┐      ┌───┐      ┌───────────────┐└─┬─┘┌─┴─┐└──────────────┘                ┌───┐     └─┬─┘├───┤     ├───┤┌──────────┐┌───┐┌─────────┐┌────┐┌──────────┐                                                        └───┘     └───┘└──────────┘   └────┘   └─────────┘                                            ░  ║  ║ ┌─┐\n",
       "yj_0 -> 19 ───┤ √X ├───────────────────────────────────────────■──┤ X ├──■────────────────■─────────┤ √X ├──────┤ RZ(θ_j[2] + π) ├──┤ √X ├──┤ RZ(3π) ├────■─────────────────────────────────────────────────┤ X ├───────■───────┤ X ├───┤ X ├──┤ √X ├┤ RZ(4.7604) ├┤ √X ├┤ RZ(π) ├──┤ X ├───┤ RZ(-π) ├────┤ √X ├────┤ RZ(3.1454) ├┤ √X ├─────┤ X ├─────┤ RZ(0.62028) ├─────┤ X ├─────┤ RZ(-1.6377) ├──────┤ X ├──────┤ RZ(-0.014047) ├──■──┤ X ├───────■───────────────■────────┤ X ├──■────■──┤ X ├──■──┤ X ├┤ RZ(3π/2) ├┤ X ├┤ RZ(π/2) ├┤ √X ├┤ RZ(3π/2) ├──────────────────────────────────────────────────────────────────────────────────────────────────────────────────────────────────────────────────────░──╫──╫─┤M├\n",
       "              ├────┤  ┌────────────────┐   ┌────┐  ┌────────┐┌─┴─┐└─┬─┘┌─┴─┐┌──────────┐  │         ├────┤      └──┬─────────┬───┘  └────┘  └────────┘                                                      └───┘               └───┘   └─┬─┘  └────┘└────────────┘└────┘└───────┘  └───┘   └────────┘    └────┘    └────────────┘└────┘     └─┬─┘     └─────────────┘     └───┘     └─────────────┘      └─┬─┘      └───────────────┘     └───┘     ┌─┴─┐             │        └─┬─┘  │       └─┬─┘┌─┴─┐└─┬─┘└──────────┘└─┬─┘└─────────┘└────┘└──────────┘                                                                                                                                                      ░  ║  ║ └╥┘\n",
       " j_0 -> 20 ───┤ √X ├──┤ RZ(θ_j[0] + π) ├───┤ √X ├──┤ RZ(3π) ├┤ X ├──■──┤ X ├┤ RZ(3π/2) ├──┼─────────┤ √X ├─────────┤ RZ(π/2) ├────────────────────────────────────────────────────────────────────────────────────────────────────────────┼────────────────────────────────────────────────────────────────────────────────────────────────────┼────────────────────────────────────────────────────────────┼────────────────────────────────────────┤ X ├─────────────┼──────────┼────┼─────────■──┤ X ├──┼────────────────■─────────────────────────────────────────────────────────────────────────────────────────────────────────────────────────────────────────────────────────────────────────────────────░──╫──╫──╫─\n",
       "              ├────┤  ├────────────────┤   ├────┤  ├────────┤└───┘     └───┘└──────────┘┌─┴─┐       ├────┤      ┌──┴─────────┴───┐  ┌────┐  ┌────────┐                                                                                    │                                                                                                    │                                                            │                                        └───┘           ┌─┴─┐        │  ┌─┴─┐          └───┘  │                                                                                                                                                                                                      ░  ║  ║  ║ \n",
       " j_1 -> 22 ───┤ √X ├──┤ RZ(θ_j[1] + π) ├───┤ √X ├──┤ RZ(3π) ├───────────────────────────┤ X ├───────┤ √X ├──────┤ RZ(θ_j[3] + π) ├──┤ √X ├──┤ RZ(3π) ├────────────────────────────────────────────────────────────────────────────────────■────────────────────────────────────────────────────────────────────────────────────────────────────■────────────────────────────────────────────────────────────■────────────────────────────────────────────────────────┤ X ├────────■──┤ X ├─────────────────■──────────────────────────────────────────────────────────────────────────────────────────────────────────────────────────────────────────────────────────────────────────────────────────────────────░──╫──╫──╫─\n",
       "              └────┘  └────────────────┘   └────┘  └────────┘                           └───┘       └────┘      └────────────────┘  └────┘  └────────┘                                                                                                                                                                                                                                                                                                               └───┘           └───┘                                                                                                                                                                                                                        ░  ║  ║  ║ \n",
       "      c: 3/══════════════════════════════════════════════════════════════════════════════════════════════════════════════════════════════════════════════════════════════════════════════════════════════════════════════════════════════════════════════════════════════════════════════════════════════════════════════════════════════════════════════════════════════════════════════════════════════════════════════════════════════════════════════════════════════════════════════════════════════════════════════════════════════════════════════════════════════════════════════════════════════════════════════════════════════════════════════════════════════════════════════════════════════════════════╩══╩══╩═\n",
       "                                                                                                                                                                                                                                                                                                                                                                                                                                                                                                                                                                                                                                                                                                                     0  1  2 "
      ]
     },
     "execution_count": 5,
     "metadata": {},
     "output_type": "execute_result"
    }
   ],
   "source": [
    "var_form = RealAmplitudes(2, reps=1)\n",
    "quantum_instance = QuantumInstance(backend=backend, shots=2**13, seed_transpiler=0, optimization_level=2, basis_gates=backend.configuration().basis_gates, initial_layout=Qasvm_Mapping_4x2(backend=backend).layout, measurement_error_mitigation_cls=CompleteMeasFitter,)\n",
    "qasvm = QASVM(X, y, var_form=var_form, quantum_instance=quantum_instance, C=None, k=0.1, option='Bloch_sphere').dual\n",
    "print(qasvm.second_order_circuit.depth())\n",
    "qasvm.second_order_circuit.draw(fold=-1, idle_wires=False)"
   ]
  },
  {
   "cell_type": "code",
   "execution_count": 6,
   "metadata": {},
   "outputs": [
    {
     "data": {
      "application/vnd.jupyter.widget-view+json": {
       "model_id": "9cb5679c4a9b43fab376d88da8400a1d",
       "version_major": 2,
       "version_minor": 0
      },
      "text/plain": [
       "  0%|          | 0/1024 [00:00<?, ?it/s]"
      ]
     },
     "metadata": {},
     "output_type": "display_data"
    },
    {
     "name": "stderr",
     "output_type": "stream",
     "text": [
      "FAILURE: Job id: 606230f08653252cbeae158f is cancelled. Re-submit the Qobj.\n"
     ]
    },
    {
     "ename": "KeyboardInterrupt",
     "evalue": "",
     "output_type": "error",
     "traceback": [
      "\u001b[0;31m---------------------------------------------------------------------------\u001b[0m",
      "\u001b[0;31mKeyboardInterrupt\u001b[0m                         Traceback (most recent call last)",
      "\u001b[0;32m<ipython-input-6-227c356d8787>\u001b[0m in \u001b[0;36m<module>\u001b[0;34m\u001b[0m\n\u001b[1;32m     15\u001b[0m     \u001b[0moptimizer\u001b[0m\u001b[0;34m.\u001b[0m\u001b[0mzero_grad\u001b[0m\u001b[0;34m(\u001b[0m\u001b[0;34m)\u001b[0m\u001b[0;34m\u001b[0m\u001b[0;34m\u001b[0m\u001b[0m\n\u001b[1;32m     16\u001b[0m     \u001b[0moutput\u001b[0m \u001b[0;34m=\u001b[0m \u001b[0mmodel\u001b[0m\u001b[0;34m(\u001b[0m\u001b[0;34m)\u001b[0m\u001b[0;34m\u001b[0m\u001b[0;34m\u001b[0m\u001b[0m\n\u001b[0;32m---> 17\u001b[0;31m     \u001b[0moutput\u001b[0m\u001b[0;34m.\u001b[0m\u001b[0mbackward\u001b[0m\u001b[0;34m(\u001b[0m\u001b[0;34m)\u001b[0m\u001b[0;34m\u001b[0m\u001b[0;34m\u001b[0m\u001b[0m\n\u001b[0m\u001b[1;32m     18\u001b[0m     \u001b[0moptimizer\u001b[0m\u001b[0;34m.\u001b[0m\u001b[0mstep\u001b[0m\u001b[0;34m(\u001b[0m\u001b[0;34m)\u001b[0m\u001b[0;34m\u001b[0m\u001b[0;34m\u001b[0m\u001b[0m\n\u001b[1;32m     19\u001b[0m     \u001b[0;32mwith\u001b[0m \u001b[0mtorch\u001b[0m\u001b[0;34m.\u001b[0m\u001b[0mno_grad\u001b[0m\u001b[0;34m(\u001b[0m\u001b[0;34m)\u001b[0m\u001b[0;34m:\u001b[0m\u001b[0;34m\u001b[0m\u001b[0;34m\u001b[0m\u001b[0m\n",
      "\u001b[0;32m~/anaconda3/envs/quic/lib/python3.8/site-packages/torch/tensor.py\u001b[0m in \u001b[0;36mbackward\u001b[0;34m(self, gradient, retain_graph, create_graph, inputs)\u001b[0m\n\u001b[1;32m    243\u001b[0m                 \u001b[0mcreate_graph\u001b[0m\u001b[0;34m=\u001b[0m\u001b[0mcreate_graph\u001b[0m\u001b[0;34m,\u001b[0m\u001b[0;34m\u001b[0m\u001b[0;34m\u001b[0m\u001b[0m\n\u001b[1;32m    244\u001b[0m                 inputs=inputs)\n\u001b[0;32m--> 245\u001b[0;31m         \u001b[0mtorch\u001b[0m\u001b[0;34m.\u001b[0m\u001b[0mautograd\u001b[0m\u001b[0;34m.\u001b[0m\u001b[0mbackward\u001b[0m\u001b[0;34m(\u001b[0m\u001b[0mself\u001b[0m\u001b[0;34m,\u001b[0m \u001b[0mgradient\u001b[0m\u001b[0;34m,\u001b[0m \u001b[0mretain_graph\u001b[0m\u001b[0;34m,\u001b[0m \u001b[0mcreate_graph\u001b[0m\u001b[0;34m,\u001b[0m \u001b[0minputs\u001b[0m\u001b[0;34m=\u001b[0m\u001b[0minputs\u001b[0m\u001b[0;34m)\u001b[0m\u001b[0;34m\u001b[0m\u001b[0;34m\u001b[0m\u001b[0m\n\u001b[0m\u001b[1;32m    246\u001b[0m \u001b[0;34m\u001b[0m\u001b[0m\n\u001b[1;32m    247\u001b[0m     \u001b[0;32mdef\u001b[0m \u001b[0mregister_hook\u001b[0m\u001b[0;34m(\u001b[0m\u001b[0mself\u001b[0m\u001b[0;34m,\u001b[0m \u001b[0mhook\u001b[0m\u001b[0;34m)\u001b[0m\u001b[0;34m:\u001b[0m\u001b[0;34m\u001b[0m\u001b[0;34m\u001b[0m\u001b[0m\n",
      "\u001b[0;32m~/anaconda3/envs/quic/lib/python3.8/site-packages/torch/autograd/__init__.py\u001b[0m in \u001b[0;36mbackward\u001b[0;34m(tensors, grad_tensors, retain_graph, create_graph, grad_variables, inputs)\u001b[0m\n\u001b[1;32m    143\u001b[0m         \u001b[0mretain_graph\u001b[0m \u001b[0;34m=\u001b[0m \u001b[0mcreate_graph\u001b[0m\u001b[0;34m\u001b[0m\u001b[0;34m\u001b[0m\u001b[0m\n\u001b[1;32m    144\u001b[0m \u001b[0;34m\u001b[0m\u001b[0m\n\u001b[0;32m--> 145\u001b[0;31m     Variable._execution_engine.run_backward(\n\u001b[0m\u001b[1;32m    146\u001b[0m         \u001b[0mtensors\u001b[0m\u001b[0;34m,\u001b[0m \u001b[0mgrad_tensors_\u001b[0m\u001b[0;34m,\u001b[0m \u001b[0mretain_graph\u001b[0m\u001b[0;34m,\u001b[0m \u001b[0mcreate_graph\u001b[0m\u001b[0;34m,\u001b[0m \u001b[0minputs\u001b[0m\u001b[0;34m,\u001b[0m\u001b[0;34m\u001b[0m\u001b[0;34m\u001b[0m\u001b[0m\n\u001b[1;32m    147\u001b[0m         allow_unreachable=True, accumulate_grad=True)  # allow_unreachable flag\n",
      "\u001b[0;32m~/anaconda3/envs/quic/lib/python3.8/site-packages/torch/autograd/function.py\u001b[0m in \u001b[0;36mapply\u001b[0;34m(self, *args)\u001b[0m\n\u001b[1;32m     87\u001b[0m     \u001b[0;32mdef\u001b[0m \u001b[0mapply\u001b[0m\u001b[0;34m(\u001b[0m\u001b[0mself\u001b[0m\u001b[0;34m,\u001b[0m \u001b[0;34m*\u001b[0m\u001b[0margs\u001b[0m\u001b[0;34m)\u001b[0m\u001b[0;34m:\u001b[0m\u001b[0;34m\u001b[0m\u001b[0;34m\u001b[0m\u001b[0m\n\u001b[1;32m     88\u001b[0m         \u001b[0;31m# _forward_cls is defined by derived class\u001b[0m\u001b[0;34m\u001b[0m\u001b[0;34m\u001b[0m\u001b[0;34m\u001b[0m\u001b[0m\n\u001b[0;32m---> 89\u001b[0;31m         \u001b[0;32mreturn\u001b[0m \u001b[0mself\u001b[0m\u001b[0;34m.\u001b[0m\u001b[0m_forward_cls\u001b[0m\u001b[0;34m.\u001b[0m\u001b[0mbackward\u001b[0m\u001b[0;34m(\u001b[0m\u001b[0mself\u001b[0m\u001b[0;34m,\u001b[0m \u001b[0;34m*\u001b[0m\u001b[0margs\u001b[0m\u001b[0;34m)\u001b[0m  \u001b[0;31m# type: ignore\u001b[0m\u001b[0;34m\u001b[0m\u001b[0;34m\u001b[0m\u001b[0m\n\u001b[0m\u001b[1;32m     90\u001b[0m \u001b[0;34m\u001b[0m\u001b[0m\n\u001b[1;32m     91\u001b[0m \u001b[0;34m\u001b[0m\u001b[0m\n",
      "\u001b[0;32m~/QUIC-Projects/classifiers/quantum/pytorch.py\u001b[0m in \u001b[0;36mbackward\u001b[0;34m(ctx, grad_output)\u001b[0m\n\u001b[1;32m     24\u001b[0m \u001b[0;34m\u001b[0m\u001b[0m\n\u001b[1;32m     25\u001b[0m         \u001b[0;32mif\u001b[0m \u001b[0mctx\u001b[0m\u001b[0;34m.\u001b[0m\u001b[0mgrad_fn\u001b[0m \u001b[0;32mis\u001b[0m \u001b[0;32mnot\u001b[0m \u001b[0;32mNone\u001b[0m\u001b[0;34m:\u001b[0m\u001b[0;34m\u001b[0m\u001b[0;34m\u001b[0m\u001b[0m\n\u001b[0;32m---> 26\u001b[0;31m             \u001b[0mgradients\u001b[0m \u001b[0;34m=\u001b[0m \u001b[0mctx\u001b[0m\u001b[0;34m.\u001b[0m\u001b[0mgrad_fn\u001b[0m\u001b[0;34m(\u001b[0m\u001b[0mparams\u001b[0m\u001b[0;34m.\u001b[0m\u001b[0mtolist\u001b[0m\u001b[0;34m(\u001b[0m\u001b[0;34m)\u001b[0m\u001b[0;34m)\u001b[0m\u001b[0;34m\u001b[0m\u001b[0;34m\u001b[0m\u001b[0m\n\u001b[0m\u001b[1;32m     27\u001b[0m         \u001b[0;32melse\u001b[0m\u001b[0;34m:\u001b[0m\u001b[0;34m\u001b[0m\u001b[0;34m\u001b[0m\u001b[0m\n\u001b[1;32m     28\u001b[0m             \u001b[0minput_list\u001b[0m \u001b[0;34m=\u001b[0m \u001b[0mnp\u001b[0m\u001b[0;34m.\u001b[0m\u001b[0marray\u001b[0m\u001b[0;34m(\u001b[0m\u001b[0mparams\u001b[0m\u001b[0;34m.\u001b[0m\u001b[0mtolist\u001b[0m\u001b[0;34m(\u001b[0m\u001b[0;34m)\u001b[0m\u001b[0;34m)\u001b[0m\u001b[0;34m\u001b[0m\u001b[0;34m\u001b[0m\u001b[0m\n",
      "\u001b[0;32m~/QUIC-Projects/classifiers/quantum/qasvm.py\u001b[0m in \u001b[0;36mgrad_fn_second_order\u001b[0;34m(self, param)\u001b[0m\n\u001b[1;32m    264\u001b[0m         \u001b[0;32mfor\u001b[0m \u001b[0mshift\u001b[0m \u001b[0;32min\u001b[0m \u001b[0mshifts\u001b[0m\u001b[0;34m:\u001b[0m\u001b[0;34m\u001b[0m\u001b[0;34m\u001b[0m\u001b[0m\n\u001b[1;32m    265\u001b[0m             \u001b[0mret_plus\u001b[0m \u001b[0;34m=\u001b[0m \u001b[0mself\u001b[0m\u001b[0;34m.\u001b[0m\u001b[0m_evaluate_second_order_circuit\u001b[0m\u001b[0;34m(\u001b[0m\u001b[0mparam\u001b[0m\u001b[0;34m,\u001b[0m \u001b[0mparam\u001b[0m\u001b[0;34m+\u001b[0m\u001b[0mshift\u001b[0m\u001b[0;34m)\u001b[0m\u001b[0;34m\u001b[0m\u001b[0;34m\u001b[0m\u001b[0m\n\u001b[0;32m--> 266\u001b[0;31m             \u001b[0mret_minus\u001b[0m \u001b[0;34m=\u001b[0m \u001b[0mself\u001b[0m\u001b[0;34m.\u001b[0m\u001b[0m_evaluate_second_order_circuit\u001b[0m\u001b[0;34m(\u001b[0m\u001b[0mparam\u001b[0m\u001b[0;34m,\u001b[0m \u001b[0mparam\u001b[0m\u001b[0;34m-\u001b[0m\u001b[0mshift\u001b[0m\u001b[0;34m)\u001b[0m\u001b[0;34m\u001b[0m\u001b[0;34m\u001b[0m\u001b[0m\n\u001b[0m\u001b[1;32m    267\u001b[0m             \u001b[0mreg_plus\u001b[0m \u001b[0;34m=\u001b[0m \u001b[0mret_plus\u001b[0m\u001b[0;34m[\u001b[0m\u001b[0;34m'aayyk'\u001b[0m\u001b[0;34m]\u001b[0m\u001b[0;34m+\u001b[0m\u001b[0mret_plus\u001b[0m\u001b[0;34m[\u001b[0m\u001b[0;34m'aayy'\u001b[0m\u001b[0;34m]\u001b[0m\u001b[0;34m/\u001b[0m\u001b[0mself\u001b[0m\u001b[0;34m.\u001b[0m\u001b[0mk\u001b[0m\u001b[0;34m\u001b[0m\u001b[0;34m\u001b[0m\u001b[0m\n\u001b[1;32m    268\u001b[0m             \u001b[0mreg_minus\u001b[0m \u001b[0;34m=\u001b[0m \u001b[0mret_minus\u001b[0m\u001b[0;34m[\u001b[0m\u001b[0;34m'aayyk'\u001b[0m\u001b[0;34m]\u001b[0m\u001b[0;34m+\u001b[0m\u001b[0mret_minus\u001b[0m\u001b[0;34m[\u001b[0m\u001b[0;34m'aayy'\u001b[0m\u001b[0;34m]\u001b[0m\u001b[0;34m/\u001b[0m\u001b[0mself\u001b[0m\u001b[0;34m.\u001b[0m\u001b[0mk\u001b[0m\u001b[0;34m\u001b[0m\u001b[0;34m\u001b[0m\u001b[0m\n",
      "\u001b[0;32m~/QUIC-Projects/classifiers/quantum/qasvm.py\u001b[0m in \u001b[0;36m_evaluate_second_order_circuit\u001b[0;34m(self, param1, param2)\u001b[0m\n\u001b[1;32m    379\u001b[0m         \u001b[0;32melse\u001b[0m\u001b[0;34m:\u001b[0m\u001b[0;34m\u001b[0m\u001b[0;34m\u001b[0m\u001b[0m\n\u001b[1;32m    380\u001b[0m             \u001b[0mparam_dict\u001b[0m\u001b[0;34m.\u001b[0m\u001b[0mupdate\u001b[0m\u001b[0;34m(\u001b[0m\u001b[0mdict\u001b[0m\u001b[0;34m(\u001b[0m\u001b[0mzip\u001b[0m\u001b[0;34m(\u001b[0m\u001b[0mself\u001b[0m\u001b[0;34m.\u001b[0m\u001b[0m_var_form_params\u001b[0m\u001b[0;34m[\u001b[0m\u001b[0;34m'j'\u001b[0m\u001b[0;34m]\u001b[0m\u001b[0;34m,\u001b[0m \u001b[0mparam2\u001b[0m\u001b[0;34m)\u001b[0m\u001b[0;34m)\u001b[0m\u001b[0;34m)\u001b[0m\u001b[0;34m\u001b[0m\u001b[0;34m\u001b[0m\u001b[0m\n\u001b[0;32m--> 381\u001b[0;31m         \u001b[0m_dict\u001b[0m \u001b[0;34m=\u001b[0m \u001b[0mself\u001b[0m\u001b[0;34m.\u001b[0m\u001b[0mquantum_instance\u001b[0m\u001b[0;34m.\u001b[0m\u001b[0mexecute\u001b[0m\u001b[0;34m(\u001b[0m\u001b[0;34m[\u001b[0m\u001b[0mself\u001b[0m\u001b[0;34m.\u001b[0m\u001b[0msecond_order_circuit\u001b[0m\u001b[0;34m.\u001b[0m\u001b[0massign_parameters\u001b[0m\u001b[0;34m(\u001b[0m\u001b[0mparam_dict\u001b[0m\u001b[0;34m)\u001b[0m\u001b[0;34m]\u001b[0m\u001b[0;34m,\u001b[0m \u001b[0mself\u001b[0m\u001b[0;34m.\u001b[0m\u001b[0mhad_transpiled\u001b[0m\u001b[0;34m)\u001b[0m\u001b[0;34m.\u001b[0m\u001b[0mget_counts\u001b[0m\u001b[0;34m(\u001b[0m\u001b[0;34m)\u001b[0m\u001b[0;34m\u001b[0m\u001b[0;34m\u001b[0m\u001b[0m\n\u001b[0m\u001b[1;32m    382\u001b[0m         \u001b[0meval_dict\u001b[0m \u001b[0;34m=\u001b[0m \u001b[0mdict\u001b[0m\u001b[0;34m(\u001b[0m\u001b[0;34m)\u001b[0m\u001b[0;34m\u001b[0m\u001b[0;34m\u001b[0m\u001b[0m\n\u001b[1;32m    383\u001b[0m         \u001b[0meval_dict\u001b[0m\u001b[0;34m[\u001b[0m\u001b[0;34m'aayyk'\u001b[0m\u001b[0;34m]\u001b[0m \u001b[0;34m=\u001b[0m \u001b[0mpostprocess_Z_expectation\u001b[0m\u001b[0;34m(\u001b[0m\u001b[0;36m3\u001b[0m\u001b[0;34m,\u001b[0m \u001b[0m_dict\u001b[0m\u001b[0;34m,\u001b[0m \u001b[0;36m2\u001b[0m\u001b[0;34m,\u001b[0m \u001b[0;36m1\u001b[0m\u001b[0;34m,\u001b[0m \u001b[0;36m0\u001b[0m\u001b[0;34m)\u001b[0m\u001b[0;34m\u001b[0m\u001b[0;34m\u001b[0m\u001b[0m\n",
      "\u001b[0;32m~/anaconda3/envs/quic/lib/python3.8/site-packages/qiskit/aqua/quantum_instance.py\u001b[0m in \u001b[0;36mexecute\u001b[0;34m(self, circuits, had_transpiled)\u001b[0m\n\u001b[1;32m    371\u001b[0m                     \u001b[0;34m(\u001b[0m\u001b[0mmeas_error_mitigation_fitter\u001b[0m\u001b[0;34m,\u001b[0m \u001b[0mtime\u001b[0m\u001b[0;34m.\u001b[0m\u001b[0mtime\u001b[0m\u001b[0;34m(\u001b[0m\u001b[0;34m)\u001b[0m\u001b[0;34m)\u001b[0m\u001b[0;34m\u001b[0m\u001b[0;34m\u001b[0m\u001b[0m\n\u001b[1;32m    372\u001b[0m             \u001b[0;32melse\u001b[0m\u001b[0;34m:\u001b[0m\u001b[0;34m\u001b[0m\u001b[0;34m\u001b[0m\u001b[0m\n\u001b[0;32m--> 373\u001b[0;31m                 result = run_qobj(qobj, self._backend, self._qjob_config,\n\u001b[0m\u001b[1;32m    374\u001b[0m                                   \u001b[0mself\u001b[0m\u001b[0;34m.\u001b[0m\u001b[0m_backend_options\u001b[0m\u001b[0;34m,\u001b[0m \u001b[0mself\u001b[0m\u001b[0;34m.\u001b[0m\u001b[0m_noise_config\u001b[0m\u001b[0;34m,\u001b[0m\u001b[0;34m\u001b[0m\u001b[0;34m\u001b[0m\u001b[0m\n\u001b[1;32m    375\u001b[0m                                   self._skip_qobj_validation, self._job_callback)\n",
      "\u001b[0;32m~/anaconda3/envs/quic/lib/python3.8/site-packages/qiskit/aqua/utils/run_circuits.py\u001b[0m in \u001b[0;36mrun_qobj\u001b[0;34m(qobj, backend, qjob_config, backend_options, noise_config, skip_qobj_validation, job_callback)\u001b[0m\n\u001b[1;32m    277\u001b[0m                     \u001b[0;32mif\u001b[0m \u001b[0mjob_callback\u001b[0m \u001b[0;32mis\u001b[0m \u001b[0;32mnot\u001b[0m \u001b[0;32mNone\u001b[0m\u001b[0;34m:\u001b[0m\u001b[0;34m\u001b[0m\u001b[0;34m\u001b[0m\u001b[0m\n\u001b[1;32m    278\u001b[0m                         \u001b[0mjob_callback\u001b[0m\u001b[0;34m(\u001b[0m\u001b[0mjob_id\u001b[0m\u001b[0;34m,\u001b[0m \u001b[0mjob_status\u001b[0m\u001b[0;34m,\u001b[0m \u001b[0mqueue_position\u001b[0m\u001b[0;34m,\u001b[0m \u001b[0mjob\u001b[0m\u001b[0;34m)\u001b[0m\u001b[0;34m\u001b[0m\u001b[0;34m\u001b[0m\u001b[0m\n\u001b[0;32m--> 279\u001b[0;31m                     \u001b[0mtime\u001b[0m\u001b[0;34m.\u001b[0m\u001b[0msleep\u001b[0m\u001b[0;34m(\u001b[0m\u001b[0mqjob_config\u001b[0m\u001b[0;34m[\u001b[0m\u001b[0;34m'wait'\u001b[0m\u001b[0;34m]\u001b[0m\u001b[0;34m)\u001b[0m\u001b[0;34m\u001b[0m\u001b[0;34m\u001b[0m\u001b[0m\n\u001b[0m\u001b[1;32m    280\u001b[0m \u001b[0;34m\u001b[0m\u001b[0m\n\u001b[1;32m    281\u001b[0m                 \u001b[0;31m# get result after the status is DONE\u001b[0m\u001b[0;34m\u001b[0m\u001b[0;34m\u001b[0m\u001b[0;34m\u001b[0m\u001b[0m\n",
      "\u001b[0;31mKeyboardInterrupt\u001b[0m: "
     ]
    }
   ],
   "source": [
    "from torch.optim import Adam, SGD\n",
    "from classifiers.quantum.pytorch import QASVM_model\n",
    "from tqdm.notebook import tqdm\n",
    "from torch.utils.tensorboard import SummaryWriter\n",
    "import torch\n",
    "from classifiers.callback import SimpleStorage\n",
    "\n",
    "epochs = 2**10\n",
    "last_avg = epochs/2**3\n",
    "model = QASVM_model(qasvm)\n",
    "optimizer = Adam(model.parameters(), lr=0.01)\n",
    "theta_best = np.zeros(qasvm.num_parameters)\n",
    "\n",
    "for epoch in tqdm(range(epochs)):\n",
    "    optimizer.zero_grad()\n",
    "    output = model()\n",
    "    output.backward()\n",
    "    optimizer.step()\n",
    "    with torch.no_grad():\n",
    "        params = model.params.data\n",
    "        cost = output\n",
    "        storage(epoch, cost, np.array(list(map(lambda p:p.item(), params))))\n",
    "        if epoch >= epochs - last_avg:\n",
    "            theta_best += storage.params[epoch]/last_avg\n",
    "            \n",
    "writer.close()\n",
    "qasvm.set_result(optimal_parameters=theta_best, num_optimizer_evals=epoch, eval_time=0)"
   ]
  },
  {
   "cell_type": "code",
   "execution_count": null,
   "metadata": {
    "scrolled": false
   },
   "outputs": [],
   "source": [
    "storage.plot()"
   ]
  },
  {
   "cell_type": "code",
   "execution_count": null,
   "metadata": {},
   "outputs": [],
   "source": [
    "storage.plot_params()"
   ]
  },
  {
   "cell_type": "code",
   "execution_count": null,
   "metadata": {},
   "outputs": [],
   "source": [
    "svm = BinarySVM(kernel=Kernel('SingleQubit'), mutation='REDUCED_QASVM', C=None, k=0.1)\n",
    "svm.fit(X, y)\n",
    "compare_svm_and_qasvm(svm=svm, qasvm=qasvm, repeat_for_qasvm=10)"
   ]
  },
  {
   "cell_type": "code",
   "execution_count": null,
   "metadata": {},
   "outputs": [],
   "source": [
    "plt.plot(svm.alpha)\n",
    "plt.plot(qasvm.alpha)"
   ]
  }
 ],
 "metadata": {
  "kernelspec": {
   "display_name": "Python (quic)",
   "language": "python",
   "name": "quic"
  },
  "language_info": {
   "codemirror_mode": {
    "name": "ipython",
    "version": 3
   },
   "file_extension": ".py",
   "mimetype": "text/x-python",
   "name": "python",
   "nbconvert_exporter": "python",
   "pygments_lexer": "ipython3",
   "version": "3.8.5"
  }
 },
 "nbformat": 4,
 "nbformat_minor": 2
}
