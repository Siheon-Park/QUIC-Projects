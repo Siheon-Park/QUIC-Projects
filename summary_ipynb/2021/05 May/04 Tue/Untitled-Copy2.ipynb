{
 "cells": [
  {
   "cell_type": "code",
   "execution_count": 1,
   "id": "adequate-pocket",
   "metadata": {},
   "outputs": [],
   "source": [
    "import sys\n",
    "quic_path = '/home/quic/QUIC-Projects'\n",
    "if not quic_path in sys.path:\n",
    "    sys.path.append(quic_path)"
   ]
  },
  {
   "cell_type": "code",
   "execution_count": 2,
   "id": "invalid-barrel",
   "metadata": {},
   "outputs": [],
   "source": [
    "import numpy as np\n",
    "import scipy as sp\n",
    "import matplotlib.pyplot as plt"
   ]
  },
  {
   "cell_type": "code",
   "execution_count": 3,
   "id": "informed-gather",
   "metadata": {},
   "outputs": [],
   "source": [
    "from classifiers.kernel import Kernel"
   ]
  },
  {
   "cell_type": "code",
   "execution_count": 4,
   "id": "olive-poetry",
   "metadata": {},
   "outputs": [],
   "source": [
    "kernel = Kernel('Pauli', reps=1)"
   ]
  },
  {
   "cell_type": "code",
   "execution_count": 5,
   "id": "understood-hamburg",
   "metadata": {},
   "outputs": [
    {
     "data": {
      "text/plain": [
       "\"from qiskit import IBMQ\\nif IBMQ.active_account() is None:\\n    IBMQ.load_account()\\nprovider = IBMQ.get_provider(hub='ibm-q-kaist', group='internal', project='default')\\nbackend = provider.get_backend('ibmq_qasm_simulator')\\nbackend\""
      ]
     },
     "execution_count": 5,
     "metadata": {},
     "output_type": "execute_result"
    }
   ],
   "source": [
    "\"\"\"from qiskit import IBMQ\n",
    "if IBMQ.active_account() is None:\n",
    "    IBMQ.load_account()\n",
    "provider = IBMQ.get_provider(hub='ibm-q-kaist', group='internal', project='default')\n",
    "backend = provider.get_backend('ibmq_qasm_simulator')\n",
    "backend\"\"\""
   ]
  },
  {
   "cell_type": "code",
   "execution_count": 6,
   "id": "grave-break",
   "metadata": {},
   "outputs": [
    {
     "data": {
      "text/html": [
       "<pre style=\"word-wrap: normal;white-space: pre;background: #fff0;line-height: 1.1;font-family: &quot;Courier New&quot;,Courier,monospace\">     ┌───┐┌─────────────┐                                          \n",
       "q_0: ┤ H ├┤ P(2.0*x[0]) ├──■────────────────────────────────────■──\n",
       "     ├───┤├─────────────┤┌─┴─┐┌──────────────────────────────┐┌─┴─┐\n",
       "q_1: ┤ H ├┤ P(2.0*x[1]) ├┤ X ├┤ P(2.0*(π - x[0])*(π - x[1])) ├┤ X ├\n",
       "     └───┘└─────────────┘└───┘└──────────────────────────────┘└───┘</pre>"
      ],
      "text/plain": [
       "     ┌───┐┌─────────────┐                                          \n",
       "q_0: ┤ H ├┤ P(2.0*x[0]) ├──■────────────────────────────────────■──\n",
       "     ├───┤├─────────────┤┌─┴─┐┌──────────────────────────────┐┌─┴─┐\n",
       "q_1: ┤ H ├┤ P(2.0*x[1]) ├┤ X ├┤ P(2.0*(π - x[0])*(π - x[1])) ├┤ X ├\n",
       "     └───┘└─────────────┘└───┘└──────────────────────────────┘└───┘"
      ]
     },
     "execution_count": 6,
     "metadata": {},
     "output_type": "execute_result"
    }
   ],
   "source": [
    "from qiskit.circuit.library import PauliFeatureMap\n",
    "PauliFeatureMap(2, reps=1).draw()"
   ]
  },
  {
   "cell_type": "code",
   "execution_count": 7,
   "id": "alike-disposition",
   "metadata": {},
   "outputs": [],
   "source": [
    "from classifiers.convex.svm import BinarySVM"
   ]
  },
  {
   "cell_type": "code",
   "execution_count": 8,
   "id": "artistic-swedish",
   "metadata": {},
   "outputs": [],
   "source": [
    "svm = BinarySVM(kernel, C=None, k=10, mutation='REDUCED_QASVM')"
   ]
  },
  {
   "cell_type": "code",
   "execution_count": 9,
   "id": "assumed-moderator",
   "metadata": {},
   "outputs": [],
   "source": [
    "from classifiers.datasets.dataloader import Sklearn_DataLoader\n",
    "from classifiers.datasets.datascaler import DataScaler"
   ]
  },
  {
   "cell_type": "code",
   "execution_count": 10,
   "id": "piano-kelly",
   "metadata": {},
   "outputs": [],
   "source": [
    "np.random.seed(13)\n",
    "dl = Sklearn_DataLoader('iris', labels=(1, 2))\n",
    "X, y, Xt, yt = dl(8, true_hot=0)"
   ]
  },
  {
   "cell_type": "code",
   "execution_count": 11,
   "id": "stretch-criterion",
   "metadata": {},
   "outputs": [
    {
     "data": {
      "image/png": "[encoded data removed]",
      "text/plain": [
       "<Figure size 432x288 with 1 Axes>"
      ]
     },
     "metadata": {
      "needs_background": "light"
     },
     "output_type": "display_data"
    }
   ],
   "source": [
    "from classifiers.visualization import Plot_Data, Plot_SVM\n",
    "Plot_Data(X, y).plot()"
   ]
  },
  {
   "cell_type": "code",
   "execution_count": null,
   "id": "arctic-hardware",
   "metadata": {
    "scrolled": true
   },
   "outputs": [],
   "source": [
    "svm.fit(X, y)\n",
    "plt.plot(svm.f(X))"
   ]
  },
  {
   "cell_type": "code",
   "execution_count": null,
   "id": "domestic-design",
   "metadata": {},
   "outputs": [],
   "source": [
    "svm.f(X)"
   ]
  },
  {
   "cell_type": "code",
   "execution_count": null,
   "id": "sunset-pound",
   "metadata": {},
   "outputs": [],
   "source": [
    "plt.plot(svm.f(X)*svm.polary)\n",
    "plt.hlines(0, 0, 7)"
   ]
  },
  {
   "cell_type": "code",
   "execution_count": null,
   "id": "dominican-richmond",
   "metadata": {},
   "outputs": [],
   "source": [
    "from classifiers.quantum.qasvm import QASVM\n",
    "from qiskit.circuit.library import RealAmplitudes, PauliFeatureMap\n"
   ]
  },
  {
   "cell_type": "code",
   "execution_count": null,
   "id": "adverse-worthy",
   "metadata": {},
   "outputs": [],
   "source": [
    "feature_map = PauliFeatureMap(4, reps=1)\n",
    "var_form = RealAmplitudes(3, reps=16)"
   ]
  },
  {
   "cell_type": "code",
   "execution_count": null,
   "id": "prospective-cancer",
   "metadata": {},
   "outputs": [],
   "source": [
    "from qiskit.utils import QuantumInstance"
   ]
  },
  {
   "cell_type": "code",
   "execution_count": null,
   "id": "graduate-outside",
   "metadata": {},
   "outputs": [],
   "source": [
    "from qiskit.providers.aer import AerSimulator\n",
    "sim_gpu = AerSimulator(method='automatic', device='CPU')\n",
    "quantum_instance = QuantumInstance(sim_gpu, shots=2**13)"
   ]
  },
  {
   "cell_type": "code",
   "execution_count": null,
   "id": "floppy-dutch",
   "metadata": {
    "scrolled": true
   },
   "outputs": [],
   "source": [
    "qasvm = QASVM(X, y, num_data_qubits=4, var_form=var_form, quantum_instance = quantum_instance, feature_map = feature_map, C=None, k=10, option='QASVM', initial_point=np.ones(9)).dual"
   ]
  },
  {
   "cell_type": "code",
   "execution_count": null,
   "id": "comprehensive-gambling",
   "metadata": {},
   "outputs": [],
   "source": [
    "qasvm.first_order_circuit.draw(fold=-1)"
   ]
  },
  {
   "cell_type": "code",
   "execution_count": null,
   "id": "urban-appliance",
   "metadata": {},
   "outputs": [],
   "source": [
    "print(qasvm.second_order_circuit.depth())"
   ]
  },
  {
   "cell_type": "code",
   "execution_count": null,
   "id": "competitive-seven",
   "metadata": {},
   "outputs": [],
   "source": [
    "import time\n",
    "start = time.time()"
   ]
  },
  {
   "cell_type": "code",
   "execution_count": null,
   "id": "private-meditation",
   "metadata": {
    "scrolled": true
   },
   "outputs": [],
   "source": [
    "from classifiers.optimizer import SPSA\n",
    "optimizer = SPSA(qasvm, blocking=True)\n"
   ]
  },
  {
   "cell_type": "code",
   "execution_count": null,
   "id": "early-check",
   "metadata": {},
   "outputs": [],
   "source": [
    "from classifiers.callback import CostParamStorage\n",
    "storage = CostParamStorage(interval=1)\n"
   ]
  },
  {
   "cell_type": "code",
   "execution_count": null,
   "id": "egyptian-jacksonville",
   "metadata": {},
   "outputs": [],
   "source": [
    "from tqdm.notebook import tqdm\n",
    "\n",
    "epochs = 2**10\n",
    "last_avg = 2**4\n",
    "\n",
    "for epoch in tqdm(range(epochs)):\n",
    "    optimizer.step(storage)\n",
    "    if epoch>=last_avg and storage.data[-last_avg:]['Cost'].std()<optimizer.allowed_increase/2:\n",
    "        break\n",
    "\n",
    "qasvm.parameters = storage.last_avg(last_avg)"
   ]
  },
  {
   "cell_type": "code",
   "execution_count": null,
   "id": "recovered-sugar",
   "metadata": {},
   "outputs": [],
   "source": [
    "from classifiers.visualization import compare_svm_and_qasvm"
   ]
  },
  {
   "cell_type": "code",
   "execution_count": null,
   "id": "fixed-somalia",
   "metadata": {
    "scrolled": true
   },
   "outputs": [],
   "source": [
    "l = compare_svm_and_qasvm(svm, qasvm)"
   ]
  },
  {
   "cell_type": "code",
   "execution_count": null,
   "id": "outer-entity",
   "metadata": {},
   "outputs": [],
   "source": [
    "end = time.time()\n",
    "print((end-start)/3600)"
   ]
  },
  {
   "cell_type": "code",
   "execution_count": null,
   "id": "charitable-virgin",
   "metadata": {},
   "outputs": [],
   "source": [
    "l"
   ]
  },
  {
   "cell_type": "code",
   "execution_count": null,
   "id": "amber-browser",
   "metadata": {},
   "outputs": [],
   "source": [
    "storage.plot()"
   ]
  },
  {
   "cell_type": "code",
   "execution_count": null,
   "id": "classical-question",
   "metadata": {},
   "outputs": [],
   "source": [
    "storage.plot_params()"
   ]
  },
  {
   "cell_type": "code",
   "execution_count": null,
   "id": "collected-remains",
   "metadata": {},
   "outputs": [],
   "source": [
    "import qiskit\n",
    "qiskit.__qiskit_version__"
   ]
  },
  {
   "cell_type": "code",
   "execution_count": null,
   "id": "508f36f5",
   "metadata": {},
   "outputs": [],
   "source": [
    "0.146*60"
   ]
  },
  {
   "cell_type": "code",
   "execution_count": null,
   "id": "4c7e9419",
   "metadata": {},
   "outputs": [],
   "source": [
    "print((end-start)/60)"
   ]
  },
  {
   "cell_type": "code",
   "execution_count": null,
   "id": "784e41b3",
   "metadata": {},
   "outputs": [],
   "source": [
    "storage.data"
   ]
  },
  {
   "cell_type": "code",
   "execution_count": null,
   "id": "2dcf23be",
   "metadata": {},
   "outputs": [],
   "source": [
    "storage.data[-last_avg:]['Cost'].std() "
   ]
  },
  {
   "cell_type": "code",
   "execution_count": null,
   "id": "fb1bd9c2",
   "metadata": {},
   "outputs": [],
   "source": [
    "storage.data = storage.data[storage.data['Accepted']==True]"
   ]
  },
  {
   "cell_type": "code",
   "execution_count": null,
   "id": "94fa8cb8",
   "metadata": {},
   "outputs": [],
   "source": [
    "storage.plot()"
   ]
  },
  {
   "cell_type": "code",
   "execution_count": null,
   "id": "3eae5b25",
   "metadata": {},
   "outputs": [],
   "source": [
    "storage.data[-last_avg:]['Cost'].std()"
   ]
  },
  {
   "cell_type": "code",
   "execution_count": null,
   "id": "711434ba",
   "metadata": {},
   "outputs": [],
   "source": [
    "optimizer.allowed_increase"
   ]
  },
  {
   "cell_type": "code",
   "execution_count": null,
   "id": "2f0a650d",
   "metadata": {},
   "outputs": [],
   "source": [
    "np.save('./l', l)"
   ]
  },
  {
   "cell_type": "code",
   "execution_count": null,
   "id": "e0354630",
   "metadata": {},
   "outputs": [],
   "source": [
    "del l"
   ]
  },
  {
   "cell_type": "code",
   "execution_count": null,
   "id": "3905378e",
   "metadata": {},
   "outputs": [],
   "source": [
    "l =np.load('./l.npy')"
   ]
  },
  {
   "cell_type": "code",
   "execution_count": null,
   "id": "9de3a5a5",
   "metadata": {},
   "outputs": [],
   "source": [
    "l"
   ]
  },
  {
   "cell_type": "code",
   "execution_count": null,
   "id": "d7a7b72b",
   "metadata": {},
   "outputs": [],
   "source": []
  }
 ],
 "metadata": {
  "kernelspec": {
   "display_name": "Python 3.9.2 64-bit ('QUIC': conda)",
   "language": "python",
   "name": "python392jvsc74a57bd06a082bf6134b372c06e64927897e08d4d2745f2f33cff72046cfead1af299ef7"
  },
  "language_info": {
   "codemirror_mode": {
    "name": "ipython",
    "version": 3
   },
   "file_extension": ".py",
   "mimetype": "text/x-python",
   "name": "python",
   "nbconvert_exporter": "python",
   "pygments_lexer": "ipython3",
   "version": "3.9.2"
  }
 },
 "nbformat": 4,
 "nbformat_minor": 5
}
