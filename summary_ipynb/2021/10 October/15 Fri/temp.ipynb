{
 "cells": [
  {
   "cell_type": "code",
   "execution_count": 1,
   "metadata": {
    "pycharm": {
     "is_executing": true
    }
   },
   "outputs": [],
   "source": [
    "import sys\n",
    "from pathlib import Path\n",
    "sys.path.extend(['/'.join(str(Path.cwd()).split('/')[:4])])\n",
    "import numpy as np\n",
    "import matplotlib.pyplot as plt"
   ]
  },
  {
   "cell_type": "code",
   "execution_count": 2,
   "metadata": {
    "collapsed": false,
    "jupyter": {
     "outputs_hidden": false
    },
    "pycharm": {
     "is_executing": true,
     "name": "#%%\n"
    }
   },
   "outputs": [],
   "source": [
    "from classifiers.datasets import IrisDataset\n",
    "from classifiers.quantum.qasvm import PseudoNormQSVM, NormQSVM\n",
    "from qiskit.circuit.library import ZZFeatureMap\n",
    "from qiskit.utils.quantum_instance import QuantumInstance\n",
    "from qiskit.providers.aer import AerSimulator\n",
    "from qiskit import BasicAer\n",
    "from classifiers.optimizer import tSPSA\n",
    "from classifiers.callback import CostParamStorage\n",
    "from classifiers.quantum.ansatz import Circuit15"
   ]
  },
  {
   "cell_type": "code",
   "execution_count": 8,
   "metadata": {
    "collapsed": false,
    "jupyter": {
     "outputs_hidden": false
    },
    "pycharm": {
     "is_executing": true,
     "name": "#%%\n"
    }
   },
   "outputs": [
    {
     "name": "stdout",
     "output_type": "stream",
     "text": [
      "Help on function ad_hoc_data in module qiskit_machine_learning.datasets.ad_hoc:\n",
      "\n",
      "ad_hoc_data(training_size, test_size, n, gap, plot_data=False, one_hot=True, include_sample_total=False)\n",
      "    returns ad hoc dataset\n",
      "\n"
     ]
    }
   ],
   "source": [
    "#ds = IrisDataset(feature_range=(0, np.pi))\n",
    "#X, y = ds.sample(n=64, return_X_y=True)\n",
    "from qiskit_machine_learning.datasets import ad_hoc_data\n",
    "help(ad_hoc_data)\n",
    "X, y, Xt, yt = ad_hoc_data(\n",
    "    training_size=32,\n",
    "    test_size=75,\n",
    "    n=2,\n",
    "    gap=0.3,\n",
    "    one_hot=False\n",
    ")"
   ]
  },
  {
   "cell_type": "code",
   "execution_count": 9,
   "metadata": {
    "collapsed": false,
    "jupyter": {
     "outputs_hidden": false
    },
    "pycharm": {
     "is_executing": true,
     "name": "#%%\n"
    }
   },
   "outputs": [],
   "source": [
    "var_form = Circuit15(6, reps=5)\n",
    "feature_map = ZZFeatureMap(feature_dimension=2)\n",
    "quantum_instance = QuantumInstance(backend=BasicAer.get_backend('qasm_simulator'), shots=2**15)\n",
    "qasvm = NormQSVM(\n",
    "    data=X, label=y,\n",
    "    quantum_instance=quantum_instance,\n",
    "    feature_map=feature_map,\n",
    "    var_form=var_form\n",
    ")"
   ]
  },
  {
   "cell_type": "code",
   "execution_count": null,
   "metadata": {
    "collapsed": false,
    "jupyter": {
     "outputs_hidden": false
    },
    "pycharm": {
     "is_executing": true,
     "name": "#%%\n"
    }
   },
   "outputs": [
    {
     "data": {
      "application/vnd.jupyter.widget-view+json": {
       "model_id": "414f2e6e4366474a8efccb8be7f71172",
       "version_major": 2,
       "version_minor": 0
      },
      "text/plain": [
       "  0%|          | 0/1024 [00:00<?, ?it/s]"
      ]
     },
     "metadata": {},
     "output_type": "display_data"
    }
   ],
   "source": [
    "from tqdm.notebook import tqdm\n",
    "storage = CostParamStorage()\n",
    "optimizer = tSPSA(maxiter=2**15, blocking=True, last_avg=16, callback=storage)\n",
    "for epoch in tqdm(range(1, 2**10 + 1)):\n",
    "    optimizer.step(qasvm.cost_fn, qasvm.parameters)\n",
    "    \"\"\"\n",
    "    if storage.num_accepted() > 2 * 16 and storage.last_cost_avg(2 * 16, ignore_rejected=True) < \\\n",
    "            storage.last_cost_avg(16, ignore_rejected=True):\n",
    "        break\n",
    "        \"\"\""
   ]
  },
  {
   "cell_type": "code",
   "execution_count": null,
   "metadata": {
    "collapsed": false,
    "jupyter": {
     "outputs_hidden": false
    },
    "pycharm": {
     "is_executing": true,
     "name": "#%%\n"
    }
   },
   "outputs": [],
   "source": [
    "%matplotlib inline\n",
    "storage.plot()\n",
    "plt.ylim([0., .2])"
   ]
  },
  {
   "cell_type": "code",
   "execution_count": null,
   "metadata": {},
   "outputs": [],
   "source": [
    "qasvm.accuracy(X, y)"
   ]
  },
  {
   "cell_type": "code",
   "execution_count": 42,
   "metadata": {},
   "outputs": [],
   "source": [
    "from qiskit_machine_learning.kernels import QuantumKernel\n",
    "\n",
    "qk = QuantumKernel(feature_map, enforce_psd=False, quantum_instance = quantum_instance)\n",
    "def my_kernel(x, y):\n",
    "    return (np.abs(qk.evaluate([x], [y]))**2).item()\n",
    "\n",
    "from classifiers.convex.svm import BinarySVM\n",
    "svm = BinarySVM(kernel=my_kernel, k=1, C=None, mutation='REDUCED_QASVM')\n",
    "svm.fit(X, y)"
   ]
  },
  {
   "cell_type": "code",
   "execution_count": 43,
   "metadata": {},
   "outputs": [
    {
     "data": {
      "text/plain": [
       "1.0"
      ]
     },
     "execution_count": 43,
     "metadata": {},
     "output_type": "execute_result"
    }
   ],
   "source": [
    "svm.accuracy(X, y)"
   ]
  },
  {
   "cell_type": "code",
   "execution_count": null,
   "metadata": {},
   "outputs": [],
   "source": [
    "qasvm.accuracy(Xt, yt)"
   ]
  },
  {
   "cell_type": "code",
   "execution_count": 45,
   "metadata": {},
   "outputs": [
    {
     "data": {
      "text/plain": [
       "1.0"
      ]
     },
     "execution_count": 45,
     "metadata": {},
     "output_type": "execute_result"
    }
   ],
   "source": [
    "svm.accuracy(Xt, yt)"
   ]
  },
  {
   "cell_type": "code",
   "execution_count": null,
   "metadata": {},
   "outputs": [],
   "source": []
  }
 ],
 "metadata": {
  "kernelspec": {
   "display_name": "qiskit29",
   "language": "python",
   "name": "qiskit29"
  },
  "language_info": {
   "codemirror_mode": {
    "name": "ipython",
    "version": 3
   },
   "file_extension": ".py",
   "mimetype": "text/x-python",
   "name": "python",
   "nbconvert_exporter": "python",
   "pygments_lexer": "ipython3",
   "version": "3.9.6"
  },
  "widgets": {
   "application/vnd.jupyter.widget-state+json": {
    "state": {
     "0325ddb5443442c7a46faaef1e014ece": {
      "model_module": "@jupyter-widgets/base",
      "model_module_version": "1.2.0",
      "model_name": "LayoutModel",
      "state": {}
     },
     "05fa93376f2a40ac8cf056dd93b785ac": {
      "model_module": "@jupyter-widgets/controls",
      "model_module_version": "1.5.0",
      "model_name": "DescriptionStyleModel",
      "state": {
       "description_width": ""
      }
     },
     "0c6c875d51de4caeacc200a3c769f13a": {
      "model_module": "@jupyter-widgets/base",
      "model_module_version": "1.2.0",
      "model_name": "LayoutModel",
      "state": {}
     },
     "0e38dee61fdc48a0acca2151f176c175": {
      "model_module": "@jupyter-widgets/base",
      "model_module_version": "1.2.0",
      "model_name": "LayoutModel",
      "state": {}
     },
     "118f5b6f166841eaa86d60907a14ae90": {
      "model_module": "@jupyter-widgets/base",
      "model_module_version": "1.2.0",
      "model_name": "LayoutModel",
      "state": {}
     },
     "1406b025b5da4df086c6c3583a1510d1": {
      "model_module": "@jupyter-widgets/controls",
      "model_module_version": "1.5.0",
      "model_name": "DescriptionStyleModel",
      "state": {
       "description_width": ""
      }
     },
     "2f6c03ec16e6492481d1fdad5b371b79": {
      "model_module": "@jupyter-widgets/controls",
      "model_module_version": "1.5.0",
      "model_name": "HTMLModel",
      "state": {
       "layout": "IPY_MODEL_573a232934724cd8bdf06a021053125a",
       "style": "IPY_MODEL_4299769b8dfe4fccbc8436db436316f9",
       "value": " 0/1024 [00:00&lt;?, ?it/s]"
      }
     },
     "365d7aede2ac41bb965b773cf95d010c": {
      "model_module": "@jupyter-widgets/controls",
      "model_module_version": "1.5.0",
      "model_name": "HBoxModel",
      "state": {
       "children": [
        "IPY_MODEL_5546b35730904da6a9d0ec6d16174121",
        "IPY_MODEL_dcf4ecb588654bdabd20bfa885a5c13c",
        "IPY_MODEL_b546f15538e444d7a2baf9d8e1b7cd4c"
       ],
       "layout": "IPY_MODEL_4203ca8b5a0a431aac1a7050c1903eef"
      }
     },
     "385a2717e6b043e2a1e6517a96c31a82": {
      "model_module": "@jupyter-widgets/controls",
      "model_module_version": "1.5.0",
      "model_name": "DescriptionStyleModel",
      "state": {
       "description_width": ""
      }
     },
     "414f2e6e4366474a8efccb8be7f71172": {
      "model_module": "@jupyter-widgets/controls",
      "model_module_version": "1.5.0",
      "model_name": "HBoxModel",
      "state": {
       "children": [
        "IPY_MODEL_cfeca223d49a407a9f79f0d90c487502",
        "IPY_MODEL_c6e373b5b114423ebc5c1686d7fdc23b",
        "IPY_MODEL_2f6c03ec16e6492481d1fdad5b371b79"
       ],
       "layout": "IPY_MODEL_0c6c875d51de4caeacc200a3c769f13a"
      }
     },
     "4203ca8b5a0a431aac1a7050c1903eef": {
      "model_module": "@jupyter-widgets/base",
      "model_module_version": "1.2.0",
      "model_name": "LayoutModel",
      "state": {}
     },
     "4299769b8dfe4fccbc8436db436316f9": {
      "model_module": "@jupyter-widgets/controls",
      "model_module_version": "1.5.0",
      "model_name": "DescriptionStyleModel",
      "state": {
       "description_width": ""
      }
     },
     "4b6985b548774ec094f432c841382a0e": {
      "model_module": "@jupyter-widgets/controls",
      "model_module_version": "1.5.0",
      "model_name": "DescriptionStyleModel",
      "state": {
       "description_width": ""
      }
     },
     "516a82435c1343ce97c10e8a0dd02800": {
      "model_module": "@jupyter-widgets/base",
      "model_module_version": "1.2.0",
      "model_name": "LayoutModel",
      "state": {}
     },
     "5316611fa17742a683629a7109b219c7": {
      "model_module": "@jupyter-widgets/controls",
      "model_module_version": "1.5.0",
      "model_name": "HTMLModel",
      "state": {
       "layout": "IPY_MODEL_5efb173dbd3c484f80f08e458d11f7b5",
       "style": "IPY_MODEL_4b6985b548774ec094f432c841382a0e",
       "value": "  0%"
      }
     },
     "5546b35730904da6a9d0ec6d16174121": {
      "model_module": "@jupyter-widgets/controls",
      "model_module_version": "1.5.0",
      "model_name": "HTMLModel",
      "state": {
       "layout": "IPY_MODEL_118f5b6f166841eaa86d60907a14ae90",
       "style": "IPY_MODEL_8ef7b86ecdce4e6592275979fdf5363f",
       "value": "  0%"
      }
     },
     "573a232934724cd8bdf06a021053125a": {
      "model_module": "@jupyter-widgets/base",
      "model_module_version": "1.2.0",
      "model_name": "LayoutModel",
      "state": {}
     },
     "5efb173dbd3c484f80f08e458d11f7b5": {
      "model_module": "@jupyter-widgets/base",
      "model_module_version": "1.2.0",
      "model_name": "LayoutModel",
      "state": {}
     },
     "63c9e6113e024466a2d574dde1662a15": {
      "model_module": "@jupyter-widgets/controls",
      "model_module_version": "1.5.0",
      "model_name": "ProgressStyleModel",
      "state": {
       "description_width": ""
      }
     },
     "77e9b1fc9f2445998a54b68410c15f30": {
      "model_module": "@jupyter-widgets/controls",
      "model_module_version": "1.5.0",
      "model_name": "ProgressStyleModel",
      "state": {
       "description_width": ""
      }
     },
     "8151d8ab71d64966a2b4de76a03e9f75": {
      "model_module": "@jupyter-widgets/base",
      "model_module_version": "1.2.0",
      "model_name": "LayoutModel",
      "state": {}
     },
     "8ef7b86ecdce4e6592275979fdf5363f": {
      "model_module": "@jupyter-widgets/controls",
      "model_module_version": "1.5.0",
      "model_name": "DescriptionStyleModel",
      "state": {
       "description_width": ""
      }
     },
     "b546f15538e444d7a2baf9d8e1b7cd4c": {
      "model_module": "@jupyter-widgets/controls",
      "model_module_version": "1.5.0",
      "model_name": "HTMLModel",
      "state": {
       "layout": "IPY_MODEL_0e38dee61fdc48a0acca2151f176c175",
       "style": "IPY_MODEL_385a2717e6b043e2a1e6517a96c31a82",
       "value": " 54/32768 [1:32:33&lt;651:29:05, 71.69s/it]"
      }
     },
     "bcbe6c67c601422995908e748c9c5544": {
      "model_module": "@jupyter-widgets/controls",
      "model_module_version": "1.5.0",
      "model_name": "ProgressStyleModel",
      "state": {
       "description_width": ""
      }
     },
     "c6e373b5b114423ebc5c1686d7fdc23b": {
      "model_module": "@jupyter-widgets/controls",
      "model_module_version": "1.5.0",
      "model_name": "FloatProgressModel",
      "state": {
       "layout": "IPY_MODEL_516a82435c1343ce97c10e8a0dd02800",
       "max": 1024,
       "style": "IPY_MODEL_63c9e6113e024466a2d574dde1662a15"
      }
     },
     "cfeca223d49a407a9f79f0d90c487502": {
      "model_module": "@jupyter-widgets/controls",
      "model_module_version": "1.5.0",
      "model_name": "HTMLModel",
      "state": {
       "layout": "IPY_MODEL_8151d8ab71d64966a2b4de76a03e9f75",
       "style": "IPY_MODEL_1406b025b5da4df086c6c3583a1510d1",
       "value": "  0%"
      }
     },
     "d29bbfe4cbaf44dd8bbf0a6fb598a59b": {
      "model_module": "@jupyter-widgets/controls",
      "model_module_version": "1.5.0",
      "model_name": "HBoxModel",
      "state": {
       "children": [
        "IPY_MODEL_5316611fa17742a683629a7109b219c7",
        "IPY_MODEL_e7044d0c72e04933b2cfde2721206189",
        "IPY_MODEL_f4fa4361f6a34e59b6ab15f82c951a14"
       ],
       "layout": "IPY_MODEL_f5232edcbccd4833813825191d4a1830"
      }
     },
     "dcf4ecb588654bdabd20bfa885a5c13c": {
      "model_module": "@jupyter-widgets/controls",
      "model_module_version": "1.5.0",
      "model_name": "FloatProgressModel",
      "state": {
       "bar_style": "danger",
       "layout": "IPY_MODEL_0325ddb5443442c7a46faaef1e014ece",
       "max": 32768,
       "style": "IPY_MODEL_77e9b1fc9f2445998a54b68410c15f30",
       "value": 54
      }
     },
     "e6608ed8b4f74ff89a8a5572849b20db": {
      "model_module": "@jupyter-widgets/base",
      "model_module_version": "1.2.0",
      "model_name": "LayoutModel",
      "state": {}
     },
     "e7044d0c72e04933b2cfde2721206189": {
      "model_module": "@jupyter-widgets/controls",
      "model_module_version": "1.5.0",
      "model_name": "FloatProgressModel",
      "state": {
       "bar_style": "danger",
       "layout": "IPY_MODEL_e6608ed8b4f74ff89a8a5572849b20db",
       "max": 32768,
       "style": "IPY_MODEL_bcbe6c67c601422995908e748c9c5544"
      }
     },
     "f4fa4361f6a34e59b6ab15f82c951a14": {
      "model_module": "@jupyter-widgets/controls",
      "model_module_version": "1.5.0",
      "model_name": "HTMLModel",
      "state": {
       "layout": "IPY_MODEL_fbbfd3a67bc34e5c8277d8cdef77c6ae",
       "style": "IPY_MODEL_05fa93376f2a40ac8cf056dd93b785ac",
       "value": " 0/32768 [00:13&lt;?, ?it/s]"
      }
     },
     "f5232edcbccd4833813825191d4a1830": {
      "model_module": "@jupyter-widgets/base",
      "model_module_version": "1.2.0",
      "model_name": "LayoutModel",
      "state": {}
     },
     "fbbfd3a67bc34e5c8277d8cdef77c6ae": {
      "model_module": "@jupyter-widgets/base",
      "model_module_version": "1.2.0",
      "model_name": "LayoutModel",
      "state": {}
     }
    },
    "version_major": 2,
    "version_minor": 0
   }
  }
 },
 "nbformat": 4,
 "nbformat_minor": 4
}
