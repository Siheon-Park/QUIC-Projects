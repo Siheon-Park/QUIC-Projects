{
 "metadata": {
  "language_info": {
   "codemirror_mode": {
    "name": "ipython",
    "version": 3
   },
   "file_extension": ".py",
   "mimetype": "text/x-python",
   "name": "python",
   "nbconvert_exporter": "python",
   "pygments_lexer": "ipython3",
   "version": "3.8.5-final"
  },
  "orig_nbformat": 2,
  "kernelspec": {
   "name": "python3",
   "display_name": "Python 3.8.5 64-bit ('quic': conda)",
   "metadata": {
    "interpreter": {
     "hash": "4c10b05102e667790b18feccff0651fee1053c29cefc9160c2b95b29d2a2a39b"
    }
   }
  }
 },
 "nbformat": 4,
 "nbformat_minor": 2,
 "cells": [
  {
   "cell_type": "code",
   "execution_count": 1,
   "metadata": {},
   "outputs": [],
   "source": [
    "import sys\n",
    "quic_path = '/home/quic/QUIC-Projects'\n",
    "if not quic_path in sys.path:\n",
    "    sys.path.append(quic_path)"
   ]
  },
  {
   "cell_type": "code",
   "execution_count": 26,
   "metadata": {},
   "outputs": [],
   "source": [
    "from custom_qiskit_v3_1.datageneration import Sklearn_DataLoader\n",
    "from custom_qiskit_v3_1.classifier import Kernel, BinarySVM\n",
    "import numpy as np \n",
    "from matplotlib import pyplot as plt \n",
    "from tqdm.notebook import tqdm\n",
    "\n",
    "dl = Sklearn_DataLoader('iris', labels=(0,1), mean=0)\n",
    "X, y, _, _ = dl(100, 0)\n",
    "\n",
    "Cs = np.logspace(-8, 8, 100)"
   ]
  },
  {
   "cell_type": "code",
   "execution_count": 29,
   "metadata": {},
   "outputs": [
    {
     "output_type": "stream",
     "name": "stdout",
     "text": [
      "     pcost       dcost       gap    pres   dres\n 0:  2.1653e+07 -2.5371e+09  3e+09  8e-18  5e-11\n 1:  7.0865e+06 -1.7933e+08  2e+08  1e-16  6e-11\n 2:  9.1914e+05 -2.0777e+07  2e+07  1e-16  6e-11\n 3: -3.7149e+05 -2.6680e+06  2e+06  1e-16  6e-11\n 4: -5.3807e+05 -1.0845e+06  5e+05  2e-16  6e-11\n 5: -6.5734e+05 -8.9508e+05  2e+05  2e-16  8e-11\n 6: -6.9848e+05 -8.2011e+05  1e+05  2e-16  9e-11\n 7: -7.2832e+05 -7.6936e+05  4e+04  2e-16  1e-10\n 8: -7.4186e+05 -7.5284e+05  1e+04  2e-16  1e-10\n 9: -7.4528e+05 -7.4744e+05  2e+03  2e-16  1e-10\n10: -7.4575e+05 -7.4665e+05  9e+02  2e-16  1e-10\n11: -7.4600e+05 -7.4629e+05  3e+02  2e-16  1e-10\n12: -7.4611e+05 -7.4613e+05  2e+01  2e-16  1e-10\n13: -7.4612e+05 -7.4612e+05  2e-01  2e-16  1e-10\nOptimal solution found.\n"
     ]
    },
    {
     "output_type": "execute_result",
     "data": {
      "text/plain": [
       "0.63"
      ]
     },
     "metadata": {},
     "execution_count": 29
    }
   ],
   "source": [
    "kernel = Kernel('Pow2')\n",
    "svm = BinarySVM(kernel=kernel, C=10000, mutation='REDUCED_SVM')\n",
    "svm.fit(X, y)\n",
    "svm.accuracy(X, y)"
   ]
  },
  {
   "cell_type": "code",
   "execution_count": null,
   "metadata": {},
   "outputs": [],
   "source": []
  }
 ]
}