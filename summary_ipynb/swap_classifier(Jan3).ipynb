{
 "metadata": {
  "language_info": {
   "codemirror_mode": {
    "name": "ipython",
    "version": 3
   },
   "file_extension": ".py",
   "mimetype": "text/x-python",
   "name": "python",
   "nbconvert_exporter": "python",
   "pygments_lexer": "ipython3",
   "version": "3.8.5-final"
  },
  "orig_nbformat": 2,
  "kernelspec": {
   "name": "python3",
   "display_name": "Python 3.8.5 64-bit ('quic': conda)",
   "metadata": {
    "interpreter": {
     "hash": "4c10b05102e667790b18feccff0651fee1053c29cefc9160c2b95b29d2a2a39b"
    }
   }
  }
 },
 "nbformat": 4,
 "nbformat_minor": 2,
 "cells": [
  {
   "cell_type": "code",
   "execution_count": 1,
   "metadata": {},
   "outputs": [
    {
     "output_type": "execute_result",
     "data": {
      "text/plain": [
       "['/home/quic/QUIC-Projects/summary_ipynb',\n",
       " '/home/quic/.vscode-server/extensions/ms-toolsai.jupyter-2020.12.414227025/pythonFiles/vscode_datascience_helpers/../.does-not-exist',\n",
       " '/home/quic/.vscode-server/extensions/ms-toolsai.jupyter-2020.12.414227025/pythonFiles',\n",
       " '/home/quic/.vscode-server/extensions/ms-toolsai.jupyter-2020.12.414227025/pythonFiles/lib/python',\n",
       " '/home/quic/anaconda3/envs/quic/lib/python38.zip',\n",
       " '/home/quic/anaconda3/envs/quic/lib/python3.8',\n",
       " '/home/quic/anaconda3/envs/quic/lib/python3.8/lib-dynload',\n",
       " '',\n",
       " '/home/quic/anaconda3/envs/quic/lib/python3.8/site-packages',\n",
       " '/home/quic/anaconda3/envs/quic/lib/python3.8/site-packages/IPython/extensions',\n",
       " '/home/quic/.ipython',\n",
       " '/home/quic/QUIC-Projects']"
      ]
     },
     "metadata": {},
     "execution_count": 1
    }
   ],
   "source": [
    "import sys\n",
    "import os\n",
    "from pathlib import Path\n",
    "sys.path.append(os.path.join(Path.home(), 'QUIC-Projects'))\n",
    "sys.path"
   ]
  },
  {
   "cell_type": "code",
   "execution_count": 4,
   "metadata": {},
   "outputs": [],
   "source": [
    "from custom_qiskit_v3_1.datageneration import Sklearn_DataLoader\n",
    "from sklearn.datasets import load_iris\n",
    "dl = Sklearn_DataLoader('iris', labels=(0,1))\n",
    "X, y, Xt, yt = dl(2**6, 0)\n"
   ]
  },
  {
   "cell_type": "code",
   "execution_count": 5,
   "metadata": {},
   "outputs": [
    {
     "output_type": "execute_result",
     "data": {
      "text/plain": [
       "array([0, 1])"
      ]
     },
     "metadata": {},
     "execution_count": 5
    }
   ],
   "source": [
    "dl.lb.classes_"
   ]
  },
  {
   "cell_type": "code",
   "execution_count": null,
   "metadata": {},
   "outputs": [],
   "source": []
  }
 ]
}