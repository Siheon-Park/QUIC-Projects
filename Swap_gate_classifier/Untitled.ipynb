{
 "cells": [
  {
   "cell_type": "code",
   "execution_count": 1,
   "metadata": {},
   "outputs": [],
   "source": [
    "%matplotlib inline\n",
    "import numpy as np\n",
    "import matplotlib.pyplot as plt\n",
    "from qiskit import QuantumRegister, QuantumCircuit, ClassicalRegister\n",
    "from qiskit import Aer\n"
   ]
  },
  {
   "cell_type": "code",
   "execution_count": 2,
   "metadata": {},
   "outputs": [
    {
     "output_type": "execute_result",
     "data": {
      "text/plain": "<AccountProvider for IBMQ(hub='ibm-q', group='open', project='main')>"
     },
     "metadata": {},
     "execution_count": 2
    }
   ],
   "source": [
    "from qiskit import IBMQ\n",
    "\n",
    "IBMQ.load_account()"
   ]
  },
  {
   "cell_type": "code",
   "execution_count": 3,
   "metadata": {},
   "outputs": [
    {
     "output_type": "display_data",
     "data": {
      "text/plain": "VBox(children=(HTML(value=''), IntProgress(value=0, bar_style='info')))",
      "application/vnd.jupyter.widget-view+json": {
       "version_major": 2,
       "version_minor": 0,
       "model_id": "e161093b338a499eb25efd1bbffb9bf9"
      }
     },
     "metadata": {}
    }
   ],
   "source": [
    "import numpy as np\n",
    "from qiskit.tools.parallel import parallel_map\n",
    "import qiskit.tools.jupyter\n",
    "\n",
    "%qiskit_progress_bar\n",
    "parallel_map(np.sin, np.linspace(0,10,100));"
   ]
  },
  {
   "cell_type": "code",
   "execution_count": 4,
   "metadata": {},
   "outputs": [
    {
     "output_type": "display_data",
     "data": {
      "text/plain": "<IPython.core.display.HTML object>",
      "text/html": "<h3>Version Information</h3><table><tr><th>Qiskit Software</th><th>Version</th></tr><tr><td>Qiskit</td><td>0.20.0</td></tr><tr><td>Terra</td><td>0.15.1</td></tr><tr><td>Aer</td><td>0.6.1</td></tr><tr><td>Ignis</td><td>0.4.0</td></tr><tr><td>Aqua</td><td>0.7.5</td></tr><tr><td>IBM Q Provider</td><td>0.8.0</td></tr><tr><th>System information</th></tr><tr><td>Python</td><td>3.8.3 (default, Jul  2 2020, 11:26:31) \n[Clang 10.0.0 ]</td></tr><tr><td>OS</td><td>Darwin</td></tr><tr><td>CPUs</td><td>6</td></tr><tr><td>Memory (Gb)</td><td>16.0</td></tr><tr><td colspan='2'>Sun Sep 06 15:21:58 2020 KST</td></tr></table>"
     },
     "metadata": {}
    }
   ],
   "source": [
    "import qiskit.tools.jupyter\n",
    "%qiskit_version_table"
   ]
  },
  {
   "cell_type": "code",
   "execution_count": 5,
   "metadata": {
    "tags": []
   },
   "outputs": [
    {
     "output_type": "stream",
     "name": "stderr",
     "text": "ibmqfactory.load_account:WARNING:2020-09-06 15:22:13,584: Credentials are already in use. The existing account in the session will be replaced.\n"
    },
    {
     "output_type": "display_data",
     "data": {
      "text/plain": "VBox(children=(HTML(value=\"<h1 style='color:#ffffff;background-color:#000000;padding-top: 1%;padding-bottom: 1…",
      "application/vnd.jupyter.widget-view+json": {
       "version_major": 2,
       "version_minor": 0,
       "model_id": "1435ef355c35428889bab71719993f6f"
      }
     },
     "metadata": {}
    },
    {
     "output_type": "execute_result",
     "data": {
      "text/plain": "<IBMQBackend('ibmq_vigo') from IBMQ(hub='ibm-q', group='open', project='main')>"
     },
     "metadata": {},
     "execution_count": 5
    }
   ],
   "source": [
    "from qiskit import IBMQ\n",
    "import qiskit.tools.jupyter\n",
    "%matplotlib inline\n",
    "\n",
    "IBMQ.load_account()\n",
    "provider = IBMQ.get_provider(hub='ibm-q')\n",
    "backend = provider.get_backend('ibmq_vigo')\n",
    "backend\n"
   ]
  },
  {
   "cell_type": "code",
   "execution_count": 6,
   "metadata": {},
   "outputs": [
    {
     "output_type": "display_data",
     "data": {
      "text/plain": "Accordion(children=(VBox(layout=Layout(max_width='710px', min_width='710px')),), layout=Layout(max_height='500…",
      "application/vnd.jupyter.widget-view+json": {
       "version_major": 2,
       "version_minor": 0,
       "model_id": "debaa55bbdeb44739cc3acc5843345ec"
      }
     },
     "metadata": {}
    },
    {
     "output_type": "display_data",
     "data": {
      "text/plain": "<IPython.core.display.Javascript object>",
      "application/javascript": "$('div.job_widget')\n        .detach()\n        .appendTo($('#header'))\n        .css({\n            'z-index': 999,\n             'position': 'fixed',\n            'box-shadow': '5px 5px 5px -3px black',\n            'opacity': 0.95,\n            'float': 'left,'\n        })\n        "
     },
     "metadata": {}
    }
   ],
   "source": [
    "import qiskit.tools.jupyter\n",
    "%qiskit_job_watcher"
   ]
  },
  {
   "cell_type": "code",
   "execution_count": 7,
   "metadata": {},
   "outputs": [
    {
     "output_type": "display_data",
     "data": {
      "text/plain": "VBox(children=(HTML(value=\"<h2 style ='color:#ffffff; background-color:#000000;padding-top: 1%; padding-bottom…",
      "application/vnd.jupyter.widget-view+json": {
       "version_major": 2,
       "version_minor": 0,
       "model_id": "ca2a773b53074e1297d141b98e97e544"
      }
     },
     "metadata": {}
    }
   ],
   "source": [
    "%qiskit_backend_overview"
   ]
  },
  {
   "cell_type": "code",
   "execution_count": 8,
   "metadata": {
    "tags": []
   },
   "outputs": [
    {
     "output_type": "stream",
     "name": "stdout",
     "text": "ibmq_vigo\n=========\nConfiguration\n-------------\n    n_qubits: 5\n    operational: True\n    status_msg: active\n    pending_jobs: 30\n    backend_version: 1.2.1\n    basis_gates: ['id', 'u1', 'u2', 'u3', 'cx']\n    local: False\n    simulator: False\n    coupling_map: [[0, 1], [1, 0], [1, 2], [1, 3], [2, 1], [3, 1], [3, 4], [4, 3]]\n    conditional: False\n    credits_required: True\n    url: None\n    backend_name: ibmq_vigo\n    memory: True\n    max_shots: 8192\n    allow_object_storage: True\n    meas_map: [[0, 1, 2, 3, 4]]\n    description: 5 qubit device Vigo\n    allow_q_object: True\n    online_date: 2019-07-03 04:00:00+00:00\n    sample_name: Giraffe\n    open_pulse: False\n    quantum_volume: 16\n    max_experiments: 75\n    n_registers: 1\n\nQubits [Name / Freq / T1 / T2 / U1 err / U2 err / U3 err / Readout err]\n-----------------------------------------------------------------------\n    Q0 / 4.79656 GHz / 116.66327 us / 14.35426 us / 0 / 0.00043 / 0.00087 / -0.31157\n    Q1 / 4.94013 GHz / 101.27941 us / 111.03377 us / 0 / 0.0005 / 0.00101 / -0.30543\n    Q2 / 4.83351 GHz / 104.00197 us / 137.18171 us / 0 / 0.00044 / 0.00087 / -0.31029\n    Q3 / 4.80797 GHz / 129.96663 us / 132.67377 us / 0 / 0.00056 / 0.00113 / -0.31069\n    Q4 / 4.74966 GHz / 102.52365 us / 55.19069 us / 0 / 0.00043 / 0.00086 / -0.3123\n\nMulti-Qubit Gates [Name / Type / Gate Error]\n--------------------------------------------\n    cx0_1 / cx / 0.01056\n    cx1_0 / cx / 0.01056\n    cx1_2 / cx / 0.00684\n    cx1_3 / cx / 0.00995\n    cx2_1 / cx / 0.00684\n    cx3_1 / cx / 0.00995\n    cx3_4 / cx / 0.0062\n    cx4_3 / cx / 0.0062\n"
    }
   ],
   "source": [
    "from qiskit.tools import backend_monitor\n",
    "backend_monitor(backend)"
   ]
  },
  {
   "cell_type": "code",
   "execution_count": 11,
   "metadata": {},
   "outputs": [
    {
     "data": {
      "text/plain": [
       "['__name__',\n",
       " '__doc__',\n",
       " '__package__',\n",
       " '__loader__',\n",
       " '__spec__',\n",
       " '__path__',\n",
       " '__file__',\n",
       " '__cached__',\n",
       " '__builtins__',\n",
       " 't',\n",
       " 's',\n",
       " 'h',\n",
       " 'HGate',\n",
       " 'CHGate',\n",
       " 'i',\n",
       " 'IGate',\n",
       " 'ms',\n",
       " 'MSGate',\n",
       " 'p',\n",
       " 'PhaseGate',\n",
       " 'CPhaseGate',\n",
       " 'MCPhaseGate',\n",
       " 'r',\n",
       " 'RGate',\n",
       " 'rx',\n",
       " 'RXGate',\n",
       " 'CRXGate',\n",
       " 'rxx',\n",
       " 'RXXGate',\n",
       " 'ry',\n",
       " 'RYGate',\n",
       " 'CRYGate',\n",
       " 'ryy',\n",
       " 'RYYGate',\n",
       " 'rz',\n",
       " 'RZGate',\n",
       " 'CRZGate',\n",
       " 'rzz',\n",
       " 'RZZGate',\n",
       " 'rzx',\n",
       " 'RZXGate',\n",
       " 'SGate',\n",
       " 'SdgGate',\n",
       " 'swap',\n",
       " 'SwapGate',\n",
       " 'CSwapGate',\n",
       " 'iswap',\n",
       " 'iSwapGate',\n",
       " 'sx',\n",
       " 'SXGate',\n",
       " 'SXdgGate',\n",
       " 'CSXGate',\n",
       " 'dcx',\n",
       " 'DCXGate',\n",
       " 'TGate',\n",
       " 'TdgGate',\n",
       " 'u',\n",
       " 'UGate',\n",
       " 'CUGate',\n",
       " 'u1',\n",
       " 'U1Gate',\n",
       " 'CU1Gate',\n",
       " 'MCU1Gate',\n",
       " 'u2',\n",
       " 'U2Gate',\n",
       " 'u3',\n",
       " 'U3Gate',\n",
       " 'CU3Gate',\n",
       " 'x',\n",
       " 'XGate',\n",
       " 'CXGate',\n",
       " 'CCXGate',\n",
       " 'C3XGate',\n",
       " 'C4XGate',\n",
       " 'RCCXGate',\n",
       " 'RC3XGate',\n",
       " 'MCXGate',\n",
       " 'MCXGrayCode',\n",
       " 'MCXRecursive',\n",
       " 'MCXVChain',\n",
       " 'y',\n",
       " 'YGate',\n",
       " 'CYGate',\n",
       " 'z',\n",
       " 'ZGate',\n",
       " 'CZGate',\n",
       " 'multi_control_rotation_gates',\n",
       " 'mcrx',\n",
       " 'mcry',\n",
       " 'mcrz',\n",
       " 'boolean_logical_gates',\n",
       " 'logical_and',\n",
       " 'logical_or',\n",
       " 'Cu1Gate',\n",
       " 'Cu3Gate',\n",
       " 'CnotGate',\n",
       " 'ToffoliGate',\n",
       " 'FredkinGate',\n",
       " 'IdGate',\n",
       " 'CrxGate',\n",
       " 'CryGate',\n",
       " 'CrzGate',\n",
       " 'CyGate',\n",
       " 'CzGate']"
      ]
     },
     "execution_count": 11,
     "metadata": {},
     "output_type": "execute_result"
    }
   ],
   "source": [
    "import qiskit.circuit.library.standard_gates\n",
    "qiskit.circuit.library.standard_gates.__dir__()"
   ]
  },
  {
   "cell_type": "code",
   "execution_count": null,
   "metadata": {},
   "outputs": [],
   "source": []
  }
 ],
 "metadata": {
  "kernelspec": {
   "display_name": "Python 3",
   "language": "python",
   "name": "python3"
  },
  "language_info": {
   "codemirror_mode": {
    "name": "ipython",
    "version": 3
   },
   "file_extension": ".py",
   "mimetype": "text/x-python",
   "name": "python",
   "nbconvert_exporter": "python",
   "pygments_lexer": "ipython3",
   "version": "3.8.3-final"
  }
 },
 "nbformat": 4,
 "nbformat_minor": 4
}