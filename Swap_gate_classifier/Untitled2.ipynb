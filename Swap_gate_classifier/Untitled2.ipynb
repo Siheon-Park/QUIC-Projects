{
 "cells": [
  {
   "cell_type": "code",
   "execution_count": 1,
   "metadata": {},
   "outputs": [
    {
     "ename": "ModuleNotFoundError",
     "evalue": "No module named 'dc_qiskit_swaptest_classifier'",
     "output_type": "error",
     "traceback": [
      "\u001b[0;31m---------------------------------------------------------------------------\u001b[0m",
      "\u001b[0;31mModuleNotFoundError\u001b[0m                       Traceback (most recent call last)",
      "\u001b[0;32m<ipython-input-1-ee8371e3f5ae>\u001b[0m in \u001b[0;36m<module>\u001b[0;34m\u001b[0m\n\u001b[0;32m----> 1\u001b[0;31m \u001b[0;32mimport\u001b[0m \u001b[0mdc_qiskit_swaptest_classifier\u001b[0m\u001b[0;34m.\u001b[0m\u001b[0mlib_circuits\u001b[0m \u001b[0;32mas\u001b[0m \u001b[0mcc\u001b[0m\u001b[0;34m\u001b[0m\u001b[0;34m\u001b[0m\u001b[0m\n\u001b[0m",
      "\u001b[0;31mModuleNotFoundError\u001b[0m: No module named 'dc_qiskit_swaptest_classifier'"
     ]
    }
   ],
   "source": [
    "import dc_qiskit_swaptest_classifier.lib_circuits as cc"
   ]
  },
  {
   "cell_type": "code",
   "execution_count": 2,
   "metadata": {},
   "outputs": [
    {
     "data": {
      "text/plain": [
       "['/Users/shaun/Swap_gate_classifier',\n",
       " '/Users/shaun/dc_qiskit_swaptest_classifier',\n",
       " '/Users/shaun/experiment_results',\n",
       " '/Users/shaun/anaconda3/lib/python38.zip',\n",
       " '/Users/shaun/anaconda3/lib/python3.8',\n",
       " '/Users/shaun/anaconda3/lib/python3.8/lib-dynload',\n",
       " '',\n",
       " '/Users/shaun/anaconda3/lib/python3.8/site-packages',\n",
       " '/Users/shaun/anaconda3/lib/python3.8/site-packages/aeosa',\n",
       " '/Users/shaun/anaconda3/lib/python3.8/site-packages/IPython/extensions',\n",
       " '/Users/shaun/.ipython']"
      ]
     },
     "execution_count": 2,
     "metadata": {},
     "output_type": "execute_result"
    }
   ],
   "source": [
    "import sys\n",
    "sys.path"
   ]
  },
  {
   "cell_type": "code",
   "execution_count": null,
   "metadata": {},
   "outputs": [],
   "source": []
  }
 ],
 "metadata": {
  "kernelspec": {
   "display_name": "Python 3",
   "language": "python",
   "name": "python3"
  },
  "language_info": {
   "codemirror_mode": {
    "name": "ipython",
    "version": 3
   },
   "file_extension": ".py",
   "mimetype": "text/x-python",
   "name": "python",
   "nbconvert_exporter": "python",
   "pygments_lexer": "ipython3",
   "version": "3.8.3"
  }
 },
 "nbformat": 4,
 "nbformat_minor": 4
}
