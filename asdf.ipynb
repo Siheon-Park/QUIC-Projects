{
 "metadata": {
  "language_info": {
   "codemirror_mode": {
    "name": "ipython",
    "version": 3
   },
   "file_extension": ".py",
   "mimetype": "text/x-python",
   "name": "python",
   "nbconvert_exporter": "python",
   "pygments_lexer": "ipython3",
   "version": "3.8.5-final"
  },
  "orig_nbformat": 2,
  "kernelspec": {
   "name": "quic",
   "display_name": "Python (quic)",
   "language": "python"
  }
 },
 "nbformat": 4,
 "nbformat_minor": 2,
 "cells": [
  {
   "cell_type": "code",
   "execution_count": 1,
   "metadata": {},
   "outputs": [],
   "source": [
    "import numpy as np \n",
    "import scipy as sp"
   ]
  },
  {
   "cell_type": "code",
   "execution_count": 2,
   "metadata": {},
   "outputs": [],
   "source": [
    "import sys\n",
    "quic_path = '/home/quic/QUIC-Projects'\n",
    "if not quic_path in sys.path:\n",
    "    sys.path.append(quic_path)"
   ]
  },
  {
   "cell_type": "code",
   "execution_count": 3,
   "metadata": {},
   "outputs": [
    {
     "output_type": "execute_result",
     "data": {
      "text/plain": [
       "     ┌───┐┌─────────────┐                                          ┌───┐»\n",
       "q_0: ┤ H ├┤ P(2.0*x[0]) ├──■────────────────────────────────────■──┤ H ├»\n",
       "     ├───┤├─────────────┤┌─┴─┐┌──────────────────────────────┐┌─┴─┐├───┤»\n",
       "q_1: ┤ H ├┤ P(2.0*x[1]) ├┤ X ├┤ P(2.0*(π - x[0])*(π - x[1])) ├┤ X ├┤ H ├»\n",
       "     └───┘└─────────────┘└───┘└──────────────────────────────┘└───┘└───┘»\n",
       "«     ┌─────────────┐                                          \n",
       "«q_0: ┤ P(2.0*x[0]) ├──■────────────────────────────────────■──\n",
       "«     ├─────────────┤┌─┴─┐┌──────────────────────────────┐┌─┴─┐\n",
       "«q_1: ┤ P(2.0*x[1]) ├┤ X ├┤ P(2.0*(π - x[0])*(π - x[1])) ├┤ X ├\n",
       "«     └─────────────┘└───┘└──────────────────────────────┘└───┘"
      ],
      "text/html": "<pre style=\"word-wrap: normal;white-space: pre;background: #fff0;line-height: 1.1;font-family: &quot;Courier New&quot;,Courier,monospace\">     ┌───┐┌─────────────┐                                          ┌───┐»\nq_0: ┤ H ├┤ P(2.0*x[0]) ├──■────────────────────────────────────■──┤ H ├»\n     ├───┤├─────────────┤┌─┴─┐┌──────────────────────────────┐┌─┴─┐├───┤»\nq_1: ┤ H ├┤ P(2.0*x[1]) ├┤ X ├┤ P(2.0*(π - x[0])*(π - x[1])) ├┤ X ├┤ H ├»\n     └───┘└─────────────┘└───┘└──────────────────────────────┘└───┘└───┘»\n«     ┌─────────────┐                                          \n«q_0: ┤ P(2.0*x[0]) ├──■────────────────────────────────────■──\n«     ├─────────────┤┌─┴─┐┌──────────────────────────────┐┌─┴─┐\n«q_1: ┤ P(2.0*x[1]) ├┤ X ├┤ P(2.0*(π - x[0])*(π - x[1])) ├┤ X ├\n«     └─────────────┘└───┘└──────────────────────────────┘└───┘</pre>"
     },
     "metadata": {},
     "execution_count": 3
    }
   ],
   "source": [
    "from qiskit.circuit.library import PauliFeatureMap\n",
    "from qiskit.circuit import QuantumCircuit\n",
    "qc = PauliFeatureMap(feature_dimension=2, reps=2)\n",
    "qc.draw()"
   ]
  },
  {
   "cell_type": "code",
   "execution_count": 4,
   "metadata": {},
   "outputs": [
    {
     "output_type": "execute_result",
     "data": {
      "text/plain": [
       "     ┌───┐┌─────────────────────┐                                 ┌───┐»\n",
       "q_0: ┤ H ├┤ P(2.00000000000000) ├──■───────────────────────────■──┤ H ├»\n",
       "     ├───┤├─────────────────────┤┌─┴─┐┌─────────────────────┐┌─┴─┐├───┤»\n",
       "q_1: ┤ H ├┤ P(2.00000000000000) ├┤ X ├┤ P(9.17283818781954) ├┤ X ├┤ H ├»\n",
       "     └───┘└─────────────────────┘└───┘└─────────────────────┘└───┘└───┘»\n",
       "«     ┌─────────────────────┐                                 \n",
       "«q_0: ┤ P(2.00000000000000) ├──■───────────────────────────■──\n",
       "«     ├─────────────────────┤┌─┴─┐┌─────────────────────┐┌─┴─┐\n",
       "«q_1: ┤ P(2.00000000000000) ├┤ X ├┤ P(9.17283818781954) ├┤ X ├\n",
       "«     └─────────────────────┘└───┘└─────────────────────┘└───┘"
      ],
      "text/html": "<pre style=\"word-wrap: normal;white-space: pre;background: #fff0;line-height: 1.1;font-family: &quot;Courier New&quot;,Courier,monospace\">     ┌───┐┌─────────────────────┐                                 ┌───┐»\nq_0: ┤ H ├┤ P(2.00000000000000) ├──■───────────────────────────■──┤ H ├»\n     ├───┤├─────────────────────┤┌─┴─┐┌─────────────────────┐┌─┴─┐├───┤»\nq_1: ┤ H ├┤ P(2.00000000000000) ├┤ X ├┤ P(9.17283818781954) ├┤ X ├┤ H ├»\n     └───┘└─────────────────────┘└───┘└─────────────────────┘└───┘└───┘»\n«     ┌─────────────────────┐                                 \n«q_0: ┤ P(2.00000000000000) ├──■───────────────────────────■──\n«     ├─────────────────────┤┌─┴─┐┌─────────────────────┐┌─┴─┐\n«q_1: ┤ P(2.00000000000000) ├┤ X ├┤ P(9.17283818781954) ├┤ X ├\n«     └─────────────────────┘└───┘└─────────────────────┘└───┘</pre>"
     },
     "metadata": {},
     "execution_count": 4
    }
   ],
   "source": [
    "qc.bind_parameters({x:1 for x in list(qc.parameters)}).draw()"
   ]
  },
  {
   "cell_type": "code",
   "execution_count": 5,
   "metadata": {},
   "outputs": [
    {
     "output_type": "execute_result",
     "data": {
      "text/plain": [
       "{Parameter(x[0]), Parameter(x[1]), Parameter(y[0]), Parameter(y[1])}"
      ]
     },
     "metadata": {},
     "execution_count": 5
    }
   ],
   "source": [
    "G = PauliFeatureMap(feature_dimension=2, reps=2, parameter_prefix='x').to_instruction()\n",
    "Gdg = PauliFeatureMap(feature_dimension=2, reps=2, parameter_prefix='y').to_instruction().inverse()\n",
    "circ = QuantumCircuit(2)\n",
    "circ.append(G, (0, 1))\n",
    "circ.append(Gdg, qargs=(0,1))\n",
    "circ.draw()\n",
    "circ.parameters"
   ]
  },
  {
   "cell_type": "code",
   "execution_count": 6,
   "metadata": {},
   "outputs": [
    {
     "output_type": "execute_result",
     "data": {
      "text/plain": [
       "1.0000000000000009"
      ]
     },
     "metadata": {},
     "execution_count": 6
    }
   ],
   "source": [
    "qc = PauliFeatureMap(feature_dimension=2, reps=2)\n",
    "qc = qc.assign_parameters({list(qc.parameters)[i]:1 for i in range(2)})\n",
    "from qiskit import execute\n",
    "from qiskit.providers.aer import StatevectorSimulator\n",
    "vec = execute(qc, StatevectorSimulator()).result().get_statevector()\n",
    "np.abs(np.vdot(vec, vec))**2"
   ]
  },
  {
   "cell_type": "code",
   "execution_count": 7,
   "metadata": {},
   "outputs": [
    {
     "output_type": "execute_result",
     "data": {
      "text/plain": [
       "(2+0j)"
      ]
     },
     "metadata": {},
     "execution_count": 7
    }
   ],
   "source": [
    "import numpy as np\n",
    "a = np.array([1, 1j])\n",
    "np.vdot(a, a)"
   ]
  },
  {
   "cell_type": "code",
   "execution_count": 8,
   "metadata": {},
   "outputs": [
    {
     "output_type": "execute_result",
     "data": {
      "text/plain": [
       "'000'"
      ]
     },
     "metadata": {},
     "execution_count": 8
    }
   ],
   "source": [
    "from itertools import product\n",
    "a = list(product((0,1), repeat=3))\n",
    "''.join(map(str, a[0]))"
   ]
  },
  {
   "cell_type": "code",
   "execution_count": 9,
   "metadata": {},
   "outputs": [],
   "source": [
    "def _process_counts(n, dic, *count):\n",
    "    temp = 0\n",
    "    for bin in product((0, 1), repeat=n):\n",
    "        val1 = (-1)**sum([bin[c] for c in count])\n",
    "        val2 = dic.get(''.join(map(str, bin)), 0)\n",
    "        temp += val1*val2\n",
    "    return temp"
   ]
  },
  {
   "cell_type": "code",
   "execution_count": 10,
   "metadata": {},
   "outputs": [
    {
     "output_type": "execute_result",
     "data": {
      "text/plain": [
       "-103"
      ]
     },
     "metadata": {},
     "execution_count": 10
    }
   ],
   "source": [
    "import numpy as np \n",
    "np.random.seed(10)\n",
    "dic = {k:np.random.randint(0, 100) for k in map(''.join, product('01', repeat=3))}\n",
    "_process_counts(3, dic, 0)"
   ]
  },
  {
   "cell_type": "code",
   "execution_count": 11,
   "metadata": {},
   "outputs": [
    {
     "output_type": "execute_result",
     "data": {
      "text/plain": [
       "[Qubit(QuantumRegister(4, 'q3'), 0),\n",
       " Qubit(QuantumRegister(4, 'q3'), 1),\n",
       " Qubit(QuantumRegister(4, 'q3'), 2),\n",
       " Qubit(QuantumRegister(4, 'q3'), 3)]"
      ]
     },
     "metadata": {},
     "execution_count": 11
    }
   ],
   "source": [
    "from qiskit.circuit import QuantumRegister\n",
    "list(QuantumRegister(4))"
   ]
  },
  {
   "cell_type": "code",
   "execution_count": 12,
   "metadata": {},
   "outputs": [
    {
     "output_type": "execute_result",
     "data": {
      "text/plain": [
       "False"
      ]
     },
     "metadata": {},
     "execution_count": 12
    }
   ],
   "source": [
    "from qiskit.aqua.components.feature_maps import FeatureMap\n",
    "from qiskit.circuit.library import ZZFeatureMap\n",
    "issubclass(FeatureMap, QuantumCircuit)"
   ]
  },
  {
   "cell_type": "code",
   "execution_count": 13,
   "metadata": {},
   "outputs": [
    {
     "output_type": "execute_result",
     "data": {
      "text/plain": [
       "[]"
      ]
     },
     "metadata": {},
     "execution_count": 13
    }
   ],
   "source": [
    "from qiskit.circuit import Parameter\n",
    "qc = QuantumCircuit(4)\n",
    "#qc.rx(Parameter('t'), 0)\n",
    "qc.to_gate().params"
   ]
  },
  {
   "cell_type": "code",
   "execution_count": 14,
   "metadata": {},
   "outputs": [
    {
     "output_type": "execute_result",
     "data": {
      "text/plain": [
       "     ┌──────────┐┌──────────┐\n",
       "q_0: ┤ RX(θ[0]) ├┤ RZ(θ[1]) ├\n",
       "     └──────────┘└──────────┘"
      ],
      "text/html": "<pre style=\"word-wrap: normal;white-space: pre;background: #fff0;line-height: 1.1;font-family: &quot;Courier New&quot;,Courier,monospace\">     ┌──────────┐┌──────────┐\nq_0: ┤ RX(θ[0]) ├┤ RZ(θ[1]) ├\n     └──────────┘└──────────┘</pre>"
     },
     "metadata": {},
     "execution_count": 14
    }
   ],
   "source": [
    "from qiskit.circuit.library import TwoLocal\n",
    "TwoLocal(1, ['rx', 'rz'], reps=1, skip_final_rotation_layer=True).draw()"
   ]
  },
  {
   "cell_type": "code",
   "execution_count": 15,
   "metadata": {},
   "outputs": [
    {
     "output_type": "execute_result",
     "data": {
      "text/plain": [
       "[Qubit(QuantumRegister(1, 'q4'), 0),\n",
       " Qubit(QuantumRegister(2, 'q5'), 0),\n",
       " Qubit(QuantumRegister(2, 'q5'), 1)]"
      ]
     },
     "metadata": {},
     "execution_count": 15
    }
   ],
   "source": [
    "list(QuantumRegister(1))+list(QuantumRegister(2))"
   ]
  },
  {
   "cell_type": "code",
   "execution_count": 21,
   "metadata": {},
   "outputs": [
    {
     "output_type": "execute_result",
     "data": {
      "text/plain": [
       "     ┌───┐          \n",
       "q_0: ┤ H ├──■───────\n",
       "     └───┘┌─┴─┐     \n",
       "q_1: ─────┤ X ├──■──\n",
       "          └───┘┌─┴─┐\n",
       "q_2: ──────────┤ X ├\n",
       "               └───┘"
      ],
      "text/html": "<pre style=\"word-wrap: normal;white-space: pre;background: #fff0;line-height: 1.1;font-family: &quot;Courier New&quot;,Courier,monospace\">     ┌───┐          \nq_0: ┤ H ├──■───────\n     └───┘┌─┴─┐     \nq_1: ─────┤ X ├──■──\n          └───┘┌─┴─┐\nq_2: ──────────┤ X ├\n               └───┘</pre>"
     },
     "metadata": {},
     "execution_count": 21
    }
   ],
   "source": [
    "from qiskit.providers.aer import UnitarySimulator, QasmSimulator\n",
    "qc = QuantumCircuit(3)\n",
    "qc.h(0)\n",
    "qc.cx(0, 1)\n",
    "qc.cx(1,2)\n",
    "qc.draw()"
   ]
  },
  {
   "cell_type": "code",
   "execution_count": 26,
   "metadata": {},
   "outputs": [],
   "source": [
    "job = execute(qc, backend=UnitarySimulator())"
   ]
  },
  {
   "cell_type": "code",
   "execution_count": 34,
   "metadata": {},
   "outputs": [
    {
     "output_type": "execute_result",
     "data": {
      "text/plain": [
       "     ┌───┐          ┌────────────────┐┌────────────────┐┌────────────────┐\n",
       "q_0: ┤ H ├──■───────┤1               ├┤1               ├┤1               ├\n",
       "     └───┘┌─┴─┐     │                ││                ││                │\n",
       "q_1: ─────┤ X ├──■──┤2 UCRX(0,1,2,3) ├┤2 UCRX(0,1,2,3) ├┤2 UCRX(0,1,2,3) ├\n",
       "          └───┘┌─┴─┐│                ││                ││                │\n",
       "q_2: ──────────┤ X ├┤0               ├┤0               ├┤0               ├\n",
       "               └───┘└────────────────┘└────────────────┘└────────────────┘"
      ],
      "text/html": "<pre style=\"word-wrap: normal;white-space: pre;background: #fff0;line-height: 1.1;font-family: &quot;Courier New&quot;,Courier,monospace\">     ┌───┐          ┌────────────────┐┌────────────────┐┌────────────────┐\nq_0: ┤ H ├──■───────┤1               ├┤1               ├┤1               ├\n     └───┘┌─┴─┐     │                ││                ││                │\nq_1: ─────┤ X ├──■──┤2 UCRX(0,1,2,3) ├┤2 UCRX(0,1,2,3) ├┤2 UCRX(0,1,2,3) ├\n          └───┘┌─┴─┐│                ││                ││                │\nq_2: ──────────┤ X ├┤0               ├┤0               ├┤0               ├\n               └───┘└────────────────┘└────────────────┘└────────────────┘</pre>"
     },
     "metadata": {},
     "execution_count": 34
    }
   ],
   "source": [
    "qc.ucrx([0, 1, 2, 3], [0,1], 2)\n",
    "qc.draw()"
   ]
  },
  {
   "cell_type": "code",
   "execution_count": 133,
   "metadata": {},
   "outputs": [
    {
     "output_type": "execute_result",
     "data": {
      "text/plain": [
       "     ┌──────────┐┌──────────┐   ┌──────────┐┌──────────┐   ┌──────────┐»\n",
       "q_0: ┤ RY(θ[0]) ├┤ RZ(θ[2]) ├─■─┤ RY(θ[4]) ├┤ RZ(θ[6]) ├─■─┤ RY(θ[8]) ├»\n",
       "     ├──────────┤├──────────┤ │ ├──────────┤├──────────┤ │ ├──────────┤»\n",
       "q_1: ┤ RY(θ[1]) ├┤ RZ(θ[3]) ├─■─┤ RY(θ[5]) ├┤ RZ(θ[7]) ├─■─┤ RY(θ[9]) ├»\n",
       "     └──────────┘└──────────┘   └──────────┘└──────────┘   └──────────┘»\n",
       "q_2: ──────────────────────────────────────────────────────────────────»\n",
       "                                                                       »\n",
       "q_3: ──────────────────────────────────────────────────────────────────»\n",
       "                                                                       »\n",
       "«     ┌───────────┐   ┌───────────┐┌───────────┐┌──────────────┐»\n",
       "«q_0: ┤ RZ(θ[10]) ├─■─┤ RY(θ[12]) ├┤ RZ(θ[14]) ├┤1             ├»\n",
       "«     ├───────────┤ │ ├───────────┤├───────────┤│              │»\n",
       "«q_1: ┤ RZ(θ[11]) ├─■─┤ RY(θ[13]) ├┤ RZ(θ[15]) ├┤2 MULTIPLEXER ├»\n",
       "«     └───────────┘   └───────────┘└───────────┘│              │»\n",
       "«q_2: ──────────────────────────────────────────┤0             ├»\n",
       "«                                               └──────────────┘»\n",
       "«q_3: ──────────────────────────────────────────────────────────»\n",
       "«                                                               »\n",
       "«     ┌──────────────────────────────────────┐   \n",
       "«q_0: ┤1                                     ├─■─\n",
       "«     │                                      │ │ \n",
       "«q_1: ┤2                                     ├─┼─\n",
       "«     │  UCRX(2.6848,1.6574,2.6137,0.023799) │ │ \n",
       "«q_2: ┤                                      ├─X─\n",
       "«     │                                      │ │ \n",
       "«q_3: ┤0                                     ├─X─\n",
       "«     └──────────────────────────────────────┘   "
      ],
      "text/html": "<pre style=\"word-wrap: normal;white-space: pre;background: #fff0;line-height: 1.1;font-family: &quot;Courier New&quot;,Courier,monospace\">     ┌──────────┐┌──────────┐   ┌──────────┐┌──────────┐   ┌──────────┐»\nq_0: ┤ RY(θ[0]) ├┤ RZ(θ[2]) ├─■─┤ RY(θ[4]) ├┤ RZ(θ[6]) ├─■─┤ RY(θ[8]) ├»\n     ├──────────┤├──────────┤ │ ├──────────┤├──────────┤ │ ├──────────┤»\nq_1: ┤ RY(θ[1]) ├┤ RZ(θ[3]) ├─■─┤ RY(θ[5]) ├┤ RZ(θ[7]) ├─■─┤ RY(θ[9]) ├»\n     └──────────┘└──────────┘   └──────────┘└──────────┘   └──────────┘»\nq_2: ──────────────────────────────────────────────────────────────────»\n                                                                       »\nq_3: ──────────────────────────────────────────────────────────────────»\n                                                                       »\n«     ┌───────────┐   ┌───────────┐┌───────────┐┌──────────────┐»\n«q_0: ┤ RZ(θ[10]) ├─■─┤ RY(θ[12]) ├┤ RZ(θ[14]) ├┤1             ├»\n«     ├───────────┤ │ ├───────────┤├───────────┤│              │»\n«q_1: ┤ RZ(θ[11]) ├─■─┤ RY(θ[13]) ├┤ RZ(θ[15]) ├┤2 MULTIPLEXER ├»\n«     └───────────┘   └───────────┘└───────────┘│              │»\n«q_2: ──────────────────────────────────────────┤0             ├»\n«                                               └──────────────┘»\n«q_3: ──────────────────────────────────────────────────────────»\n«                                                               »\n«     ┌──────────────────────────────────────┐   \n«q_0: ┤1                                     ├─■─\n«     │                                      │ │ \n«q_1: ┤2                                     ├─┼─\n«     │  UCRX(2.6848,1.6574,2.6137,0.023799) │ │ \n«q_2: ┤                                      ├─X─\n«     │                                      │ │ \n«q_3: ┤0                                     ├─X─\n«     └──────────────────────────────────────┘   </pre>"
     },
     "metadata": {},
     "execution_count": 133
    }
   ],
   "source": [
    "from qiskit.circuit.library import U3Gate, RXGate, XGate\n",
    "n = 2\n",
    "qc = QuantumCircuit(n+2)\n",
    "qc.compose(TwoLocal(n, ['ry', 'rz'], 'cz'), inplace=True)\n",
    "qc.uc([U3Gate(theta, phi, 0).to_matrix() for theta, phi in np.random.rand(int(2**n), 2)], list(range(n)),n)\n",
    "#qc.ucry(list(np.pi*np.random.rand(int(2**(n-1)))), list(range(n-1)), n-1)\n",
    "#qc.ucrz(list(2*np.pi*np.random.rand(int(2**(n-1)))), list(range(n-1)), n-1)\n",
    "qc.ucrx(list(np.pi*np.random.rand(int(2**n))), list(range(n)), n+1)\n",
    "qc.cswap(0, n, n+1)\n",
    "qc.draw()\n"
   ]
  },
  {
   "cell_type": "code",
   "execution_count": 134,
   "metadata": {},
   "outputs": [
    {
     "output_type": "execute_result",
     "data": {
      "text/plain": [
       "100"
      ]
     },
     "metadata": {},
     "execution_count": 134
    }
   ],
   "source": [
    "from qiskit import transpile\n",
    "transpile(qc, basis_gates=['cx', 'rx', 'ry', 'rz'], optimization_level=3).depth()"
   ]
  },
  {
   "cell_type": "code",
   "execution_count": null,
   "metadata": {},
   "outputs": [],
   "source": []
  },
  {
   "cell_type": "code",
   "execution_count": null,
   "metadata": {},
   "outputs": [],
   "source": []
  }
 ]
}