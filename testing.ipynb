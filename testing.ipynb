{
 "metadata": {
  "language_info": {
   "codemirror_mode": {
    "name": "ipython",
    "version": 3
   },
   "file_extension": ".py",
   "mimetype": "text/x-python",
   "name": "python",
   "nbconvert_exporter": "python",
   "pygments_lexer": "ipython3",
   "version": "3.8.3-final"
  },
  "orig_nbformat": 2,
  "kernelspec": {
   "name": "python_defaultSpec_1600614397793",
   "display_name": "Python 3.8.3 64-bit ('base': conda)"
  }
 },
 "nbformat": 4,
 "nbformat_minor": 2,
 "cells": [
  {
   "cell_type": "code",
   "execution_count": 1,
   "metadata": {},
   "outputs": [],
   "source": [
    "from classifiers2 import Swap_classifier, process\n",
    "from prepare_state import quantum_state\n",
    "from qiskit import Aer, IBMQ, execute\n",
    "import numpy as np\n",
    "import matplotlib.pyplot as plt"
   ]
  },
  {
   "cell_type": "code",
   "execution_count": 2,
   "metadata": {
    "tags": []
   },
   "outputs": [
    {
     "output_type": "stream",
     "name": "stdout",
     "text": "[1, 1j, 0] 0\n[1, (-0-1j), 0] 1\n[1, 1, 1] 0\n"
    },
    {
     "output_type": "execute_result",
     "data": {
      "text/plain": "0.486328125"
     },
     "metadata": {},
     "execution_count": 2
    }
   ],
   "source": [
    "# toy test\n",
    "x1 = [1, 1j, 0]\n",
    "x2 = [1, -1j, 0]\n",
    "x3 = [1, 1, 1]\n",
    "label = [0, 1, 0]\n",
    "weight = [1,1, 1]\n",
    "test = [1,0, 0]\n",
    "\n",
    "datadict = dict()\n",
    "for i, x in enumerate([x1, x2, x3]):\n",
    "    if datadict.get(label[i], None)==None:\n",
    "        datadict[label[i]]=[x]\n",
    "    else:\n",
    "        datadict[label[i]].append(x)\n",
    "    print(x, label[i])\n",
    "\n",
    "classifier = Swap_classifier(datadict, weight, test)\n",
    "swap_qc = classifier.circuit()\n",
    "swap_qc.draw('mpl')\n",
    "job = classifier.execute(Aer.get_backend('qasm_simulator'), optimization_level=3)\n",
    "ZZval = classifier.process()\n",
    "ZZval"
   ]
  },
  {
   "cell_type": "code",
   "execution_count": 3,
   "metadata": {},
   "outputs": [
    {
     "output_type": "execute_result",
     "data": {
      "text/plain": "array([0.03172793, 0.99949654, 0.        ])"
     },
     "metadata": {},
     "execution_count": 3
    }
   ],
   "source": [
    "# two qubit\n",
    "n = 10\n",
    "theta = np.linspace(0, np.pi, 100)\n",
    "testset = np.concatenate(([np.sin(theta)], [np.cos(theta)], [np.zeros(100)]), axis=0).T\n",
    "xset = np.random.rand(n, 3)+1j*np.random.rand(n, 3)\n",
    "label = np.sign(np.abs(xset[:,0])**2 - np.abs(xset[:,1])**2).astype(int)\n",
    "weight = np.ones(n)\n",
    "testset[1]"
   ]
  },
  {
   "cell_type": "code",
   "execution_count": 4,
   "metadata": {},
   "outputs": [
    {
     "output_type": "error",
     "ename": "TypeError",
     "evalue": "__init__() takes from 2 to 4 positional arguments but 5 were given",
     "traceback": [
      "\u001b[0;31m---------------------------------------------------------------------------\u001b[0m",
      "\u001b[0;31mTypeError\u001b[0m                                 Traceback (most recent call last)",
      "\u001b[0;32m<ipython-input-4-46c30fa90144>\u001b[0m in \u001b[0;36m<module>\u001b[0;34m\u001b[0m\n\u001b[1;32m      1\u001b[0m \u001b[0mbackend_simulator\u001b[0m \u001b[0;34m=\u001b[0m \u001b[0mAer\u001b[0m\u001b[0;34m.\u001b[0m\u001b[0mget_backend\u001b[0m\u001b[0;34m(\u001b[0m\u001b[0;34m'qasm_simulator'\u001b[0m\u001b[0;34m)\u001b[0m\u001b[0;34m\u001b[0m\u001b[0;34m\u001b[0m\u001b[0m\n\u001b[0;32m----> 2\u001b[0;31m \u001b[0mqclist\u001b[0m \u001b[0;34m=\u001b[0m \u001b[0;34m[\u001b[0m\u001b[0mSwap_classifier\u001b[0m\u001b[0;34m(\u001b[0m\u001b[0mweight\u001b[0m\u001b[0;34m,\u001b[0m \u001b[0mxset\u001b[0m\u001b[0;34m,\u001b[0m \u001b[0mlabel\u001b[0m\u001b[0;34m,\u001b[0m \u001b[0mtestset\u001b[0m\u001b[0;34m[\u001b[0m\u001b[0mi\u001b[0m\u001b[0;34m]\u001b[0m\u001b[0;34m)\u001b[0m\u001b[0;34m.\u001b[0m\u001b[0mcircuit\u001b[0m\u001b[0;34m(\u001b[0m\u001b[0;34m)\u001b[0m \u001b[0;32mfor\u001b[0m \u001b[0mi\u001b[0m \u001b[0;32min\u001b[0m \u001b[0mrange\u001b[0m\u001b[0;34m(\u001b[0m\u001b[0mlen\u001b[0m\u001b[0;34m(\u001b[0m\u001b[0mtheta\u001b[0m\u001b[0;34m)\u001b[0m\u001b[0;34m)\u001b[0m\u001b[0;34m]\u001b[0m\u001b[0;34m\u001b[0m\u001b[0;34m\u001b[0m\u001b[0m\n\u001b[0m\u001b[1;32m      3\u001b[0m \u001b[0mjobs\u001b[0m \u001b[0;34m=\u001b[0m \u001b[0mexecute\u001b[0m\u001b[0;34m(\u001b[0m\u001b[0mqclist\u001b[0m\u001b[0;34m,\u001b[0m \u001b[0mbackend\u001b[0m\u001b[0;34m=\u001b[0m\u001b[0mbackend_simulator\u001b[0m\u001b[0;34m)\u001b[0m\u001b[0;34m\u001b[0m\u001b[0;34m\u001b[0m\u001b[0m\n\u001b[1;32m      4\u001b[0m \u001b[0mresult\u001b[0m \u001b[0;34m=\u001b[0m \u001b[0mjobs\u001b[0m\u001b[0;34m.\u001b[0m\u001b[0mresult\u001b[0m\u001b[0;34m(\u001b[0m\u001b[0;34m)\u001b[0m\u001b[0;34m.\u001b[0m\u001b[0mget_counts\u001b[0m\u001b[0;34m(\u001b[0m\u001b[0;34m)\u001b[0m\u001b[0;34m\u001b[0m\u001b[0;34m\u001b[0m\u001b[0m\n\u001b[1;32m      5\u001b[0m \u001b[0mZZval\u001b[0m \u001b[0;34m=\u001b[0m \u001b[0;34m[\u001b[0m\u001b[0mprocess\u001b[0m\u001b[0;34m(\u001b[0m\u001b[0mr\u001b[0m\u001b[0;34m)\u001b[0m \u001b[0;32mfor\u001b[0m \u001b[0mr\u001b[0m \u001b[0;32min\u001b[0m \u001b[0mresult\u001b[0m\u001b[0;34m]\u001b[0m\u001b[0;34m\u001b[0m\u001b[0;34m\u001b[0m\u001b[0m\n",
      "\u001b[0;32m<ipython-input-4-46c30fa90144>\u001b[0m in \u001b[0;36m<listcomp>\u001b[0;34m(.0)\u001b[0m\n\u001b[1;32m      1\u001b[0m \u001b[0mbackend_simulator\u001b[0m \u001b[0;34m=\u001b[0m \u001b[0mAer\u001b[0m\u001b[0;34m.\u001b[0m\u001b[0mget_backend\u001b[0m\u001b[0;34m(\u001b[0m\u001b[0;34m'qasm_simulator'\u001b[0m\u001b[0;34m)\u001b[0m\u001b[0;34m\u001b[0m\u001b[0;34m\u001b[0m\u001b[0m\n\u001b[0;32m----> 2\u001b[0;31m \u001b[0mqclist\u001b[0m \u001b[0;34m=\u001b[0m \u001b[0;34m[\u001b[0m\u001b[0mSwap_classifier\u001b[0m\u001b[0;34m(\u001b[0m\u001b[0mweight\u001b[0m\u001b[0;34m,\u001b[0m \u001b[0mxset\u001b[0m\u001b[0;34m,\u001b[0m \u001b[0mlabel\u001b[0m\u001b[0;34m,\u001b[0m \u001b[0mtestset\u001b[0m\u001b[0;34m[\u001b[0m\u001b[0mi\u001b[0m\u001b[0;34m]\u001b[0m\u001b[0;34m)\u001b[0m\u001b[0;34m.\u001b[0m\u001b[0mcircuit\u001b[0m\u001b[0;34m(\u001b[0m\u001b[0;34m)\u001b[0m \u001b[0;32mfor\u001b[0m \u001b[0mi\u001b[0m \u001b[0;32min\u001b[0m \u001b[0mrange\u001b[0m\u001b[0;34m(\u001b[0m\u001b[0mlen\u001b[0m\u001b[0;34m(\u001b[0m\u001b[0mtheta\u001b[0m\u001b[0;34m)\u001b[0m\u001b[0;34m)\u001b[0m\u001b[0;34m]\u001b[0m\u001b[0;34m\u001b[0m\u001b[0;34m\u001b[0m\u001b[0m\n\u001b[0m\u001b[1;32m      3\u001b[0m \u001b[0mjobs\u001b[0m \u001b[0;34m=\u001b[0m \u001b[0mexecute\u001b[0m\u001b[0;34m(\u001b[0m\u001b[0mqclist\u001b[0m\u001b[0;34m,\u001b[0m \u001b[0mbackend\u001b[0m\u001b[0;34m=\u001b[0m\u001b[0mbackend_simulator\u001b[0m\u001b[0;34m)\u001b[0m\u001b[0;34m\u001b[0m\u001b[0;34m\u001b[0m\u001b[0m\n\u001b[1;32m      4\u001b[0m \u001b[0mresult\u001b[0m \u001b[0;34m=\u001b[0m \u001b[0mjobs\u001b[0m\u001b[0;34m.\u001b[0m\u001b[0mresult\u001b[0m\u001b[0;34m(\u001b[0m\u001b[0;34m)\u001b[0m\u001b[0;34m.\u001b[0m\u001b[0mget_counts\u001b[0m\u001b[0;34m(\u001b[0m\u001b[0;34m)\u001b[0m\u001b[0;34m\u001b[0m\u001b[0;34m\u001b[0m\u001b[0m\n\u001b[1;32m      5\u001b[0m \u001b[0mZZval\u001b[0m \u001b[0;34m=\u001b[0m \u001b[0;34m[\u001b[0m\u001b[0mprocess\u001b[0m\u001b[0;34m(\u001b[0m\u001b[0mr\u001b[0m\u001b[0;34m)\u001b[0m \u001b[0;32mfor\u001b[0m \u001b[0mr\u001b[0m \u001b[0;32min\u001b[0m \u001b[0mresult\u001b[0m\u001b[0;34m]\u001b[0m\u001b[0;34m\u001b[0m\u001b[0;34m\u001b[0m\u001b[0m\n",
      "\u001b[0;31mTypeError\u001b[0m: __init__() takes from 2 to 4 positional arguments but 5 were given"
     ]
    }
   ],
   "source": [
    "backend_simulator = Aer.get_backend('qasm_simulator')\n",
    "qclist = [Swap_classifier(weight, xset, label, testset[i]).circuit() for i in range(len(theta))]\n",
    "jobs = execute(qclist, backend=backend_simulator)\n",
    "result = jobs.result().get_counts()\n",
    "ZZval = [process(r) for r in result]\n",
    "qclist[0].draw('mpl')"
   ]
  },
  {
   "cell_type": "code",
   "execution_count": 5,
   "metadata": {},
   "outputs": [
    {
     "output_type": "error",
     "ename": "NameError",
     "evalue": "name 'ZZval' is not defined",
     "traceback": [
      "\u001b[0;31m---------------------------------------------------------------------------\u001b[0m",
      "\u001b[0;31mNameError\u001b[0m                                 Traceback (most recent call last)",
      "\u001b[0;32m<ipython-input-5-f99e404600b2>\u001b[0m in \u001b[0;36m<module>\u001b[0;34m\u001b[0m\n\u001b[0;32m----> 1\u001b[0;31m \u001b[0mplt\u001b[0m\u001b[0;34m.\u001b[0m\u001b[0mplot\u001b[0m\u001b[0;34m(\u001b[0m\u001b[0mtheta\u001b[0m\u001b[0;34m,\u001b[0m \u001b[0mZZval\u001b[0m\u001b[0;34m)\u001b[0m\u001b[0;34m\u001b[0m\u001b[0;34m\u001b[0m\u001b[0m\n\u001b[0m\u001b[1;32m      2\u001b[0m \u001b[0mplt\u001b[0m\u001b[0;34m.\u001b[0m\u001b[0mgrid\u001b[0m\u001b[0;34m(\u001b[0m\u001b[0;34m)\u001b[0m\u001b[0;34m\u001b[0m\u001b[0;34m\u001b[0m\u001b[0m\n\u001b[1;32m      3\u001b[0m \u001b[0mplt\u001b[0m\u001b[0;34m.\u001b[0m\u001b[0mylim\u001b[0m\u001b[0;34m(\u001b[0m\u001b[0;34m-\u001b[0m\u001b[0;36m1\u001b[0m\u001b[0;34m,\u001b[0m \u001b[0;36m1\u001b[0m\u001b[0;34m)\u001b[0m\u001b[0;34m\u001b[0m\u001b[0;34m\u001b[0m\u001b[0m\n\u001b[1;32m      4\u001b[0m \u001b[0mplt\u001b[0m\u001b[0;34m.\u001b[0m\u001b[0mxlim\u001b[0m\u001b[0;34m(\u001b[0m\u001b[0mmin\u001b[0m\u001b[0;34m(\u001b[0m\u001b[0mtheta\u001b[0m\u001b[0;34m)\u001b[0m\u001b[0;34m,\u001b[0m \u001b[0mmax\u001b[0m\u001b[0;34m(\u001b[0m\u001b[0mtheta\u001b[0m\u001b[0;34m)\u001b[0m\u001b[0;34m)\u001b[0m\u001b[0;34m\u001b[0m\u001b[0;34m\u001b[0m\u001b[0m\n\u001b[1;32m      5\u001b[0m \u001b[0mplt\u001b[0m\u001b[0;34m.\u001b[0m\u001b[0mylabel\u001b[0m\u001b[0;34m(\u001b[0m\u001b[0;34m'<ZZ>'\u001b[0m\u001b[0;34m)\u001b[0m\u001b[0;34m\u001b[0m\u001b[0;34m\u001b[0m\u001b[0m\n",
      "\u001b[0;31mNameError\u001b[0m: name 'ZZval' is not defined"
     ]
    }
   ],
   "source": [
    "plt.plot(theta, ZZval)\n",
    "plt.grid()\n",
    "plt.ylim(-1, 1)\n",
    "plt.xlim(min(theta), max(theta))\n",
    "plt.ylabel('<ZZ>')\n",
    "plt.xlabel('theta')"
   ]
  },
  {
   "cell_type": "code",
   "execution_count": 6,
   "metadata": {
    "tags": []
   },
   "outputs": [
    {
     "output_type": "stream",
     "name": "stdout",
     "text": "Help on function execute in module qiskit.execute:\n\nexecute(experiments, backend, basis_gates=None, coupling_map=None, backend_properties=None, initial_layout=None, seed_transpiler=None, optimization_level=None, pass_manager=None, qobj_id=None, qobj_header=None, shots=1024, memory=False, max_credits=10, seed_simulator=None, default_qubit_los=None, default_meas_los=None, schedule_los=None, meas_level=<MeasLevel.CLASSIFIED: 2>, meas_return=<MeasReturnType.AVERAGE: 'avg'>, memory_slots=None, memory_slot_size=100, rep_time=None, rep_delay=None, parameter_binds=None, schedule_circuit=False, inst_map=None, meas_map=None, scheduling_method=None, init_qubits=None, **run_config)\n    Execute a list of :class:`qiskit.circuit.QuantumCircuit` or\n    :class:`qiskit.pulse.Schedule` on a backend.\n    \n    The execution is asynchronous, and a handle to a job instance is returned.\n    \n    Args:\n        experiments (QuantumCircuit or list[QuantumCircuit] or Schedule or list[Schedule]):\n            Circuit(s) or pulse schedule(s) to execute\n    \n        backend (BaseBackend):\n            Backend to execute circuits on.\n            Transpiler options are automatically grabbed from\n            backend.configuration() and backend.properties().\n            If any other option is explicitly set (e.g. coupling_map), it\n            will override the backend's.\n    \n        basis_gates (list[str]):\n            List of basis gate names to unroll to.\n            e.g: ``['u1', 'u2', 'u3', 'cx']``\n            If ``None``, do not unroll.\n    \n        coupling_map (CouplingMap or list): Coupling map (perhaps custom) to\n            target in mapping. Multiple formats are supported:\n    \n            #. CouplingMap instance\n            #. list\n               Must be given as an adjacency matrix, where each entry\n               specifies all two-qubit interactions supported by backend\n               e.g:\n               ``[[0, 1], [0, 3], [1, 2], [1, 5], [2, 5], [4, 1], [5, 3]]``\n    \n        backend_properties (BackendProperties):\n            Properties returned by a backend, including information on gate\n            errors, readout errors, qubit coherence times, etc. Find a backend\n            that provides this information with:\n            ``backend.properties()``\n    \n        initial_layout (Layout or dict or list):\n            Initial position of virtual qubits on physical qubits.\n            If this layout makes the circuit compatible with the coupling_map\n            constraints, it will be used.\n            The final layout is not guaranteed to be the same, as the transpiler\n            may permute qubits through swaps or other means.\n    \n            Multiple formats are supported:\n    \n            #. :class:`qiskit.transpiler.Layout` instance\n            #. ``dict``:\n               virtual to physical::\n    \n                    {qr[0]: 0,\n                     qr[1]: 3,\n                     qr[2]: 5}\n    \n               physical to virtual::\n                    {0: qr[0],\n                     3: qr[1],\n                     5: qr[2]}\n    \n            #. ``list``\n               virtual to physical::\n    \n                    [0, 3, 5]  # virtual qubits are ordered (in addition to named)\n    \n               physical to virtual::\n    \n                    [qr[0], None, None, qr[1], None, qr[2]]\n    \n        seed_transpiler (int): Sets random seed for the stochastic parts of the transpiler\n    \n        optimization_level (int): How much optimization to perform on the circuits.\n            Higher levels generate more optimized circuits,\n            at the expense of longer transpilation time.\n            #. No optimization\n            #. Light optimization\n            #. Heavy optimization\n            #. Highest optimization\n            If None, level 1 will be chosen as default.\n    \n        pass_manager (PassManager): The pass manager to use during transpilation. If this\n            arg is present, auto-selection of pass manager based on the transpile options\n            will be turned off and this pass manager will be used directly.\n    \n        qobj_id (str): String identifier to annotate the Qobj\n    \n        qobj_header (QobjHeader or dict): User input that will be inserted in Qobj header,\n            and will also be copied to the corresponding :class:`qiskit.result.Result`\n            header. Headers do not affect the run.\n    \n        shots (int): Number of repetitions of each circuit, for sampling. Default: 1024\n    \n        memory (bool): If True, per-shot measurement bitstrings are returned as well\n            (provided the backend supports it). For OpenPulse jobs, only\n            measurement level 2 supports this option. Default: False\n    \n        max_credits (int): Maximum credits to spend on job. Default: 10\n    \n        seed_simulator (int): Random seed to control sampling, for when backend is a simulator\n    \n        default_qubit_los (list): List of default qubit LO frequencies in Hz\n    \n        default_meas_los (list): List of default meas LO frequencies in Hz\n    \n        schedule_los (None or list or dict or LoConfig): Experiment LO\n            configurations, if specified the list is in the format::\n    \n                list[Union[Dict[PulseChannel, float], LoConfig]] or\n                     Union[Dict[PulseChannel, float], LoConfig]\n    \n        meas_level (int or MeasLevel): Set the appropriate level of the\n            measurement output for pulse experiments.\n    \n        meas_return (str or MeasReturn): Level of measurement data for the\n            backend to return For ``meas_level`` 0 and 1:\n            ``\"single\"`` returns information from every shot.\n            ``\"avg\"`` returns average measurement output (averaged over number\n            of shots).\n    \n        memory_slots (int): Number of classical memory slots used in this job.\n    \n        memory_slot_size (int): Size of each memory slot if the output is Level 0.\n    \n        rep_time (int): Time per program execution in seconds. Must be from the list provided\n            by the backend (``backend.configuration().rep_times``). Defaults to the first entry.\n    \n        rep_delay (float): Delay between programs in seconds. Only supported on certain\n            backends (``backend.configuration().dynamic_reprate_enabled`` ). If supported,\n            ``rep_delay`` will be used instead of ``rep_time`` and must be from the range supplied\n            by the backend (``backend.configuration().rep_delay_range``). Default is given by\n            ``backend.configuration().default_rep_delay``.\n    \n        parameter_binds (list[dict]): List of Parameter bindings over which the set of\n            experiments will be executed. Each list element (bind) should be of the form\n            ``{Parameter1: value1, Parameter2: value2, ...}``. All binds will be\n            executed across all experiments, e.g. if parameter_binds is a\n            length-n list, and there are m experiments, a total of :math:`m x n`\n            experiments will be run (one for each experiment/bind pair).\n    \n        schedule_circuit (bool): If ``True``, ``experiments`` will be converted to\n            :class:`qiskit.pulse.Schedule` objects prior to execution.\n    \n        inst_map (InstructionScheduleMap):\n            Mapping of circuit operations to pulse schedules. If None, defaults to the\n            ``instruction_schedule_map`` of ``backend``.\n    \n        meas_map (list(list(int))):\n            List of sets of qubits that must be measured together. If None, defaults to\n            the ``meas_map`` of ``backend``.\n    \n        scheduling_method (str or list(str)):\n            Optionally specify a particular scheduling method.\n    \n        init_qubits (bool): Whether to reset the qubits to the ground state for each shot.\n                            Default: ``True``.\n    \n        run_config (dict):\n            Extra arguments used to configure the run (e.g. for Aer configurable backends).\n            Refer to the backend documentation for details on these arguments.\n            Note: for now, these keyword arguments will both be copied to the\n            Qobj config, and passed to backend.run()\n    \n    Returns:\n        BaseJob: returns job instance derived from BaseJob\n    \n    Raises:\n        QiskitError: if the execution cannot be interpreted as either circuits or schedules\n    \n    Example:\n        Construct a 5-qubit GHZ circuit and execute 4321 shots on a backend.\n    \n        .. jupyter-execute::\n    \n            from qiskit import QuantumCircuit, execute, BasicAer\n    \n            backend = BasicAer.get_backend('qasm_simulator')\n    \n            qc = QuantumCircuit(5, 5)\n            qc.h(0)\n            qc.cx(0, range(1, 5))\n            qc.measure_all()\n    \n            job = execute(qc, backend, shots=4321)\n\n"
    }
   ],
   "source": [
    "from qiskit import execute\n",
    "help(execute)"
   ]
  },
  {
   "cell_type": "code",
   "execution_count": 5,
   "metadata": {},
   "outputs": [
    {
     "output_type": "execute_result",
     "data": {
      "text/plain": "                                  ░                                  »\nancila_0: ────────────────────────░──────────────────────────────────»\n                                  ░                                  »\n index_0: ────────────────────────░─────────────────o────────────────»\n                                  ░                 │                »\n index_1: ────────────────────────░─────────────────o────────────────»\n                                  ░ ┌──────────────┴┼───────────────┐»\n  data_0: ────────────────────────░─┤0              │               ├»\n                                  ░ │  Data 0(0.70711,0.70711j,0,0) │»\n  data_1: ────────────────────────░─┤1                              ├»\n                                  ░ └───────────────────────────────┘»\n label_0: ────────────────────────░──────────────────────────────────»\n          ┌─────────────────────┐ ░                                  »\n  test_0: ┤0                    ├─░──────────────────────────────────»\n          │  TEST DATA(1,0,0,0) │ ░                                  »\n  test_1: ┤1                    ├─░──────────────────────────────────»\n          └─────────────────────┘ ░                                  »\n     c: 2/═══════════════════════════════════════════════════════════»\n                                                                     »\n«                                                »\n«ancila_0: ──────────────────────────────────────»\n«                                                »\n« index_0: ──────────────────■───────────────────»\n«                            │                   »\n« index_1: ──────────────────o───────────────────»\n«          ┌─────────────────┴──────────────────┐»\n«  data_0: ┤0                                   ├»\n«          │  Data 1(0.57735,0.57735,0.57735,0) │»\n«  data_1: ┤1                                   ├»\n«          └────────────────────────────────────┘»\n« label_0: ──────────────────────────────────────»\n«                                                »\n«  test_0: ──────────────────────────────────────»\n«                                                »\n«  test_1: ──────────────────────────────────────»\n«                                                »\n«     c: 2/══════════════════════════════════════»\n«                                                »\n«                                                  ░ ┌───┐      ┌───┐┌─┐\n«ancila_0: ────────────────────────────────────────░─┤ H ├─■──■─┤ H ├┤M├\n«                                                  ░ └───┘ │  │ └───┘└╥┘\n« index_0: ────────────────o───────────────────o───░───────┼──┼───────╫─\n«                          │                   │   ░       │  │       ║ \n« index_1: ────────────────■───────────────────■───░───────┼──┼───────╫─\n«          ┌───────────────┴────────────────┐  │   ░       │  │       ║ \n«  data_0: ┤0                               ├──┼───░───────X──┼───────╫─\n«          │  Data 2(0.70711,-0.70711j,0,0) │  │   ░       │  │       ║ \n«  data_1: ┤1                               ├──┼───░───────┼──X───────╫─\n«          └────────────────────────────────┘┌─┴─┐ ░  ┌─┐  │  │       ║ \n« label_0: ──────────────────────────────────┤ X ├─░──┤M├──┼──┼───────╫─\n«                                            └───┘ ░  └╥┘  │  │       ║ \n«  test_0: ────────────────────────────────────────░───╫───X──┼───────╫─\n«                                                  ░   ║      │       ║ \n«  test_1: ────────────────────────────────────────░───╫──────X───────╫─\n«                                                  ░   ║              ║ \n«     c: 2/════════════════════════════════════════════╩══════════════╩═\n«                                                      1              0 ",
      "text/html": "<pre style=\"word-wrap: normal;white-space: pre;background: #fff0;line-height: 1.1;font-family: &quot;Courier New&quot;,Courier,monospace\">                                  ░                                  »\nancila_0: ────────────────────────░──────────────────────────────────»\n                                  ░                                  »\n index_0: ────────────────────────░─────────────────o────────────────»\n                                  ░                 │                »\n index_1: ────────────────────────░─────────────────o────────────────»\n                                  ░ ┌──────────────┴┼───────────────┐»\n  data_0: ────────────────────────░─┤0              │               ├»\n                                  ░ │  Data 0(0.70711,0.70711j,0,0) │»\n  data_1: ────────────────────────░─┤1                              ├»\n                                  ░ └───────────────────────────────┘»\n label_0: ────────────────────────░──────────────────────────────────»\n          ┌─────────────────────┐ ░                                  »\n  test_0: ┤0                    ├─░──────────────────────────────────»\n          │  TEST DATA(1,0,0,0) │ ░                                  »\n  test_1: ┤1                    ├─░──────────────────────────────────»\n          └─────────────────────┘ ░                                  »\n     c: 2/═══════════════════════════════════════════════════════════»\n                                                                     »\n«                                                »\n«ancila_0: ──────────────────────────────────────»\n«                                                »\n« index_0: ──────────────────■───────────────────»\n«                            │                   »\n« index_1: ──────────────────o───────────────────»\n«          ┌─────────────────┴──────────────────┐»\n«  data_0: ┤0                                   ├»\n«          │  Data 1(0.57735,0.57735,0.57735,0) │»\n«  data_1: ┤1                                   ├»\n«          └────────────────────────────────────┘»\n« label_0: ──────────────────────────────────────»\n«                                                »\n«  test_0: ──────────────────────────────────────»\n«                                                »\n«  test_1: ──────────────────────────────────────»\n«                                                »\n«     c: 2/══════════════════════════════════════»\n«                                                »\n«                                                  ░ ┌───┐      ┌───┐┌─┐\n«ancila_0: ────────────────────────────────────────░─┤ H ├─■──■─┤ H ├┤M├\n«                                                  ░ └───┘ │  │ └───┘└╥┘\n« index_0: ────────────────o───────────────────o───░───────┼──┼───────╫─\n«                          │                   │   ░       │  │       ║ \n« index_1: ────────────────■───────────────────■───░───────┼──┼───────╫─\n«          ┌───────────────┴────────────────┐  │   ░       │  │       ║ \n«  data_0: ┤0                               ├──┼───░───────X──┼───────╫─\n«          │  Data 2(0.70711,-0.70711j,0,0) │  │   ░       │  │       ║ \n«  data_1: ┤1                               ├──┼───░───────┼──X───────╫─\n«          └────────────────────────────────┘┌─┴─┐ ░  ┌─┐  │  │       ║ \n« label_0: ──────────────────────────────────┤ X ├─░──┤M├──┼──┼───────╫─\n«                                            └───┘ ░  └╥┘  │  │       ║ \n«  test_0: ────────────────────────────────────────░───╫───X──┼───────╫─\n«                                                  ░   ║      │       ║ \n«  test_1: ────────────────────────────────────────░───╫──────X───────╫─\n«                                                  ░   ║              ║ \n«     c: 2/════════════════════════════════════════════╩══════════════╩═\n«                                                      1              0 </pre>"
     },
     "metadata": {},
     "execution_count": 5
    }
   ],
   "source": [
    "swap_qc.draw()"
   ]
  },
  {
   "cell_type": "code",
   "execution_count": null,
   "metadata": {},
   "outputs": [],
   "source": []
  }
 ]
}