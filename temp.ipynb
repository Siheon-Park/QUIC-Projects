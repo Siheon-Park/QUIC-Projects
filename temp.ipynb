{
 "cells": [
  {
   "cell_type": "code",
   "execution_count": 1,
   "metadata": {
    "collapsed": true
   },
   "outputs": [
    {
     "output_type": "execute_result",
     "data": {
      "text/plain": "['/Users/shaun/QUIC-Projects',\n '/',\n '/Users/shaun/QUIC-Projects/custom_qiskit',\n '/',\n '/Users/shaun/.vscode/extensions/ms-python.python-2020.8.106424/pythonFiles',\n '/Users/shaun/.vscode/extensions/ms-python.python-2020.8.106424/pythonFiles/lib/python',\n '/Users/shaun/anaconda3/lib/python38.zip',\n '/Users/shaun/anaconda3/lib/python3.8',\n '/Users/shaun/anaconda3/lib/python3.8/lib-dynload',\n '',\n '/Users/shaun/anaconda3/lib/python3.8/site-packages',\n '/Users/shaun/anaconda3/lib/python3.8/site-packages/aeosa',\n '/Users/shaun/anaconda3/lib/python3.8/site-packages/IPython/extensions',\n '/Users/shaun/.ipython']"
     },
     "metadata": {},
     "execution_count": 1
    }
   ],
   "source": [
    "import sys\n",
    "sys.path"
   ]
  },
  {
   "cell_type": "code",
   "execution_count": 2,
   "metadata": {},
   "outputs": [],
   "source": [
    "import quantumdatabase"
   ]
  },
  {
   "cell_type": "code",
   "execution_count": 6,
   "metadata": {},
   "outputs": [
    {
     "output_type": "execute_result",
     "data": {
      "text/plain": "123"
     },
     "metadata": {},
     "execution_count": 6
    }
   ],
   "source": [
    "a"
   ]
  },
  {
   "cell_type": "code",
   "execution_count": null,
   "metadata": {},
   "outputs": [],
   "source": []
  }
 ],
 "metadata": {
  "kernelspec": {
   "display_name": "Python 3",
   "language": "python",
   "name": "python3"
  },
  "language_info": {
   "codemirror_mode": {
    "name": "ipython",
    "version": 2
   },
   "file_extension": ".py",
   "mimetype": "text/x-python",
   "name": "python",
   "nbconvert_exporter": "python",
   "pygments_lexer": "ipython2",
   "version": "3.8.3-final"
  }
 },
 "nbformat": 4,
 "nbformat_minor": 0
}