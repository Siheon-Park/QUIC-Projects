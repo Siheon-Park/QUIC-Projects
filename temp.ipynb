{
 "cells": [
  {
   "cell_type": "code",
   "execution_count": 4,
   "metadata": {},
   "outputs": [],
   "source": [
    "import sys\n",
    "sys.path.extend(['/home/quic/QUIC-Projects'])\n",
    "import numpy as np\n",
    "from matplotlib import pyplot as plt"
   ]
  },
  {
   "cell_type": "code",
   "execution_count": 35,
   "metadata": {},
   "outputs": [],
   "source": [
    "from classifiers.datasets.dataloader import Example_4x2\n",
    "from classifiers.quantum.qasvm import QASVM\n",
    "\n",
    "from qiskit.circuit.library import RealAmplitudes\n",
    "from qiskit.utils import QuantumInstance\n",
    "from qiskit.providers.aer import AerSimulator\n",
    "\n",
    "from qiskit.algorithms.optimizers import SPSA\n",
    "from qiskit.providers.fake_provider.fake_backend import FakeBackend"
   ]
  },
  {
   "cell_type": "code",
   "execution_count": 60,
   "metadata": {},
   "outputs": [],
   "source": [
    "var_form = RealAmplitudes(2, reps=1)\n",
    "X, y = Example_4x2(False)()\n",
    "quantum_instance = QuantumInstance(AerSimulator(shots=1024))\n",
    "qasvm = QASVM(data=X, label=y, C=None, k=1, quantum_instance=quantum_instance, var_form=var_form).dual"
   ]
  },
  {
   "cell_type": "code",
   "execution_count": 61,
   "metadata": {},
   "outputs": [
    {
     "name": "stderr",
     "output_type": "stream",
     "text": [
      "/tmp/ipykernel_6087/1671676426.py:2: DeprecationWarning: The SPSA.optimize method is deprecated as of Qiskit Terra 0.21.0 and will be removed no sooner than 3 months after the release date. Instead, use SPSA.minimize as a replacement, which supports the same arguments but follows the interface of scipy.optimize and returns a complete result object containing additional information.\n",
      "  params, _, _ = optimizer.optimize(qasvm.num_parameters, qasvm.cost_fn, initial_point=qasvm.initial_point)\n"
     ]
    }
   ],
   "source": [
    "optimizer = SPSA(maxiter=1024)\n",
    "params, _, _ = optimizer.optimize(qasvm.num_parameters, qasvm.cost_fn, initial_point=qasvm.initial_point)"
   ]
  },
  {
   "cell_type": "code",
   "execution_count": 65,
   "metadata": {},
   "outputs": [],
   "source": [
    "from qiskit.quantum_info import Statevector\n",
    "\n",
    "alpha = (np.abs(Statevector(var_form.assign_parameters(parameters=params)).data)**2)"
   ]
  },
  {
   "cell_type": "code",
   "execution_count": 98,
   "metadata": {},
   "outputs": [
    {
     "data": {
      "image/png": "[encoded data removed]",
      "text/plain": [
       "<Figure size 1000x500 with 1 Axes>"
      ]
     },
     "metadata": {},
     "output_type": "display_data"
    }
   ],
   "source": [
    "with plt.rc_context({\n",
    "    'axes.labelsize':1.5*plt.rcParams['font.size'], \n",
    "    'figure.figsize':(10, 5),\n",
    "    'xtick.labelsize':1.5*plt.rcParams['font.size'],\n",
    "    'ytick.labelsize':1.5*plt.rcParams['font.size'],\n",
    "    'lines.markersize':10,\n",
    "    'legend.fontsize':1.5*plt.rcParams['font.size']\n",
    "    }):\n",
    "    plt.bar(np.array([0, 1, 2, 3])[y>0.5], alpha[y>0.5], width=0.4, color='#67001f', label='label: +1')\n",
    "    plt.bar(np.array([0, 1, 2, 3])[y<0.5], alpha[y<0.5], width=0.4, color='#053061', label='label:   -1')\n",
    "    plt.axhline(0.25, c='k', linestyle='--')\n",
    "    plt.xticks([0, 1, 2, 3], map(r\"Data $i=${:}\".format, [0, 1, 2, 3]))\n",
    "    plt.legend()\n",
    "    plt.yticks([0, 0.25, 0.5])\n",
    "    plt.ylabel(r'$\\alpha_i$')\n",
    "    plt.savefig('temp.svg')"
   ]
  },
  {
   "cell_type": "code",
   "execution_count": 80,
   "metadata": {},
   "outputs": [
    {
     "name": "stdout",
     "output_type": "stream",
     "text": [
      "#67001f\n",
      "#e58267\n",
      "#f7f7f7\n",
      "#6bacd0\n",
      "#053061\n"
     ]
    }
   ],
   "source": [
    "from pylab import *\n",
    "\n",
    "cmap = cm.get_cmap('RdBu', 5)    # PiYG\n",
    "\n",
    "for i in range(cmap.N):\n",
    "    rgba = cmap(i)\n",
    "    # rgb2hex accepts rgb or rgba\n",
    "    print(matplotlib.colors.rgb2hex(rgba))"
   ]
  },
  {
   "cell_type": "code",
   "execution_count": null,
   "metadata": {},
   "outputs": [],
   "source": []
  }
 ],
 "metadata": {
  "kernelspec": {
   "display_name": "Python 3.9.13 ('qiskit')",
   "language": "python",
   "name": "python3"
  },
  "language_info": {
   "codemirror_mode": {
    "name": "ipython",
    "version": 3
   },
   "file_extension": ".py",
   "mimetype": "text/x-python",
   "name": "python",
   "nbconvert_exporter": "python",
   "pygments_lexer": "ipython3",
   "version": "3.9.13 (main, Aug 25 2022, 23:26:10) \n[GCC 11.2.0]"
  },
  "orig_nbformat": 4,
  "vscode": {
   "interpreter": {
    "hash": "86394d4aecdf90bfa3aa767d508cb9549ad3b678679daec23858fa7c305a4457"
   }
  }
 },
 "nbformat": 4,
 "nbformat_minor": 2
}
