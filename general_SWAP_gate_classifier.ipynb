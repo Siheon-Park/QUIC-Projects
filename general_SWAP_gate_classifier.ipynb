{
 "cells": [
  {
   "cell_type": "code",
   "execution_count": 1,
   "outputs": [],
   "source": [
    "from qiskit import QuantumCircuit\n",
    "from quantumdatabase import initializer\n",
    "\n"
   ],
   "metadata": {
    "collapsed": false,
    "pycharm": {
     "name": "#%%\n"
    }
   }
  },
  {
   "cell_type": "code",
   "execution_count": 2,
   "outputs": [
    {
     "data": {
      "text/plain": "<Figure size 381.577x264.88 with 1 Axes>",
      "image/png": "[encoded data removed]"
     },
     "execution_count": 2,
     "metadata": {},
     "output_type": "execute_result"
    }
   ],
   "source": [
    "qc = QuantumCircuit(4)\n",
    "qc.x(1)\n",
    "qc.initialize_gate([0,0,0, 1], [1,2])\n",
    "qc.draw('mpl')"
   ],
   "metadata": {
    "collapsed": false,
    "pycharm": {
     "name": "#%%\n"
    }
   }
  },
  {
   "cell_type": "code",
   "execution_count": 3,
   "outputs": [
    {
     "data": {
      "text/plain": "['/Users/shaun',\n '/Users/shaun/custom_pypack',\n '/Users/shaun',\n '/Users/shaun/anaconda3/lib/python38.zip',\n '/Users/shaun/anaconda3/lib/python3.8',\n '/Users/shaun/anaconda3/lib/python3.8/lib-dynload',\n '',\n '/Users/shaun/anaconda3/lib/python3.8/site-packages',\n '/Users/shaun/anaconda3/lib/python3.8/site-packages/aeosa',\n '/Users/shaun/anaconda3/lib/python3.8/site-packages/IPython/extensions',\n '/Users/shaun/.ipython',\n '/Applications/PyCharm.app/Contents/plugins/python/helpers/pydev',\n '/Applications/PyCharm.app/Contents/plugins/python/helpers-pro/jupyter_debug']"
     },
     "execution_count": 3,
     "metadata": {},
     "output_type": "execute_result"
    }
   ],
   "source": [
    "import sys\n",
    "sys.path"
   ],
   "metadata": {
    "collapsed": false,
    "pycharm": {
     "name": "#%%\n"
    }
   }
  },
  {
   "cell_type": "code",
   "execution_count": 8,
   "outputs": [
    {
     "name": "stderr",
     "output_type": "stream",
     "text": [
      "UsageError: Line magic function `%backend_overview` not found.\n"
     ]
    }
   ],
   "source": [
    "from qiskit.tools.jupyter import backend_overview\n",
    "%backend_overview"
   ],
   "metadata": {
    "collapsed": false,
    "pycharm": {
     "name": "#%%\n"
    }
   }
  },
  {
   "cell_type": "code",
   "execution_count": null,
   "outputs": [],
   "source": [],
   "metadata": {
    "collapsed": false,
    "pycharm": {
     "name": "#%%\n"
    }
   }
  }
 ],
 "metadata": {
  "kernelspec": {
   "display_name": "Python 3",
   "language": "python",
   "name": "python3"
  },
  "language_info": {
   "codemirror_mode": {
    "name": "ipython",
    "version": 2
   },
   "file_extension": ".py",
   "mimetype": "text/x-python",
   "name": "python",
   "nbconvert_exporter": "python",
   "pygments_lexer": "ipython2",
   "version": "2.7.6"
  }
 },
 "nbformat": 4,
 "nbformat_minor": 0
}